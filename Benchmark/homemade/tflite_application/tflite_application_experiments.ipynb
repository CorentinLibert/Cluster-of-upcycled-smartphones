{
 "cells": [
  {
   "cell_type": "markdown",
   "metadata": {},
   "source": [
    "# Experiments: TensorFlow Lite applications analysis for both with and without HTTP handling implementation\n",
    "\n",
    "This notebook allows to run every experiments used to analyze the capabilities of the two implmentations of the TensorFlow Lite application, i.e. with and without HTTP handling capability."
   ]
  },
  {
   "cell_type": "code",
   "execution_count": 9,
   "metadata": {},
   "outputs": [],
   "source": [
    "# Imports\n",
    "import os\n",
    "import re\n",
    "import sys\n",
    "import ast\n",
    "import time\n",
    "import pathlib\n",
    "import datetime\n",
    "import itertools\n",
    "import subprocess\n",
    "import pandas as pd\n",
    "import seaborn as sns\n",
    "import matplotlib.pyplot as plt\n",
    "from pathlib import Path\n",
    "\n",
    "import warnings\n",
    "warnings.simplefilter(action='ignore', category=FutureWarning)"
   ]
  },
  {
   "cell_type": "code",
   "execution_count": 10,
   "metadata": {},
   "outputs": [],
   "source": [
    "# Global variables\n",
    "\n",
    "# Paths\n",
    "global_res_dir = \"./results\"\n",
    "assets_path=\"./assets\"\n"
   ]
  },
  {
   "cell_type": "code",
   "execution_count": 11,
   "metadata": {},
   "outputs": [],
   "source": [
    "# ssh and scp functions with arguements\n",
    "ssh_with_args = \"ssh -o UserKnownHostsFile=/dev/null -o StrictHostKeyChecking=no\"\n",
    "scp_with_args = \"scp -o UserKnownHostsFile=/dev/null -o StrictHostKeyChecking=no\""
   ]
  },
  {
   "cell_type": "markdown",
   "metadata": {},
   "source": [
    "## Experiment 1: Analysis of the execution time of each important part of the TensorFlow Lite application for classical setup"
   ]
  },
  {
   "cell_type": "code",
   "execution_count": 12,
   "metadata": {},
   "outputs": [],
   "source": [
    "\n",
    "# Experiment setup\n",
    "experiment_name = \"Execution time by part\"\n",
    "timestamp = timestamp=datetime.datetime.now() # Current timestamp\n",
    "\n",
    "iteration = 2\n",
    "ssh_info = \"pptc@192.168.88.3\"\n",
    "ssh_ip = \"192.168.88.3\"\n",
    "# implementations = [\"label_image\", \"label_image_with_crow\"]\n",
    "implementations = [\"label_image_with_crow\"]\n",
    "mediums = [\"WiFi 2.4GHz 20-40MHz\", \"WiFi 5.0GHz 20-40-80MHz\", \"Ethernet\"]\n",
    "count_for_usage_script = 30 # correspond to the number of measure taken (1 per second)"
   ]
  },
  {
   "cell_type": "markdown",
   "metadata": {},
   "source": [
    "### Perform experiment"
   ]
  },
  {
   "cell_type": "code",
   "execution_count": 5,
   "metadata": {},
   "outputs": [
    {
     "name": "stdout",
     "output_type": "stream",
     "text": [
      "Warning: Permanently added '192.168.88.3' (ED25519) to the list of known hosts.\n",
      "Warning: Permanently added '192.168.88.3' (ED25519) to the list of known hosts.\n",
      "cpu_usage_script.sh                           100% 1189   589.8KB/s   00:00    \n",
      "ram_usage_script.sh                           100% 1253   735.4KB/s   00:00    \n",
      "Copy assets for label_image_with_crow on remote device\n",
      "Warning: Permanently added '192.168.88.3' (ED25519) to the list of known hosts.\n",
      "label_image_with_crow                         100% 5424KB   5.4MB/s   00:00    \n",
      "mobilenet_v1_1.0_224.tflite                   100%   16MB   4.1MB/s   00:03    \n",
      "grace_hopper.bmp                              100%  919KB  11.6MB/s   00:00    \n",
      "labels.txt                                    100%   10KB   2.2MB/s   00:00    \n",
      "config.json                                   100%  499   315.2KB/s   00:00    \n",
      "Prepare next config:\n",
      "\tImplementation: label_image_with_crow\n",
      "\tMedium: WiFi 2.4GHz 20-40MHz\n",
      "\t\n",
      "\n",
      "Value : \n",
      "Run benchmark...\n",
      "Warning: Permanently added '192.168.88.3' (ED25519) to the list of known hosts.\n",
      "Warning: Permanently added '192.168.88.3' (ED25519) to the list of known hosts.\n",
      "Iteration 0\n",
      "Warning: Permanently added '192.168.88.3' (ED25519) to the list of known hosts.\n",
      "Warning: Permanently added '192.168.88.3' (ED25519) to the list of known hosts.\n",
      "Start CPU and RAM usage scripts\n",
      "Perform measure\n"
     ]
    },
    {
     "name": "stderr",
     "output_type": "stream",
     "text": [
      "Warning: Permanently added '192.168.88.3' (ED25519) to the list of known hosts.\n",
      "Warning: Permanently added '192.168.88.3' (ED25519) to the list of known hosts.\n",
      "Warning: Permanently added '192.168.88.3' (ED25519) to the list of known hosts.\n",
      "INFO: Loaded model ./mobilenet_v1_1.0_224.tflite\n",
      "INFO: resolved reporter\n",
      "(2024-08-10 19:48:58) [INFO    ] Crow/master server is running at http://0.0.0.0:18080 using 4 threads\n",
      "(2024-08-10 19:48:58) [INFO    ] Call `app.loglevel(crow::LogLevel::Warning)` to hide Info level logs.\n"
     ]
    },
    {
     "name": "stdout",
     "output_type": "stream",
     "text": [
      "  % Total    % Received % Xferd  Average Speed   Time    Time     Time  Current\n",
      "                                 Dload  Upload   Total   Spent    Left  Speed\n",
      "  0     0    0     0    0     0      0      0 --:--:--  0:00:21 --:--:--     0^C\n",
      "Kill server\n",
      "Warning: Permanently added '192.168.88.3' (ED25519) to the list of known hosts.\n",
      "Sleep\n"
     ]
    },
    {
     "name": "stderr",
     "output_type": "stream",
     "text": [
      "(2024-08-10 19:49:22) [INFO    ] Closing IO service 0xb57f76f0\n",
      "(2024-08-10 19:49:22) [INFO    ] Closing IO service 0xb57f76f4\n",
      "(2024-08-10 19:49:22) [INFO    ] Closing IO service 0xb57f76f8\n",
      "(2024-08-10 19:49:22) [INFO    ] Closing main IO service (0xb5d254dc)\n",
      "(2024-08-10 19:49:22) [INFO    ] Exiting.\n"
     ]
    },
    {
     "name": "stdout",
     "output_type": "stream",
     "text": [
      "Kill CPU and RAM usage scripts\n",
      "Warning: Permanently added '192.168.88.3' (ED25519) to the list of known hosts.\n",
      "Warning: Permanently added '192.168.88.3' (ED25519) to the list of known hosts.\n",
      "Warning: Permanently added '192.168.88.3' (ED25519) to the list of known hosts.\n",
      "Warning: Permanently added '192.168.88.3' (ED25519) to the list of known hosts.\n",
      "Iteration 1\n",
      "Warning: Permanently added '192.168.88.3' (ED25519) to the list of known hosts.\n",
      "Warning: Permanently added '192.168.88.3' (ED25519) to the list of known hosts.\n",
      "Start CPU and RAM usage scripts\n",
      "Perform measure\n"
     ]
    },
    {
     "name": "stderr",
     "output_type": "stream",
     "text": [
      "Warning: Permanently added '192.168.88.3' (ED25519) to the list of known hosts.\n",
      "Warning: Permanently added '192.168.88.3' (ED25519) to the list of known hosts.\n",
      "Warning: Permanently added '192.168.88.3' (ED25519) to the list of known hosts.\n",
      "INFO: Loaded model ./mobilenet_v1_1.0_224.tflite\n",
      "INFO: resolved reporter\n",
      "(2024-08-10 19:49:27) [INFO    ] Crow/master server is running at http://0.0.0.0:18080 using 4 threads\n",
      "(2024-08-10 19:49:27) [INFO    ] Call `app.loglevel(crow::LogLevel::Warning)` to hide Info level logs.\n"
     ]
    },
    {
     "name": "stdout",
     "output_type": "stream",
     "text": [
      "  % Total    % Received % Xferd  Average Speed   Time    Time     Time  Current\n",
      "                                 Dload  Upload   Total   Spent    Left  Speed\n",
      "  0     0    0     0    0     0      0      0 --:--:--  0:00:03 --:--:--     0"
     ]
    }
   ],
   "source": [
    "# Experiment path\n",
    "exp_folder_name = experiment_name.replace(' ', '_') + \"_\" + timestamp.strftime(\"%Y%m%dT%H%M%S\")\n",
    "curr_exp_dir = global_res_dir + \"/\" + exp_folder_name\n",
    "\n",
    "# Remote path\n",
    "remote_exp_results_dir = \"~/\" + exp_folder_name + \"/results\"\n",
    "remote_exp_cpu_usage_dir = remote_exp_results_dir + \"/cpu_usage\"\n",
    "remote_exp_ram_usage_dir = remote_exp_results_dir + \"/ram_usage\"\n",
    "remote_exp_scripts_dir = \"~/\" + exp_folder_name + \"/scripts\"\n",
    "\n",
    "# Create remote workspace\n",
    "!{ssh_with_args} {ssh_info} \"mkdir -p {remote_exp_cpu_usage_dir}; mkdir -p {remote_exp_ram_usage_dir}\"\n",
    "!{scp_with_args} -r scripts/ {ssh_info}:~/{exp_folder_name}\n",
    "\n",
    "# Perform the experiment\n",
    "for imp in implementations:\n",
    "    imp_mediums = [\"na\"] if imp == \"label_image\" else mediums\n",
    "\n",
    "    # Copy needed assets (executable and images)\n",
    "    print(f\"Copy assets for {imp} on remote device\")\n",
    "    !{scp_with_args} -r {assets_path}/{imp} {ssh_info}:~/{exp_folder_name}/{imp}\n",
    "\n",
    "    for med in imp_mediums:\n",
    "        # Validate config:\n",
    "        print(f\"Prepare next config:\\n\\tImplementation: {imp}\\n\\tMedium: {med}\\n\\t\\n\")\n",
    "        time.sleep(2)\n",
    "        v = input(\"Press ENTER to run the benchmark\")\n",
    "        print(f\"Value : {v}\")\n",
    "        if v == \"s\": # stop\n",
    "            break\n",
    "        print(\"Run benchmark...\")\n",
    "\n",
    "\n",
    "        # Implementation paths\n",
    "        curr_exp_imp_dir = curr_exp_dir + \"/\" + imp.replace(' ', '_')\n",
    "        curr_exp_imp_med_dir = curr_exp_imp_dir + (\"/\" + med.replace(' ', '_') if med != \"na\" else \"\")\n",
    "        curr_exp_imp_raw_dir = curr_exp_imp_med_dir + \"/raw_results\"\n",
    "        curr_exp_imp_raw_file = curr_exp_imp_raw_dir + \"/execution_time_by_part.txt\"\n",
    "        curr_exp_imp_res_dir = curr_exp_imp_med_dir + \"/results\"\n",
    "\n",
    "        # Remote paths\n",
    "        cpu_usage_remote_file = remote_exp_cpu_usage_dir + \"/results_cpu_usage_\" + imp + \"_\" + med.replace(' ', '_') + \".txt\"\n",
    "        ram_usage_remote_file = remote_exp_ram_usage_dir + \"/results_ram_usage_\" + imp + \"_\" + med.replace(' ', '_') + \".txt\"\n",
    "\n",
    "        # Create results dir\n",
    "        path = Path(curr_exp_dir)\n",
    "        path.mkdir(parents=True, exist_ok=True)\n",
    "        path = Path(curr_exp_imp_dir)\n",
    "        path.mkdir(parents=True, exist_ok=True)\n",
    "        path = Path(curr_exp_imp_raw_dir)\n",
    "        path.mkdir(parents=True, exist_ok=True)\n",
    "        path = Path(curr_exp_imp_res_dir)\n",
    "        path.mkdir(parents=True, exist_ok=True)\n",
    "\n",
    "        # Print experiment setup in results file\n",
    "        # Local for execution time\n",
    "        with open(curr_exp_imp_raw_file, \"w\") as raw:\n",
    "            raw.write(f\"# SSH_INFO={ssh_info}\\n\")\n",
    "            raw.write(f\"# ITERATIONS={iteration}\\n\")\n",
    "            raw.write(f\"# IMPLEMENTATION={imp}\\n\")\n",
    "            raw.write(f\"# MEDIUM={med}\\n\")\n",
    "\n",
    "        # Remote for cpu and ram usage\n",
    "        !{ssh_with_args} {ssh_info} \"echo -e \\\"# SSH_INFO={ssh_info}\\n# ITERATIONS={iteration}\\n# IMPLEMENTATION={imp}\\n# MEDIUM={med}\\n\\\" > {cpu_usage_remote_file}\"\n",
    "        !{ssh_with_args} {ssh_info} \"echo -e \\\"# SSH_INFO={ssh_info}\\n# ITERATIONS={iteration}\\n# IMPLEMENTATION={imp}\\n# MEDIUM={med}\\n\\\" > {ram_usage_remote_file}\"\n",
    "\n",
    "        # Perform test\n",
    "        for i in range(iteration):\n",
    "            # Print iteration\n",
    "            print(f\"Iteration {i}\")\n",
    "            with open(curr_exp_imp_raw_file, \"a\") as raw:\n",
    "                raw.write(f\"\\n# ITERATION {i}\\n\")\n",
    "            !{ssh_with_args} {ssh_info} \"echo -e \\\"\\n# ITERATION {i}\\n\\\" >> {cpu_usage_remote_file}\"\n",
    "            !{ssh_with_args} {ssh_info} \"echo -e \\\"\\n# ITERATION {i}\\n\\\" >> {ram_usage_remote_file}\"\n",
    "\n",
    "            # Run cpu and ram usage script\n",
    "            print(\"Start CPU and RAM usage scripts\")\n",
    "            \n",
    "            cpu_usage_process = subprocess.Popen(f'{ssh_with_args} {ssh_info} \"{remote_exp_scripts_dir}/cpu_usage_script.sh {count_for_usage_script} {cpu_usage_remote_file} 0\"', shell=True)\n",
    "            ram_usage_process = subprocess.Popen(f'{ssh_with_args} {ssh_info} \"{remote_exp_scripts_dir}/ram_usage_script.sh {count_for_usage_script} {ram_usage_remote_file} 0\"', shell=True)\n",
    "\n",
    "            \n",
    "            print(\"Perform measure\")\n",
    "            if imp == \"label_image\":\n",
    "                start_timestamp = int(datetime.datetime.now().timestamp()) # Timestamp at which the inference request started\n",
    "                !{ssh_with_args} {ssh_info} \"cd ~/{exp_folder_name}/{imp}; ./{imp} -m mobilenet_v1_1.0_224.tflite -l labels.txt -i grace_hopper.bmp -t 1 -d 1 2>&1 &\" >> {curr_exp_imp_raw_file}\n",
    "\n",
    "                stop_timestamp = int(datetime.datetime.now().timestamp()) # Timestamp at which the inference request started\n",
    "            else:\n",
    "                server_process = subprocess.Popen(f'{ssh_with_args} {ssh_info} \"cd ~/{exp_folder_name}/{imp}; ./{imp} -c config.json\"', shell=True)\n",
    "                time.sleep(2)\n",
    "                \n",
    "                start_timestamp = int(datetime.datetime.now().timestamp()) # Timestamp at which the inference request started\n",
    "                !curl -X POST -F \"image=@{assets_path}/label_image_with_crow/grace_hopper.bmp\" http://{ssh_ip}:18080/label_image >> {curr_exp_imp_raw_file}\n",
    "\n",
    "                stop_timestamp = int(datetime.datetime.now().timestamp()) # Timestamp at which the inference request started\n",
    "                \n",
    "                # Kill server\n",
    "                print(\"Kill server\")\n",
    "                server_process.kill()\n",
    "                !{ssh_with_args} {ssh_info} 'kill $(pidof {imp})'\n",
    "\n",
    "\n",
    "            print(\"Sleep\")\n",
    "            time.sleep(2)\n",
    "\n",
    "            print(\"Kill CPU and RAM usage scripts\")\n",
    "            cpu_usage_process.kill()\n",
    "            ram_usage_process.kill()\n",
    "            !{ssh_with_args} {ssh_info} 'kill $(pidof cpu_usage_script.sh)'\n",
    "            !{ssh_with_args} {ssh_info} 'kill $(pidof ram_usage_script.sh)'\n",
    "\n",
    "            !{ssh_with_args} {ssh_info} \"echo \\\"# TIMESTAMP_START={start_timestamp}\\\" >> {cpu_usage_remote_file}; echo \\\"# TIMESTAMP_STOP={stop_timestamp}\\\" >> {cpu_usage_remote_file}\"\n",
    "            !{ssh_with_args} {ssh_info} \"echo \\\"# TIMESTAMP_START={start_timestamp}\\\" >> {ram_usage_remote_file}; echo \\\"# TIMESTAMP_STOP={stop_timestamp}\\\" >> {ram_usage_remote_file}\"\n",
    "\n",
    "        print(\"Retrieve usage results and remove remote workspace\")\n",
    "        !{scp_with_args} -r {ssh_info}:{remote_exp_cpu_usage_dir} {curr_exp_imp_raw_dir}\n",
    "        !{scp_with_args} -r {ssh_info}:{remote_exp_ram_usage_dir} {curr_exp_imp_raw_dir}\n",
    "\n",
    "# Remove remote workspace\n",
    "!{ssh_with_args} {ssh_info} \"rm -rf ~/{exp_folder_name}\"\n",
    "\n",
    "    "
   ]
  },
  {
   "cell_type": "code",
   "execution_count": 17,
   "metadata": {},
   "outputs": [
    {
     "name": "stderr",
     "output_type": "stream",
     "text": [
      "Warning: Permanently added '172.16.42.1' (ED25519) to the list of known hosts.\n",
      "INFO: Loaded model ./mobilenet_v1_1.0_224.tflite\n",
      "INFO: resolved reporter\n",
      "(2024-08-10 19:54:54) [INFO    ] Crow/master server is running at http://0.0.0.0:18080 using 4 threads\n",
      "(2024-08-10 19:54:54) [INFO    ] Call `app.loglevel(crow::LogLevel::Warning)` to hide Info level logs.\n"
     ]
    },
    {
     "name": "stdout",
     "output_type": "stream",
     "text": [
      "  % Total    % Received % Xferd  Average Speed   Time    Time     Time  Current\n",
      "                                 Dload  Upload   Total   Spent    Left  Speed\n",
      "  0     0    0     0    0     0      0      0 --:--:-- --:--:-- --:--:--     0"
     ]
    },
    {
     "name": "stderr",
     "output_type": "stream",
     "text": [
      "(2024-08-10 19:54:56) [INFO    ] Request: 172.16.42.2:53544 0xb5cdd210 HTTP/1.1 POST /label_image\n"
     ]
    },
    {
     "name": "stdout",
     "output_type": "stream",
     "text": [
      "100  919k  100  1075  100  918k    997   852k  0:00:01  0:00:01 --:--:--  854k\n",
      "\n",
      "real\t0m1.087s\n",
      "user\t0m0.000s\n",
      "sys\t0m0.011s\n"
     ]
    },
    {
     "name": "stderr",
     "output_type": "stream",
     "text": [
      "(2024-08-10 19:54:57) [INFO    ] Response: 0xb5cdd210 /label_image 200 0\n"
     ]
    }
   ],
   "source": [
    "\n",
    "ssh_ip=\"192.168.88.3\"\n",
    "# process = subprocess.Popen(f'ssh pptc \"cd ~/label_image_with_crow; ./label_image_with_crow -c config.json\"', shell=True)\n",
    "# time.sleep(2)\n",
    "!time curl -X POST -F \"image=@{assets_path}/label_image_with_crow/grace_hopper.bmp\" http://{ssh_ip}:18080/label_image >> pomme.txt\n",
    "\n"
   ]
  },
  {
   "cell_type": "markdown",
   "metadata": {},
   "source": [
    "### Process results"
   ]
  },
  {
   "cell_type": "code",
   "execution_count": null,
   "metadata": {},
   "outputs": [],
   "source": [
    "def process_part_execution_time_raw_results_to_dataframe(raw_results_path):\n",
    "    df = pd.DataFrame()\n",
    "    medium=\"\"\n",
    "    implementation=\"\"\n",
    "\n",
    "    parts = []\n",
    "    subparts = []\n",
    "    values = []\n",
    "\n",
    "    with open(raw_results_path, \"r\") as raw:\n",
    "        for line in raw:\n",
    "            if line.startswith(\"# MEDIUM=\"):\n",
    "                medium = line.split('=')[1].strip()\n",
    "            elif line.startswith(\"# IMPLEMENTATION=\"):\n",
    "                implementation = line.split('=')[1].strip()\n",
    "            elif line.startswith(\"TIME: \"):\n",
    "                part, subpart, value = line.split(':').strip()\n",
    "                value = float(value.split(' ')[0].strip())\n",
    "                parts.append(part)\n",
    "                subparts.append(subpart)\n",
    "                values.append(value)\n",
    "\n",
    "    df[\"Part\"] = parts\n",
    "    df[\"Subpart\"] = subparts\n",
    "    df[\"Execution Time (in us)\"] = values\n",
    "    df[\"Medium\"] = [medium] * df.shape[0]\n",
    "    df[\"Implementation\"] = [implementation] * df.shape[0]\n",
    "\n",
    "    return df\n"
   ]
  },
  {
   "cell_type": "code",
   "execution_count": null,
   "metadata": {},
   "outputs": [],
   "source": [
    "exp_dir = global_res_dir + \"/\" + experiment_name.replace(' ', '_') + \"_\" + timestamp.strftime(\"%Y%m%dT%H%M%S\")\n",
    "\n",
    "df_execution_time_by_part = []\n",
    "\n",
    "for imp in implementations:\n",
    "    exp_imp_dir = exp_dir + \"/\" + imp\n",
    "    imp_mediums = [\"na\"] if imp == \"label_image\" else mediums\n",
    "    for med in imp_mediums:\n",
    "        exp_imp_med_dir = exp_imp_dir + (\"/\" + med.replace(' ', '_') if med != \"\" else \"\")\n",
    "        exp_imp_med_raw_dir = exp_imp_med_dir + \"/raw_results\"\n",
    "        exp_imp_med_res_dir = exp_imp_med_dir + \"/results\"\n",
    "\n",
    "        path = Path(exp_imp_med_res_dir)\n",
    "        path.mkdir(parents=True, exist_ok=True)\n",
    "\n",
    "        df_execution_time_by_part_imp_med = []\n",
    "\n",
    "        for file in os.listdir(exp_imp_med_raw_dir):\n",
    "            df_execution_time_by_part_imp_med.append(process_part_execution_time_raw_results_to_dataframe(exp_imp_med_raw_dir + \"/\" + file))\n",
    "\n",
    "        df_execution_time_by_part_imp_med = pd.concat(df_execution_time_by_part_imp_med, ignore_index=True)\n",
    "        df_execution_time_by_part.append(df_execution_time_by_part_imp_med)\n",
    "\n",
    "        df_execution_time_by_part_imp_med.to_csv(exp_imp_med_res_dir + \"/execution_time_by_parts_\" + imp + \"_\" + med + \".csv\", index=False)\n",
    "\n",
    "df_execution_time_by_part = pd.concat(df_execution_time_by_part, ignore_index=True)\n",
    "df_execution_time_by_part.to_csv(exp_dir + \"/execution_time_by_parts.csv\", index=False)\n",
    "\n",
    "display(df_execution_time_by_part)"
   ]
  },
  {
   "cell_type": "markdown",
   "metadata": {},
   "source": [
    "### Make Graphs"
   ]
  },
  {
   "cell_type": "code",
   "execution_count": null,
   "metadata": {},
   "outputs": [],
   "source": [
    "# Global variables\n",
    "experiment_name = \"Execution time by part\" # ! Check that it's the same as in the experiment setup\n",
    "exp_dir = global_res_dir + \"/\" + experiment_name.replace(' ', '_') + \"_\" + timestamp.strftime(\"%Y%m%dT%H%M%S\")\n",
    "\n",
    "# exp_dir = global_res_dir + \"/\" + experiment_name.replace(' ', '_') + \"_Correct\"\n",
    "\n",
    "graphs_dir = exp_dir + \"/graphs\"\n",
    "\n",
    "path = Path(graphs_dir)\n",
    "path.mkdir(parents=True, exist_ok=True)\n",
    "\n",
    "for imp in implementations:\n",
    "    df_imp = df[df[\"Implementation\"] == imp]\n",
    "\n",
    "    medium_group = df_imp.groupby"
   ]
  },
  {
   "cell_type": "code",
   "execution_count": null,
   "metadata": {},
   "outputs": [],
   "source": [
    "df = pd.read_csv(exp_dir + \"/execution_time_by_parts.csv\")\n",
    "\n",
    "for imp in implementations:\n",
    "    df_imp = df[df[\"Implementation\"] == imp]\n",
    "\n",
    "    medium_group = df_imp.groupby(\"Medium\")\n",
    "\n",
    "    colors = sns.color_palette('rocket')[::-1]\n",
    "\n",
    "    for key, item in medium_group:\n",
    "        plt.figure(figsize=(10, 6))\n",
    "        sns.set_style(\"whitegrid\")\n",
    "        sns.barplot(data=item, x='Subpart', y='Execution Time (in us)', hue='Part', palette=colors)\n",
    "\n",
    "        plt.ylim(bottom=0)\n",
    "        plt.tight_layout()\n",
    "        plt.show"
   ]
  }
 ],
 "metadata": {
  "kernelspec": {
   "display_name": "Python 3",
   "language": "python",
   "name": "python3"
  },
  "language_info": {
   "codemirror_mode": {
    "name": "ipython",
    "version": 3
   },
   "file_extension": ".py",
   "mimetype": "text/x-python",
   "name": "python",
   "nbconvert_exporter": "python",
   "pygments_lexer": "ipython3",
   "version": "3.10.12"
  }
 },
 "nbformat": 4,
 "nbformat_minor": 2
}
