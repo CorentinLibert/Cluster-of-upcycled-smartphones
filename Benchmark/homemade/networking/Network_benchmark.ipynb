{
 "cells": [
  {
   "cell_type": "markdown",
   "id": "2c831898-77a2-4a8e-82d8-e2839c19e7bb",
   "metadata": {},
   "source": [
    "# Networking benchmark"
   ]
  },
  {
   "cell_type": "markdown",
   "id": "216362f1-a7e9-4c0c-af5a-bfe0c92648f4",
   "metadata": {},
   "source": [
    "This notebook is used to run the several networking benchmarks written in bash and to create the corresponding graphs."
   ]
  },
  {
   "cell_type": "code",
   "execution_count": null,
   "id": "752d7267-46b2-4808-92e4-378bf53dfdae",
   "metadata": {},
   "outputs": [],
   "source": [
    "!pip install ipywidgets\n",
    "!pip install widgetsnbextension"
   ]
  },
  {
   "cell_type": "code",
   "execution_count": null,
   "id": "31c100cb-caeb-40a3-a4e4-f52ac0ce4153",
   "metadata": {},
   "outputs": [],
   "source": [
    "# Configs\n",
    "SSH_HOSTNAME=\"pptc\"\n",
    "SUBNETWORK=\"192.168.88.\"\n",
    "SENDER_IDS=list(range(3,11))\n",
    "RECEIVER_IDS=list(range(11,19))\n",
    "SENDER_IPS=[]\n",
    "RECEIVER_IPS=[]\n",
    "SSH_SENDERS=[]\n",
    "SSH_RECEIVERS=[]\n",
    "COMPUTER1_IP=\"192.168.88.100\"\n",
    "COMPUTER2_IP=\"192.168.88.101\"\n",
    "SSH_COMPUTER1=\"localhost\"\n",
    "SSH_COMPUTER2=\"ubuntu@\"+COMPUTER2_IP\n",
    "\n",
    "for id in SENDER_IDS:\n",
    "    sender_ip=SUBNETWORK+str(id)\n",
    "    ssh_sender=SSH_HOSTNAME+\"@\"+sender_ip\n",
    "    SENDER_IPS.append(sender_ip)\n",
    "    SSH_SENDERS.append(ssh_sender)\n",
    "for id in RECEIVER_IDS:\n",
    "    receiver_ip=SUBNETWORK+str(id)\n",
    "    ssh_receiver=SSH_HOSTNAME+\"@\"+receiver_ip\n",
    "    RECEIVER_IPS.append(receiver_ip)\n",
    "    SSH_RECEIVERS.append(ssh_receiver)\n",
    "\n",
    "print(f\"SENDER_IPS:\\n{SENDER_IPS}\")\n",
    "print(f\"SSH_SENDERS:\\n{SSH_SENDERS}\")\n",
    "print(f\"RECEIVER_IPS:\\n{RECEIVER_IPS}\")\n",
    "print(f\"SSH_RECEIVERS:\\n{SSH_RECEIVERS}\")\n",
    "print(f\"COMPUTER1_IP: {COMPUTER1_IP}\")\n",
    "print(f\"SSH_COMPUTER1: {SSH_COMPUTER1}\")\n",
    "print(f\"COMPUTER2_IP: {COMPUTER2_IP}\")\n",
    "print(f\"SSH_COMPUTER2: {SSH_COMPUTER2}\")"
   ]
  },
  {
   "cell_type": "code",
   "execution_count": null,
   "id": "6b87a0f4-9696-4e23-8c97-11d61db6e756",
   "metadata": {},
   "outputs": [],
   "source": [
    "def to_arg_str(a):\n",
    "    s = \"\\\"\"\n",
    "    for i in range(0, len(a)):\n",
    "        s += a[i]\n",
    "        if i != len(a)-1:\n",
    "            s += \" \"\n",
    "        else:\n",
    "            s += \"\\\"\"\n",
    "    return s"
   ]
  },
  {
   "cell_type": "markdown",
   "id": "e9bee3ce-0513-4059-9fbc-bac8056a724e",
   "metadata": {},
   "source": [
    "## Bandwidth benchmarks"
   ]
  },
  {
   "cell_type": "markdown",
   "id": "22062e60-bf25-4359-956d-0577edd94ae2",
   "metadata": {},
   "source": [
    "### Simple bandwidth benchmark between 2 devices"
   ]
  },
  {
   "cell_type": "markdown",
   "id": "8dad2c2a-9078-4cee-b3c1-b64a10f7fe2d",
   "metadata": {},
   "source": [
    "This benchmark performs an iperf3 bandwidth benchmark between 2 devices. It allows specifying manually the number of devices connected to the networking medium.\n",
    "\n",
    "**Usage:**\n",
    "Each cell as to be run independently once the smartphones setup is correctly configured, e.i. that the correct number of smartphone is connected and that the IP addresses are correctly setup."
   ]
  },
  {
   "cell_type": "code",
   "execution_count": null,
   "id": "e83bc0d8-6012-40c8-baf9-46131ec75a2e",
   "metadata": {},
   "outputs": [],
   "source": [
    "# Setup\n",
    "ssh_sender = SSH_SENDERS[0]\n",
    "ssh_receiver = SSH_RECEIVERS[0]\n",
    "ip_receiver = RECEIVER_IPS[0]\n",
    "n_iterations = 5\n",
    "filename = \"simple_bandwidth_btw_2_devices_wifi_2_4_results.csv\"\n",
    "# filename = \"simple_bandwidth_btw_2_devices_wifi_5_0_results.csv\"\n",
    "# filename = \"simple_bandwidth_btw_2_devices_ethernet_results.csv\"\n",
    "configs = [\n",
    "    f\"computer-computer 2 {SSH_COMPUTER1} {SSH_COMPUTER2} {COMPUTER2_IP} {n_iterations} 1 {filename}\",\n",
    "    f\"computer-smartphone 2 {SSH_COMPUTER1} {ssh_receiver} {ip_receiver} {n_iterations} 0 {filename}\",\n",
    "    f\"smartphone-computer 2 {ssh_sender} {SSH_COMPUTER1} {COMPUTER1_IP} {n_iterations} 0 {filename}\",\n",
    "    f\"smartphone-smartphone 2 {ssh_sender} {ssh_receiver} {ip_receiver} {n_iterations} 0 {filename}\",\n",
    "    f\"computer-computer 4 {SSH_COMPUTER1} {SSH_COMPUTER2} {COMPUTER2_IP} {n_iterations} 0 {filename}\",\n",
    "    f\"computer-smartphone 4 {SSH_COMPUTER1} {ssh_receiver} {ip_receiver} {n_iterations} 0 {filename}\",\n",
    "    f\"smartphone-computer 4 {ssh_sender} {SSH_COMPUTER1} {COMPUTER1_IP} {n_iterations} 0 {filename}\",\n",
    "    f\"smartphone-smartphone 4 {ssh_sender} {ssh_receiver} {ip_receiver} {n_iterations} 0 {filename}\",\n",
    "    f\"computer-computer 8 {SSH_COMPUTER1} {SSH_COMPUTER2} {COMPUTER2_IP} {n_iterations} 0 {filename}\",\n",
    "    f\"computer-smartphone 8 {SSH_COMPUTER1} {ssh_receiver} {ip_receiver} {n_iterations} 0 {filename}\",\n",
    "    f\"smartphone-computer 8 {ssh_sender} {SSH_COMPUTER1} {COMPUTER1_IP} {n_iterations} 0 {filename}\",\n",
    "    f\"smartphone-smartphone 8 {ssh_sender} {ssh_receiver} {ip_receiver} {n_iterations} 0 {filename}\",\n",
    "    f\"computer-computer 12 {SSH_COMPUTER1} {SSH_COMPUTER2} {COMPUTER2_IP} {n_iterations} 0 {filename}\",\n",
    "    f\"computer-smartphone 12 {SSH_COMPUTER1} {ssh_receiver} {ip_receiver} {n_iterations} 0 {filename}\",\n",
    "    f\"smartphone-computer 12 {ssh_sender} {SSH_COMPUTER1} {COMPUTER1_IP} {n_iterations} 0 {filename}\",\n",
    "    f\"smartphone-smartphone 12 {ssh_sender} {ssh_receiver} {ip_receiver} {n_iterations} 0 {filename}\",\n",
    "    f\"computer-computer 16 {SSH_COMPUTER1} {SSH_COMPUTER2} {COMPUTER2_IP} {n_iterations} 0 {filename}\",\n",
    "    f\"computer-smartphone 16 {SSH_COMPUTER1} {ssh_receiver} {ip_receiver} {n_iterations} 0 {filename}\",\n",
    "    f\"smartphone-computer 16 {ssh_sender} {SSH_COMPUTER1} {COMPUTER1_IP} {n_iterations} 0 {filename}\",\n",
    "    f\"smartphone-smartphone 16 {ssh_sender} {ssh_receiver} {ip_receiver} {n_iterations} 0 {filename}\",\n",
    "]\n",
    "\n",
    "# Benchmark execution\n",
    "for config in configs:\n",
    "    print(f\"Prepare next config:\\n  {config}\")\n",
    "    input(\"Press ENTER to run the benchmark\")\n",
    "    print(\"Run benchmark...\")\n",
    "    ! ./network_bandwidth_benchmark.sh {config}\n"
   ]
  },
  {
   "cell_type": "markdown",
   "id": "ea4568ca-a019-4913-be8a-ba8785f1ebf6",
   "metadata": {},
   "source": [
    "### Connection between pairs of devices bandwidth benchmark"
   ]
  },
  {
   "cell_type": "code",
   "execution_count": null,
   "id": "f7125993-f23a-4282-84ca-e107f9f4afe8",
   "metadata": {},
   "outputs": [],
   "source": [
    "# Setup\n",
    "n_iterations = 5\n",
    "filename = \"mult_conn_bandwidth_wifi_2_4_results.csv\"\n",
    "# filename = \"mult_conn_bandwidth_wifi_5_0_results.csv\"\n",
    "# filename = \"mult_conn_bandwidth_ethernet_results.csv\"\n",
    "configs = [\n",
    "    f\"2 {to_arg_str(SSH_SENDERS[:1])} {to_arg_str(SSH_RECEIVERS[:1])} {to_arg_str(RECEIVER_IPS[:1])} {n_iterations} 1 {filename}\",\n",
    "    f\"4 {to_arg_str(SSH_SENDERS[:2])} {to_arg_str(SSH_RECEIVERS[:2])} {to_arg_str(RECEIVER_IPS[:2])} {n_iterations} 0 {filename}\",    \n",
    "    f\"6 {to_arg_str(SSH_SENDERS[:3])} {to_arg_str(SSH_RECEIVERS[:3])} {to_arg_str(RECEIVER_IPS[:3])} {n_iterations} 0 {filename}\",\n",
    "    f\"8 {to_arg_str(SSH_SENDERS[:4])} {to_arg_str(SSH_RECEIVERS[:4])} {to_arg_str(RECEIVER_IPS[:4])} {n_iterations} 0 {filename}\",\n",
    "    f\"10 {to_arg_str(SSH_SENDERS[:5])} {to_arg_str(SSH_RECEIVERS[:5])} {to_arg_str(RECEIVER_IPS[:5])} {n_iterations} 0 {filename}\",\n",
    "    f\"12 {to_arg_str(SSH_SENDERS[:6])} {to_arg_str(SSH_RECEIVERS[:6])} {to_arg_str(RECEIVER_IPS[:6])} {n_iterations} 0 {filename}\",\n",
    "    f\"14 {to_arg_str(SSH_SENDERS[:7])} {to_arg_str(SSH_RECEIVERS[:7])} {to_arg_str(RECEIVER_IPS[:7])} {n_iterations} 0 {filename}\",\n",
    "    f\"16 {to_arg_str(SSH_SENDERS[:8])} {to_arg_str(SSH_RECEIVERS[:8])} {to_arg_str(RECEIVER_IPS[:8])} {n_iterations} 0 {filename}\",\n",
    "]\n",
    "\n",
    "# configs = configs[::-1]\n",
    "\n",
    "# Benchmark execution\n",
    "for config in configs:\n",
    "    print(f\"Prepare next config:\\n  {config}\")\n",
    "    input(\"Press ENTER to run the benchmark\")\n",
    "    print(\"Run benchmark...\")\n",
    "    ! ./network_bandwidth_multiple_connections_benchmark.sh {config}\n"
   ]
  },
  {
   "cell_type": "markdown",
   "id": "201f7483-5b98-4388-841d-c723e58df25d",
   "metadata": {},
   "source": [
    "## Latency benchmarks"
   ]
  },
  {
   "cell_type": "markdown",
   "id": "4336d361-734f-467b-b6c4-577c0e09b337",
   "metadata": {},
   "source": [
    "### Simple latency benchmark between 2 devices with increasing number of connected devices"
   ]
  },
  {
   "cell_type": "code",
   "execution_count": null,
   "id": "5592baeb-3647-4e91-b11d-00aaa8c8b710",
   "metadata": {},
   "outputs": [],
   "source": [
    "# Setup\n",
    "n_iterations = 5\n",
    "ping_interval = 1\n",
    "ssh_sender = SSH_SENDERS[0]\n",
    "ip_receiver = RECEIVER_IPS[0]\n",
    "filename = \"simple_latency_inc_dev_wifi_2_4_results.csv\"\n",
    "# filename = \"simple_latency_inc_dev_wifi_5_0_results.csv\"\n",
    "# filename = \"simple_latency_inc_dev_ethernet_results.csv\"\n",
    "\n",
    "configs = [\n",
    "    f\"computer-computer 2 {SSH_COMPUTER1} {COMPUTER2_IP} {ping_interval} {n_iterations} 1 {filename}\",\n",
    "    f\"computer-smartphone 2 {SSH_COMPUTER1} {ip_receiver} {ping_interval} {n_iterations} 0 {filename}\",\n",
    "    f\"smartphone-computer 2 {ssh_sender} {COMPUTER1_IP} {ping_interval} {n_iterations} 0 {filename}\",\n",
    "    f\"smartphone-smartphone 2 {ssh_sender} {ip_receiver} {ping_interval} {n_iterations} 0 {filename}\",\n",
    "    f\"computer-computer 4 {SSH_COMPUTER1} {COMPUTER2_IP} {ping_interval} {n_iterations} 0 {filename}\",\n",
    "    f\"computer-smartphone 4 {SSH_COMPUTER1} {ip_receiver} {ping_interval} {n_iterations} 0 {filename}\",\n",
    "    f\"smartphone-computer 4 {ssh_sender} {COMPUTER1_IP} {ping_interval} {n_iterations} 0 {filename}\",\n",
    "    f\"smartphone-smartphone 4 {ssh_sender} {ip_receiver} {ping_interval} {n_iterations} 0 {filename}\",\n",
    "    f\"computer-computer 8 {SSH_COMPUTER1} {COMPUTER2_IP} {ping_interval} {n_iterations} 0 {filename}\",\n",
    "    f\"computer-smartphone 8 {SSH_COMPUTER1} {ip_receiver} {ping_interval} {n_iterations} 0 {filename}\",\n",
    "    f\"smartphone-computer 8 {ssh_sender} {COMPUTER1_IP} {ping_interval} {n_iterations} 0 {filename}\",\n",
    "    f\"smartphone-smartphone 8 {ssh_sender} {ip_receiver} {ping_interval} {n_iterations} 0 {filename}\",\n",
    "    f\"computer-computer 12 {SSH_COMPUTER1} {COMPUTER2_IP} {ping_interval} {n_iterations} 0 {filename}\",\n",
    "    f\"computer-smartphone 12 {SSH_COMPUTER1} {ip_receiver} {ping_interval} {n_iterations} 0 {filename}\",\n",
    "    f\"smartphone-computer 12 {ssh_sender} {COMPUTER1_IP} {ping_interval} {n_iterations} 0 {filename}\",\n",
    "    f\"smartphone-smartphone 12 {ssh_sender} {ip_receiver} {ping_interval} {n_iterations} 0 {filename}\",\n",
    "    f\"computer-computer 16 {SSH_COMPUTER1} {COMPUTER2_IP} {ping_interval} {n_iterations} 0 {filename}\",\n",
    "    f\"computer-smartphone 16 {SSH_COMPUTER1} {ip_receiver} {ping_interval} {n_iterations} 0 {filename}\",\n",
    "    f\"smartphone-computer 16 {ssh_sender} {COMPUTER1_IP} {ping_interval} {n_iterations} 0 {filename}\",\n",
    "    f\"smartphone-smartphone 16 {ssh_sender} {ip_receiver} {ping_interval} {n_iterations} 0 {filename}\",\n",
    "]\n",
    "\n",
    "# Benchmark execution\n",
    "for config in configs:\n",
    "    print(f\"Prepare next config:\\n  {config}\")\n",
    "    input(\"Press ENTER to run the benchmark\")\n",
    "    print(\"Run benchmark...\")\n",
    "    ! ./network_latency_benchmark.sh {config}"
   ]
  },
  {
   "cell_type": "markdown",
   "id": "0b214bdf-be68-4cca-b204-aaaccb24566d",
   "metadata": {},
   "source": [
    "### Simple latency benchmark between 2 devices with several ping intervals"
   ]
  },
  {
   "cell_type": "code",
   "execution_count": null,
   "id": "e5ffba95-06c0-4158-9e62-f725dede27d6",
   "metadata": {},
   "outputs": [],
   "source": [
    "# Setup\n",
    "n_iterations = 5\n",
    "ping_interval = [0.2, 0.5, 1, 2]\n",
    "ssh_sender = SSH_SENDERS[0]\n",
    "ip_receiver = RECEIVER_IPS[0]\n",
    "filename = \"simple_latency_inc_ping_wifi_2_4_results.csv\"\n",
    "# filename = \"simple_latency_inc_ping_wifi_5_0_results.csv\"\n",
    "# filename = \"simple_latency_inc_ping_ethernet_results.csv\"\n",
    "\n",
    "configs = [\n",
    "    f\"computer-computer 4 {SSH_COMPUTER1} {COMPUTER2_IP} {ping_interval[0]} {n_iterations} 1 {filename}\",\n",
    "    f\"computer-smartphone 4 {SSH_COMPUTER1} {ip_receiver} {ping_interval[0]} {n_iterations} 0 {filename}\",\n",
    "    f\"smartphone-computer 4 {ssh_sender} {COMPUTER1_IP} {ping_interval[0]} {n_iterations} 0 {filename}\",\n",
    "    f\"smartphone-smartphone 4 {ssh_sender} {ip_receiver} {ping_interval[0]} {n_iterations} 0 {filename}\",\n",
    "    f\"computer-computer 4 {SSH_COMPUTER1} {COMPUTER2_IP} {ping_interval[1]} {n_iterations} 0 {filename}\",\n",
    "    f\"computer-smartphone 4 {SSH_COMPUTER1} {ip_receiver} {ping_interval[1]} {n_iterations} 0 {filename}\",\n",
    "    f\"smartphone-computer 4 {ssh_sender} {COMPUTER1_IP} {ping_interval[1]} {n_iterations} 0 {filename}\",\n",
    "    f\"smartphone-smartphone 4 {ssh_sender} {ip_receiver} {ping_interval[1]} {n_iterations} 0 {filename}\",\n",
    "    f\"computer-computer 4 {SSH_COMPUTER1} {COMPUTER2_IP} {ping_interval[2]} {n_iterations} 0 {filename}\",\n",
    "    f\"computer-smartphone 4 {SSH_COMPUTER1} {ip_receiver} {ping_interval[2]} {n_iterations} 0 {filename}\",\n",
    "    f\"smartphone-computer 4 {ssh_sender} {COMPUTER1_IP} {ping_interval[2]} {n_iterations} 0 {filename}\",\n",
    "    f\"smartphone-smartphone 4 {ssh_sender} {ip_receiver} {ping_interval[2]} {n_iterations} 0 {filename}\",\n",
    "    f\"computer-computer 4 {SSH_COMPUTER1} {COMPUTER2_IP} {ping_interval[3]} {n_iterations} 0 {filename}\",\n",
    "    f\"computer-smartphone 4 {SSH_COMPUTER1} {ip_receiver} {ping_interval[3]} {n_iterations} 0 {filename}\",\n",
    "    f\"smartphone-computer 4 {ssh_sender} {COMPUTER1_IP} {ping_interval[3]} {n_iterations} 0 {filename}\",\n",
    "    f\"smartphone-smartphone 4 {ssh_sender} {ip_receiver} {ping_interval[3]} {n_iterations} 0 {filename}\",\n",
    "]\n",
    "\n",
    "# Benchmark execution\n",
    "for config in configs:\n",
    "    print(f\"Prepare next config:\\n  {config}\")\n",
    "    input(\"Press ENTER to run the benchmark\")\n",
    "    ! sleep 5\n",
    "    print(\"Run benchmark...\")\n",
    "    ! ./network_latency_benchmark.sh {config}"
   ]
  },
  {
   "cell_type": "markdown",
   "id": "6c688577-b1c2-470d-87bc-f2161ad45189",
   "metadata": {},
   "source": [
    "### Latency with workload for increasing number of device (same device than workload)"
   ]
  },
  {
   "cell_type": "code",
   "execution_count": null,
   "id": "79fd8635-6f67-48f2-ac0f-eacb54e2f7c0",
   "metadata": {},
   "outputs": [],
   "source": [
    "# Setup\n",
    "n_iterations = 5\n",
    "ping_interval = 1\n",
    "diff_dev = 0\n",
    "filename = \"latency_mult_con_inc_dev_same_dev_wifi_2_4_results.csv\"\n",
    "# filename = \"latency_mult_con_inc_dev_same_dev_wifi_5_0_results.csv\"\n",
    "# filename = \"latency_mult_con_inc_dev_same_dev_ethernet_results.csv\"\n",
    "\n",
    "configs = [\n",
    "    f\"2 {to_arg_str(SSH_SENDERS[:1])} {to_arg_str(SSH_RECEIVERS[:1])} {to_arg_str(RECEIVER_IPS[:1])} {ping_interval} {n_iterations} {diff_dev} 1 {filename}\",\n",
    "    f\"4 {to_arg_str(SSH_SENDERS[:2])} {to_arg_str(SSH_RECEIVERS[:2])} {to_arg_str(RECEIVER_IPS[:2])} {ping_interval} {n_iterations} {diff_dev} 0 {filename}\",    \n",
    "    f\"6 {to_arg_str(SSH_SENDERS[:3])} {to_arg_str(SSH_RECEIVERS[:3])} {to_arg_str(RECEIVER_IPS[:3])} {ping_interval} {n_iterations} {diff_dev} 0 {filename}\",\n",
    "    f\"8 {to_arg_str(SSH_SENDERS[:4])} {to_arg_str(SSH_RECEIVERS[:4])} {to_arg_str(RECEIVER_IPS[:4])} {ping_interval} {n_iterations} {diff_dev} 0 {filename}\",\n",
    "    f\"10 {to_arg_str(SSH_SENDERS[:5])} {to_arg_str(SSH_RECEIVERS[:5])} {to_arg_str(RECEIVER_IPS[:5])} {ping_interval} {n_iterations} {diff_dev} 0 {filename}\",\n",
    "    f\"12 {to_arg_str(SSH_SENDERS[:6])} {to_arg_str(SSH_RECEIVERS[:6])} {to_arg_str(RECEIVER_IPS[:6])} {ping_interval} {n_iterations} {diff_dev} 0 {filename}\",\n",
    "    f\"14 {to_arg_str(SSH_SENDERS[:7])} {to_arg_str(SSH_RECEIVERS[:7])} {to_arg_str(RECEIVER_IPS[:7])} {ping_interval} {n_iterations} {diff_dev} 0 {filename}\",\n",
    "    f\"16 {to_arg_str(SSH_SENDERS[:8])} {to_arg_str(SSH_RECEIVERS[:8])} {to_arg_str(RECEIVER_IPS[:8])} {ping_interval} {n_iterations} {diff_dev} 0 {filename}\",\n",
    "]\n",
    "\n",
    "# configs = configs[::-1]\n",
    "\n",
    "# Benchmark execution\n",
    "for config in configs:\n",
    "    print(f\"Prepare next config:\\n  {config}\")\n",
    "    input(\"Press ENTER to run the benchmark\")\n",
    "    print(\"Run benchmark...\")\n",
    "    ! ./network_latency_multiple_connections_benchmark.sh {config}"
   ]
  },
  {
   "cell_type": "markdown",
   "id": "c35dc851-9063-4805-a057-e5b7b43329c6",
   "metadata": {},
   "source": [
    "### Latency with workload for increasing number of device (different device than workload)"
   ]
  },
  {
   "cell_type": "code",
   "execution_count": null,
   "id": "a866ea50-e64e-4542-89dd-7046669c0f91",
   "metadata": {},
   "outputs": [],
   "source": [
    "# Setup\n",
    "n_iterations = 5\n",
    "ping_interval = 1\n",
    "diff_dev = 1\n",
    "filename = \"latency_mult_con_inc_dev_diff_dev_wifi_2_4_results.csv\"\n",
    "# filename = \"latency_mult_con_inc_dev_diff_dev_wifi_5_0_results.csv\"\n",
    "# filename = \"latency_mult_con_inc_dev_diff_dev_ethernet_results.csv\"\n",
    "\n",
    "configs = [\n",
    "    f\"2 {to_arg_str(SSH_SENDERS[:1])} {to_arg_str(SSH_RECEIVERS[:1])} {to_arg_str(RECEIVER_IPS[:1])} {ping_interval} {n_iterations} {diff_dev} 1 {filename}\",\n",
    "    f\"4 {to_arg_str(SSH_SENDERS[:2])} {to_arg_str(SSH_RECEIVERS[:2])} {to_arg_str(RECEIVER_IPS[:2])} {ping_interval} {n_iterations} {diff_dev} 0 {filename}\",    \n",
    "    f\"6 {to_arg_str(SSH_SENDERS[:3])} {to_arg_str(SSH_RECEIVERS[:3])} {to_arg_str(RECEIVER_IPS[:3])} {ping_interval} {n_iterations} {diff_dev} 0 {filename}\",\n",
    "    f\"8 {to_arg_str(SSH_SENDERS[:4])} {to_arg_str(SSH_RECEIVERS[:4])} {to_arg_str(RECEIVER_IPS[:4])} {ping_interval} {n_iterations} {diff_dev} 0 {filename}\",\n",
    "    f\"10 {to_arg_str(SSH_SENDERS[:5])} {to_arg_str(SSH_RECEIVERS[:5])} {to_arg_str(RECEIVER_IPS[:5])} {ping_interval} {n_iterations} {diff_dev} 0 {filename}\",\n",
    "    f\"12 {to_arg_str(SSH_SENDERS[:6])} {to_arg_str(SSH_RECEIVERS[:6])} {to_arg_str(RECEIVER_IPS[:6])} {ping_interval} {n_iterations} {diff_dev} 0 {filename}\",\n",
    "    f\"14 {to_arg_str(SSH_SENDERS[:7])} {to_arg_str(SSH_RECEIVERS[:7])} {to_arg_str(RECEIVER_IPS[:7])} {ping_interval} {n_iterations} {diff_dev} 0 {filename}\",\n",
    "    f\"16 {to_arg_str(SSH_SENDERS[:8])} {to_arg_str(SSH_RECEIVERS[:8])} {to_arg_str(RECEIVER_IPS[:8])} {ping_interval} {n_iterations} {diff_dev} 0 {filename}\",\n",
    "]\n",
    "\n",
    "# configs = configs[::-1]\n",
    "\n",
    "# Benchmark execution\n",
    "for config in configs:\n",
    "    print(f\"Prepare next config:\\n  {config}\")\n",
    "    input(\"Press ENTER to run the benchmark\")\n",
    "    print(\"Run benchmark...\")\n",
    "    ! ./network_latency_multiple_connections_benchmark.sh {config}"
   ]
  },
  {
   "cell_type": "code",
   "execution_count": null,
   "id": "3a37c273-e841-43f3-b671-4bd63f0a136d",
   "metadata": {},
   "outputs": [],
   "source": []
  }
 ],
 "metadata": {
  "kernelspec": {
   "display_name": "Python 3 (ipykernel)",
   "language": "python",
   "name": "python3"
  },
  "language_info": {
   "codemirror_mode": {
    "name": "ipython",
    "version": 3
   },
   "file_extension": ".py",
   "mimetype": "text/x-python",
   "name": "python",
   "nbconvert_exporter": "python",
   "pygments_lexer": "ipython3",
   "version": "3.10.12"
  }
 },
 "nbformat": 4,
 "nbformat_minor": 5
}
