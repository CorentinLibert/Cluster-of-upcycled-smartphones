{
 "cells": [
  {
   "cell_type": "markdown",
   "metadata": {},
   "source": [
    "# Experiments: Cluster and K3S"
   ]
  },
  {
   "cell_type": "code",
   "execution_count": 1,
   "metadata": {},
   "outputs": [],
   "source": [
    "# Imports\n",
    "import os\n",
    "import re\n",
    "import sys\n",
    "import ast\n",
    "import time\n",
    "import pathlib\n",
    "import datetime\n",
    "import itertools\n",
    "import textwrap\n",
    "import numpy as np\n",
    "import subprocess\n",
    "import pandas as pd\n",
    "import seaborn as sns\n",
    "import matplotlib.pyplot as plt\n",
    "from pathlib import Path\n",
    "\n",
    "import warnings\n",
    "warnings.simplefilter(action='ignore', category=FutureWarning)"
   ]
  },
  {
   "cell_type": "code",
   "execution_count": 2,
   "metadata": {},
   "outputs": [],
   "source": [
    "# Global variables\n",
    "\n",
    "# Paths\n",
    "global_res_dir = \"./results\"\n",
    "assets_path = \"./assets\""
   ]
  },
  {
   "cell_type": "code",
   "execution_count": 3,
   "metadata": {},
   "outputs": [],
   "source": [
    "# ssh and scp functions with arguements\n",
    "ssh_with_args = \"ssh -o UserKnownHostsFile=/dev/null -o StrictHostKeyChecking=no\"\n",
    "scp_with_args = \"scp -o UserKnownHostsFile=/dev/null -o StrictHostKeyChecking=no\""
   ]
  },
  {
   "cell_type": "markdown",
   "metadata": {},
   "source": [
    "## Experiment 1: Measure CPU & RAM usage with K3S"
   ]
  },
  {
   "cell_type": "code",
   "execution_count": 4,
   "metadata": {},
   "outputs": [
    {
     "data": {
      "text/html": [
       "<div>\n",
       "<style scoped>\n",
       "    .dataframe tbody tr th:only-of-type {\n",
       "        vertical-align: middle;\n",
       "    }\n",
       "\n",
       "    .dataframe tbody tr th {\n",
       "        vertical-align: top;\n",
       "    }\n",
       "\n",
       "    .dataframe thead th {\n",
       "        text-align: right;\n",
       "    }\n",
       "</style>\n",
       "<table border=\"1\" class=\"dataframe\">\n",
       "  <thead>\n",
       "    <tr style=\"text-align: right;\">\n",
       "      <th></th>\n",
       "      <th>SSH info</th>\n",
       "      <th>Device state</th>\n",
       "    </tr>\n",
       "  </thead>\n",
       "  <tbody>\n",
       "    <tr>\n",
       "      <th>0</th>\n",
       "      <td>pptc@192.168.88.3</td>\n",
       "      <td>uninstall</td>\n",
       "    </tr>\n",
       "    <tr>\n",
       "      <th>1</th>\n",
       "      <td>pptc@192.168.88.17</td>\n",
       "      <td>server 0</td>\n",
       "    </tr>\n",
       "    <tr>\n",
       "      <th>2</th>\n",
       "      <td>pptc@192.168.88.3</td>\n",
       "      <td>worker</td>\n",
       "    </tr>\n",
       "    <tr>\n",
       "      <th>3</th>\n",
       "      <td>pptc@192.168.88.17</td>\n",
       "      <td>server 1</td>\n",
       "    </tr>\n",
       "    <tr>\n",
       "      <th>4</th>\n",
       "      <td>pptc@192.168.88.17</td>\n",
       "      <td>server 2</td>\n",
       "    </tr>\n",
       "    <tr>\n",
       "      <th>5</th>\n",
       "      <td>pptc@192.168.88.17</td>\n",
       "      <td>server 3</td>\n",
       "    </tr>\n",
       "    <tr>\n",
       "      <th>6</th>\n",
       "      <td>pptc@192.168.88.17</td>\n",
       "      <td>server 4</td>\n",
       "    </tr>\n",
       "    <tr>\n",
       "      <th>7</th>\n",
       "      <td>pptc@192.168.88.17</td>\n",
       "      <td>server 5</td>\n",
       "    </tr>\n",
       "    <tr>\n",
       "      <th>8</th>\n",
       "      <td>pptc@192.168.88.17</td>\n",
       "      <td>server 6</td>\n",
       "    </tr>\n",
       "    <tr>\n",
       "      <th>9</th>\n",
       "      <td>pptc@192.168.88.17</td>\n",
       "      <td>server 7</td>\n",
       "    </tr>\n",
       "    <tr>\n",
       "      <th>10</th>\n",
       "      <td>pptc@192.168.88.17</td>\n",
       "      <td>server 8</td>\n",
       "    </tr>\n",
       "    <tr>\n",
       "      <th>11</th>\n",
       "      <td>pptc@192.168.88.17</td>\n",
       "      <td>server 9</td>\n",
       "    </tr>\n",
       "  </tbody>\n",
       "</table>\n",
       "</div>"
      ],
      "text/plain": [
       "              SSH info Device state\n",
       "0    pptc@192.168.88.3    uninstall\n",
       "1   pptc@192.168.88.17     server 0\n",
       "2    pptc@192.168.88.3       worker\n",
       "3   pptc@192.168.88.17     server 1\n",
       "4   pptc@192.168.88.17     server 2\n",
       "5   pptc@192.168.88.17     server 3\n",
       "6   pptc@192.168.88.17     server 4\n",
       "7   pptc@192.168.88.17     server 5\n",
       "8   pptc@192.168.88.17     server 6\n",
       "9   pptc@192.168.88.17     server 7\n",
       "10  pptc@192.168.88.17     server 8\n",
       "11  pptc@192.168.88.17     server 9"
      ]
     },
     "metadata": {},
     "output_type": "display_data"
    }
   ],
   "source": [
    "# Experiment setup\n",
    "experiment_name = \"K3S CPU and RAM usage\"\n",
    "timestamp = timestamp=datetime.datetime.now() # Current timestamp\n",
    "\n",
    "iterations = 10\n",
    "ssh_infos = [\"pptc@192.168.88.3\", \"pptc@192.168.88.17\", \"pptc@192.168.88.3\"] + [\"pptc@192.168.88.17\"] * 9\n",
    "device_states = [\"uninstall\", \"server 0\", \"worker\"] + [\"server \"+str(i) for i in range(1, 10)]\n",
    "count_for_usage_script = 20\n",
    "\n",
    "df = pd.DataFrame()\n",
    "df[\"SSH info\"] = ssh_infos\n",
    "df[\"Device state\"] = device_states\n",
    "display(df)\n",
    "\n",
    "# df = df[df.index == 2].reset_index()\n"
   ]
  },
  {
   "cell_type": "code",
   "execution_count": 39,
   "metadata": {},
   "outputs": [
    {
     "name": "stdout",
     "output_type": "stream",
     "text": [
      "12\n",
      "Prepare next config:\n",
      "\tSSH info: pptc@192.168.88.3\n",
      "\tDev_state: uninstall\n",
      "\t\n",
      "\n",
      "Value : \n",
      "Run benchmark...\n",
      "Warning: Permanently added '192.168.88.3' (ED25519) to the list of known hosts.\n",
      "Warning: Permanently added '192.168.88.3' (ED25519) to the list of known hosts.\n",
      "cpu_usage_script.sh                           100% 1189   587.8KB/s   00:00    \n",
      "ram_usage_script.sh                           100% 1253   792.5KB/s   00:00    \n",
      "Warning: Permanently added '192.168.88.3' (ED25519) to the list of known hosts.\n",
      "Warning: Permanently added '192.168.88.3' (ED25519) to the list of known hosts.\n",
      "Warning: Permanently added '192.168.88.3' (ED25519) to the list of known hosts.\n",
      "Iteration 0\n",
      "Warning: Permanently added '192.168.88.3' (ED25519) to the list of known hosts.\n",
      "Warning: Permanently added '192.168.88.3' (ED25519) to the list of known hosts.\n",
      "Start CPU and RAM usage scripts\n"
     ]
    },
    {
     "name": "stderr",
     "output_type": "stream",
     "text": [
      "Warning: Permanently added '192.168.88.3' (ED25519) to the list of known hosts.\n",
      "Warning: Permanently added '192.168.88.3' (ED25519) to the list of known hosts.\n"
     ]
    },
    {
     "name": "stdout",
     "output_type": "stream",
     "text": [
      "Sleep 5s\n",
      "Iteration 1\n",
      "Warning: Permanently added '192.168.88.3' (ED25519) to the list of known hosts.\n",
      "Warning: Permanently added '192.168.88.3' (ED25519) to the list of known hosts.\n",
      "Start CPU and RAM usage scripts\n"
     ]
    },
    {
     "name": "stderr",
     "output_type": "stream",
     "text": [
      "Warning: Permanently added '192.168.88.3' (ED25519) to the list of known hosts.\n",
      "Warning: Permanently added '192.168.88.3' (ED25519) to the list of known hosts.\n"
     ]
    },
    {
     "name": "stdout",
     "output_type": "stream",
     "text": [
      "Sleep 5s\n",
      "Iteration 2\n",
      "Warning: Permanently added '192.168.88.3' (ED25519) to the list of known hosts.\n",
      "Warning: Permanently added '192.168.88.3' (ED25519) to the list of known hosts.\n",
      "Start CPU and RAM usage scripts\n"
     ]
    },
    {
     "name": "stderr",
     "output_type": "stream",
     "text": [
      "Warning: Permanently added '192.168.88.3' (ED25519) to the list of known hosts.\n",
      "Warning: Permanently added '192.168.88.3' (ED25519) to the list of known hosts.\n"
     ]
    },
    {
     "name": "stdout",
     "output_type": "stream",
     "text": [
      "Sleep 5s\n",
      "Iteration 3\n",
      "Warning: Permanently added '192.168.88.3' (ED25519) to the list of known hosts.\n",
      "Warning: Permanently added '192.168.88.3' (ED25519) to the list of known hosts.\n",
      "Start CPU and RAM usage scripts\n"
     ]
    },
    {
     "name": "stderr",
     "output_type": "stream",
     "text": [
      "Warning: Permanently added '192.168.88.3' (ED25519) to the list of known hosts.\n",
      "Warning: Permanently added '192.168.88.3' (ED25519) to the list of known hosts.\n"
     ]
    },
    {
     "name": "stdout",
     "output_type": "stream",
     "text": [
      "Sleep 5s\n",
      "Iteration 4\n",
      "Warning: Permanently added '192.168.88.3' (ED25519) to the list of known hosts.\n",
      "Warning: Permanently added '192.168.88.3' (ED25519) to the list of known hosts.\n",
      "Start CPU and RAM usage scripts\n"
     ]
    },
    {
     "name": "stderr",
     "output_type": "stream",
     "text": [
      "Warning: Permanently added '192.168.88.3' (ED25519) to the list of known hosts.\n",
      "Warning: Permanently added '192.168.88.3' (ED25519) to the list of known hosts.\n"
     ]
    },
    {
     "name": "stdout",
     "output_type": "stream",
     "text": [
      "Sleep 5s\n",
      "Iteration 5\n",
      "Warning: Permanently added '192.168.88.3' (ED25519) to the list of known hosts.\n",
      "Warning: Permanently added '192.168.88.3' (ED25519) to the list of known hosts.\n",
      "Start CPU and RAM usage scripts\n"
     ]
    },
    {
     "name": "stderr",
     "output_type": "stream",
     "text": [
      "Warning: Permanently added '192.168.88.3' (ED25519) to the list of known hosts.\n",
      "Warning: Permanently added '192.168.88.3' (ED25519) to the list of known hosts.\n"
     ]
    },
    {
     "name": "stdout",
     "output_type": "stream",
     "text": [
      "Sleep 5s\n",
      "Iteration 6\n",
      "Warning: Permanently added '192.168.88.3' (ED25519) to the list of known hosts.\n",
      "Warning: Permanently added '192.168.88.3' (ED25519) to the list of known hosts.\n",
      "Start CPU and RAM usage scripts\n"
     ]
    },
    {
     "name": "stderr",
     "output_type": "stream",
     "text": [
      "Warning: Permanently added '192.168.88.3' (ED25519) to the list of known hosts.\n",
      "Warning: Permanently added '192.168.88.3' (ED25519) to the list of known hosts.\n"
     ]
    },
    {
     "name": "stdout",
     "output_type": "stream",
     "text": [
      "Sleep 5s\n",
      "Iteration 7\n",
      "Warning: Permanently added '192.168.88.3' (ED25519) to the list of known hosts.\n",
      "Warning: Permanently added '192.168.88.3' (ED25519) to the list of known hosts.\n",
      "Start CPU and RAM usage scripts\n"
     ]
    },
    {
     "name": "stderr",
     "output_type": "stream",
     "text": [
      "Warning: Permanently added '192.168.88.3' (ED25519) to the list of known hosts.\n",
      "Warning: Permanently added '192.168.88.3' (ED25519) to the list of known hosts.\n"
     ]
    },
    {
     "name": "stdout",
     "output_type": "stream",
     "text": [
      "Sleep 5s\n",
      "Iteration 8\n",
      "Warning: Permanently added '192.168.88.3' (ED25519) to the list of known hosts.\n",
      "Warning: Permanently added '192.168.88.3' (ED25519) to the list of known hosts.\n",
      "Start CPU and RAM usage scripts\n"
     ]
    },
    {
     "name": "stderr",
     "output_type": "stream",
     "text": [
      "Warning: Permanently added '192.168.88.3' (ED25519) to the list of known hosts.\n",
      "Warning: Permanently added '192.168.88.3' (ED25519) to the list of known hosts.\n"
     ]
    },
    {
     "name": "stdout",
     "output_type": "stream",
     "text": [
      "Sleep 5s\n",
      "Iteration 9\n",
      "Warning: Permanently added '192.168.88.3' (ED25519) to the list of known hosts.\n",
      "Warning: Permanently added '192.168.88.3' (ED25519) to the list of known hosts.\n",
      "Start CPU and RAM usage scripts\n"
     ]
    },
    {
     "name": "stderr",
     "output_type": "stream",
     "text": [
      "Warning: Permanently added '192.168.88.3' (ED25519) to the list of known hosts.\n",
      "Warning: Permanently added '192.168.88.3' (ED25519) to the list of known hosts.\n"
     ]
    },
    {
     "name": "stdout",
     "output_type": "stream",
     "text": [
      "Sleep 5s\n",
      "Retrieve usage results and remove remote workspace\n",
      "Warning: Permanently added '192.168.88.3' (ED25519) to the list of known hosts.\n",
      "results_cpu_usage_pptc@192.168.88.3_uninstall 100% 8842     1.6MB/s   00:00    \n",
      "Warning: Permanently added '192.168.88.3' (ED25519) to the list of known hosts.\n",
      "results_ram_usage_pptc@192.168.88.3_uninstall 100%   11KB   2.1MB/s   00:00    \n",
      "Warning: Permanently added '192.168.88.3' (ED25519) to the list of known hosts.\n",
      "Prepare next config:\n",
      "\tSSH info: pptc@192.168.88.17\n",
      "\tDev_state: server 0\n",
      "\t\n",
      "\n",
      "Value : \n",
      "Run benchmark...\n",
      "Warning: Permanently added '192.168.88.17' (ED25519) to the list of known hosts.\n",
      "Warning: Permanently added '192.168.88.17' (ED25519) to the list of known hosts.\n",
      "cpu_usage_script.sh                           100% 1189   582.4KB/s   00:00    \n",
      "ram_usage_script.sh                           100% 1253   716.4KB/s   00:00    \n",
      "Warning: Permanently added '192.168.88.17' (ED25519) to the list of known hosts.\n",
      "Warning: Permanently added '192.168.88.17' (ED25519) to the list of known hosts.\n",
      "Warning: Permanently added '192.168.88.17' (ED25519) to the list of known hosts.\n",
      "Iteration 0\n",
      "Warning: Permanently added '192.168.88.17' (ED25519) to the list of known hosts.\n",
      "Warning: Permanently added '192.168.88.17' (ED25519) to the list of known hosts.\n",
      "Start CPU and RAM usage scripts\n"
     ]
    },
    {
     "name": "stderr",
     "output_type": "stream",
     "text": [
      "Warning: Permanently added '192.168.88.17' (ED25519) to the list of known hosts.\n",
      "Warning: Permanently added '192.168.88.17' (ED25519) to the list of known hosts.\n"
     ]
    },
    {
     "name": "stdout",
     "output_type": "stream",
     "text": [
      "Sleep 5s\n",
      "Iteration 1\n",
      "Warning: Permanently added '192.168.88.17' (ED25519) to the list of known hosts.\n",
      "Warning: Permanently added '192.168.88.17' (ED25519) to the list of known hosts.\n",
      "Start CPU and RAM usage scripts\n"
     ]
    },
    {
     "name": "stderr",
     "output_type": "stream",
     "text": [
      "Warning: Permanently added '192.168.88.17' (ED25519) to the list of known hosts.\n",
      "Warning: Permanently added '192.168.88.17' (ED25519) to the list of known hosts.\n"
     ]
    },
    {
     "name": "stdout",
     "output_type": "stream",
     "text": [
      "Sleep 5s\n",
      "Iteration 2\n",
      "Warning: Permanently added '192.168.88.17' (ED25519) to the list of known hosts.\n",
      "Warning: Permanently added '192.168.88.17' (ED25519) to the list of known hosts.\n",
      "Start CPU and RAM usage scripts\n"
     ]
    },
    {
     "name": "stderr",
     "output_type": "stream",
     "text": [
      "Warning: Permanently added '192.168.88.17' (ED25519) to the list of known hosts.\n",
      "Warning: Permanently added '192.168.88.17' (ED25519) to the list of known hosts.\n"
     ]
    },
    {
     "name": "stdout",
     "output_type": "stream",
     "text": [
      "Sleep 5s\n",
      "Iteration 3\n",
      "Warning: Permanently added '192.168.88.17' (ED25519) to the list of known hosts.\n",
      "Warning: Permanently added '192.168.88.17' (ED25519) to the list of known hosts.\n",
      "Start CPU and RAM usage scripts\n"
     ]
    },
    {
     "name": "stderr",
     "output_type": "stream",
     "text": [
      "Warning: Permanently added '192.168.88.17' (ED25519) to the list of known hosts.\n",
      "Warning: Permanently added '192.168.88.17' (ED25519) to the list of known hosts.\n"
     ]
    },
    {
     "name": "stdout",
     "output_type": "stream",
     "text": [
      "Sleep 5s\n",
      "Iteration 4\n",
      "Warning: Permanently added '192.168.88.17' (ED25519) to the list of known hosts.\n",
      "Warning: Permanently added '192.168.88.17' (ED25519) to the list of known hosts.\n",
      "Start CPU and RAM usage scripts\n"
     ]
    },
    {
     "name": "stderr",
     "output_type": "stream",
     "text": [
      "Warning: Permanently added '192.168.88.17' (ED25519) to the list of known hosts.\n",
      "Warning: Permanently added '192.168.88.17' (ED25519) to the list of known hosts.\n"
     ]
    },
    {
     "name": "stdout",
     "output_type": "stream",
     "text": [
      "Sleep 5s\n",
      "Iteration 5\n",
      "Warning: Permanently added '192.168.88.17' (ED25519) to the list of known hosts.\n",
      "Warning: Permanently added '192.168.88.17' (ED25519) to the list of known hosts.\n",
      "Start CPU and RAM usage scripts\n"
     ]
    },
    {
     "name": "stderr",
     "output_type": "stream",
     "text": [
      "Warning: Permanently added '192.168.88.17' (ED25519) to the list of known hosts.\n",
      "Warning: Permanently added '192.168.88.17' (ED25519) to the list of known hosts.\n"
     ]
    },
    {
     "name": "stdout",
     "output_type": "stream",
     "text": [
      "Sleep 5s\n",
      "Iteration 6\n",
      "Warning: Permanently added '192.168.88.17' (ED25519) to the list of known hosts.\n",
      "Warning: Permanently added '192.168.88.17' (ED25519) to the list of known hosts.\n",
      "Start CPU and RAM usage scripts\n"
     ]
    },
    {
     "name": "stderr",
     "output_type": "stream",
     "text": [
      "Warning: Permanently added '192.168.88.17' (ED25519) to the list of known hosts.\n",
      "Warning: Permanently added '192.168.88.17' (ED25519) to the list of known hosts.\n"
     ]
    },
    {
     "name": "stdout",
     "output_type": "stream",
     "text": [
      "Sleep 5s\n",
      "Iteration 7\n",
      "Warning: Permanently added '192.168.88.17' (ED25519) to the list of known hosts.\n",
      "Warning: Permanently added '192.168.88.17' (ED25519) to the list of known hosts.\n",
      "Start CPU and RAM usage scripts\n"
     ]
    },
    {
     "name": "stderr",
     "output_type": "stream",
     "text": [
      "Warning: Permanently added '192.168.88.17' (ED25519) to the list of known hosts.\n",
      "Warning: Permanently added '192.168.88.17' (ED25519) to the list of known hosts.\n"
     ]
    },
    {
     "name": "stdout",
     "output_type": "stream",
     "text": [
      "Sleep 5s\n",
      "Iteration 8\n",
      "Warning: Permanently added '192.168.88.17' (ED25519) to the list of known hosts.\n",
      "Warning: Permanently added '192.168.88.17' (ED25519) to the list of known hosts.\n",
      "Start CPU and RAM usage scripts\n"
     ]
    },
    {
     "name": "stderr",
     "output_type": "stream",
     "text": [
      "Warning: Permanently added '192.168.88.17' (ED25519) to the list of known hosts.\n",
      "Warning: Permanently added '192.168.88.17' (ED25519) to the list of known hosts.\n"
     ]
    },
    {
     "name": "stdout",
     "output_type": "stream",
     "text": [
      "Sleep 5s\n",
      "Iteration 9\n",
      "Warning: Permanently added '192.168.88.17' (ED25519) to the list of known hosts.\n",
      "Warning: Permanently added '192.168.88.17' (ED25519) to the list of known hosts.\n",
      "Start CPU and RAM usage scripts\n"
     ]
    },
    {
     "name": "stderr",
     "output_type": "stream",
     "text": [
      "Warning: Permanently added '192.168.88.17' (ED25519) to the list of known hosts.\n",
      "Warning: Permanently added '192.168.88.17' (ED25519) to the list of known hosts.\n"
     ]
    },
    {
     "name": "stdout",
     "output_type": "stream",
     "text": [
      "Sleep 5s\n",
      "Retrieve usage results and remove remote workspace\n",
      "Warning: Permanently added '192.168.88.17' (ED25519) to the list of known hosts.\n",
      "results_cpu_usage_pptc@192.168.88.17_server_0 100% 8842     1.5MB/s   00:00    \n",
      "Warning: Permanently added '192.168.88.17' (ED25519) to the list of known hosts.\n",
      "results_ram_usage_pptc@192.168.88.17_server_0 100%   11KB   2.7MB/s   00:00    \n",
      "Warning: Permanently added '192.168.88.17' (ED25519) to the list of known hosts.\n",
      "Prepare next config:\n",
      "\tSSH info: pptc@192.168.88.3\n",
      "\tDev_state: worker\n",
      "\t\n",
      "\n",
      "Value : \n",
      "Run benchmark...\n",
      "Warning: Permanently added '192.168.88.3' (ED25519) to the list of known hosts.\n",
      "Warning: Permanently added '192.168.88.3' (ED25519) to the list of known hosts.\n",
      "cpu_usage_script.sh                           100% 1189   531.4KB/s   00:00    \n",
      "ram_usage_script.sh                           100% 1253   614.8KB/s   00:00    \n",
      "Warning: Permanently added '192.168.88.3' (ED25519) to the list of known hosts.\n",
      "Warning: Permanently added '192.168.88.3' (ED25519) to the list of known hosts.\n",
      "Warning: Permanently added '192.168.88.3' (ED25519) to the list of known hosts.\n",
      "Iteration 0\n",
      "Warning: Permanently added '192.168.88.3' (ED25519) to the list of known hosts.\n",
      "Warning: Permanently added '192.168.88.3' (ED25519) to the list of known hosts.\n",
      "Start CPU and RAM usage scripts\n"
     ]
    },
    {
     "name": "stderr",
     "output_type": "stream",
     "text": [
      "Warning: Permanently added '192.168.88.3' (ED25519) to the list of known hosts.\n",
      "Warning: Permanently added '192.168.88.3' (ED25519) to the list of known hosts.\n"
     ]
    },
    {
     "name": "stdout",
     "output_type": "stream",
     "text": [
      "Sleep 5s\n",
      "Iteration 1\n",
      "Warning: Permanently added '192.168.88.3' (ED25519) to the list of known hosts.\n",
      "Warning: Permanently added '192.168.88.3' (ED25519) to the list of known hosts.\n",
      "Start CPU and RAM usage scripts\n"
     ]
    },
    {
     "name": "stderr",
     "output_type": "stream",
     "text": [
      "Warning: Permanently added '192.168.88.3' (ED25519) to the list of known hosts.\n",
      "Warning: Permanently added '192.168.88.3' (ED25519) to the list of known hosts.\n"
     ]
    },
    {
     "name": "stdout",
     "output_type": "stream",
     "text": [
      "Sleep 5s\n",
      "Iteration 2\n",
      "Warning: Permanently added '192.168.88.3' (ED25519) to the list of known hosts.\n",
      "Warning: Permanently added '192.168.88.3' (ED25519) to the list of known hosts.\n",
      "Start CPU and RAM usage scripts\n"
     ]
    },
    {
     "name": "stderr",
     "output_type": "stream",
     "text": [
      "Warning: Permanently added '192.168.88.3' (ED25519) to the list of known hosts.\n",
      "Warning: Permanently added '192.168.88.3' (ED25519) to the list of known hosts.\n"
     ]
    },
    {
     "name": "stdout",
     "output_type": "stream",
     "text": [
      "Sleep 5s\n",
      "Iteration 3\n",
      "Warning: Permanently added '192.168.88.3' (ED25519) to the list of known hosts.\n",
      "Warning: Permanently added '192.168.88.3' (ED25519) to the list of known hosts.\n",
      "Start CPU and RAM usage scripts\n"
     ]
    },
    {
     "name": "stderr",
     "output_type": "stream",
     "text": [
      "Warning: Permanently added '192.168.88.3' (ED25519) to the list of known hosts.\n",
      "Warning: Permanently added '192.168.88.3' (ED25519) to the list of known hosts.\n"
     ]
    },
    {
     "name": "stdout",
     "output_type": "stream",
     "text": [
      "Sleep 5s\n",
      "Iteration 4\n",
      "Warning: Permanently added '192.168.88.3' (ED25519) to the list of known hosts.\n",
      "Warning: Permanently added '192.168.88.3' (ED25519) to the list of known hosts.\n",
      "Start CPU and RAM usage scripts\n"
     ]
    },
    {
     "name": "stderr",
     "output_type": "stream",
     "text": [
      "Warning: Permanently added '192.168.88.3' (ED25519) to the list of known hosts.\n",
      "Warning: Permanently added '192.168.88.3' (ED25519) to the list of known hosts.\n"
     ]
    },
    {
     "name": "stdout",
     "output_type": "stream",
     "text": [
      "Sleep 5s\n",
      "Iteration 5\n",
      "Warning: Permanently added '192.168.88.3' (ED25519) to the list of known hosts.\n",
      "Warning: Permanently added '192.168.88.3' (ED25519) to the list of known hosts.\n",
      "Start CPU and RAM usage scripts\n"
     ]
    },
    {
     "name": "stderr",
     "output_type": "stream",
     "text": [
      "Warning: Permanently added '192.168.88.3' (ED25519) to the list of known hosts.\n",
      "Warning: Permanently added '192.168.88.3' (ED25519) to the list of known hosts.\n"
     ]
    },
    {
     "name": "stdout",
     "output_type": "stream",
     "text": [
      "Sleep 5s\n",
      "Iteration 6\n",
      "Warning: Permanently added '192.168.88.3' (ED25519) to the list of known hosts.\n",
      "Warning: Permanently added '192.168.88.3' (ED25519) to the list of known hosts.\n",
      "Start CPU and RAM usage scripts\n"
     ]
    },
    {
     "name": "stderr",
     "output_type": "stream",
     "text": [
      "Warning: Permanently added '192.168.88.3' (ED25519) to the list of known hosts.\n",
      "Warning: Permanently added '192.168.88.3' (ED25519) to the list of known hosts.\n"
     ]
    },
    {
     "name": "stdout",
     "output_type": "stream",
     "text": [
      "Sleep 5s\n",
      "Iteration 7\n",
      "Warning: Permanently added '192.168.88.3' (ED25519) to the list of known hosts.\n",
      "Warning: Permanently added '192.168.88.3' (ED25519) to the list of known hosts.\n",
      "Start CPU and RAM usage scripts\n"
     ]
    },
    {
     "name": "stderr",
     "output_type": "stream",
     "text": [
      "Warning: Permanently added '192.168.88.3' (ED25519) to the list of known hosts.\n",
      "Warning: Permanently added '192.168.88.3' (ED25519) to the list of known hosts.\n"
     ]
    },
    {
     "name": "stdout",
     "output_type": "stream",
     "text": [
      "Sleep 5s\n",
      "Iteration 8\n",
      "Warning: Permanently added '192.168.88.3' (ED25519) to the list of known hosts.\n",
      "Warning: Permanently added '192.168.88.3' (ED25519) to the list of known hosts.\n",
      "Start CPU and RAM usage scripts\n"
     ]
    },
    {
     "name": "stderr",
     "output_type": "stream",
     "text": [
      "Warning: Permanently added '192.168.88.3' (ED25519) to the list of known hosts.\n",
      "Warning: Permanently added '192.168.88.3' (ED25519) to the list of known hosts.\n"
     ]
    },
    {
     "name": "stdout",
     "output_type": "stream",
     "text": [
      "Sleep 5s\n",
      "Iteration 9\n",
      "Warning: Permanently added '192.168.88.3' (ED25519) to the list of known hosts.\n",
      "Warning: Permanently added '192.168.88.3' (ED25519) to the list of known hosts.\n",
      "Start CPU and RAM usage scripts\n"
     ]
    },
    {
     "name": "stderr",
     "output_type": "stream",
     "text": [
      "Warning: Permanently added '192.168.88.3' (ED25519) to the list of known hosts.\n",
      "Warning: Permanently added '192.168.88.3' (ED25519) to the list of known hosts.\n"
     ]
    },
    {
     "name": "stdout",
     "output_type": "stream",
     "text": [
      "Sleep 5s\n",
      "Retrieve usage results and remove remote workspace\n",
      "Warning: Permanently added '192.168.88.3' (ED25519) to the list of known hosts.\n",
      "results_cpu_usage_pptc@192.168.88.3_worker.tx 100% 8839   706.1KB/s   00:00    \n",
      "Warning: Permanently added '192.168.88.3' (ED25519) to the list of known hosts.\n",
      "results_ram_usage_pptc@192.168.88.3_worker.tx 100%   11KB 508.1KB/s   00:00    \n",
      "Warning: Permanently added '192.168.88.3' (ED25519) to the list of known hosts.\n",
      "Prepare next config:\n",
      "\tSSH info: pptc@192.168.88.17\n",
      "\tDev_state: server 1\n",
      "\t\n",
      "\n",
      "Value : \n",
      "Run benchmark...\n",
      "Warning: Permanently added '192.168.88.17' (ED25519) to the list of known hosts.\n",
      "Warning: Permanently added '192.168.88.17' (ED25519) to the list of known hosts.\n",
      "cpu_usage_script.sh                           100% 1189   687.2KB/s   00:00    \n",
      "ram_usage_script.sh                           100% 1253   707.1KB/s   00:00    \n",
      "Warning: Permanently added '192.168.88.17' (ED25519) to the list of known hosts.\n",
      "Warning: Permanently added '192.168.88.17' (ED25519) to the list of known hosts.\n",
      "Warning: Permanently added '192.168.88.17' (ED25519) to the list of known hosts.\n",
      "Iteration 0\n",
      "Warning: Permanently added '192.168.88.17' (ED25519) to the list of known hosts.\n",
      "Warning: Permanently added '192.168.88.17' (ED25519) to the list of known hosts.\n",
      "Start CPU and RAM usage scripts\n"
     ]
    },
    {
     "name": "stderr",
     "output_type": "stream",
     "text": [
      "Warning: Permanently added '192.168.88.17' (ED25519) to the list of known hosts.\n",
      "Warning: Permanently added '192.168.88.17' (ED25519) to the list of known hosts.\n"
     ]
    },
    {
     "name": "stdout",
     "output_type": "stream",
     "text": [
      "Sleep 5s\n",
      "Iteration 1\n",
      "Warning: Permanently added '192.168.88.17' (ED25519) to the list of known hosts.\n",
      "Warning: Permanently added '192.168.88.17' (ED25519) to the list of known hosts.\n",
      "Start CPU and RAM usage scripts\n"
     ]
    },
    {
     "name": "stderr",
     "output_type": "stream",
     "text": [
      "Warning: Permanently added '192.168.88.17' (ED25519) to the list of known hosts.\n",
      "Warning: Permanently added '192.168.88.17' (ED25519) to the list of known hosts.\n"
     ]
    },
    {
     "name": "stdout",
     "output_type": "stream",
     "text": [
      "Sleep 5s\n",
      "Iteration 2\n",
      "Warning: Permanently added '192.168.88.17' (ED25519) to the list of known hosts.\n",
      "Warning: Permanently added '192.168.88.17' (ED25519) to the list of known hosts.\n",
      "Start CPU and RAM usage scripts\n"
     ]
    },
    {
     "name": "stderr",
     "output_type": "stream",
     "text": [
      "Warning: Permanently added '192.168.88.17' (ED25519) to the list of known hosts.\n",
      "Warning: Permanently added '192.168.88.17' (ED25519) to the list of known hosts.\n"
     ]
    },
    {
     "name": "stdout",
     "output_type": "stream",
     "text": [
      "Sleep 5s\n",
      "Iteration 3\n",
      "Warning: Permanently added '192.168.88.17' (ED25519) to the list of known hosts.\n",
      "Warning: Permanently added '192.168.88.17' (ED25519) to the list of known hosts.\n",
      "Start CPU and RAM usage scripts\n"
     ]
    },
    {
     "name": "stderr",
     "output_type": "stream",
     "text": [
      "Warning: Permanently added '192.168.88.17' (ED25519) to the list of known hosts.\n",
      "Warning: Permanently added '192.168.88.17' (ED25519) to the list of known hosts.\n"
     ]
    },
    {
     "name": "stdout",
     "output_type": "stream",
     "text": [
      "Sleep 5s\n",
      "Iteration 4\n",
      "Warning: Permanently added '192.168.88.17' (ED25519) to the list of known hosts.\n",
      "Warning: Permanently added '192.168.88.17' (ED25519) to the list of known hosts.\n",
      "Start CPU and RAM usage scripts\n"
     ]
    },
    {
     "name": "stderr",
     "output_type": "stream",
     "text": [
      "Warning: Permanently added '192.168.88.17' (ED25519) to the list of known hosts.\n",
      "Warning: Permanently added '192.168.88.17' (ED25519) to the list of known hosts.\n"
     ]
    },
    {
     "name": "stdout",
     "output_type": "stream",
     "text": [
      "Sleep 5s\n",
      "Iteration 5\n",
      "Warning: Permanently added '192.168.88.17' (ED25519) to the list of known hosts.\n",
      "Warning: Permanently added '192.168.88.17' (ED25519) to the list of known hosts.\n",
      "Start CPU and RAM usage scripts\n"
     ]
    },
    {
     "name": "stderr",
     "output_type": "stream",
     "text": [
      "Warning: Permanently added '192.168.88.17' (ED25519) to the list of known hosts.\n",
      "Warning: Permanently added '192.168.88.17' (ED25519) to the list of known hosts.\n"
     ]
    },
    {
     "name": "stdout",
     "output_type": "stream",
     "text": [
      "Sleep 5s\n",
      "Iteration 6\n",
      "Warning: Permanently added '192.168.88.17' (ED25519) to the list of known hosts.\n",
      "Warning: Permanently added '192.168.88.17' (ED25519) to the list of known hosts.\n",
      "Start CPU and RAM usage scripts\n"
     ]
    },
    {
     "name": "stderr",
     "output_type": "stream",
     "text": [
      "Warning: Permanently added '192.168.88.17' (ED25519) to the list of known hosts.\n",
      "Warning: Permanently added '192.168.88.17' (ED25519) to the list of known hosts.\n"
     ]
    },
    {
     "name": "stdout",
     "output_type": "stream",
     "text": [
      "Sleep 5s\n",
      "Iteration 7\n",
      "Warning: Permanently added '192.168.88.17' (ED25519) to the list of known hosts.\n",
      "Warning: Permanently added '192.168.88.17' (ED25519) to the list of known hosts.\n",
      "Start CPU and RAM usage scripts\n"
     ]
    },
    {
     "name": "stderr",
     "output_type": "stream",
     "text": [
      "Warning: Permanently added '192.168.88.17' (ED25519) to the list of known hosts.\n",
      "Warning: Permanently added '192.168.88.17' (ED25519) to the list of known hosts.\n"
     ]
    },
    {
     "name": "stdout",
     "output_type": "stream",
     "text": [
      "Sleep 5s\n",
      "Iteration 8\n",
      "Warning: Permanently added '192.168.88.17' (ED25519) to the list of known hosts.\n",
      "Warning: Permanently added '192.168.88.17' (ED25519) to the list of known hosts.\n",
      "Start CPU and RAM usage scripts\n"
     ]
    },
    {
     "name": "stderr",
     "output_type": "stream",
     "text": [
      "Warning: Permanently added '192.168.88.17' (ED25519) to the list of known hosts.\n",
      "Warning: Permanently added '192.168.88.17' (ED25519) to the list of known hosts.\n"
     ]
    },
    {
     "name": "stdout",
     "output_type": "stream",
     "text": [
      "Sleep 5s\n",
      "Iteration 9\n",
      "Warning: Permanently added '192.168.88.17' (ED25519) to the list of known hosts.\n",
      "Warning: Permanently added '192.168.88.17' (ED25519) to the list of known hosts.\n",
      "Start CPU and RAM usage scripts\n"
     ]
    },
    {
     "name": "stderr",
     "output_type": "stream",
     "text": [
      "Warning: Permanently added '192.168.88.17' (ED25519) to the list of known hosts.\n",
      "Warning: Permanently added '192.168.88.17' (ED25519) to the list of known hosts.\n"
     ]
    },
    {
     "name": "stdout",
     "output_type": "stream",
     "text": [
      "Sleep 5s\n",
      "Retrieve usage results and remove remote workspace\n",
      "Warning: Permanently added '192.168.88.17' (ED25519) to the list of known hosts.\n",
      "results_cpu_usage_pptc@192.168.88.17_server_1 100% 9042     2.6MB/s   00:00    \n",
      "Warning: Permanently added '192.168.88.17' (ED25519) to the list of known hosts.\n",
      "results_ram_usage_pptc@192.168.88.17_server_1 100%   11KB   2.6MB/s   00:00    \n",
      "Warning: Permanently added '192.168.88.17' (ED25519) to the list of known hosts.\n",
      "Prepare next config:\n",
      "\tSSH info: pptc@192.168.88.17\n",
      "\tDev_state: server 2\n",
      "\t\n",
      "\n",
      "Value : \n",
      "Run benchmark...\n",
      "Warning: Permanently added '192.168.88.17' (ED25519) to the list of known hosts.\n",
      "Warning: Permanently added '192.168.88.17' (ED25519) to the list of known hosts.\n",
      "cpu_usage_script.sh                           100% 1189   737.3KB/s   00:00    \n",
      "ram_usage_script.sh                           100% 1253   926.3KB/s   00:00    \n",
      "Warning: Permanently added '192.168.88.17' (ED25519) to the list of known hosts.\n",
      "Warning: Permanently added '192.168.88.17' (ED25519) to the list of known hosts.\n",
      "Warning: Permanently added '192.168.88.17' (ED25519) to the list of known hosts.\n",
      "Iteration 0\n",
      "Warning: Permanently added '192.168.88.17' (ED25519) to the list of known hosts.\n",
      "Warning: Permanently added '192.168.88.17' (ED25519) to the list of known hosts.\n",
      "Start CPU and RAM usage scripts\n"
     ]
    },
    {
     "name": "stderr",
     "output_type": "stream",
     "text": [
      "Warning: Permanently added '192.168.88.17' (ED25519) to the list of known hosts.\n",
      "Warning: Permanently added '192.168.88.17' (ED25519) to the list of known hosts.\n"
     ]
    },
    {
     "name": "stdout",
     "output_type": "stream",
     "text": [
      "Sleep 5s\n",
      "Iteration 1\n",
      "Warning: Permanently added '192.168.88.17' (ED25519) to the list of known hosts.\n",
      "Warning: Permanently added '192.168.88.17' (ED25519) to the list of known hosts.\n",
      "Start CPU and RAM usage scripts\n"
     ]
    },
    {
     "name": "stderr",
     "output_type": "stream",
     "text": [
      "Warning: Permanently added '192.168.88.17' (ED25519) to the list of known hosts.\n",
      "Warning: Permanently added '192.168.88.17' (ED25519) to the list of known hosts.\n"
     ]
    },
    {
     "name": "stdout",
     "output_type": "stream",
     "text": [
      "Sleep 5s\n",
      "Iteration 2\n",
      "Warning: Permanently added '192.168.88.17' (ED25519) to the list of known hosts.\n",
      "Warning: Permanently added '192.168.88.17' (ED25519) to the list of known hosts.\n",
      "Start CPU and RAM usage scripts\n"
     ]
    },
    {
     "name": "stderr",
     "output_type": "stream",
     "text": [
      "Warning: Permanently added '192.168.88.17' (ED25519) to the list of known hosts.\n",
      "Warning: Permanently added '192.168.88.17' (ED25519) to the list of known hosts.\n"
     ]
    },
    {
     "name": "stdout",
     "output_type": "stream",
     "text": [
      "Sleep 5s\n",
      "Iteration 3\n",
      "Warning: Permanently added '192.168.88.17' (ED25519) to the list of known hosts.\n",
      "Warning: Permanently added '192.168.88.17' (ED25519) to the list of known hosts.\n",
      "Start CPU and RAM usage scripts\n"
     ]
    },
    {
     "name": "stderr",
     "output_type": "stream",
     "text": [
      "Warning: Permanently added '192.168.88.17' (ED25519) to the list of known hosts.\n",
      "Warning: Permanently added '192.168.88.17' (ED25519) to the list of known hosts.\n"
     ]
    },
    {
     "name": "stdout",
     "output_type": "stream",
     "text": [
      "Sleep 5s\n",
      "Iteration 4\n",
      "Warning: Permanently added '192.168.88.17' (ED25519) to the list of known hosts.\n",
      "Warning: Permanently added '192.168.88.17' (ED25519) to the list of known hosts.\n",
      "Start CPU and RAM usage scripts\n"
     ]
    },
    {
     "name": "stderr",
     "output_type": "stream",
     "text": [
      "Warning: Permanently added '192.168.88.17' (ED25519) to the list of known hosts.\n",
      "Warning: Permanently added '192.168.88.17' (ED25519) to the list of known hosts.\n"
     ]
    },
    {
     "name": "stdout",
     "output_type": "stream",
     "text": [
      "Sleep 5s\n",
      "Iteration 5\n",
      "Warning: Permanently added '192.168.88.17' (ED25519) to the list of known hosts.\n",
      "Warning: Permanently added '192.168.88.17' (ED25519) to the list of known hosts.\n",
      "Start CPU and RAM usage scripts\n"
     ]
    },
    {
     "name": "stderr",
     "output_type": "stream",
     "text": [
      "Warning: Permanently added '192.168.88.17' (ED25519) to the list of known hosts.\n",
      "Warning: Permanently added '192.168.88.17' (ED25519) to the list of known hosts.\n"
     ]
    },
    {
     "name": "stdout",
     "output_type": "stream",
     "text": [
      "Sleep 5s\n",
      "Iteration 6\n",
      "Warning: Permanently added '192.168.88.17' (ED25519) to the list of known hosts.\n",
      "Warning: Permanently added '192.168.88.17' (ED25519) to the list of known hosts.\n",
      "Start CPU and RAM usage scripts\n"
     ]
    },
    {
     "name": "stderr",
     "output_type": "stream",
     "text": [
      "Warning: Permanently added '192.168.88.17' (ED25519) to the list of known hosts.\n",
      "Warning: Permanently added '192.168.88.17' (ED25519) to the list of known hosts.\n"
     ]
    },
    {
     "name": "stdout",
     "output_type": "stream",
     "text": [
      "Sleep 5s\n",
      "Iteration 7\n",
      "Warning: Permanently added '192.168.88.17' (ED25519) to the list of known hosts.\n",
      "Warning: Permanently added '192.168.88.17' (ED25519) to the list of known hosts.\n",
      "Start CPU and RAM usage scripts\n"
     ]
    },
    {
     "name": "stderr",
     "output_type": "stream",
     "text": [
      "Warning: Permanently added '192.168.88.17' (ED25519) to the list of known hosts.\n",
      "Warning: Permanently added '192.168.88.17' (ED25519) to the list of known hosts.\n"
     ]
    },
    {
     "name": "stdout",
     "output_type": "stream",
     "text": [
      "Sleep 5s\n",
      "Iteration 8\n",
      "Warning: Permanently added '192.168.88.17' (ED25519) to the list of known hosts.\n",
      "Warning: Permanently added '192.168.88.17' (ED25519) to the list of known hosts.\n",
      "Start CPU and RAM usage scripts\n"
     ]
    },
    {
     "name": "stderr",
     "output_type": "stream",
     "text": [
      "Warning: Permanently added '192.168.88.17' (ED25519) to the list of known hosts.\n",
      "Warning: Permanently added '192.168.88.17' (ED25519) to the list of known hosts.\n"
     ]
    },
    {
     "name": "stdout",
     "output_type": "stream",
     "text": [
      "Sleep 5s\n",
      "Iteration 9\n",
      "Warning: Permanently added '192.168.88.17' (ED25519) to the list of known hosts.\n",
      "Warning: Permanently added '192.168.88.17' (ED25519) to the list of known hosts.\n",
      "Start CPU and RAM usage scripts\n"
     ]
    },
    {
     "name": "stderr",
     "output_type": "stream",
     "text": [
      "Warning: Permanently added '192.168.88.17' (ED25519) to the list of known hosts.\n",
      "Warning: Permanently added '192.168.88.17' (ED25519) to the list of known hosts.\n"
     ]
    },
    {
     "name": "stdout",
     "output_type": "stream",
     "text": [
      "Sleep 5s\n",
      "Retrieve usage results and remove remote workspace\n",
      "Warning: Permanently added '192.168.88.17' (ED25519) to the list of known hosts.\n",
      "results_cpu_usage_pptc@192.168.88.17_server_2 100% 9042     1.1MB/s   00:00    \n",
      "Warning: Permanently added '192.168.88.17' (ED25519) to the list of known hosts.\n",
      "results_ram_usage_pptc@192.168.88.17_server_2 100%   11KB   3.1MB/s   00:00    \n",
      "Warning: Permanently added '192.168.88.17' (ED25519) to the list of known hosts.\n",
      "Prepare next config:\n",
      "\tSSH info: pptc@192.168.88.17\n",
      "\tDev_state: server 3\n",
      "\t\n",
      "\n",
      "Value : \n",
      "Run benchmark...\n",
      "Warning: Permanently added '192.168.88.17' (ED25519) to the list of known hosts.\n",
      "Warning: Permanently added '192.168.88.17' (ED25519) to the list of known hosts.\n",
      "cpu_usage_script.sh                           100% 1189   344.9KB/s   00:00    \n",
      "ram_usage_script.sh                           100% 1253   819.4KB/s   00:00    \n",
      "Warning: Permanently added '192.168.88.17' (ED25519) to the list of known hosts.\n",
      "Warning: Permanently added '192.168.88.17' (ED25519) to the list of known hosts.\n",
      "Warning: Permanently added '192.168.88.17' (ED25519) to the list of known hosts.\n",
      "Iteration 0\n",
      "Warning: Permanently added '192.168.88.17' (ED25519) to the list of known hosts.\n",
      "Warning: Permanently added '192.168.88.17' (ED25519) to the list of known hosts.\n",
      "Start CPU and RAM usage scripts\n"
     ]
    },
    {
     "name": "stderr",
     "output_type": "stream",
     "text": [
      "Warning: Permanently added '192.168.88.17' (ED25519) to the list of known hosts.\n",
      "Warning: Permanently added '192.168.88.17' (ED25519) to the list of known hosts.\n"
     ]
    },
    {
     "name": "stdout",
     "output_type": "stream",
     "text": [
      "Sleep 5s\n",
      "Iteration 1\n",
      "Warning: Permanently added '192.168.88.17' (ED25519) to the list of known hosts.\n",
      "Warning: Permanently added '192.168.88.17' (ED25519) to the list of known hosts.\n",
      "Start CPU and RAM usage scripts\n"
     ]
    },
    {
     "name": "stderr",
     "output_type": "stream",
     "text": [
      "Warning: Permanently added '192.168.88.17' (ED25519) to the list of known hosts.\n",
      "Warning: Permanently added '192.168.88.17' (ED25519) to the list of known hosts.\n"
     ]
    },
    {
     "name": "stdout",
     "output_type": "stream",
     "text": [
      "Sleep 5s\n",
      "Iteration 2\n",
      "Warning: Permanently added '192.168.88.17' (ED25519) to the list of known hosts.\n",
      "Warning: Permanently added '192.168.88.17' (ED25519) to the list of known hosts.\n",
      "Start CPU and RAM usage scripts\n"
     ]
    },
    {
     "name": "stderr",
     "output_type": "stream",
     "text": [
      "Warning: Permanently added '192.168.88.17' (ED25519) to the list of known hosts.\n",
      "Warning: Permanently added '192.168.88.17' (ED25519) to the list of known hosts.\n"
     ]
    },
    {
     "name": "stdout",
     "output_type": "stream",
     "text": [
      "Sleep 5s\n",
      "Iteration 3\n",
      "Warning: Permanently added '192.168.88.17' (ED25519) to the list of known hosts.\n",
      "Warning: Permanently added '192.168.88.17' (ED25519) to the list of known hosts.\n",
      "Start CPU and RAM usage scripts\n"
     ]
    },
    {
     "name": "stderr",
     "output_type": "stream",
     "text": [
      "Warning: Permanently added '192.168.88.17' (ED25519) to the list of known hosts.\n",
      "Warning: Permanently added '192.168.88.17' (ED25519) to the list of known hosts.\n"
     ]
    },
    {
     "name": "stdout",
     "output_type": "stream",
     "text": [
      "Sleep 5s\n",
      "Iteration 4\n",
      "Warning: Permanently added '192.168.88.17' (ED25519) to the list of known hosts.\n",
      "Warning: Permanently added '192.168.88.17' (ED25519) to the list of known hosts.\n",
      "Start CPU and RAM usage scripts\n"
     ]
    },
    {
     "name": "stderr",
     "output_type": "stream",
     "text": [
      "Warning: Permanently added '192.168.88.17' (ED25519) to the list of known hosts.\n",
      "Warning: Permanently added '192.168.88.17' (ED25519) to the list of known hosts.\n"
     ]
    },
    {
     "name": "stdout",
     "output_type": "stream",
     "text": [
      "Sleep 5s\n",
      "Iteration 5\n",
      "Warning: Permanently added '192.168.88.17' (ED25519) to the list of known hosts.\n",
      "Warning: Permanently added '192.168.88.17' (ED25519) to the list of known hosts.\n",
      "Start CPU and RAM usage scripts\n"
     ]
    },
    {
     "name": "stderr",
     "output_type": "stream",
     "text": [
      "Warning: Permanently added '192.168.88.17' (ED25519) to the list of known hosts.\n",
      "Warning: Permanently added '192.168.88.17' (ED25519) to the list of known hosts.\n"
     ]
    },
    {
     "name": "stdout",
     "output_type": "stream",
     "text": [
      "Sleep 5s\n",
      "Iteration 6\n",
      "Warning: Permanently added '192.168.88.17' (ED25519) to the list of known hosts.\n",
      "Warning: Permanently added '192.168.88.17' (ED25519) to the list of known hosts.\n",
      "Start CPU and RAM usage scripts\n"
     ]
    },
    {
     "name": "stderr",
     "output_type": "stream",
     "text": [
      "Warning: Permanently added '192.168.88.17' (ED25519) to the list of known hosts.\n",
      "Warning: Permanently added '192.168.88.17' (ED25519) to the list of known hosts.\n"
     ]
    },
    {
     "name": "stdout",
     "output_type": "stream",
     "text": [
      "Sleep 5s\n",
      "Iteration 7\n",
      "Warning: Permanently added '192.168.88.17' (ED25519) to the list of known hosts.\n",
      "Warning: Permanently added '192.168.88.17' (ED25519) to the list of known hosts.\n",
      "Start CPU and RAM usage scripts\n"
     ]
    },
    {
     "name": "stderr",
     "output_type": "stream",
     "text": [
      "Warning: Permanently added '192.168.88.17' (ED25519) to the list of known hosts.\n",
      "Warning: Permanently added '192.168.88.17' (ED25519) to the list of known hosts.\n"
     ]
    },
    {
     "name": "stdout",
     "output_type": "stream",
     "text": [
      "Sleep 5s\n",
      "Iteration 8\n",
      "Warning: Permanently added '192.168.88.17' (ED25519) to the list of known hosts.\n",
      "Warning: Permanently added '192.168.88.17' (ED25519) to the list of known hosts.\n",
      "Start CPU and RAM usage scripts\n"
     ]
    },
    {
     "name": "stderr",
     "output_type": "stream",
     "text": [
      "Warning: Permanently added '192.168.88.17' (ED25519) to the list of known hosts.\n",
      "Warning: Permanently added '192.168.88.17' (ED25519) to the list of known hosts.\n"
     ]
    },
    {
     "name": "stdout",
     "output_type": "stream",
     "text": [
      "Sleep 5s\n",
      "Iteration 9\n",
      "Warning: Permanently added '192.168.88.17' (ED25519) to the list of known hosts.\n",
      "Warning: Permanently added '192.168.88.17' (ED25519) to the list of known hosts.\n",
      "Start CPU and RAM usage scripts\n"
     ]
    },
    {
     "name": "stderr",
     "output_type": "stream",
     "text": [
      "Warning: Permanently added '192.168.88.17' (ED25519) to the list of known hosts.\n",
      "Warning: Permanently added '192.168.88.17' (ED25519) to the list of known hosts.\n"
     ]
    },
    {
     "name": "stdout",
     "output_type": "stream",
     "text": [
      "Sleep 5s\n",
      "Retrieve usage results and remove remote workspace\n",
      "Warning: Permanently added '192.168.88.17' (ED25519) to the list of known hosts.\n",
      "results_cpu_usage_pptc@192.168.88.17_server_3 100% 9242     1.8MB/s   00:00    \n",
      "Warning: Permanently added '192.168.88.17' (ED25519) to the list of known hosts.\n",
      "results_ram_usage_pptc@192.168.88.17_server_3 100%   11KB   2.7MB/s   00:00    \n",
      "Warning: Permanently added '192.168.88.17' (ED25519) to the list of known hosts.\n",
      "Prepare next config:\n",
      "\tSSH info: pptc@192.168.88.17\n",
      "\tDev_state: server 4\n",
      "\t\n",
      "\n",
      "Value : \n",
      "Run benchmark...\n",
      "Warning: Permanently added '192.168.88.17' (ED25519) to the list of known hosts.\n",
      "Warning: Permanently added '192.168.88.17' (ED25519) to the list of known hosts.\n",
      "cpu_usage_script.sh                           100% 1189   549.9KB/s   00:00    \n",
      "ram_usage_script.sh                           100% 1253   802.8KB/s   00:00    \n",
      "Warning: Permanently added '192.168.88.17' (ED25519) to the list of known hosts.\n",
      "Warning: Permanently added '192.168.88.17' (ED25519) to the list of known hosts.\n",
      "Warning: Permanently added '192.168.88.17' (ED25519) to the list of known hosts.\n",
      "Iteration 0\n",
      "Warning: Permanently added '192.168.88.17' (ED25519) to the list of known hosts.\n",
      "Warning: Permanently added '192.168.88.17' (ED25519) to the list of known hosts.\n",
      "Start CPU and RAM usage scripts\n"
     ]
    },
    {
     "name": "stderr",
     "output_type": "stream",
     "text": [
      "Warning: Permanently added '192.168.88.17' (ED25519) to the list of known hosts.\n",
      "Warning: Permanently added '192.168.88.17' (ED25519) to the list of known hosts.\n"
     ]
    },
    {
     "name": "stdout",
     "output_type": "stream",
     "text": [
      "Sleep 5s\n",
      "Iteration 1\n",
      "Warning: Permanently added '192.168.88.17' (ED25519) to the list of known hosts.\n",
      "Warning: Permanently added '192.168.88.17' (ED25519) to the list of known hosts.\n",
      "Start CPU and RAM usage scripts\n"
     ]
    },
    {
     "name": "stderr",
     "output_type": "stream",
     "text": [
      "Warning: Permanently added '192.168.88.17' (ED25519) to the list of known hosts.\n",
      "Warning: Permanently added '192.168.88.17' (ED25519) to the list of known hosts.\n"
     ]
    },
    {
     "name": "stdout",
     "output_type": "stream",
     "text": [
      "Sleep 5s\n",
      "Iteration 2\n",
      "Warning: Permanently added '192.168.88.17' (ED25519) to the list of known hosts.\n",
      "Warning: Permanently added '192.168.88.17' (ED25519) to the list of known hosts.\n",
      "Start CPU and RAM usage scripts\n"
     ]
    },
    {
     "name": "stderr",
     "output_type": "stream",
     "text": [
      "Warning: Permanently added '192.168.88.17' (ED25519) to the list of known hosts.\n",
      "Warning: Permanently added '192.168.88.17' (ED25519) to the list of known hosts.\n"
     ]
    },
    {
     "name": "stdout",
     "output_type": "stream",
     "text": [
      "Sleep 5s\n",
      "Iteration 3\n",
      "Warning: Permanently added '192.168.88.17' (ED25519) to the list of known hosts.\n",
      "Warning: Permanently added '192.168.88.17' (ED25519) to the list of known hosts.\n",
      "Start CPU and RAM usage scripts\n"
     ]
    },
    {
     "name": "stderr",
     "output_type": "stream",
     "text": [
      "Warning: Permanently added '192.168.88.17' (ED25519) to the list of known hosts.\n",
      "Warning: Permanently added '192.168.88.17' (ED25519) to the list of known hosts.\n"
     ]
    },
    {
     "name": "stdout",
     "output_type": "stream",
     "text": [
      "Sleep 5s\n",
      "Iteration 4\n",
      "Warning: Permanently added '192.168.88.17' (ED25519) to the list of known hosts.\n",
      "Warning: Permanently added '192.168.88.17' (ED25519) to the list of known hosts.\n",
      "Start CPU and RAM usage scripts\n"
     ]
    },
    {
     "name": "stderr",
     "output_type": "stream",
     "text": [
      "Warning: Permanently added '192.168.88.17' (ED25519) to the list of known hosts.\n",
      "Warning: Permanently added '192.168.88.17' (ED25519) to the list of known hosts.\n"
     ]
    },
    {
     "name": "stdout",
     "output_type": "stream",
     "text": [
      "Sleep 5s\n",
      "Iteration 5\n",
      "Warning: Permanently added '192.168.88.17' (ED25519) to the list of known hosts.\n",
      "Warning: Permanently added '192.168.88.17' (ED25519) to the list of known hosts.\n",
      "Start CPU and RAM usage scripts\n"
     ]
    },
    {
     "name": "stderr",
     "output_type": "stream",
     "text": [
      "Warning: Permanently added '192.168.88.17' (ED25519) to the list of known hosts.\n",
      "Warning: Permanently added '192.168.88.17' (ED25519) to the list of known hosts.\n"
     ]
    },
    {
     "name": "stdout",
     "output_type": "stream",
     "text": [
      "Sleep 5s\n",
      "Iteration 6\n",
      "Warning: Permanently added '192.168.88.17' (ED25519) to the list of known hosts.\n",
      "Warning: Permanently added '192.168.88.17' (ED25519) to the list of known hosts.\n",
      "Start CPU and RAM usage scripts\n"
     ]
    },
    {
     "name": "stderr",
     "output_type": "stream",
     "text": [
      "Warning: Permanently added '192.168.88.17' (ED25519) to the list of known hosts.\n",
      "Warning: Permanently added '192.168.88.17' (ED25519) to the list of known hosts.\n"
     ]
    },
    {
     "name": "stdout",
     "output_type": "stream",
     "text": [
      "Sleep 5s\n",
      "Iteration 7\n",
      "Warning: Permanently added '192.168.88.17' (ED25519) to the list of known hosts.\n",
      "Warning: Permanently added '192.168.88.17' (ED25519) to the list of known hosts.\n",
      "Start CPU and RAM usage scripts\n"
     ]
    },
    {
     "name": "stderr",
     "output_type": "stream",
     "text": [
      "Warning: Permanently added '192.168.88.17' (ED25519) to the list of known hosts.\n",
      "Warning: Permanently added '192.168.88.17' (ED25519) to the list of known hosts.\n"
     ]
    },
    {
     "name": "stdout",
     "output_type": "stream",
     "text": [
      "Sleep 5s\n",
      "Iteration 8\n",
      "Warning: Permanently added '192.168.88.17' (ED25519) to the list of known hosts.\n",
      "Warning: Permanently added '192.168.88.17' (ED25519) to the list of known hosts.\n",
      "Start CPU and RAM usage scripts\n"
     ]
    },
    {
     "name": "stderr",
     "output_type": "stream",
     "text": [
      "Warning: Permanently added '192.168.88.17' (ED25519) to the list of known hosts.\n",
      "Warning: Permanently added '192.168.88.17' (ED25519) to the list of known hosts.\n"
     ]
    },
    {
     "name": "stdout",
     "output_type": "stream",
     "text": [
      "Sleep 5s\n",
      "Iteration 9\n",
      "Warning: Permanently added '192.168.88.17' (ED25519) to the list of known hosts.\n",
      "Warning: Permanently added '192.168.88.17' (ED25519) to the list of known hosts.\n",
      "Start CPU and RAM usage scripts\n"
     ]
    },
    {
     "name": "stderr",
     "output_type": "stream",
     "text": [
      "Warning: Permanently added '192.168.88.17' (ED25519) to the list of known hosts.\n",
      "Warning: Permanently added '192.168.88.17' (ED25519) to the list of known hosts.\n"
     ]
    },
    {
     "name": "stdout",
     "output_type": "stream",
     "text": [
      "Sleep 5s\n",
      "Retrieve usage results and remove remote workspace\n",
      "Warning: Permanently added '192.168.88.17' (ED25519) to the list of known hosts.\n",
      "results_cpu_usage_pptc@192.168.88.17_server_4 100% 9442     2.2MB/s   00:00    \n",
      "Warning: Permanently added '192.168.88.17' (ED25519) to the list of known hosts.\n",
      "results_ram_usage_pptc@192.168.88.17_server_4 100%   11KB   1.9MB/s   00:00    \n",
      "Warning: Permanently added '192.168.88.17' (ED25519) to the list of known hosts.\n",
      "Prepare next config:\n",
      "\tSSH info: pptc@192.168.88.17\n",
      "\tDev_state: server 5\n",
      "\t\n",
      "\n",
      "Value : \n",
      "Run benchmark...\n",
      "Warning: Permanently added '192.168.88.17' (ED25519) to the list of known hosts.\n",
      "Warning: Permanently added '192.168.88.17' (ED25519) to the list of known hosts.\n",
      "cpu_usage_script.sh                           100% 1189   725.4KB/s   00:00    \n",
      "ram_usage_script.sh                           100% 1253   922.2KB/s   00:00    \n",
      "Warning: Permanently added '192.168.88.17' (ED25519) to the list of known hosts.\n",
      "Warning: Permanently added '192.168.88.17' (ED25519) to the list of known hosts.\n",
      "Warning: Permanently added '192.168.88.17' (ED25519) to the list of known hosts.\n",
      "Iteration 0\n",
      "Warning: Permanently added '192.168.88.17' (ED25519) to the list of known hosts.\n",
      "Warning: Permanently added '192.168.88.17' (ED25519) to the list of known hosts.\n",
      "Start CPU and RAM usage scripts\n"
     ]
    },
    {
     "name": "stderr",
     "output_type": "stream",
     "text": [
      "Warning: Permanently added '192.168.88.17' (ED25519) to the list of known hosts.\n",
      "Warning: Permanently added '192.168.88.17' (ED25519) to the list of known hosts.\n"
     ]
    },
    {
     "name": "stdout",
     "output_type": "stream",
     "text": [
      "Sleep 5s\n",
      "Iteration 1\n",
      "Warning: Permanently added '192.168.88.17' (ED25519) to the list of known hosts.\n",
      "Warning: Permanently added '192.168.88.17' (ED25519) to the list of known hosts.\n",
      "Start CPU and RAM usage scripts\n"
     ]
    },
    {
     "name": "stderr",
     "output_type": "stream",
     "text": [
      "Warning: Permanently added '192.168.88.17' (ED25519) to the list of known hosts.\n",
      "Warning: Permanently added '192.168.88.17' (ED25519) to the list of known hosts.\n"
     ]
    },
    {
     "name": "stdout",
     "output_type": "stream",
     "text": [
      "Sleep 5s\n",
      "Iteration 2\n",
      "Warning: Permanently added '192.168.88.17' (ED25519) to the list of known hosts.\n",
      "Warning: Permanently added '192.168.88.17' (ED25519) to the list of known hosts.\n",
      "Start CPU and RAM usage scripts\n"
     ]
    },
    {
     "name": "stderr",
     "output_type": "stream",
     "text": [
      "Warning: Permanently added '192.168.88.17' (ED25519) to the list of known hosts.\n",
      "Warning: Permanently added '192.168.88.17' (ED25519) to the list of known hosts.\n"
     ]
    },
    {
     "name": "stdout",
     "output_type": "stream",
     "text": [
      "Sleep 5s\n",
      "Iteration 3\n",
      "Warning: Permanently added '192.168.88.17' (ED25519) to the list of known hosts.\n",
      "Warning: Permanently added '192.168.88.17' (ED25519) to the list of known hosts.\n",
      "Start CPU and RAM usage scripts\n"
     ]
    },
    {
     "name": "stderr",
     "output_type": "stream",
     "text": [
      "Warning: Permanently added '192.168.88.17' (ED25519) to the list of known hosts.\n",
      "Warning: Permanently added '192.168.88.17' (ED25519) to the list of known hosts.\n"
     ]
    },
    {
     "name": "stdout",
     "output_type": "stream",
     "text": [
      "Sleep 5s\n",
      "Iteration 4\n",
      "Warning: Permanently added '192.168.88.17' (ED25519) to the list of known hosts.\n",
      "Warning: Permanently added '192.168.88.17' (ED25519) to the list of known hosts.\n",
      "Start CPU and RAM usage scripts\n"
     ]
    },
    {
     "name": "stderr",
     "output_type": "stream",
     "text": [
      "Warning: Permanently added '192.168.88.17' (ED25519) to the list of known hosts.\n",
      "Warning: Permanently added '192.168.88.17' (ED25519) to the list of known hosts.\n"
     ]
    },
    {
     "name": "stdout",
     "output_type": "stream",
     "text": [
      "Sleep 5s\n",
      "Iteration 5\n",
      "Warning: Permanently added '192.168.88.17' (ED25519) to the list of known hosts.\n",
      "Warning: Permanently added '192.168.88.17' (ED25519) to the list of known hosts.\n",
      "Start CPU and RAM usage scripts\n"
     ]
    },
    {
     "name": "stderr",
     "output_type": "stream",
     "text": [
      "Warning: Permanently added '192.168.88.17' (ED25519) to the list of known hosts.\n",
      "Warning: Permanently added '192.168.88.17' (ED25519) to the list of known hosts.\n"
     ]
    },
    {
     "name": "stdout",
     "output_type": "stream",
     "text": [
      "Sleep 5s\n",
      "Iteration 6\n",
      "Warning: Permanently added '192.168.88.17' (ED25519) to the list of known hosts.\n",
      "Warning: Permanently added '192.168.88.17' (ED25519) to the list of known hosts.\n",
      "Start CPU and RAM usage scripts\n"
     ]
    },
    {
     "name": "stderr",
     "output_type": "stream",
     "text": [
      "Warning: Permanently added '192.168.88.17' (ED25519) to the list of known hosts.\n",
      "Warning: Permanently added '192.168.88.17' (ED25519) to the list of known hosts.\n"
     ]
    },
    {
     "name": "stdout",
     "output_type": "stream",
     "text": [
      "Sleep 5s\n",
      "Iteration 7\n",
      "Warning: Permanently added '192.168.88.17' (ED25519) to the list of known hosts.\n",
      "Warning: Permanently added '192.168.88.17' (ED25519) to the list of known hosts.\n",
      "Start CPU and RAM usage scripts\n"
     ]
    },
    {
     "name": "stderr",
     "output_type": "stream",
     "text": [
      "Warning: Permanently added '192.168.88.17' (ED25519) to the list of known hosts.\n",
      "Warning: Permanently added '192.168.88.17' (ED25519) to the list of known hosts.\n"
     ]
    },
    {
     "name": "stdout",
     "output_type": "stream",
     "text": [
      "Sleep 5s\n",
      "Iteration 8\n",
      "Warning: Permanently added '192.168.88.17' (ED25519) to the list of known hosts.\n",
      "Warning: Permanently added '192.168.88.17' (ED25519) to the list of known hosts.\n",
      "Start CPU and RAM usage scripts\n"
     ]
    },
    {
     "name": "stderr",
     "output_type": "stream",
     "text": [
      "Warning: Permanently added '192.168.88.17' (ED25519) to the list of known hosts.\n",
      "Warning: Permanently added '192.168.88.17' (ED25519) to the list of known hosts.\n"
     ]
    },
    {
     "name": "stdout",
     "output_type": "stream",
     "text": [
      "Sleep 5s\n",
      "Iteration 9\n",
      "Warning: Permanently added '192.168.88.17' (ED25519) to the list of known hosts.\n",
      "Warning: Permanently added '192.168.88.17' (ED25519) to the list of known hosts.\n",
      "Start CPU and RAM usage scripts\n"
     ]
    },
    {
     "name": "stderr",
     "output_type": "stream",
     "text": [
      "Warning: Permanently added '192.168.88.17' (ED25519) to the list of known hosts.\n",
      "Warning: Permanently added '192.168.88.17' (ED25519) to the list of known hosts.\n"
     ]
    },
    {
     "name": "stdout",
     "output_type": "stream",
     "text": [
      "Sleep 5s\n",
      "Retrieve usage results and remove remote workspace\n",
      "Warning: Permanently added '192.168.88.17' (ED25519) to the list of known hosts.\n",
      "results_cpu_usage_pptc@192.168.88.17_server_5 100% 9642     2.0MB/s   00:00    \n",
      "Warning: Permanently added '192.168.88.17' (ED25519) to the list of known hosts.\n",
      "results_ram_usage_pptc@192.168.88.17_server_5 100%   11KB   2.8MB/s   00:00    \n",
      "Warning: Permanently added '192.168.88.17' (ED25519) to the list of known hosts.\n",
      "Prepare next config:\n",
      "\tSSH info: pptc@192.168.88.17\n",
      "\tDev_state: server 6\n",
      "\t\n",
      "\n",
      "Value : \n",
      "Run benchmark...\n",
      "Warning: Permanently added '192.168.88.17' (ED25519) to the list of known hosts.\n",
      "Warning: Permanently added '192.168.88.17' (ED25519) to the list of known hosts.\n",
      "cpu_usage_script.sh                           100% 1189   706.8KB/s   00:00    \n",
      "ram_usage_script.sh                           100% 1253   895.3KB/s   00:00    \n",
      "Warning: Permanently added '192.168.88.17' (ED25519) to the list of known hosts.\n",
      "Warning: Permanently added '192.168.88.17' (ED25519) to the list of known hosts.\n",
      "Warning: Permanently added '192.168.88.17' (ED25519) to the list of known hosts.\n",
      "Iteration 0\n",
      "Warning: Permanently added '192.168.88.17' (ED25519) to the list of known hosts.\n",
      "Warning: Permanently added '192.168.88.17' (ED25519) to the list of known hosts.\n",
      "Start CPU and RAM usage scripts\n"
     ]
    },
    {
     "name": "stderr",
     "output_type": "stream",
     "text": [
      "Warning: Permanently added '192.168.88.17' (ED25519) to the list of known hosts.\n",
      "Warning: Permanently added '192.168.88.17' (ED25519) to the list of known hosts.\n"
     ]
    },
    {
     "name": "stdout",
     "output_type": "stream",
     "text": [
      "Sleep 5s\n",
      "Iteration 1\n",
      "Warning: Permanently added '192.168.88.17' (ED25519) to the list of known hosts.\n",
      "Warning: Permanently added '192.168.88.17' (ED25519) to the list of known hosts.\n",
      "Start CPU and RAM usage scripts\n"
     ]
    },
    {
     "name": "stderr",
     "output_type": "stream",
     "text": [
      "Warning: Permanently added '192.168.88.17' (ED25519) to the list of known hosts.\n",
      "Warning: Permanently added '192.168.88.17' (ED25519) to the list of known hosts.\n"
     ]
    },
    {
     "name": "stdout",
     "output_type": "stream",
     "text": [
      "Sleep 5s\n",
      "Iteration 2\n",
      "Warning: Permanently added '192.168.88.17' (ED25519) to the list of known hosts.\n",
      "Warning: Permanently added '192.168.88.17' (ED25519) to the list of known hosts.\n",
      "Start CPU and RAM usage scripts\n"
     ]
    },
    {
     "name": "stderr",
     "output_type": "stream",
     "text": [
      "Warning: Permanently added '192.168.88.17' (ED25519) to the list of known hosts.\n",
      "Warning: Permanently added '192.168.88.17' (ED25519) to the list of known hosts.\n"
     ]
    },
    {
     "name": "stdout",
     "output_type": "stream",
     "text": [
      "Sleep 5s\n",
      "Iteration 3\n",
      "Warning: Permanently added '192.168.88.17' (ED25519) to the list of known hosts.\n",
      "Warning: Permanently added '192.168.88.17' (ED25519) to the list of known hosts.\n",
      "Start CPU and RAM usage scripts\n"
     ]
    },
    {
     "name": "stderr",
     "output_type": "stream",
     "text": [
      "Warning: Permanently added '192.168.88.17' (ED25519) to the list of known hosts.\n",
      "Warning: Permanently added '192.168.88.17' (ED25519) to the list of known hosts.\n"
     ]
    },
    {
     "name": "stdout",
     "output_type": "stream",
     "text": [
      "Sleep 5s\n",
      "Iteration 4\n",
      "Warning: Permanently added '192.168.88.17' (ED25519) to the list of known hosts.\n",
      "Warning: Permanently added '192.168.88.17' (ED25519) to the list of known hosts.\n",
      "Start CPU and RAM usage scripts\n"
     ]
    },
    {
     "name": "stderr",
     "output_type": "stream",
     "text": [
      "Warning: Permanently added '192.168.88.17' (ED25519) to the list of known hosts.\n",
      "Warning: Permanently added '192.168.88.17' (ED25519) to the list of known hosts.\n"
     ]
    },
    {
     "name": "stdout",
     "output_type": "stream",
     "text": [
      "Sleep 5s\n",
      "Iteration 5\n",
      "Warning: Permanently added '192.168.88.17' (ED25519) to the list of known hosts.\n",
      "Warning: Permanently added '192.168.88.17' (ED25519) to the list of known hosts.\n",
      "Start CPU and RAM usage scripts\n"
     ]
    },
    {
     "name": "stderr",
     "output_type": "stream",
     "text": [
      "Warning: Permanently added '192.168.88.17' (ED25519) to the list of known hosts.\n",
      "Warning: Permanently added '192.168.88.17' (ED25519) to the list of known hosts.\n"
     ]
    },
    {
     "name": "stdout",
     "output_type": "stream",
     "text": [
      "Sleep 5s\n",
      "Iteration 6\n",
      "Warning: Permanently added '192.168.88.17' (ED25519) to the list of known hosts.\n",
      "Warning: Permanently added '192.168.88.17' (ED25519) to the list of known hosts.\n",
      "Start CPU and RAM usage scripts\n"
     ]
    },
    {
     "name": "stderr",
     "output_type": "stream",
     "text": [
      "Warning: Permanently added '192.168.88.17' (ED25519) to the list of known hosts.\n",
      "Warning: Permanently added '192.168.88.17' (ED25519) to the list of known hosts.\n"
     ]
    },
    {
     "name": "stdout",
     "output_type": "stream",
     "text": [
      "Sleep 5s\n",
      "Iteration 7\n",
      "Warning: Permanently added '192.168.88.17' (ED25519) to the list of known hosts.\n",
      "Warning: Permanently added '192.168.88.17' (ED25519) to the list of known hosts.\n",
      "Start CPU and RAM usage scripts\n"
     ]
    },
    {
     "name": "stderr",
     "output_type": "stream",
     "text": [
      "Warning: Permanently added '192.168.88.17' (ED25519) to the list of known hosts.\n",
      "Warning: Permanently added '192.168.88.17' (ED25519) to the list of known hosts.\n"
     ]
    },
    {
     "name": "stdout",
     "output_type": "stream",
     "text": [
      "Sleep 5s\n",
      "Iteration 8\n",
      "Warning: Permanently added '192.168.88.17' (ED25519) to the list of known hosts.\n",
      "Warning: Permanently added '192.168.88.17' (ED25519) to the list of known hosts.\n",
      "Start CPU and RAM usage scripts\n"
     ]
    },
    {
     "name": "stderr",
     "output_type": "stream",
     "text": [
      "Warning: Permanently added '192.168.88.17' (ED25519) to the list of known hosts.\n",
      "Warning: Permanently added '192.168.88.17' (ED25519) to the list of known hosts.\n"
     ]
    },
    {
     "name": "stdout",
     "output_type": "stream",
     "text": [
      "Sleep 5s\n",
      "Iteration 9\n",
      "Warning: Permanently added '192.168.88.17' (ED25519) to the list of known hosts.\n",
      "Warning: Permanently added '192.168.88.17' (ED25519) to the list of known hosts.\n",
      "Start CPU and RAM usage scripts\n"
     ]
    },
    {
     "name": "stderr",
     "output_type": "stream",
     "text": [
      "Warning: Permanently added '192.168.88.17' (ED25519) to the list of known hosts.\n",
      "Warning: Permanently added '192.168.88.17' (ED25519) to the list of known hosts.\n"
     ]
    },
    {
     "name": "stdout",
     "output_type": "stream",
     "text": [
      "Sleep 5s\n",
      "Retrieve usage results and remove remote workspace\n",
      "Warning: Permanently added '192.168.88.17' (ED25519) to the list of known hosts.\n",
      "results_cpu_usage_pptc@192.168.88.17_server_6 100% 9642     1.7MB/s   00:00    \n",
      "Warning: Permanently added '192.168.88.17' (ED25519) to the list of known hosts.\n",
      "results_ram_usage_pptc@192.168.88.17_server_6 100%   11KB   2.7MB/s   00:00    \n",
      "Warning: Permanently added '192.168.88.17' (ED25519) to the list of known hosts.\n",
      "Prepare next config:\n",
      "\tSSH info: pptc@192.168.88.17\n",
      "\tDev_state: server 7\n",
      "\t\n",
      "\n",
      "Value : \n",
      "Run benchmark...\n",
      "Warning: Permanently added '192.168.88.17' (ED25519) to the list of known hosts.\n",
      "Warning: Permanently added '192.168.88.17' (ED25519) to the list of known hosts.\n",
      "cpu_usage_script.sh                           100% 1189   814.9KB/s   00:00    \n",
      "ram_usage_script.sh                           100% 1253   472.4KB/s   00:00    \n",
      "Warning: Permanently added '192.168.88.17' (ED25519) to the list of known hosts.\n",
      "Warning: Permanently added '192.168.88.17' (ED25519) to the list of known hosts.\n",
      "Warning: Permanently added '192.168.88.17' (ED25519) to the list of known hosts.\n",
      "Iteration 0\n",
      "Warning: Permanently added '192.168.88.17' (ED25519) to the list of known hosts.\n",
      "Warning: Permanently added '192.168.88.17' (ED25519) to the list of known hosts.\n",
      "Start CPU and RAM usage scripts\n"
     ]
    },
    {
     "name": "stderr",
     "output_type": "stream",
     "text": [
      "Warning: Permanently added '192.168.88.17' (ED25519) to the list of known hosts.\n",
      "Warning: Permanently added '192.168.88.17' (ED25519) to the list of known hosts.\n"
     ]
    },
    {
     "name": "stdout",
     "output_type": "stream",
     "text": [
      "Sleep 5s\n",
      "Iteration 1\n",
      "Warning: Permanently added '192.168.88.17' (ED25519) to the list of known hosts.\n",
      "Warning: Permanently added '192.168.88.17' (ED25519) to the list of known hosts.\n",
      "Start CPU and RAM usage scripts\n"
     ]
    },
    {
     "name": "stderr",
     "output_type": "stream",
     "text": [
      "Warning: Permanently added '192.168.88.17' (ED25519) to the list of known hosts.\n",
      "Warning: Permanently added '192.168.88.17' (ED25519) to the list of known hosts.\n"
     ]
    },
    {
     "name": "stdout",
     "output_type": "stream",
     "text": [
      "Sleep 5s\n",
      "Iteration 2\n",
      "Warning: Permanently added '192.168.88.17' (ED25519) to the list of known hosts.\n",
      "Warning: Permanently added '192.168.88.17' (ED25519) to the list of known hosts.\n",
      "Start CPU and RAM usage scripts\n"
     ]
    },
    {
     "name": "stderr",
     "output_type": "stream",
     "text": [
      "Warning: Permanently added '192.168.88.17' (ED25519) to the list of known hosts.\n",
      "Warning: Permanently added '192.168.88.17' (ED25519) to the list of known hosts.\n"
     ]
    },
    {
     "name": "stdout",
     "output_type": "stream",
     "text": [
      "Sleep 5s\n",
      "Iteration 3\n",
      "Warning: Permanently added '192.168.88.17' (ED25519) to the list of known hosts.\n",
      "Warning: Permanently added '192.168.88.17' (ED25519) to the list of known hosts.\n",
      "Start CPU and RAM usage scripts\n"
     ]
    },
    {
     "name": "stderr",
     "output_type": "stream",
     "text": [
      "Warning: Permanently added '192.168.88.17' (ED25519) to the list of known hosts.\n",
      "Warning: Permanently added '192.168.88.17' (ED25519) to the list of known hosts.\n"
     ]
    },
    {
     "name": "stdout",
     "output_type": "stream",
     "text": [
      "Sleep 5s\n",
      "Iteration 4\n",
      "Warning: Permanently added '192.168.88.17' (ED25519) to the list of known hosts.\n",
      "Warning: Permanently added '192.168.88.17' (ED25519) to the list of known hosts.\n",
      "Start CPU and RAM usage scripts\n"
     ]
    },
    {
     "name": "stderr",
     "output_type": "stream",
     "text": [
      "Warning: Permanently added '192.168.88.17' (ED25519) to the list of known hosts.\n",
      "Warning: Permanently added '192.168.88.17' (ED25519) to the list of known hosts.\n"
     ]
    },
    {
     "name": "stdout",
     "output_type": "stream",
     "text": [
      "Sleep 5s\n",
      "Iteration 5\n",
      "Warning: Permanently added '192.168.88.17' (ED25519) to the list of known hosts.\n",
      "Warning: Permanently added '192.168.88.17' (ED25519) to the list of known hosts.\n",
      "Start CPU and RAM usage scripts\n"
     ]
    },
    {
     "name": "stderr",
     "output_type": "stream",
     "text": [
      "Warning: Permanently added '192.168.88.17' (ED25519) to the list of known hosts.\n",
      "Warning: Permanently added '192.168.88.17' (ED25519) to the list of known hosts.\n"
     ]
    },
    {
     "name": "stdout",
     "output_type": "stream",
     "text": [
      "Sleep 5s\n",
      "Iteration 6\n",
      "Warning: Permanently added '192.168.88.17' (ED25519) to the list of known hosts.\n",
      "Warning: Permanently added '192.168.88.17' (ED25519) to the list of known hosts.\n",
      "Start CPU and RAM usage scripts\n"
     ]
    },
    {
     "name": "stderr",
     "output_type": "stream",
     "text": [
      "Warning: Permanently added '192.168.88.17' (ED25519) to the list of known hosts.\n",
      "Warning: Permanently added '192.168.88.17' (ED25519) to the list of known hosts.\n"
     ]
    },
    {
     "name": "stdout",
     "output_type": "stream",
     "text": [
      "Sleep 5s\n",
      "Iteration 7\n",
      "Warning: Permanently added '192.168.88.17' (ED25519) to the list of known hosts.\n",
      "Warning: Permanently added '192.168.88.17' (ED25519) to the list of known hosts.\n",
      "Start CPU and RAM usage scripts\n"
     ]
    },
    {
     "name": "stderr",
     "output_type": "stream",
     "text": [
      "Warning: Permanently added '192.168.88.17' (ED25519) to the list of known hosts.\n",
      "Warning: Permanently added '192.168.88.17' (ED25519) to the list of known hosts.\n"
     ]
    },
    {
     "name": "stdout",
     "output_type": "stream",
     "text": [
      "Sleep 5s\n",
      "Iteration 8\n",
      "Warning: Permanently added '192.168.88.17' (ED25519) to the list of known hosts.\n",
      "Warning: Permanently added '192.168.88.17' (ED25519) to the list of known hosts.\n",
      "Start CPU and RAM usage scripts\n"
     ]
    },
    {
     "name": "stderr",
     "output_type": "stream",
     "text": [
      "Warning: Permanently added '192.168.88.17' (ED25519) to the list of known hosts.\n",
      "Warning: Permanently added '192.168.88.17' (ED25519) to the list of known hosts.\n"
     ]
    },
    {
     "name": "stdout",
     "output_type": "stream",
     "text": [
      "Sleep 5s\n",
      "Iteration 9\n",
      "Warning: Permanently added '192.168.88.17' (ED25519) to the list of known hosts.\n",
      "Warning: Permanently added '192.168.88.17' (ED25519) to the list of known hosts.\n",
      "Start CPU and RAM usage scripts\n"
     ]
    },
    {
     "name": "stderr",
     "output_type": "stream",
     "text": [
      "Warning: Permanently added '192.168.88.17' (ED25519) to the list of known hosts.\n",
      "Warning: Permanently added '192.168.88.17' (ED25519) to the list of known hosts.\n"
     ]
    },
    {
     "name": "stdout",
     "output_type": "stream",
     "text": [
      "Sleep 5s\n",
      "Retrieve usage results and remove remote workspace\n",
      "Warning: Permanently added '192.168.88.17' (ED25519) to the list of known hosts.\n",
      "results_cpu_usage_pptc@192.168.88.17_server_7 100% 9642     1.1MB/s   00:00    \n",
      "Warning: Permanently added '192.168.88.17' (ED25519) to the list of known hosts.\n",
      "results_ram_usage_pptc@192.168.88.17_server_7 100%   11KB   2.7MB/s   00:00    \n",
      "Warning: Permanently added '192.168.88.17' (ED25519) to the list of known hosts.\n",
      "Prepare next config:\n",
      "\tSSH info: pptc@192.168.88.17\n",
      "\tDev_state: server 8\n",
      "\t\n",
      "\n",
      "Value : \n",
      "Run benchmark...\n",
      "Warning: Permanently added '192.168.88.17' (ED25519) to the list of known hosts.\n",
      "Warning: Permanently added '192.168.88.17' (ED25519) to the list of known hosts.\n",
      "cpu_usage_script.sh                           100% 1189   695.1KB/s   00:00    \n",
      "ram_usage_script.sh                           100% 1253   834.6KB/s   00:00    \n",
      "Warning: Permanently added '192.168.88.17' (ED25519) to the list of known hosts.\n",
      "Warning: Permanently added '192.168.88.17' (ED25519) to the list of known hosts.\n",
      "Warning: Permanently added '192.168.88.17' (ED25519) to the list of known hosts.\n",
      "Iteration 0\n",
      "Warning: Permanently added '192.168.88.17' (ED25519) to the list of known hosts.\n",
      "Warning: Permanently added '192.168.88.17' (ED25519) to the list of known hosts.\n",
      "Start CPU and RAM usage scripts\n"
     ]
    },
    {
     "name": "stderr",
     "output_type": "stream",
     "text": [
      "Warning: Permanently added '192.168.88.17' (ED25519) to the list of known hosts.\n",
      "Warning: Permanently added '192.168.88.17' (ED25519) to the list of known hosts.\n"
     ]
    },
    {
     "name": "stdout",
     "output_type": "stream",
     "text": [
      "Sleep 5s\n",
      "Iteration 1\n",
      "Warning: Permanently added '192.168.88.17' (ED25519) to the list of known hosts.\n",
      "Warning: Permanently added '192.168.88.17' (ED25519) to the list of known hosts.\n",
      "Start CPU and RAM usage scripts\n"
     ]
    },
    {
     "name": "stderr",
     "output_type": "stream",
     "text": [
      "Warning: Permanently added '192.168.88.17' (ED25519) to the list of known hosts.\n",
      "Warning: Permanently added '192.168.88.17' (ED25519) to the list of known hosts.\n"
     ]
    },
    {
     "name": "stdout",
     "output_type": "stream",
     "text": [
      "Sleep 5s\n",
      "Iteration 2\n",
      "Warning: Permanently added '192.168.88.17' (ED25519) to the list of known hosts.\n",
      "Warning: Permanently added '192.168.88.17' (ED25519) to the list of known hosts.\n",
      "Start CPU and RAM usage scripts\n"
     ]
    },
    {
     "name": "stderr",
     "output_type": "stream",
     "text": [
      "Warning: Permanently added '192.168.88.17' (ED25519) to the list of known hosts.\n",
      "Warning: Permanently added '192.168.88.17' (ED25519) to the list of known hosts.\n"
     ]
    },
    {
     "name": "stdout",
     "output_type": "stream",
     "text": [
      "Sleep 5s\n",
      "Iteration 3\n",
      "Warning: Permanently added '192.168.88.17' (ED25519) to the list of known hosts.\n",
      "Warning: Permanently added '192.168.88.17' (ED25519) to the list of known hosts.\n",
      "Start CPU and RAM usage scripts\n"
     ]
    },
    {
     "name": "stderr",
     "output_type": "stream",
     "text": [
      "Warning: Permanently added '192.168.88.17' (ED25519) to the list of known hosts.\n",
      "Warning: Permanently added '192.168.88.17' (ED25519) to the list of known hosts.\n"
     ]
    },
    {
     "name": "stdout",
     "output_type": "stream",
     "text": [
      "Sleep 5s\n",
      "Iteration 4\n",
      "Warning: Permanently added '192.168.88.17' (ED25519) to the list of known hosts.\n",
      "Warning: Permanently added '192.168.88.17' (ED25519) to the list of known hosts.\n",
      "Start CPU and RAM usage scripts\n"
     ]
    },
    {
     "name": "stderr",
     "output_type": "stream",
     "text": [
      "Warning: Permanently added '192.168.88.17' (ED25519) to the list of known hosts.\n",
      "Warning: Permanently added '192.168.88.17' (ED25519) to the list of known hosts.\n"
     ]
    },
    {
     "name": "stdout",
     "output_type": "stream",
     "text": [
      "Sleep 5s\n",
      "Iteration 5\n",
      "Warning: Permanently added '192.168.88.17' (ED25519) to the list of known hosts.\n",
      "Warning: Permanently added '192.168.88.17' (ED25519) to the list of known hosts.\n",
      "Start CPU and RAM usage scripts\n"
     ]
    },
    {
     "name": "stderr",
     "output_type": "stream",
     "text": [
      "Warning: Permanently added '192.168.88.17' (ED25519) to the list of known hosts.\n",
      "Warning: Permanently added '192.168.88.17' (ED25519) to the list of known hosts.\n"
     ]
    },
    {
     "name": "stdout",
     "output_type": "stream",
     "text": [
      "Sleep 5s\n",
      "Iteration 6\n",
      "Warning: Permanently added '192.168.88.17' (ED25519) to the list of known hosts.\n",
      "Warning: Permanently added '192.168.88.17' (ED25519) to the list of known hosts.\n",
      "Start CPU and RAM usage scripts\n"
     ]
    },
    {
     "name": "stderr",
     "output_type": "stream",
     "text": [
      "Warning: Permanently added '192.168.88.17' (ED25519) to the list of known hosts.\n",
      "Warning: Permanently added '192.168.88.17' (ED25519) to the list of known hosts.\n"
     ]
    },
    {
     "name": "stdout",
     "output_type": "stream",
     "text": [
      "Sleep 5s\n",
      "Iteration 7\n",
      "Warning: Permanently added '192.168.88.17' (ED25519) to the list of known hosts.\n",
      "Warning: Permanently added '192.168.88.17' (ED25519) to the list of known hosts.\n",
      "Start CPU and RAM usage scripts\n"
     ]
    },
    {
     "name": "stderr",
     "output_type": "stream",
     "text": [
      "Warning: Permanently added '192.168.88.17' (ED25519) to the list of known hosts.\n",
      "Warning: Permanently added '192.168.88.17' (ED25519) to the list of known hosts.\n"
     ]
    },
    {
     "name": "stdout",
     "output_type": "stream",
     "text": [
      "Sleep 5s\n",
      "Iteration 8\n",
      "Warning: Permanently added '192.168.88.17' (ED25519) to the list of known hosts.\n",
      "Warning: Permanently added '192.168.88.17' (ED25519) to the list of known hosts.\n",
      "Start CPU and RAM usage scripts\n"
     ]
    },
    {
     "name": "stderr",
     "output_type": "stream",
     "text": [
      "Warning: Permanently added '192.168.88.17' (ED25519) to the list of known hosts.\n",
      "Warning: Permanently added '192.168.88.17' (ED25519) to the list of known hosts.\n"
     ]
    },
    {
     "name": "stdout",
     "output_type": "stream",
     "text": [
      "Sleep 5s\n",
      "Iteration 9\n",
      "Warning: Permanently added '192.168.88.17' (ED25519) to the list of known hosts.\n",
      "Warning: Permanently added '192.168.88.17' (ED25519) to the list of known hosts.\n",
      "Start CPU and RAM usage scripts\n"
     ]
    },
    {
     "name": "stderr",
     "output_type": "stream",
     "text": [
      "Warning: Permanently added '192.168.88.17' (ED25519) to the list of known hosts.\n",
      "Warning: Permanently added '192.168.88.17' (ED25519) to the list of known hosts.\n"
     ]
    },
    {
     "name": "stdout",
     "output_type": "stream",
     "text": [
      "Sleep 5s\n",
      "Retrieve usage results and remove remote workspace\n",
      "Warning: Permanently added '192.168.88.17' (ED25519) to the list of known hosts.\n",
      "results_cpu_usage_pptc@192.168.88.17_server_8 100% 9642     1.7MB/s   00:00    \n",
      "Warning: Permanently added '192.168.88.17' (ED25519) to the list of known hosts.\n",
      "results_ram_usage_pptc@192.168.88.17_server_8 100%   11KB   1.9MB/s   00:00    \n",
      "Warning: Permanently added '192.168.88.17' (ED25519) to the list of known hosts.\n",
      "Prepare next config:\n",
      "\tSSH info: pptc@192.168.88.17\n",
      "\tDev_state: server 9\n",
      "\t\n",
      "\n",
      "Value : \n",
      "Run benchmark...\n",
      "Warning: Permanently added '192.168.88.17' (ED25519) to the list of known hosts.\n",
      "Warning: Permanently added '192.168.88.17' (ED25519) to the list of known hosts.\n",
      "cpu_usage_script.sh                           100% 1189   567.5KB/s   00:00    \n",
      "ram_usage_script.sh                           100% 1253   770.5KB/s   00:00    \n",
      "Warning: Permanently added '192.168.88.17' (ED25519) to the list of known hosts.\n",
      "Warning: Permanently added '192.168.88.17' (ED25519) to the list of known hosts.\n",
      "Warning: Permanently added '192.168.88.17' (ED25519) to the list of known hosts.\n",
      "Iteration 0\n",
      "Warning: Permanently added '192.168.88.17' (ED25519) to the list of known hosts.\n",
      "Warning: Permanently added '192.168.88.17' (ED25519) to the list of known hosts.\n",
      "Start CPU and RAM usage scripts\n"
     ]
    },
    {
     "name": "stderr",
     "output_type": "stream",
     "text": [
      "Warning: Permanently added '192.168.88.17' (ED25519) to the list of known hosts.\n",
      "Warning: Permanently added '192.168.88.17' (ED25519) to the list of known hosts.\n"
     ]
    },
    {
     "name": "stdout",
     "output_type": "stream",
     "text": [
      "Sleep 5s\n",
      "Iteration 1\n",
      "Warning: Permanently added '192.168.88.17' (ED25519) to the list of known hosts.\n",
      "Warning: Permanently added '192.168.88.17' (ED25519) to the list of known hosts.\n",
      "Start CPU and RAM usage scripts\n"
     ]
    },
    {
     "name": "stderr",
     "output_type": "stream",
     "text": [
      "Warning: Permanently added '192.168.88.17' (ED25519) to the list of known hosts.\n",
      "Warning: Permanently added '192.168.88.17' (ED25519) to the list of known hosts.\n"
     ]
    },
    {
     "name": "stdout",
     "output_type": "stream",
     "text": [
      "Sleep 5s\n",
      "Iteration 2\n",
      "Warning: Permanently added '192.168.88.17' (ED25519) to the list of known hosts.\n",
      "Warning: Permanently added '192.168.88.17' (ED25519) to the list of known hosts.\n",
      "Start CPU and RAM usage scripts\n"
     ]
    },
    {
     "name": "stderr",
     "output_type": "stream",
     "text": [
      "Warning: Permanently added '192.168.88.17' (ED25519) to the list of known hosts.\n",
      "Warning: Permanently added '192.168.88.17' (ED25519) to the list of known hosts.\n"
     ]
    },
    {
     "name": "stdout",
     "output_type": "stream",
     "text": [
      "Sleep 5s\n",
      "Iteration 3\n",
      "Warning: Permanently added '192.168.88.17' (ED25519) to the list of known hosts.\n",
      "Warning: Permanently added '192.168.88.17' (ED25519) to the list of known hosts.\n",
      "Start CPU and RAM usage scripts\n"
     ]
    },
    {
     "name": "stderr",
     "output_type": "stream",
     "text": [
      "Warning: Permanently added '192.168.88.17' (ED25519) to the list of known hosts.\n",
      "Warning: Permanently added '192.168.88.17' (ED25519) to the list of known hosts.\n"
     ]
    },
    {
     "name": "stdout",
     "output_type": "stream",
     "text": [
      "Sleep 5s\n",
      "Iteration 4\n",
      "Warning: Permanently added '192.168.88.17' (ED25519) to the list of known hosts.\n",
      "Warning: Permanently added '192.168.88.17' (ED25519) to the list of known hosts.\n",
      "Start CPU and RAM usage scripts\n"
     ]
    },
    {
     "name": "stderr",
     "output_type": "stream",
     "text": [
      "Warning: Permanently added '192.168.88.17' (ED25519) to the list of known hosts.\n",
      "Warning: Permanently added '192.168.88.17' (ED25519) to the list of known hosts.\n"
     ]
    },
    {
     "name": "stdout",
     "output_type": "stream",
     "text": [
      "Sleep 5s\n",
      "Iteration 5\n",
      "Warning: Permanently added '192.168.88.17' (ED25519) to the list of known hosts.\n",
      "Warning: Permanently added '192.168.88.17' (ED25519) to the list of known hosts.\n",
      "Start CPU and RAM usage scripts\n"
     ]
    },
    {
     "name": "stderr",
     "output_type": "stream",
     "text": [
      "Warning: Permanently added '192.168.88.17' (ED25519) to the list of known hosts.\n",
      "Warning: Permanently added '192.168.88.17' (ED25519) to the list of known hosts.\n"
     ]
    },
    {
     "name": "stdout",
     "output_type": "stream",
     "text": [
      "Sleep 5s\n",
      "Iteration 6\n",
      "Warning: Permanently added '192.168.88.17' (ED25519) to the list of known hosts.\n",
      "Warning: Permanently added '192.168.88.17' (ED25519) to the list of known hosts.\n",
      "Start CPU and RAM usage scripts\n"
     ]
    },
    {
     "name": "stderr",
     "output_type": "stream",
     "text": [
      "Warning: Permanently added '192.168.88.17' (ED25519) to the list of known hosts.\n",
      "Warning: Permanently added '192.168.88.17' (ED25519) to the list of known hosts.\n"
     ]
    },
    {
     "name": "stdout",
     "output_type": "stream",
     "text": [
      "Sleep 5s\n",
      "Iteration 7\n",
      "Warning: Permanently added '192.168.88.17' (ED25519) to the list of known hosts.\n",
      "Warning: Permanently added '192.168.88.17' (ED25519) to the list of known hosts.\n",
      "Start CPU and RAM usage scripts\n"
     ]
    },
    {
     "name": "stderr",
     "output_type": "stream",
     "text": [
      "Warning: Permanently added '192.168.88.17' (ED25519) to the list of known hosts.\n",
      "Warning: Permanently added '192.168.88.17' (ED25519) to the list of known hosts.\n"
     ]
    },
    {
     "name": "stdout",
     "output_type": "stream",
     "text": [
      "Sleep 5s\n",
      "Iteration 8\n",
      "Warning: Permanently added '192.168.88.17' (ED25519) to the list of known hosts.\n",
      "Warning: Permanently added '192.168.88.17' (ED25519) to the list of known hosts.\n",
      "Start CPU and RAM usage scripts\n"
     ]
    },
    {
     "name": "stderr",
     "output_type": "stream",
     "text": [
      "Warning: Permanently added '192.168.88.17' (ED25519) to the list of known hosts.\n",
      "Warning: Permanently added '192.168.88.17' (ED25519) to the list of known hosts.\n"
     ]
    },
    {
     "name": "stdout",
     "output_type": "stream",
     "text": [
      "Sleep 5s\n",
      "Iteration 9\n",
      "Warning: Permanently added '192.168.88.17' (ED25519) to the list of known hosts.\n",
      "Warning: Permanently added '192.168.88.17' (ED25519) to the list of known hosts.\n",
      "Start CPU and RAM usage scripts\n"
     ]
    },
    {
     "name": "stderr",
     "output_type": "stream",
     "text": [
      "Warning: Permanently added '192.168.88.17' (ED25519) to the list of known hosts.\n",
      "Warning: Permanently added '192.168.88.17' (ED25519) to the list of known hosts.\n"
     ]
    },
    {
     "name": "stdout",
     "output_type": "stream",
     "text": [
      "Sleep 5s\n",
      "Retrieve usage results and remove remote workspace\n",
      "Warning: Permanently added '192.168.88.17' (ED25519) to the list of known hosts.\n",
      "results_cpu_usage_pptc@192.168.88.17_server_9 100% 9642     2.2MB/s   00:00    \n",
      "Warning: Permanently added '192.168.88.17' (ED25519) to the list of known hosts.\n",
      "results_ram_usage_pptc@192.168.88.17_server_9 100%   11KB   2.4MB/s   00:00    \n",
      "Warning: Permanently added '192.168.88.17' (ED25519) to the list of known hosts.\n"
     ]
    }
   ],
   "source": [
    "# Experiment path\n",
    "exp_folder_name = experiment_name.replace(' ', '_') + \"_\" + timestamp.strftime(\"%Y%m%dT%H%M%S\")\n",
    "# exp_folder_name = experiment_name.replace(' ', '_') + \"_20240814T191553\"\n",
    "curr_exp_dir = global_res_dir + \"/\" + exp_folder_name\n",
    "curr_exp_raw_dir = curr_exp_dir + \"/raw_results\"\n",
    "curr_exp_res_dir = curr_exp_dir + \"/results\"\n",
    "\n",
    "# Create results dir\n",
    "path = Path(curr_exp_dir)\n",
    "path.mkdir(parents=True, exist_ok=True)\n",
    "path = Path(curr_exp_raw_dir)\n",
    "path.mkdir(parents=True, exist_ok=True)\n",
    "path = Path(curr_exp_res_dir)\n",
    "path.mkdir(parents=True, exist_ok=True)\n",
    "\n",
    "# Remote path\n",
    "remote_exp_results_dir = \"~/\" + exp_folder_name + \"/results\"\n",
    "remote_exp_cpu_usage_dir = remote_exp_results_dir + \"/cpu_usage\"\n",
    "remote_exp_ram_usage_dir = remote_exp_results_dir + \"/ram_usage\"\n",
    "remote_exp_scripts_dir = \"~/\" + exp_folder_name + \"/scripts\"\n",
    "\n",
    "print(df.shape[0])\n",
    "\n",
    "# Perform experiement\n",
    "for i in range(df.shape[0]):\n",
    "    ssh_info = df.loc[i, \"SSH info\"]\n",
    "    dev_state = df.loc[i, \"Device state\"]\n",
    "\n",
    "    print(f\"Prepare next config:\\n\\tSSH info: {ssh_info}\\n\\tDev_state: {dev_state}\\n\\t\\n\")\n",
    "    time.sleep(2)\n",
    "    v = input(\"Press ENTER to run the benchmark\")\n",
    "    print(f\"Value : {v}\")\n",
    "    if v == \"s\": # stop\n",
    "        break\n",
    "    print(\"Run benchmark...\")\n",
    "\n",
    "    # Copy scripts on remote device\n",
    "    !{ssh_with_args} {ssh_info} \"mkdir -p ~/{exp_folder_name}\"\n",
    "    !{scp_with_args} -r scripts/ {ssh_info}:~/{exp_folder_name}\n",
    "\n",
    "    # Create remote workspace\n",
    "    !{ssh_with_args} {ssh_info} \"mkdir -p {remote_exp_cpu_usage_dir}; mkdir -p {remote_exp_ram_usage_dir}\"    \n",
    "\n",
    "    # Remote paths\n",
    "    cpu_usage_remote_file = remote_exp_cpu_usage_dir + \"/results_cpu_usage_\" + ssh_info + \"_\" + dev_state.replace(' ', '_') + \".txt\"\n",
    "    ram_usage_remote_file = remote_exp_ram_usage_dir + \"/results_ram_usage_\" + ssh_info + \"_\" + dev_state.replace(' ', '_') + \".txt\"\n",
    "\n",
    "    # Remote for cpu and ram usage\n",
    "    !{ssh_with_args} {ssh_info} \"echo -e \\\"# SSH_INFO={ssh_info}\\n# ITERATIONS={iteration}\\n# DEVICE_STATE={dev_state}\\n# COUNT={count_for_usage_script}\\n\\\" > {cpu_usage_remote_file}\"\n",
    "    !{ssh_with_args} {ssh_info} \"echo -e \\\"# SSH_INFO={ssh_info}\\n# ITERATIONS={iteration}\\n# DEVICE_STATE={dev_state}\\n# COUNT={count_for_usage_script}\\n\\\" > {ram_usage_remote_file}\"\n",
    "\n",
    "    for i in range(iterations):\n",
    "        print(f'Iteration {i}')\n",
    "        !{ssh_with_args} {ssh_info} \"echo -e \\\"\\n# ITERATION {i}\\n\\\" >> {cpu_usage_remote_file}\"\n",
    "        !{ssh_with_args} {ssh_info} \"echo -e \\\"\\n# ITERATION {i}\\n\\\" >> {ram_usage_remote_file}\"\n",
    "\n",
    "        print(\"Start CPU and RAM usage scripts\")\n",
    "\n",
    "        cpu_usage_process = subprocess.Popen(f'{ssh_with_args} {ssh_info} \"{remote_exp_scripts_dir}/cpu_usage_script.sh {count_for_usage_script} {cpu_usage_remote_file} 0\"', shell=True)\n",
    "        ram_usage_process = subprocess.Popen(f'{ssh_with_args} {ssh_info} \"{remote_exp_scripts_dir}/ram_usage_script.sh {count_for_usage_script} {ram_usage_remote_file} 0\"', shell=True)\n",
    "        time.sleep(count_for_usage_script)\n",
    "\n",
    "        print(\"Sleep 5s\")\n",
    "        time.sleep(5) # To have more usage measures\n",
    "\n",
    "    print(\"Retrieve usage results and remove remote workspace\")\n",
    "    !{scp_with_args} -r {ssh_info}:{remote_exp_cpu_usage_dir} {curr_exp_raw_dir}\n",
    "    !{scp_with_args} -r {ssh_info}:{remote_exp_ram_usage_dir} {curr_exp_raw_dir}\n",
    "\n",
    "    !# Remove remote workspace\n",
    "    !{ssh_with_args} {ssh_info} \"rm -rf ~/{exp_folder_name}\"\n",
    "    \n"
   ]
  },
  {
   "cell_type": "markdown",
   "metadata": {},
   "source": [
    "### Process results"
   ]
  },
  {
   "cell_type": "code",
   "execution_count": 41,
   "metadata": {},
   "outputs": [],
   "source": [
    "\n",
    "def process_cpu_usage_to_dataframe(raw_results_path):\n",
    "    df = pd.DataFrame()\n",
    "    device_role=\"\"\n",
    "    number_of_nodes=0\n",
    "\n",
    "    timestamp_values = []\n",
    "    user_values = []\n",
    "    nice_values = []\n",
    "    system_values = []\n",
    "    idle_values = []\n",
    "    iowait_values = []\n",
    "    irq_values = []\n",
    "    softirq_values = []\n",
    "    iteration_values = []\n",
    "    \n",
    "    iteration_v = -1\n",
    "    n_values_per_iter = 0\n",
    "\n",
    "    with open(raw_results_path, \"r\") as raw:\n",
    "        for line in raw:\n",
    "            if line.startswith(\"# DEVICE_STATE=\"):\n",
    "                device_role = line.split('=')[1].strip()\n",
    "                if device_role.startswith(\"server\"):\n",
    "                    number_of_nodes = int(device_role.split(' ')[1].strip())\n",
    "                    device_role = device_role.split(' ')[0].strip()\n",
    "            elif line.startswith(\"# ITERATION \"):\n",
    "                if iteration_v != -1:\n",
    "                    iteration_values += [iteration_v] * n_values_per_iter\n",
    "                iteration_v = int(line.split(' ')[2].strip())\n",
    "                n_values_per_iter = 0\n",
    "            elif not line.startswith(\"#\") and line.strip(): # Also check not empty\n",
    "                timestamp_v, user_v, nice_v, system_v, idle_v, iowait_v, irq_v, softirq_v = line.split(',')\n",
    "                timestamp_values.append(int(timestamp_v.strip()))\n",
    "                user_values.append(float(user_v.strip()))\n",
    "                nice_values.append(float(nice_v.strip()))\n",
    "                system_values.append(float(system_v.strip()))\n",
    "                idle_values.append(float(idle_v.strip()))\n",
    "                iowait_values.append(float(iowait_v.strip()))\n",
    "                irq_values.append(float(irq_v.strip()))\n",
    "                softirq_values.append(float(softirq_v.strip()))\n",
    "                n_values_per_iter += 1\n",
    "        iteration_values += [iteration_v] * n_values_per_iter # Last at end of file\n",
    "\n",
    "    df[\"Iteration\"] = iteration_values\n",
    "    df[\"Timestamp\"] = timestamp_values\n",
    "    df[\"User\"] = user_values\n",
    "    df[\"Nice\"] = nice_values\n",
    "    df[\"System\"] = system_values\n",
    "    df[\"Idle\"] = idle_values\n",
    "    df[\"IOwait\"] = iowait_values\n",
    "    df[\"IRQ\"] = irq_values\n",
    "    df[\"SoftIRQ\"] = softirq_values\n",
    "    df[\"Device Role\"] = [device_role] * df.shape[0]\n",
    "    df[\"Number of nodes\"] = [number_of_nodes] * df.shape[0]\n",
    "\n",
    "\n",
    "    # Compute CPU usage and Timestamp from 0\n",
    "    df['Total'] = df[[\"User\", \"Nice\", \"System\", \"Idle\", \"IOwait\", \"IRQ\", \"SoftIRQ\"]].sum(axis=1)\n",
    "    \n",
    "    groups = []\n",
    "\n",
    "    for _, group in df.groupby([\"Iteration\"]):\n",
    "        group[\"Indexes\"] = group.index\n",
    "        group = group.reset_index()\n",
    "\n",
    "        group['Last Idle'] = group['Idle'].shift(1).fillna(0)\n",
    "        group['Last Total'] = group['Total'].shift(1).fillna(0)\n",
    "        group['Idle Delta'] = group['Idle'] - group['Last Idle']\n",
    "        group['Total Delta'] = group['Total'] - group['Last Total']\n",
    "        group['Usage'] = 100.0 * (1.0 - (group['Idle Delta'] / group['Total Delta']))\n",
    "\n",
    "        group = group.set_index(\"Indexes\")\n",
    "\n",
    "        groups.append(group)\n",
    "\n",
    "    df_usage = pd.concat(groups)\n",
    "    df[\"Usage\"] = df_usage[\"Usage\"]\n",
    "\n",
    "\n",
    "    return df.drop([\"Total\"], axis=\"columns\")\n",
    "\n",
    "\n",
    "def process_ram_usage_to_dataframe(raw_results_path):\n",
    "    df = pd.DataFrame()\n",
    "    device_role=\"\"\n",
    "    number_of_nodes=0\n",
    "\n",
    "    timestamp_values = []\n",
    "    memtotal_values = []\n",
    "    memfree_values = []\n",
    "    memavailable_values = []\n",
    "    cache_values = []\n",
    "    buffer_values = []\n",
    "    swaptotal_values = []\n",
    "    swapfree_values = []\n",
    "    swapcached_values = []\n",
    "    iteration_values = []\n",
    "    \n",
    "    iteration_v = -1\n",
    "    n_values_per_iter = 0\n",
    "\n",
    "    with open(raw_results_path, \"r\") as raw:\n",
    "        for line in raw:\n",
    "            if line.startswith(\"# DEVICE_STATE=\"):\n",
    "                device_role = line.split('=')[1].strip()\n",
    "                if device_role.startswith(\"server\"):\n",
    "                    number_of_nodes = int(device_role.split(' ')[1].strip())\n",
    "                    device_role = device_role.split(' ')[0].strip()\n",
    "            elif line.startswith(\"# ITERATION \"):\n",
    "                if iteration_v != -1:\n",
    "                    iteration_values += [iteration_v] * n_values_per_iter\n",
    "                iteration_v = int(line.split(' ')[2].strip())\n",
    "                n_values_per_iter = 0\n",
    "            elif not line.startswith(\"#\") and line.strip(): # Also check not empty\n",
    "                timestamp_v, memtotal_v, memfree_v, memavailable_v, cache_v, buffer_v, swaptotal_v, swapfree_v, swapcached_v = line.split(',')\n",
    "                timestamp_values.append(int(timestamp_v.strip()))\n",
    "                memtotal_values.append(float(memtotal_v.strip()))\n",
    "                memfree_values.append(float(memfree_v.strip()))\n",
    "                memavailable_values.append(float(memavailable_v.strip()))\n",
    "                cache_values.append(float(cache_v.strip()))\n",
    "                buffer_values.append(float(buffer_v.strip()))\n",
    "                swaptotal_values.append(float(swaptotal_v.strip()))\n",
    "                swapfree_values.append(float(swapfree_v.strip()))\n",
    "                swapcached_values.append(float(swapcached_v.strip()))\n",
    "                n_values_per_iter += 1\n",
    "        iteration_values += [iteration_v] * n_values_per_iter # Last at end of file\n",
    "\n",
    "    df[\"Iteration\"] = iteration_values\n",
    "    df[\"Timestamp\"] = timestamp_values\n",
    "    df[\"Total Memory\"] = memtotal_values\n",
    "    df[\"Free Memory\"] = memfree_values\n",
    "    df[\"Available Memory\"] = memavailable_values\n",
    "    df[\"Cache\"] = cache_values\n",
    "    df[\"Buffer\"] = buffer_values\n",
    "    df[\"Total Swap\"] = swaptotal_values\n",
    "    df[\"Free Swap\"] = swapfree_values\n",
    "    df[\"Cached Swap\"] = swapcached_values\n",
    "    df[\"Device Role\"] = [device_role] * df.shape[0]\n",
    "    df[\"Number of nodes\"] = [number_of_nodes] * df.shape[0]\n",
    "\n",
    "\n",
    "    # Compute RAM usage and Timestamp from 0\n",
    "    groups = []\n",
    "\n",
    "    for _, group in df.groupby([\"Iteration\"]):\n",
    "        group[\"Indexes\"] = group.index\n",
    "        group = group.reset_index()\n",
    "        group[\"Usage\"] = (1 - (group[\"Free Memory\"]/group[\"Total Memory\"])) * 100.0\n",
    "\n",
    "        group = group.set_index(\"Indexes\")\n",
    "\n",
    "        groups.append(group)\n",
    "\n",
    "    df_usage = pd.concat(groups)\n",
    "    df[\"Usage\"] = df_usage[\"Usage\"]\n",
    "\n",
    "    return df"
   ]
  },
  {
   "cell_type": "code",
   "execution_count": 44,
   "metadata": {},
   "outputs": [
    {
     "data": {
      "text/html": [
       "<div>\n",
       "<style scoped>\n",
       "    .dataframe tbody tr th:only-of-type {\n",
       "        vertical-align: middle;\n",
       "    }\n",
       "\n",
       "    .dataframe tbody tr th {\n",
       "        vertical-align: top;\n",
       "    }\n",
       "\n",
       "    .dataframe thead th {\n",
       "        text-align: right;\n",
       "    }\n",
       "</style>\n",
       "<table border=\"1\" class=\"dataframe\">\n",
       "  <thead>\n",
       "    <tr style=\"text-align: right;\">\n",
       "      <th></th>\n",
       "      <th>Iteration</th>\n",
       "      <th>Timestamp</th>\n",
       "      <th>User</th>\n",
       "      <th>Nice</th>\n",
       "      <th>System</th>\n",
       "      <th>Idle</th>\n",
       "      <th>IOwait</th>\n",
       "      <th>IRQ</th>\n",
       "      <th>SoftIRQ</th>\n",
       "      <th>Device Role</th>\n",
       "      <th>Number of nodes</th>\n",
       "      <th>Usage</th>\n",
       "    </tr>\n",
       "  </thead>\n",
       "  <tbody>\n",
       "    <tr>\n",
       "      <th>0</th>\n",
       "      <td>0</td>\n",
       "      <td>1723661041</td>\n",
       "      <td>220369.0</td>\n",
       "      <td>0.0</td>\n",
       "      <td>154651.0</td>\n",
       "      <td>1170167.0</td>\n",
       "      <td>954.0</td>\n",
       "      <td>0.0</td>\n",
       "      <td>2539.0</td>\n",
       "      <td>server</td>\n",
       "      <td>4</td>\n",
       "      <td>24.441008</td>\n",
       "    </tr>\n",
       "    <tr>\n",
       "      <th>1</th>\n",
       "      <td>0</td>\n",
       "      <td>1723661042</td>\n",
       "      <td>220410.0</td>\n",
       "      <td>0.0</td>\n",
       "      <td>154697.0</td>\n",
       "      <td>1170451.0</td>\n",
       "      <td>954.0</td>\n",
       "      <td>0.0</td>\n",
       "      <td>2539.0</td>\n",
       "      <td>server</td>\n",
       "      <td>4</td>\n",
       "      <td>23.450135</td>\n",
       "    </tr>\n",
       "    <tr>\n",
       "      <th>2</th>\n",
       "      <td>0</td>\n",
       "      <td>1723661043</td>\n",
       "      <td>220446.0</td>\n",
       "      <td>0.0</td>\n",
       "      <td>154752.0</td>\n",
       "      <td>1170739.0</td>\n",
       "      <td>954.0</td>\n",
       "      <td>0.0</td>\n",
       "      <td>2540.0</td>\n",
       "      <td>server</td>\n",
       "      <td>4</td>\n",
       "      <td>24.210526</td>\n",
       "    </tr>\n",
       "    <tr>\n",
       "      <th>3</th>\n",
       "      <td>0</td>\n",
       "      <td>1723661044</td>\n",
       "      <td>220511.0</td>\n",
       "      <td>0.0</td>\n",
       "      <td>154812.0</td>\n",
       "      <td>1170992.0</td>\n",
       "      <td>954.0</td>\n",
       "      <td>0.0</td>\n",
       "      <td>2540.0</td>\n",
       "      <td>server</td>\n",
       "      <td>4</td>\n",
       "      <td>33.068783</td>\n",
       "    </tr>\n",
       "    <tr>\n",
       "      <th>4</th>\n",
       "      <td>0</td>\n",
       "      <td>1723661045</td>\n",
       "      <td>220557.0</td>\n",
       "      <td>0.0</td>\n",
       "      <td>154865.0</td>\n",
       "      <td>1171257.0</td>\n",
       "      <td>954.0</td>\n",
       "      <td>0.0</td>\n",
       "      <td>2541.0</td>\n",
       "      <td>server</td>\n",
       "      <td>4</td>\n",
       "      <td>27.397260</td>\n",
       "    </tr>\n",
       "    <tr>\n",
       "      <th>...</th>\n",
       "      <td>...</td>\n",
       "      <td>...</td>\n",
       "      <td>...</td>\n",
       "      <td>...</td>\n",
       "      <td>...</td>\n",
       "      <td>...</td>\n",
       "      <td>...</td>\n",
       "      <td>...</td>\n",
       "      <td>...</td>\n",
       "      <td>...</td>\n",
       "      <td>...</td>\n",
       "      <td>...</td>\n",
       "    </tr>\n",
       "    <tr>\n",
       "      <th>2395</th>\n",
       "      <td>9</td>\n",
       "      <td>1723660068</td>\n",
       "      <td>168063.0</td>\n",
       "      <td>0.0</td>\n",
       "      <td>114965.0</td>\n",
       "      <td>917416.0</td>\n",
       "      <td>850.0</td>\n",
       "      <td>0.0</td>\n",
       "      <td>2013.0</td>\n",
       "      <td>server</td>\n",
       "      <td>3</td>\n",
       "      <td>25.753425</td>\n",
       "    </tr>\n",
       "    <tr>\n",
       "      <th>2396</th>\n",
       "      <td>9</td>\n",
       "      <td>1723660069</td>\n",
       "      <td>168152.0</td>\n",
       "      <td>0.0</td>\n",
       "      <td>115014.0</td>\n",
       "      <td>917656.0</td>\n",
       "      <td>850.0</td>\n",
       "      <td>0.0</td>\n",
       "      <td>2014.0</td>\n",
       "      <td>server</td>\n",
       "      <td>3</td>\n",
       "      <td>36.675462</td>\n",
       "    </tr>\n",
       "    <tr>\n",
       "      <th>2397</th>\n",
       "      <td>9</td>\n",
       "      <td>1723660070</td>\n",
       "      <td>168183.0</td>\n",
       "      <td>0.0</td>\n",
       "      <td>115061.0</td>\n",
       "      <td>917951.0</td>\n",
       "      <td>850.0</td>\n",
       "      <td>0.0</td>\n",
       "      <td>2014.0</td>\n",
       "      <td>server</td>\n",
       "      <td>3</td>\n",
       "      <td>20.911528</td>\n",
       "    </tr>\n",
       "    <tr>\n",
       "      <th>2398</th>\n",
       "      <td>9</td>\n",
       "      <td>1723660071</td>\n",
       "      <td>168223.0</td>\n",
       "      <td>0.0</td>\n",
       "      <td>115102.0</td>\n",
       "      <td>918229.0</td>\n",
       "      <td>850.0</td>\n",
       "      <td>0.0</td>\n",
       "      <td>2014.0</td>\n",
       "      <td>server</td>\n",
       "      <td>3</td>\n",
       "      <td>22.562674</td>\n",
       "    </tr>\n",
       "    <tr>\n",
       "      <th>2399</th>\n",
       "      <td>9</td>\n",
       "      <td>1723660072</td>\n",
       "      <td>168255.0</td>\n",
       "      <td>0.0</td>\n",
       "      <td>115158.0</td>\n",
       "      <td>918504.0</td>\n",
       "      <td>850.0</td>\n",
       "      <td>0.0</td>\n",
       "      <td>2014.0</td>\n",
       "      <td>server</td>\n",
       "      <td>3</td>\n",
       "      <td>24.242424</td>\n",
       "    </tr>\n",
       "  </tbody>\n",
       "</table>\n",
       "<p>2400 rows × 12 columns</p>\n",
       "</div>"
      ],
      "text/plain": [
       "      Iteration   Timestamp      User  Nice    System       Idle  IOwait  IRQ  \\\n",
       "0             0  1723661041  220369.0   0.0  154651.0  1170167.0   954.0  0.0   \n",
       "1             0  1723661042  220410.0   0.0  154697.0  1170451.0   954.0  0.0   \n",
       "2             0  1723661043  220446.0   0.0  154752.0  1170739.0   954.0  0.0   \n",
       "3             0  1723661044  220511.0   0.0  154812.0  1170992.0   954.0  0.0   \n",
       "4             0  1723661045  220557.0   0.0  154865.0  1171257.0   954.0  0.0   \n",
       "...         ...         ...       ...   ...       ...        ...     ...  ...   \n",
       "2395          9  1723660068  168063.0   0.0  114965.0   917416.0   850.0  0.0   \n",
       "2396          9  1723660069  168152.0   0.0  115014.0   917656.0   850.0  0.0   \n",
       "2397          9  1723660070  168183.0   0.0  115061.0   917951.0   850.0  0.0   \n",
       "2398          9  1723660071  168223.0   0.0  115102.0   918229.0   850.0  0.0   \n",
       "2399          9  1723660072  168255.0   0.0  115158.0   918504.0   850.0  0.0   \n",
       "\n",
       "      SoftIRQ Device Role  Number of nodes      Usage  \n",
       "0      2539.0      server                4  24.441008  \n",
       "1      2539.0      server                4  23.450135  \n",
       "2      2540.0      server                4  24.210526  \n",
       "3      2540.0      server                4  33.068783  \n",
       "4      2541.0      server                4  27.397260  \n",
       "...       ...         ...              ...        ...  \n",
       "2395   2013.0      server                3  25.753425  \n",
       "2396   2014.0      server                3  36.675462  \n",
       "2397   2014.0      server                3  20.911528  \n",
       "2398   2014.0      server                3  22.562674  \n",
       "2399   2014.0      server                3  24.242424  \n",
       "\n",
       "[2400 rows x 12 columns]"
      ]
     },
     "metadata": {},
     "output_type": "display_data"
    },
    {
     "data": {
      "text/html": [
       "<div>\n",
       "<style scoped>\n",
       "    .dataframe tbody tr th:only-of-type {\n",
       "        vertical-align: middle;\n",
       "    }\n",
       "\n",
       "    .dataframe tbody tr th {\n",
       "        vertical-align: top;\n",
       "    }\n",
       "\n",
       "    .dataframe thead th {\n",
       "        text-align: right;\n",
       "    }\n",
       "</style>\n",
       "<table border=\"1\" class=\"dataframe\">\n",
       "  <thead>\n",
       "    <tr style=\"text-align: right;\">\n",
       "      <th></th>\n",
       "      <th>Iteration</th>\n",
       "      <th>Timestamp</th>\n",
       "      <th>Total Memory</th>\n",
       "      <th>Free Memory</th>\n",
       "      <th>Available Memory</th>\n",
       "      <th>Cache</th>\n",
       "      <th>Buffer</th>\n",
       "      <th>Total Swap</th>\n",
       "      <th>Free Swap</th>\n",
       "      <th>Cached Swap</th>\n",
       "      <th>Device Role</th>\n",
       "      <th>Number of nodes</th>\n",
       "      <th>Usage</th>\n",
       "    </tr>\n",
       "  </thead>\n",
       "  <tbody>\n",
       "    <tr>\n",
       "      <th>0</th>\n",
       "      <td>0</td>\n",
       "      <td>1723663312</td>\n",
       "      <td>1928028.0</td>\n",
       "      <td>236232.0</td>\n",
       "      <td>1162140.0</td>\n",
       "      <td>18040.0</td>\n",
       "      <td>901996.0</td>\n",
       "      <td>0.0</td>\n",
       "      <td>0.0</td>\n",
       "      <td>0.0</td>\n",
       "      <td>server</td>\n",
       "      <td>9</td>\n",
       "      <td>87.747481</td>\n",
       "    </tr>\n",
       "    <tr>\n",
       "      <th>1</th>\n",
       "      <td>0</td>\n",
       "      <td>1723663313</td>\n",
       "      <td>1928028.0</td>\n",
       "      <td>236244.0</td>\n",
       "      <td>1162152.0</td>\n",
       "      <td>18040.0</td>\n",
       "      <td>901996.0</td>\n",
       "      <td>0.0</td>\n",
       "      <td>0.0</td>\n",
       "      <td>0.0</td>\n",
       "      <td>server</td>\n",
       "      <td>9</td>\n",
       "      <td>87.746858</td>\n",
       "    </tr>\n",
       "    <tr>\n",
       "      <th>2</th>\n",
       "      <td>0</td>\n",
       "      <td>1723663314</td>\n",
       "      <td>1928028.0</td>\n",
       "      <td>236140.0</td>\n",
       "      <td>1162048.0</td>\n",
       "      <td>18040.0</td>\n",
       "      <td>901996.0</td>\n",
       "      <td>0.0</td>\n",
       "      <td>0.0</td>\n",
       "      <td>0.0</td>\n",
       "      <td>server</td>\n",
       "      <td>9</td>\n",
       "      <td>87.752253</td>\n",
       "    </tr>\n",
       "    <tr>\n",
       "      <th>3</th>\n",
       "      <td>0</td>\n",
       "      <td>1723663315</td>\n",
       "      <td>1928028.0</td>\n",
       "      <td>236532.0</td>\n",
       "      <td>1162440.0</td>\n",
       "      <td>18040.0</td>\n",
       "      <td>901996.0</td>\n",
       "      <td>0.0</td>\n",
       "      <td>0.0</td>\n",
       "      <td>0.0</td>\n",
       "      <td>server</td>\n",
       "      <td>9</td>\n",
       "      <td>87.731921</td>\n",
       "    </tr>\n",
       "    <tr>\n",
       "      <th>4</th>\n",
       "      <td>0</td>\n",
       "      <td>1723663316</td>\n",
       "      <td>1928028.0</td>\n",
       "      <td>237160.0</td>\n",
       "      <td>1163068.0</td>\n",
       "      <td>18040.0</td>\n",
       "      <td>901996.0</td>\n",
       "      <td>0.0</td>\n",
       "      <td>0.0</td>\n",
       "      <td>0.0</td>\n",
       "      <td>server</td>\n",
       "      <td>9</td>\n",
       "      <td>87.699349</td>\n",
       "    </tr>\n",
       "    <tr>\n",
       "      <th>...</th>\n",
       "      <td>...</td>\n",
       "      <td>...</td>\n",
       "      <td>...</td>\n",
       "      <td>...</td>\n",
       "      <td>...</td>\n",
       "      <td>...</td>\n",
       "      <td>...</td>\n",
       "      <td>...</td>\n",
       "      <td>...</td>\n",
       "      <td>...</td>\n",
       "      <td>...</td>\n",
       "      <td>...</td>\n",
       "      <td>...</td>\n",
       "    </tr>\n",
       "    <tr>\n",
       "      <th>2395</th>\n",
       "      <td>9</td>\n",
       "      <td>1723658799</td>\n",
       "      <td>1928028.0</td>\n",
       "      <td>371148.0</td>\n",
       "      <td>1290384.0</td>\n",
       "      <td>15180.0</td>\n",
       "      <td>898772.0</td>\n",
       "      <td>0.0</td>\n",
       "      <td>0.0</td>\n",
       "      <td>0.0</td>\n",
       "      <td>server</td>\n",
       "      <td>1</td>\n",
       "      <td>80.749865</td>\n",
       "    </tr>\n",
       "    <tr>\n",
       "      <th>2396</th>\n",
       "      <td>9</td>\n",
       "      <td>1723658800</td>\n",
       "      <td>1928028.0</td>\n",
       "      <td>370912.0</td>\n",
       "      <td>1290148.0</td>\n",
       "      <td>15180.0</td>\n",
       "      <td>898772.0</td>\n",
       "      <td>0.0</td>\n",
       "      <td>0.0</td>\n",
       "      <td>0.0</td>\n",
       "      <td>server</td>\n",
       "      <td>1</td>\n",
       "      <td>80.762105</td>\n",
       "    </tr>\n",
       "    <tr>\n",
       "      <th>2397</th>\n",
       "      <td>9</td>\n",
       "      <td>1723658801</td>\n",
       "      <td>1928028.0</td>\n",
       "      <td>371188.0</td>\n",
       "      <td>1290424.0</td>\n",
       "      <td>15180.0</td>\n",
       "      <td>898772.0</td>\n",
       "      <td>0.0</td>\n",
       "      <td>0.0</td>\n",
       "      <td>0.0</td>\n",
       "      <td>server</td>\n",
       "      <td>1</td>\n",
       "      <td>80.747790</td>\n",
       "    </tr>\n",
       "    <tr>\n",
       "      <th>2398</th>\n",
       "      <td>9</td>\n",
       "      <td>1723658802</td>\n",
       "      <td>1928028.0</td>\n",
       "      <td>371252.0</td>\n",
       "      <td>1290488.0</td>\n",
       "      <td>15180.0</td>\n",
       "      <td>898772.0</td>\n",
       "      <td>0.0</td>\n",
       "      <td>0.0</td>\n",
       "      <td>0.0</td>\n",
       "      <td>server</td>\n",
       "      <td>1</td>\n",
       "      <td>80.744471</td>\n",
       "    </tr>\n",
       "    <tr>\n",
       "      <th>2399</th>\n",
       "      <td>9</td>\n",
       "      <td>1723658803</td>\n",
       "      <td>1928028.0</td>\n",
       "      <td>371444.0</td>\n",
       "      <td>1290680.0</td>\n",
       "      <td>15180.0</td>\n",
       "      <td>898772.0</td>\n",
       "      <td>0.0</td>\n",
       "      <td>0.0</td>\n",
       "      <td>0.0</td>\n",
       "      <td>server</td>\n",
       "      <td>1</td>\n",
       "      <td>80.734512</td>\n",
       "    </tr>\n",
       "  </tbody>\n",
       "</table>\n",
       "<p>2400 rows × 13 columns</p>\n",
       "</div>"
      ],
      "text/plain": [
       "      Iteration   Timestamp  Total Memory  Free Memory  Available Memory  \\\n",
       "0             0  1723663312     1928028.0     236232.0         1162140.0   \n",
       "1             0  1723663313     1928028.0     236244.0         1162152.0   \n",
       "2             0  1723663314     1928028.0     236140.0         1162048.0   \n",
       "3             0  1723663315     1928028.0     236532.0         1162440.0   \n",
       "4             0  1723663316     1928028.0     237160.0         1163068.0   \n",
       "...         ...         ...           ...          ...               ...   \n",
       "2395          9  1723658799     1928028.0     371148.0         1290384.0   \n",
       "2396          9  1723658800     1928028.0     370912.0         1290148.0   \n",
       "2397          9  1723658801     1928028.0     371188.0         1290424.0   \n",
       "2398          9  1723658802     1928028.0     371252.0         1290488.0   \n",
       "2399          9  1723658803     1928028.0     371444.0         1290680.0   \n",
       "\n",
       "        Cache    Buffer  Total Swap  Free Swap  Cached Swap Device Role  \\\n",
       "0     18040.0  901996.0         0.0        0.0          0.0      server   \n",
       "1     18040.0  901996.0         0.0        0.0          0.0      server   \n",
       "2     18040.0  901996.0         0.0        0.0          0.0      server   \n",
       "3     18040.0  901996.0         0.0        0.0          0.0      server   \n",
       "4     18040.0  901996.0         0.0        0.0          0.0      server   \n",
       "...       ...       ...         ...        ...          ...         ...   \n",
       "2395  15180.0  898772.0         0.0        0.0          0.0      server   \n",
       "2396  15180.0  898772.0         0.0        0.0          0.0      server   \n",
       "2397  15180.0  898772.0         0.0        0.0          0.0      server   \n",
       "2398  15180.0  898772.0         0.0        0.0          0.0      server   \n",
       "2399  15180.0  898772.0         0.0        0.0          0.0      server   \n",
       "\n",
       "      Number of nodes      Usage  \n",
       "0                   9  87.747481  \n",
       "1                   9  87.746858  \n",
       "2                   9  87.752253  \n",
       "3                   9  87.731921  \n",
       "4                   9  87.699349  \n",
       "...               ...        ...  \n",
       "2395                1  80.749865  \n",
       "2396                1  80.762105  \n",
       "2397                1  80.747790  \n",
       "2398                1  80.744471  \n",
       "2399                1  80.734512  \n",
       "\n",
       "[2400 rows x 13 columns]"
      ]
     },
     "metadata": {},
     "output_type": "display_data"
    }
   ],
   "source": [
    "exp_dir = global_res_dir + \"/\" + experiment_name.replace(' ', '_') + \"_\" + timestamp.strftime(\"%Y%m%dT%H%M%S\")\n",
    "# exp_dir = global_res_dir + \"/\" + experiment_name.replace(' ', '_') + \"_Final\"\n",
    "\n",
    "df_cpu_usages = []\n",
    "df_ram_usages= []\n",
    "\n",
    "exp_raw_dir = exp_dir + \"/raw_results\"\n",
    "exp_cpu_raw_dir = exp_raw_dir + \"/cpu_usage\"\n",
    "exp_ram_raw_dir = exp_raw_dir + \"/ram_usage\"\n",
    "exp_res_dir = exp_dir + \"/results\"\n",
    "\n",
    "path = Path(exp_res_dir)\n",
    "path.mkdir(parents=True, exist_ok=True)\n",
    "\n",
    "# CPU usage\n",
    "for file in os.listdir(exp_cpu_raw_dir):\n",
    "    df_cpu_usages.append(process_cpu_usage_to_dataframe(exp_cpu_raw_dir + \"/\" + file))\n",
    "df_cpu_usages = pd.concat(df_cpu_usages, ignore_index=True)\n",
    "df_cpu_usages.to_csv(exp_dir + \"/cpu_usage.csv\", index=False)\n",
    "\n",
    "\n",
    "# RAM usage\n",
    "for file in os.listdir(exp_ram_raw_dir):\n",
    "    df_ram_usages.append(process_ram_usage_to_dataframe(exp_ram_raw_dir + \"/\" + file))\n",
    "df_ram_usages = pd.concat(df_ram_usages, ignore_index=True)\n",
    "df_ram_usages.to_csv(exp_dir + \"/ram_usage.csv\", index=False)\n",
    "\n",
    "display(df_cpu_usages)\n",
    "display(df_ram_usages)"
   ]
  },
  {
   "cell_type": "markdown",
   "metadata": {},
   "source": [
    "### Make Graphs"
   ]
  },
  {
   "cell_type": "code",
   "execution_count": 5,
   "metadata": {},
   "outputs": [],
   "source": [
    "# Global variables\n",
    "# exp_dir = global_res_dir + \"/\" + experiment_name.replace(' ', '_') + \"_\" + timestamp.strftime(\"%Y%m%dT%H%M%S\")\n",
    "exp_dir = global_res_dir + \"/\" + experiment_name.replace(' ', '_') + \"_Fairphone\"\n",
    "\n",
    "graphs_dir = exp_dir + \"/graphs\"\n",
    "graphs_cpu_usage_dir = graphs_dir + \"/cpu_usage\"\n",
    "graphs_ram_usage_dir = graphs_dir + \"/ram_usage\"\n",
    "\n",
    "path = Path(graphs_dir)\n",
    "path.mkdir(parents=True, exist_ok=True)\n",
    "path = Path(graphs_cpu_usage_dir)\n",
    "path.mkdir(parents=True, exist_ok=True)\n",
    "path = Path(graphs_ram_usage_dir)\n",
    "path.mkdir(parents=True, exist_ok=True)\n"
   ]
  },
  {
   "cell_type": "code",
   "execution_count": 50,
   "metadata": {},
   "outputs": [
    {
     "data": {
      "image/png": "[encoded data removed]",
      "text/plain": [
       "<Figure size 640x480 with 1 Axes>"
      ]
     },
     "metadata": {},
     "output_type": "display_data"
    },
    {
     "data": {
      "image/png": "[encoded data removed]",
      "text/plain": [
       "<Figure size 640x480 with 1 Axes>"
      ]
     },
     "metadata": {},
     "output_type": "display_data"
    }
   ],
   "source": [
    "df_cpu_usage = pd.read_csv(exp_dir + \"/cpu_usage.csv\")\n",
    "df_ram_usage = pd.read_csv(exp_dir + \"/ram_usage.csv\")\n",
    "\n",
    "df_cpu_usage[\"State and nodes\"] = df_cpu_usage[\"Device Role\"].apply(lambda x: x.capitalize() + \" - \") + df_cpu_usage[\"Number of nodes\"].apply(lambda x: str(x))\n",
    "df_ram_usage[\"State and nodes\"] = df_ram_usage[\"Device Role\"].apply(lambda x: x.capitalize() + \" - \") + df_ram_usage[\"Number of nodes\"].apply(lambda x: str(x))\n",
    "\n",
    "plt.figure(figure=(10, 6))\n",
    "sns.barplot(data=df_cpu_usage, x = \"State and nodes\", y=\"Usage\")\n",
    "plt.xticks(rotation=90)\n",
    "plt.show()\n",
    "\n",
    "plt.figure(figure=(10, 6))\n",
    "sns.barplot(data=df_ram_usage, x = \"State and nodes\", y=\"Usage\")\n",
    "plt.xticks(rotation=90)\n",
    "plt.show()\n"
   ]
  },
  {
   "cell_type": "markdown",
   "metadata": {},
   "source": [
    "## Experiment 2: Fairphone: Number of requets per second with CPU and RAM usage"
   ]
  },
  {
   "cell_type": "code",
   "execution_count": 6,
   "metadata": {},
   "outputs": [
    {
     "data": {
      "text/html": [
       "<div>\n",
       "<style scoped>\n",
       "    .dataframe tbody tr th:only-of-type {\n",
       "        vertical-align: middle;\n",
       "    }\n",
       "\n",
       "    .dataframe tbody tr th {\n",
       "        vertical-align: top;\n",
       "    }\n",
       "\n",
       "    .dataframe thead th {\n",
       "        text-align: right;\n",
       "    }\n",
       "</style>\n",
       "<table border=\"1\" class=\"dataframe\">\n",
       "  <thead>\n",
       "    <tr style=\"text-align: right;\">\n",
       "      <th></th>\n",
       "      <th>SSH infos</th>\n",
       "      <th>Node types</th>\n",
       "      <th>Cluster IP</th>\n",
       "      <th>Number of nodes</th>\n",
       "    </tr>\n",
       "  </thead>\n",
       "  <tbody>\n",
       "    <tr>\n",
       "      <th>0</th>\n",
       "      <td>[pptc@192.168.88.17, pptc@192.168.88.3]</td>\n",
       "      <td>[Server, Agent]</td>\n",
       "      <td>192.168.88.17</td>\n",
       "      <td>2</td>\n",
       "    </tr>\n",
       "    <tr>\n",
       "      <th>1</th>\n",
       "      <td>[pptc@192.168.88.17, pptc@192.168.88.3, pptc@1...</td>\n",
       "      <td>[Server, Agent, Agent]</td>\n",
       "      <td>192.168.88.17</td>\n",
       "      <td>3</td>\n",
       "    </tr>\n",
       "    <tr>\n",
       "      <th>2</th>\n",
       "      <td>[pptc@192.168.88.17, pptc@192.168.88.3, pptc@1...</td>\n",
       "      <td>[Server, Agent, Agent, Agent]</td>\n",
       "      <td>192.168.88.17</td>\n",
       "      <td>4</td>\n",
       "    </tr>\n",
       "    <tr>\n",
       "      <th>3</th>\n",
       "      <td>[pptc@192.168.88.17, pptc@192.168.88.3, pptc@1...</td>\n",
       "      <td>[Server, Agent, Agent, Agent, Agent]</td>\n",
       "      <td>192.168.88.17</td>\n",
       "      <td>5</td>\n",
       "    </tr>\n",
       "    <tr>\n",
       "      <th>4</th>\n",
       "      <td>[pptc@192.168.88.17, pptc@192.168.88.3, pptc@1...</td>\n",
       "      <td>[Server, Agent, Agent, Agent, Agent, Agent]</td>\n",
       "      <td>192.168.88.17</td>\n",
       "      <td>6</td>\n",
       "    </tr>\n",
       "    <tr>\n",
       "      <th>5</th>\n",
       "      <td>[pptc@192.168.88.17, pptc@192.168.88.3, pptc@1...</td>\n",
       "      <td>[Server, Agent, Agent, Agent, Agent, Agent, Ag...</td>\n",
       "      <td>192.168.88.17</td>\n",
       "      <td>7</td>\n",
       "    </tr>\n",
       "    <tr>\n",
       "      <th>6</th>\n",
       "      <td>[pptc@192.168.88.17, pptc@192.168.88.3, pptc@1...</td>\n",
       "      <td>[Server, Agent, Agent, Agent, Agent, Agent, Ag...</td>\n",
       "      <td>192.168.88.17</td>\n",
       "      <td>8</td>\n",
       "    </tr>\n",
       "    <tr>\n",
       "      <th>7</th>\n",
       "      <td>[pptc@192.168.88.17, pptc@192.168.88.3, pptc@1...</td>\n",
       "      <td>[Server, Agent, Agent, Agent, Agent, Agent, Ag...</td>\n",
       "      <td>192.168.88.17</td>\n",
       "      <td>9</td>\n",
       "    </tr>\n",
       "    <tr>\n",
       "      <th>8</th>\n",
       "      <td>[pptc@192.168.88.17, pptc@192.168.88.3, pptc@1...</td>\n",
       "      <td>[Server, Agent, Agent, Agent, Agent, Agent, Ag...</td>\n",
       "      <td>192.168.88.17</td>\n",
       "      <td>10</td>\n",
       "    </tr>\n",
       "    <tr>\n",
       "      <th>9</th>\n",
       "      <td>[pptc@192.168.88.17, pptc@192.168.88.3, pptc@1...</td>\n",
       "      <td>[Server, Agent, Agent, Agent, Agent, Agent, Ag...</td>\n",
       "      <td>192.168.88.17</td>\n",
       "      <td>11</td>\n",
       "    </tr>\n",
       "    <tr>\n",
       "      <th>10</th>\n",
       "      <td>[pptc@192.168.88.17, pptc@192.168.88.3, pptc@1...</td>\n",
       "      <td>[Server, Agent, Agent, Agent, Agent, Agent, Ag...</td>\n",
       "      <td>192.168.88.17</td>\n",
       "      <td>12</td>\n",
       "    </tr>\n",
       "    <tr>\n",
       "      <th>11</th>\n",
       "      <td>[pptc@192.168.88.17, pptc@192.168.88.3, pptc@1...</td>\n",
       "      <td>[Server, Agent, Agent, Agent, Agent, Agent, Ag...</td>\n",
       "      <td>192.168.88.17</td>\n",
       "      <td>13</td>\n",
       "    </tr>\n",
       "    <tr>\n",
       "      <th>12</th>\n",
       "      <td>[pptc@192.168.88.17, pptc@192.168.88.3, pptc@1...</td>\n",
       "      <td>[Server, Agent, Agent, Agent, Agent, Agent, Ag...</td>\n",
       "      <td>192.168.88.17</td>\n",
       "      <td>14</td>\n",
       "    </tr>\n",
       "  </tbody>\n",
       "</table>\n",
       "</div>"
      ],
      "text/plain": [
       "                                            SSH infos  \\\n",
       "0             [pptc@192.168.88.17, pptc@192.168.88.3]   \n",
       "1   [pptc@192.168.88.17, pptc@192.168.88.3, pptc@1...   \n",
       "2   [pptc@192.168.88.17, pptc@192.168.88.3, pptc@1...   \n",
       "3   [pptc@192.168.88.17, pptc@192.168.88.3, pptc@1...   \n",
       "4   [pptc@192.168.88.17, pptc@192.168.88.3, pptc@1...   \n",
       "5   [pptc@192.168.88.17, pptc@192.168.88.3, pptc@1...   \n",
       "6   [pptc@192.168.88.17, pptc@192.168.88.3, pptc@1...   \n",
       "7   [pptc@192.168.88.17, pptc@192.168.88.3, pptc@1...   \n",
       "8   [pptc@192.168.88.17, pptc@192.168.88.3, pptc@1...   \n",
       "9   [pptc@192.168.88.17, pptc@192.168.88.3, pptc@1...   \n",
       "10  [pptc@192.168.88.17, pptc@192.168.88.3, pptc@1...   \n",
       "11  [pptc@192.168.88.17, pptc@192.168.88.3, pptc@1...   \n",
       "12  [pptc@192.168.88.17, pptc@192.168.88.3, pptc@1...   \n",
       "\n",
       "                                           Node types     Cluster IP  \\\n",
       "0                                     [Server, Agent]  192.168.88.17   \n",
       "1                              [Server, Agent, Agent]  192.168.88.17   \n",
       "2                       [Server, Agent, Agent, Agent]  192.168.88.17   \n",
       "3                [Server, Agent, Agent, Agent, Agent]  192.168.88.17   \n",
       "4         [Server, Agent, Agent, Agent, Agent, Agent]  192.168.88.17   \n",
       "5   [Server, Agent, Agent, Agent, Agent, Agent, Ag...  192.168.88.17   \n",
       "6   [Server, Agent, Agent, Agent, Agent, Agent, Ag...  192.168.88.17   \n",
       "7   [Server, Agent, Agent, Agent, Agent, Agent, Ag...  192.168.88.17   \n",
       "8   [Server, Agent, Agent, Agent, Agent, Agent, Ag...  192.168.88.17   \n",
       "9   [Server, Agent, Agent, Agent, Agent, Agent, Ag...  192.168.88.17   \n",
       "10  [Server, Agent, Agent, Agent, Agent, Agent, Ag...  192.168.88.17   \n",
       "11  [Server, Agent, Agent, Agent, Agent, Agent, Ag...  192.168.88.17   \n",
       "12  [Server, Agent, Agent, Agent, Agent, Agent, Ag...  192.168.88.17   \n",
       "\n",
       "    Number of nodes  \n",
       "0                 2  \n",
       "1                 3  \n",
       "2                 4  \n",
       "3                 5  \n",
       "4                 6  \n",
       "5                 7  \n",
       "6                 8  \n",
       "7                 9  \n",
       "8                10  \n",
       "9                11  \n",
       "10               12  \n",
       "11               13  \n",
       "12               14  "
      ]
     },
     "metadata": {},
     "output_type": "display_data"
    }
   ],
   "source": [
    "# Experiment setup\n",
    "experiment_name = \"K3S cluster request per second\"\n",
    "timestamp = timestamp=datetime.datetime.now() # Current timestamp\n",
    "\n",
    "n_agents = 13\n",
    "\n",
    "ssh_server = [\"pptc@192.168.88.17\"]\n",
    "server_type = [\"Server\"]\n",
    "\n",
    "ssh_agents = [\"pptc@192.168.88.\" + str(i) for i in range(3, 3+n_agents)]\n",
    "agents_type = [\"Agent\"] * n_agents\n",
    "\n",
    "number_of_nodes = range(2, 2 + n_agents)\n",
    "mediums = [\"Ethernet\", \"WiFi 5.0GHz 20-40-80MHz\", \"WiFi 2.4GHz 20-40MHz\"]\n",
    "iterations = 10\n",
    "count_for_usage_script = 120\n",
    "\n",
    "wrk_threads = 8\n",
    "wrk_connections_by_device = 10\n",
    "wrk_duration = \"20s\"\n",
    "wrk_lua_script = \"./assets/generate_request_script.lua\"\n",
    "cluster_port = 18080\n",
    "\n",
    "df = pd.DataFrame()\n",
    "df[\"SSH infos\"] = [ssh_server + ssh_agents[:i-1] for i in number_of_nodes]\n",
    "df[\"Node types\"] = [server_type + agents_type[:i-1] for i in number_of_nodes]\n",
    "df[\"Cluster IP\"] = [ssh_server[0].split('@')[1].strip()] * len(number_of_nodes)\n",
    "df[\"Number of nodes\"] = number_of_nodes\n",
    "display(df)\n",
    "\n"
   ]
  },
  {
   "cell_type": "code",
   "execution_count": 5,
   "metadata": {},
   "outputs": [],
   "source": [
    "def are_pods_ready():\n",
    "    command = ssh_with_args + \" \" + ssh_server[0] + \" \\\"kubectl get pods\\\" | awk '{print $3}' \"\n",
    "    result = subprocess.run(command, shell=True, capture_output=True, text=True)\n",
    "    result = [x.strip() for x in result.stdout.split('\\n') if x.strip()]\n",
    "    \n",
    "    for x in result:\n",
    "        if x != \"STATUS\" and x != \"Running\": return False\n",
    "    return True\n"
   ]
  },
  {
   "cell_type": "code",
   "execution_count": 12,
   "metadata": {},
   "outputs": [
    {
     "name": "stdout",
     "output_type": "stream",
     "text": [
      "Value : \n",
      "Run benchmark...\n",
      "Warning: Permanently added '192.168.88.17' (ED25519) to the list of known hosts.\n",
      "Warning: Permanently added '192.168.88.17' (ED25519) to the list of known hosts.\n",
      "network_usage_script.sh                       100% 1281   538.5KB/s   00:00    \n",
      "cpu_usage_script.sh                           100% 1189   721.2KB/s   00:00    \n",
      "ram_usage_script.sh                           100% 1253   490.9KB/s   00:00    \n",
      "Warning: Permanently added '192.168.88.17' (ED25519) to the list of known hosts.\n",
      "Warning: Permanently added '192.168.88.17' (ED25519) to the list of known hosts.\n",
      "Warning: Permanently added '192.168.88.17' (ED25519) to the list of known hosts.\n",
      "Warning: Permanently added '192.168.88.17' (ED25519) to the list of known hosts.\n",
      "Warning: Permanently added '192.168.88.3' (ED25519) to the list of known hosts.\n",
      "Warning: Permanently added '192.168.88.3' (ED25519) to the list of known hosts.\n",
      "network_usage_script.sh                       100% 1281   460.7KB/s   00:00    \n",
      "cpu_usage_script.sh                           100% 1189   655.2KB/s   00:00    \n",
      "ram_usage_script.sh                           100% 1253   608.8KB/s   00:00    \n",
      "Warning: Permanently added '192.168.88.3' (ED25519) to the list of known hosts.\n",
      "Warning: Permanently added '192.168.88.3' (ED25519) to the list of known hosts.\n",
      "Warning: Permanently added '192.168.88.3' (ED25519) to the list of known hosts.\n",
      "Warning: Permanently added '192.168.88.3' (ED25519) to the list of known hosts.\n",
      "Warning: Permanently added '192.168.88.4' (ED25519) to the list of known hosts.\n",
      "Warning: Permanently added '192.168.88.4' (ED25519) to the list of known hosts.\n",
      "network_usage_script.sh                       100% 1281   615.7KB/s   00:00    \n",
      "cpu_usage_script.sh                           100% 1189   721.0KB/s   00:00    \n",
      "ram_usage_script.sh                           100% 1253   712.7KB/s   00:00    \n",
      "Warning: Permanently added '192.168.88.4' (ED25519) to the list of known hosts.\n",
      "Warning: Permanently added '192.168.88.4' (ED25519) to the list of known hosts.\n",
      "Warning: Permanently added '192.168.88.4' (ED25519) to the list of known hosts.\n",
      "Warning: Permanently added '192.168.88.4' (ED25519) to the list of known hosts.\n",
      "Warning: Permanently added '192.168.88.5' (ED25519) to the list of known hosts.\n",
      "Warning: Permanently added '192.168.88.5' (ED25519) to the list of known hosts.\n",
      "network_usage_script.sh                       100% 1281   622.1KB/s   00:00    \n",
      "cpu_usage_script.sh                           100% 1189   632.9KB/s   00:00    \n",
      "ram_usage_script.sh                           100% 1253   611.9KB/s   00:00    \n",
      "Warning: Permanently added '192.168.88.5' (ED25519) to the list of known hosts.\n",
      "Warning: Permanently added '192.168.88.5' (ED25519) to the list of known hosts.\n",
      "Warning: Permanently added '192.168.88.5' (ED25519) to the list of known hosts.\n",
      "Warning: Permanently added '192.168.88.5' (ED25519) to the list of known hosts.\n",
      "Warning: Permanently added '192.168.88.6' (ED25519) to the list of known hosts.\n",
      "Warning: Permanently added '192.168.88.6' (ED25519) to the list of known hosts.\n",
      "network_usage_script.sh                       100% 1281   571.0KB/s   00:00    \n",
      "cpu_usage_script.sh                           100% 1189   693.0KB/s   00:00    \n",
      "ram_usage_script.sh                           100% 1253   344.6KB/s   00:00    \n",
      "Warning: Permanently added '192.168.88.6' (ED25519) to the list of known hosts.\n",
      "Warning: Permanently added '192.168.88.6' (ED25519) to the list of known hosts.\n",
      "Warning: Permanently added '192.168.88.6' (ED25519) to the list of known hosts.\n",
      "Warning: Permanently added '192.168.88.6' (ED25519) to the list of known hosts.\n",
      "Warning: Permanently added '192.168.88.7' (ED25519) to the list of known hosts.\n",
      "Warning: Permanently added '192.168.88.7' (ED25519) to the list of known hosts.\n",
      "network_usage_script.sh                       100% 1281   440.7KB/s   00:00    \n",
      "cpu_usage_script.sh                           100% 1189   581.2KB/s   00:00    \n",
      "ram_usage_script.sh                           100% 1253   433.0KB/s   00:00    \n",
      "Warning: Permanently added '192.168.88.7' (ED25519) to the list of known hosts.\n",
      "Warning: Permanently added '192.168.88.7' (ED25519) to the list of known hosts.\n",
      "Warning: Permanently added '192.168.88.7' (ED25519) to the list of known hosts.\n",
      "Warning: Permanently added '192.168.88.7' (ED25519) to the list of known hosts.\n",
      "Warning: Permanently added '192.168.88.8' (ED25519) to the list of known hosts.\n",
      "Warning: Permanently added '192.168.88.8' (ED25519) to the list of known hosts.\n",
      "network_usage_script.sh                       100% 1281   557.7KB/s   00:00    \n",
      "cpu_usage_script.sh                           100% 1189   732.3KB/s   00:00    \n",
      "ram_usage_script.sh                           100% 1253   724.8KB/s   00:00    \n",
      "Warning: Permanently added '192.168.88.8' (ED25519) to the list of known hosts.\n",
      "Warning: Permanently added '192.168.88.8' (ED25519) to the list of known hosts.\n",
      "Warning: Permanently added '192.168.88.8' (ED25519) to the list of known hosts.\n",
      "Warning: Permanently added '192.168.88.8' (ED25519) to the list of known hosts.\n",
      "Warning: Permanently added '192.168.88.9' (ED25519) to the list of known hosts.\n",
      "Warning: Permanently added '192.168.88.9' (ED25519) to the list of known hosts.\n",
      "network_usage_script.sh                       100% 1281   645.8KB/s   00:00    \n",
      "cpu_usage_script.sh                           100% 1189   746.1KB/s   00:00    \n",
      "ram_usage_script.sh                           100% 1253   847.8KB/s   00:00    \n",
      "Warning: Permanently added '192.168.88.9' (ED25519) to the list of known hosts.\n",
      "Warning: Permanently added '192.168.88.9' (ED25519) to the list of known hosts.\n",
      "Warning: Permanently added '192.168.88.9' (ED25519) to the list of known hosts.\n",
      "Warning: Permanently added '192.168.88.9' (ED25519) to the list of known hosts.\n",
      "Warning: Permanently added '192.168.88.10' (ED25519) to the list of known hosts.\n",
      "Warning: Permanently added '192.168.88.10' (ED25519) to the list of known hosts.\n",
      "network_usage_script.sh                       100% 1281   560.1KB/s   00:00    \n",
      "cpu_usage_script.sh                           100% 1189   748.9KB/s   00:00    \n",
      "ram_usage_script.sh                           100% 1253   867.7KB/s   00:00    \n",
      "Warning: Permanently added '192.168.88.10' (ED25519) to the list of known hosts.\n",
      "Warning: Permanently added '192.168.88.10' (ED25519) to the list of known hosts.\n",
      "Warning: Permanently added '192.168.88.10' (ED25519) to the list of known hosts.\n",
      "Warning: Permanently added '192.168.88.10' (ED25519) to the list of known hosts.\n",
      "Iteration 0\n",
      "Warning: Permanently added '192.168.88.17' (ED25519) to the list of known hosts.\n",
      "Warning: Permanently added '192.168.88.17' (ED25519) to the list of known hosts.\n",
      "Warning: Permanently added '192.168.88.17' (ED25519) to the list of known hosts.\n",
      "Warning: Permanently added '192.168.88.3' (ED25519) to the list of known hosts.\n"
     ]
    },
    {
     "name": "stderr",
     "output_type": "stream",
     "text": [
      "Warning: Permanently added '192.168.88.17' (ED25519) to the list of known hosts.\n",
      "Warning: Permanently added '192.168.88.17' (ED25519) to the list of known hosts.\n",
      "Warning: Permanently added '192.168.88.17' (ED25519) to the list of known hosts.\n"
     ]
    },
    {
     "name": "stdout",
     "output_type": "stream",
     "text": [
      "Warning: Permanently added '192.168.88.3' (ED25519) to the list of known hosts.\n",
      "Warning: Permanently added '192.168.88.3' (ED25519) to the list of known hosts.\n",
      "Warning: Permanently added '192.168.88.4' (ED25519) to the list of known hosts.\n"
     ]
    },
    {
     "name": "stderr",
     "output_type": "stream",
     "text": [
      "Warning: Permanently added '192.168.88.3' (ED25519) to the list of known hosts.\n",
      "Warning: Permanently added '192.168.88.3' (ED25519) to the list of known hosts.\n",
      "Warning: Permanently added '192.168.88.3' (ED25519) to the list of known hosts.\n"
     ]
    },
    {
     "name": "stdout",
     "output_type": "stream",
     "text": [
      "Warning: Permanently added '192.168.88.4' (ED25519) to the list of known hosts.\n",
      "Warning: Permanently added '192.168.88.4' (ED25519) to the list of known hosts.\n",
      "Warning: Permanently added '192.168.88.5' (ED25519) to the list of known hosts.\n"
     ]
    },
    {
     "name": "stderr",
     "output_type": "stream",
     "text": [
      "Warning: Permanently added '192.168.88.4' (ED25519) to the list of known hosts.\n",
      "Warning: Permanently added '192.168.88.4' (ED25519) to the list of known hosts.\n",
      "Warning: Permanently added '192.168.88.4' (ED25519) to the list of known hosts.\n"
     ]
    },
    {
     "name": "stdout",
     "output_type": "stream",
     "text": [
      "Warning: Permanently added '192.168.88.5' (ED25519) to the list of known hosts.\n",
      "Warning: Permanently added '192.168.88.5' (ED25519) to the list of known hosts.\n",
      "Warning: Permanently added '192.168.88.6' (ED25519) to the list of known hosts.\n"
     ]
    },
    {
     "name": "stderr",
     "output_type": "stream",
     "text": [
      "Warning: Permanently added '192.168.88.5' (ED25519) to the list of known hosts.\n",
      "Warning: Permanently added '192.168.88.5' (ED25519) to the list of known hosts.\n",
      "Warning: Permanently added '192.168.88.5' (ED25519) to the list of known hosts.\n"
     ]
    },
    {
     "name": "stdout",
     "output_type": "stream",
     "text": [
      "Warning: Permanently added '192.168.88.6' (ED25519) to the list of known hosts.\n",
      "Warning: Permanently added '192.168.88.6' (ED25519) to the list of known hosts.\n",
      "Warning: Permanently added '192.168.88.7' (ED25519) to the list of known hosts.\n"
     ]
    },
    {
     "name": "stderr",
     "output_type": "stream",
     "text": [
      "Warning: Permanently added '192.168.88.6' (ED25519) to the list of known hosts.\n",
      "Warning: Permanently added '192.168.88.6' (ED25519) to the list of known hosts.\n",
      "Warning: Permanently added '192.168.88.6' (ED25519) to the list of known hosts.\n"
     ]
    },
    {
     "name": "stdout",
     "output_type": "stream",
     "text": [
      "Warning: Permanently added '192.168.88.7' (ED25519) to the list of known hosts.\n",
      "Warning: Permanently added '192.168.88.7' (ED25519) to the list of known hosts.\n",
      "Warning: Permanently added '192.168.88.8' (ED25519) to the list of known hosts.\n"
     ]
    },
    {
     "name": "stderr",
     "output_type": "stream",
     "text": [
      "Warning: Permanently added '192.168.88.7' (ED25519) to the list of known hosts.\n",
      "Warning: Permanently added '192.168.88.7' (ED25519) to the list of known hosts.\n",
      "Warning: Permanently added '192.168.88.7' (ED25519) to the list of known hosts.\n"
     ]
    },
    {
     "name": "stdout",
     "output_type": "stream",
     "text": [
      "Warning: Permanently added '192.168.88.8' (ED25519) to the list of known hosts.\n",
      "Warning: Permanently added '192.168.88.8' (ED25519) to the list of known hosts.\n",
      "Warning: Permanently added '192.168.88.9' (ED25519) to the list of known hosts.\n"
     ]
    },
    {
     "name": "stderr",
     "output_type": "stream",
     "text": [
      "Warning: Permanently added '192.168.88.8' (ED25519) to the list of known hosts.\n",
      "Warning: Permanently added '192.168.88.8' (ED25519) to the list of known hosts.\n",
      "Warning: Permanently added '192.168.88.8' (ED25519) to the list of known hosts.\n"
     ]
    },
    {
     "name": "stdout",
     "output_type": "stream",
     "text": [
      "Warning: Permanently added '192.168.88.9' (ED25519) to the list of known hosts.\n",
      "Warning: Permanently added '192.168.88.9' (ED25519) to the list of known hosts.\n",
      "Warning: Permanently added '192.168.88.10' (ED25519) to the list of known hosts.\n"
     ]
    },
    {
     "name": "stderr",
     "output_type": "stream",
     "text": [
      "Warning: Permanently added '192.168.88.9' (ED25519) to the list of known hosts.\n",
      "Warning: Permanently added '192.168.88.9' (ED25519) to the list of known hosts.\n",
      "Warning: Permanently added '192.168.88.9' (ED25519) to the list of known hosts.\n"
     ]
    },
    {
     "name": "stdout",
     "output_type": "stream",
     "text": [
      "Warning: Permanently added '192.168.88.10' (ED25519) to the list of known hosts.\n",
      "Warning: Permanently added '192.168.88.10' (ED25519) to the list of known hosts.\n"
     ]
    },
    {
     "name": "stderr",
     "output_type": "stream",
     "text": [
      "Warning: Permanently added '192.168.88.10' (ED25519) to the list of known hosts.\n",
      "Warning: Permanently added '192.168.88.10' (ED25519) to the list of known hosts.\n",
      "Warning: Permanently added '192.168.88.10' (ED25519) to the list of known hosts.\n"
     ]
    },
    {
     "name": "stdout",
     "output_type": "stream",
     "text": [
      "Perform measure\n",
      "Kill CPU and RAM usage scripts\n",
      "Warning: Permanently added '192.168.88.17' (ED25519) to the list of known hosts.\n",
      "Warning: Permanently added '192.168.88.17' (ED25519) to the list of known hosts.\n",
      "Warning: Permanently added '192.168.88.17' (ED25519) to the list of known hosts.\n",
      "Warning: Permanently added '192.168.88.17' (ED25519) to the list of known hosts.\n",
      "Warning: Permanently added '192.168.88.17' (ED25519) to the list of known hosts.\n",
      "Warning: Permanently added '192.168.88.17' (ED25519) to the list of known hosts.\n",
      "Warning: Permanently added '192.168.88.3' (ED25519) to the list of known hosts.\n",
      "Warning: Permanently added '192.168.88.3' (ED25519) to the list of known hosts.\n",
      "Warning: Permanently added '192.168.88.3' (ED25519) to the list of known hosts.\n",
      "Warning: Permanently added '192.168.88.3' (ED25519) to the list of known hosts.\n",
      "Warning: Permanently added '192.168.88.3' (ED25519) to the list of known hosts.\n",
      "Warning: Permanently added '192.168.88.3' (ED25519) to the list of known hosts.\n",
      "Warning: Permanently added '192.168.88.4' (ED25519) to the list of known hosts.\n",
      "Warning: Permanently added '192.168.88.4' (ED25519) to the list of known hosts.\n",
      "Warning: Permanently added '192.168.88.4' (ED25519) to the list of known hosts.\n",
      "Warning: Permanently added '192.168.88.4' (ED25519) to the list of known hosts.\n",
      "Warning: Permanently added '192.168.88.4' (ED25519) to the list of known hosts.\n",
      "Warning: Permanently added '192.168.88.4' (ED25519) to the list of known hosts.\n",
      "Warning: Permanently added '192.168.88.5' (ED25519) to the list of known hosts.\n",
      "Warning: Permanently added '192.168.88.5' (ED25519) to the list of known hosts.\n",
      "Warning: Permanently added '192.168.88.5' (ED25519) to the list of known hosts.\n",
      "Warning: Permanently added '192.168.88.5' (ED25519) to the list of known hosts.\n",
      "Warning: Permanently added '192.168.88.5' (ED25519) to the list of known hosts.\n",
      "Warning: Permanently added '192.168.88.5' (ED25519) to the list of known hosts.\n",
      "Warning: Permanently added '192.168.88.6' (ED25519) to the list of known hosts.\n",
      "Warning: Permanently added '192.168.88.6' (ED25519) to the list of known hosts.\n",
      "Warning: Permanently added '192.168.88.6' (ED25519) to the list of known hosts.\n",
      "Warning: Permanently added '192.168.88.6' (ED25519) to the list of known hosts.\n",
      "Warning: Permanently added '192.168.88.6' (ED25519) to the list of known hosts.\n",
      "Warning: Permanently added '192.168.88.6' (ED25519) to the list of known hosts.\n",
      "Warning: Permanently added '192.168.88.7' (ED25519) to the list of known hosts.\n",
      "Warning: Permanently added '192.168.88.7' (ED25519) to the list of known hosts.\n",
      "Warning: Permanently added '192.168.88.7' (ED25519) to the list of known hosts.\n",
      "Warning: Permanently added '192.168.88.7' (ED25519) to the list of known hosts.\n",
      "Warning: Permanently added '192.168.88.7' (ED25519) to the list of known hosts.\n",
      "Warning: Permanently added '192.168.88.7' (ED25519) to the list of known hosts.\n",
      "Warning: Permanently added '192.168.88.8' (ED25519) to the list of known hosts.\n",
      "Warning: Permanently added '192.168.88.8' (ED25519) to the list of known hosts.\n",
      "Warning: Permanently added '192.168.88.8' (ED25519) to the list of known hosts.\n",
      "Warning: Permanently added '192.168.88.8' (ED25519) to the list of known hosts.\n",
      "Warning: Permanently added '192.168.88.8' (ED25519) to the list of known hosts.\n",
      "Warning: Permanently added '192.168.88.8' (ED25519) to the list of known hosts.\n",
      "Warning: Permanently added '192.168.88.9' (ED25519) to the list of known hosts.\n",
      "Warning: Permanently added '192.168.88.9' (ED25519) to the list of known hosts.\n",
      "Warning: Permanently added '192.168.88.9' (ED25519) to the list of known hosts.\n",
      "Warning: Permanently added '192.168.88.9' (ED25519) to the list of known hosts.\n",
      "Warning: Permanently added '192.168.88.9' (ED25519) to the list of known hosts.\n",
      "Warning: Permanently added '192.168.88.9' (ED25519) to the list of known hosts.\n",
      "Warning: Permanently added '192.168.88.10' (ED25519) to the list of known hosts.\n",
      "Warning: Permanently added '192.168.88.10' (ED25519) to the list of known hosts.\n",
      "Warning: Permanently added '192.168.88.10' (ED25519) to the list of known hosts.\n",
      "Warning: Permanently added '192.168.88.10' (ED25519) to the list of known hosts.\n",
      "Warning: Permanently added '192.168.88.10' (ED25519) to the list of known hosts.\n",
      "Warning: Permanently added '192.168.88.10' (ED25519) to the list of known hosts.\n",
      "Warning: Permanently added '192.168.88.17' (ED25519) to the list of known hosts.\n",
      "deployment.apps/k3s-tflite-app-deployment restarted\n",
      "Iteration 1\n",
      "Warning: Permanently added '192.168.88.17' (ED25519) to the list of known hosts.\n",
      "Warning: Permanently added '192.168.88.17' (ED25519) to the list of known hosts.\n",
      "Warning: Permanently added '192.168.88.17' (ED25519) to the list of known hosts.\n",
      "Warning: Permanently added '192.168.88.3' (ED25519) to the list of known hosts.\n"
     ]
    },
    {
     "name": "stderr",
     "output_type": "stream",
     "text": [
      "Warning: Permanently added '192.168.88.17' (ED25519) to the list of known hosts.\n",
      "Warning: Permanently added '192.168.88.17' (ED25519) to the list of known hosts.\n",
      "Warning: Permanently added '192.168.88.17' (ED25519) to the list of known hosts.\n"
     ]
    },
    {
     "name": "stdout",
     "output_type": "stream",
     "text": [
      "Warning: Permanently added '192.168.88.3' (ED25519) to the list of known hosts.\n",
      "Warning: Permanently added '192.168.88.3' (ED25519) to the list of known hosts.\n",
      "Warning: Permanently added '192.168.88.4' (ED25519) to the list of known hosts.\n"
     ]
    },
    {
     "name": "stderr",
     "output_type": "stream",
     "text": [
      "Warning: Permanently added '192.168.88.3' (ED25519) to the list of known hosts.\n",
      "Warning: Permanently added '192.168.88.3' (ED25519) to the list of known hosts.\n",
      "Warning: Permanently added '192.168.88.3' (ED25519) to the list of known hosts.\n"
     ]
    },
    {
     "name": "stdout",
     "output_type": "stream",
     "text": [
      "Warning: Permanently added '192.168.88.4' (ED25519) to the list of known hosts.\n",
      "Warning: Permanently added '192.168.88.4' (ED25519) to the list of known hosts.\n",
      "Warning: Permanently added '192.168.88.5' (ED25519) to the list of known hosts.\n"
     ]
    },
    {
     "name": "stderr",
     "output_type": "stream",
     "text": [
      "Warning: Permanently added '192.168.88.4' (ED25519) to the list of known hosts.\n",
      "Warning: Permanently added '192.168.88.4' (ED25519) to the list of known hosts.\n",
      "Warning: Permanently added '192.168.88.4' (ED25519) to the list of known hosts.\n"
     ]
    },
    {
     "name": "stdout",
     "output_type": "stream",
     "text": [
      "Warning: Permanently added '192.168.88.5' (ED25519) to the list of known hosts.\n",
      "Warning: Permanently added '192.168.88.5' (ED25519) to the list of known hosts.\n",
      "Warning: Permanently added '192.168.88.6' (ED25519) to the list of known hosts.\n"
     ]
    },
    {
     "name": "stderr",
     "output_type": "stream",
     "text": [
      "Warning: Permanently added '192.168.88.5' (ED25519) to the list of known hosts.\n",
      "Warning: Permanently added '192.168.88.5' (ED25519) to the list of known hosts.\n",
      "Warning: Permanently added '192.168.88.5' (ED25519) to the list of known hosts.\n"
     ]
    },
    {
     "name": "stdout",
     "output_type": "stream",
     "text": [
      "Warning: Permanently added '192.168.88.6' (ED25519) to the list of known hosts.\n",
      "Warning: Permanently added '192.168.88.6' (ED25519) to the list of known hosts.\n",
      "Warning: Permanently added '192.168.88.7' (ED25519) to the list of known hosts.\n"
     ]
    },
    {
     "name": "stderr",
     "output_type": "stream",
     "text": [
      "Warning: Permanently added '192.168.88.6' (ED25519) to the list of known hosts.\n",
      "Warning: Permanently added '192.168.88.6' (ED25519) to the list of known hosts.\n",
      "Warning: Permanently added '192.168.88.6' (ED25519) to the list of known hosts.\n"
     ]
    },
    {
     "name": "stdout",
     "output_type": "stream",
     "text": [
      "Warning: Permanently added '192.168.88.7' (ED25519) to the list of known hosts.\n",
      "Warning: Permanently added '192.168.88.7' (ED25519) to the list of known hosts.\n",
      "Warning: Permanently added '192.168.88.8' (ED25519) to the list of known hosts.\n"
     ]
    },
    {
     "name": "stderr",
     "output_type": "stream",
     "text": [
      "Warning: Permanently added '192.168.88.7' (ED25519) to the list of known hosts.\n",
      "Warning: Permanently added '192.168.88.7' (ED25519) to the list of known hosts.\n",
      "Warning: Permanently added '192.168.88.7' (ED25519) to the list of known hosts.\n"
     ]
    },
    {
     "name": "stdout",
     "output_type": "stream",
     "text": [
      "Warning: Permanently added '192.168.88.8' (ED25519) to the list of known hosts.\n",
      "Warning: Permanently added '192.168.88.8' (ED25519) to the list of known hosts.\n",
      "Warning: Permanently added '192.168.88.9' (ED25519) to the list of known hosts.\n"
     ]
    },
    {
     "name": "stderr",
     "output_type": "stream",
     "text": [
      "Warning: Permanently added '192.168.88.8' (ED25519) to the list of known hosts.\n",
      "Warning: Permanently added '192.168.88.8' (ED25519) to the list of known hosts.\n",
      "Warning: Permanently added '192.168.88.8' (ED25519) to the list of known hosts.\n"
     ]
    },
    {
     "name": "stdout",
     "output_type": "stream",
     "text": [
      "Warning: Permanently added '192.168.88.9' (ED25519) to the list of known hosts.\n",
      "Warning: Permanently added '192.168.88.9' (ED25519) to the list of known hosts.\n",
      "Warning: Permanently added '192.168.88.10' (ED25519) to the list of known hosts.\n"
     ]
    },
    {
     "name": "stderr",
     "output_type": "stream",
     "text": [
      "Warning: Permanently added '192.168.88.9' (ED25519) to the list of known hosts.\n",
      "Warning: Permanently added '192.168.88.9' (ED25519) to the list of known hosts.\n",
      "Warning: Permanently added '192.168.88.9' (ED25519) to the list of known hosts.\n"
     ]
    },
    {
     "name": "stdout",
     "output_type": "stream",
     "text": [
      "Warning: Permanently added '192.168.88.10' (ED25519) to the list of known hosts.\n",
      "Warning: Permanently added '192.168.88.10' (ED25519) to the list of known hosts.\n"
     ]
    },
    {
     "name": "stderr",
     "output_type": "stream",
     "text": [
      "Warning: Permanently added '192.168.88.10' (ED25519) to the list of known hosts.\n",
      "Warning: Permanently added '192.168.88.10' (ED25519) to the list of known hosts.\n",
      "Warning: Permanently added '192.168.88.10' (ED25519) to the list of known hosts.\n"
     ]
    },
    {
     "name": "stdout",
     "output_type": "stream",
     "text": [
      "Perform measure\n",
      "Kill CPU and RAM usage scripts\n",
      "Warning: Permanently added '192.168.88.17' (ED25519) to the list of known hosts.\n",
      "Warning: Permanently added '192.168.88.17' (ED25519) to the list of known hosts.\n",
      "Warning: Permanently added '192.168.88.17' (ED25519) to the list of known hosts.\n",
      "Warning: Permanently added '192.168.88.17' (ED25519) to the list of known hosts.\n",
      "Warning: Permanently added '192.168.88.17' (ED25519) to the list of known hosts.\n",
      "Warning: Permanently added '192.168.88.17' (ED25519) to the list of known hosts.\n",
      "Warning: Permanently added '192.168.88.3' (ED25519) to the list of known hosts.\n",
      "Warning: Permanently added '192.168.88.3' (ED25519) to the list of known hosts.\n",
      "Warning: Permanently added '192.168.88.3' (ED25519) to the list of known hosts.\n",
      "Warning: Permanently added '192.168.88.3' (ED25519) to the list of known hosts.\n",
      "Warning: Permanently added '192.168.88.3' (ED25519) to the list of known hosts.\n",
      "Warning: Permanently added '192.168.88.3' (ED25519) to the list of known hosts.\n",
      "Warning: Permanently added '192.168.88.4' (ED25519) to the list of known hosts.\n",
      "Warning: Permanently added '192.168.88.4' (ED25519) to the list of known hosts.\n",
      "Warning: Permanently added '192.168.88.4' (ED25519) to the list of known hosts.\n",
      "Warning: Permanently added '192.168.88.4' (ED25519) to the list of known hosts.\n",
      "Warning: Permanently added '192.168.88.4' (ED25519) to the list of known hosts.\n",
      "Warning: Permanently added '192.168.88.4' (ED25519) to the list of known hosts.\n",
      "Warning: Permanently added '192.168.88.5' (ED25519) to the list of known hosts.\n",
      "Warning: Permanently added '192.168.88.5' (ED25519) to the list of known hosts.\n",
      "Warning: Permanently added '192.168.88.5' (ED25519) to the list of known hosts.\n",
      "Warning: Permanently added '192.168.88.5' (ED25519) to the list of known hosts.\n",
      "Warning: Permanently added '192.168.88.5' (ED25519) to the list of known hosts.\n",
      "Warning: Permanently added '192.168.88.5' (ED25519) to the list of known hosts.\n",
      "Warning: Permanently added '192.168.88.6' (ED25519) to the list of known hosts.\n",
      "Warning: Permanently added '192.168.88.6' (ED25519) to the list of known hosts.\n",
      "Warning: Permanently added '192.168.88.6' (ED25519) to the list of known hosts.\n",
      "Warning: Permanently added '192.168.88.6' (ED25519) to the list of known hosts.\n",
      "Warning: Permanently added '192.168.88.6' (ED25519) to the list of known hosts.\n",
      "Warning: Permanently added '192.168.88.6' (ED25519) to the list of known hosts.\n",
      "Warning: Permanently added '192.168.88.7' (ED25519) to the list of known hosts.\n",
      "Warning: Permanently added '192.168.88.7' (ED25519) to the list of known hosts.\n",
      "Warning: Permanently added '192.168.88.7' (ED25519) to the list of known hosts.\n",
      "Warning: Permanently added '192.168.88.7' (ED25519) to the list of known hosts.\n",
      "Warning: Permanently added '192.168.88.7' (ED25519) to the list of known hosts.\n",
      "Warning: Permanently added '192.168.88.7' (ED25519) to the list of known hosts.\n",
      "Warning: Permanently added '192.168.88.8' (ED25519) to the list of known hosts.\n",
      "Warning: Permanently added '192.168.88.8' (ED25519) to the list of known hosts.\n",
      "Warning: Permanently added '192.168.88.8' (ED25519) to the list of known hosts.\n",
      "Warning: Permanently added '192.168.88.8' (ED25519) to the list of known hosts.\n",
      "Warning: Permanently added '192.168.88.8' (ED25519) to the list of known hosts.\n",
      "Warning: Permanently added '192.168.88.8' (ED25519) to the list of known hosts.\n",
      "Warning: Permanently added '192.168.88.9' (ED25519) to the list of known hosts.\n",
      "Warning: Permanently added '192.168.88.9' (ED25519) to the list of known hosts.\n",
      "Warning: Permanently added '192.168.88.9' (ED25519) to the list of known hosts.\n",
      "Warning: Permanently added '192.168.88.9' (ED25519) to the list of known hosts.\n",
      "Warning: Permanently added '192.168.88.9' (ED25519) to the list of known hosts.\n",
      "Warning: Permanently added '192.168.88.9' (ED25519) to the list of known hosts.\n",
      "Warning: Permanently added '192.168.88.10' (ED25519) to the list of known hosts.\n",
      "Warning: Permanently added '192.168.88.10' (ED25519) to the list of known hosts.\n",
      "Warning: Permanently added '192.168.88.10' (ED25519) to the list of known hosts.\n",
      "Warning: Permanently added '192.168.88.10' (ED25519) to the list of known hosts.\n",
      "Warning: Permanently added '192.168.88.10' (ED25519) to the list of known hosts.\n",
      "Warning: Permanently added '192.168.88.10' (ED25519) to the list of known hosts.\n",
      "Warning: Permanently added '192.168.88.17' (ED25519) to the list of known hosts.\n",
      "deployment.apps/k3s-tflite-app-deployment restarted\n",
      "Iteration 2\n",
      "Warning: Permanently added '192.168.88.17' (ED25519) to the list of known hosts.\n",
      "Warning: Permanently added '192.168.88.17' (ED25519) to the list of known hosts.\n",
      "Warning: Permanently added '192.168.88.17' (ED25519) to the list of known hosts.\n",
      "Warning: Permanently added '192.168.88.3' (ED25519) to the list of known hosts.\n"
     ]
    },
    {
     "name": "stderr",
     "output_type": "stream",
     "text": [
      "Warning: Permanently added '192.168.88.17' (ED25519) to the list of known hosts.\n",
      "Warning: Permanently added '192.168.88.17' (ED25519) to the list of known hosts.\n",
      "Warning: Permanently added '192.168.88.17' (ED25519) to the list of known hosts.\n"
     ]
    },
    {
     "name": "stdout",
     "output_type": "stream",
     "text": [
      "Warning: Permanently added '192.168.88.3' (ED25519) to the list of known hosts.\n",
      "Warning: Permanently added '192.168.88.3' (ED25519) to the list of known hosts.\n",
      "Warning: Permanently added '192.168.88.4' (ED25519) to the list of known hosts.\n"
     ]
    },
    {
     "name": "stderr",
     "output_type": "stream",
     "text": [
      "Warning: Permanently added '192.168.88.3' (ED25519) to the list of known hosts.\n",
      "Warning: Permanently added '192.168.88.3' (ED25519) to the list of known hosts.\n",
      "Warning: Permanently added '192.168.88.3' (ED25519) to the list of known hosts.\n"
     ]
    },
    {
     "name": "stdout",
     "output_type": "stream",
     "text": [
      "Warning: Permanently added '192.168.88.4' (ED25519) to the list of known hosts.\n",
      "Warning: Permanently added '192.168.88.4' (ED25519) to the list of known hosts.\n",
      "Warning: Permanently added '192.168.88.5' (ED25519) to the list of known hosts.\n"
     ]
    },
    {
     "name": "stderr",
     "output_type": "stream",
     "text": [
      "Warning: Permanently added '192.168.88.4' (ED25519) to the list of known hosts.\n",
      "Warning: Permanently added '192.168.88.4' (ED25519) to the list of known hosts.\n",
      "Warning: Permanently added '192.168.88.4' (ED25519) to the list of known hosts.\n"
     ]
    },
    {
     "name": "stdout",
     "output_type": "stream",
     "text": [
      "Warning: Permanently added '192.168.88.5' (ED25519) to the list of known hosts.\n",
      "Warning: Permanently added '192.168.88.5' (ED25519) to the list of known hosts.\n",
      "Warning: Permanently added '192.168.88.6' (ED25519) to the list of known hosts.\n"
     ]
    },
    {
     "name": "stderr",
     "output_type": "stream",
     "text": [
      "Warning: Permanently added '192.168.88.5' (ED25519) to the list of known hosts.\n",
      "Warning: Permanently added '192.168.88.5' (ED25519) to the list of known hosts.\n",
      "Warning: Permanently added '192.168.88.5' (ED25519) to the list of known hosts.\n"
     ]
    },
    {
     "name": "stdout",
     "output_type": "stream",
     "text": [
      "Warning: Permanently added '192.168.88.6' (ED25519) to the list of known hosts.\n",
      "Warning: Permanently added '192.168.88.6' (ED25519) to the list of known hosts.\n",
      "Warning: Permanently added '192.168.88.7' (ED25519) to the list of known hosts.\n"
     ]
    },
    {
     "name": "stderr",
     "output_type": "stream",
     "text": [
      "Warning: Permanently added '192.168.88.6' (ED25519) to the list of known hosts.\n",
      "Warning: Permanently added '192.168.88.6' (ED25519) to the list of known hosts.\n",
      "Warning: Permanently added '192.168.88.6' (ED25519) to the list of known hosts.\n"
     ]
    },
    {
     "name": "stdout",
     "output_type": "stream",
     "text": [
      "Warning: Permanently added '192.168.88.7' (ED25519) to the list of known hosts.\n",
      "Warning: Permanently added '192.168.88.7' (ED25519) to the list of known hosts.\n",
      "Warning: Permanently added '192.168.88.8' (ED25519) to the list of known hosts.\n"
     ]
    },
    {
     "name": "stderr",
     "output_type": "stream",
     "text": [
      "Warning: Permanently added '192.168.88.7' (ED25519) to the list of known hosts.\n",
      "Warning: Permanently added '192.168.88.7' (ED25519) to the list of known hosts.\n",
      "Warning: Permanently added '192.168.88.7' (ED25519) to the list of known hosts.\n"
     ]
    },
    {
     "name": "stdout",
     "output_type": "stream",
     "text": [
      "Warning: Permanently added '192.168.88.8' (ED25519) to the list of known hosts.\n",
      "Warning: Permanently added '192.168.88.8' (ED25519) to the list of known hosts.\n",
      "Warning: Permanently added '192.168.88.9' (ED25519) to the list of known hosts.\n"
     ]
    },
    {
     "name": "stderr",
     "output_type": "stream",
     "text": [
      "Warning: Permanently added '192.168.88.8' (ED25519) to the list of known hosts.\n",
      "Warning: Permanently added '192.168.88.8' (ED25519) to the list of known hosts.\n",
      "Warning: Permanently added '192.168.88.8' (ED25519) to the list of known hosts.\n"
     ]
    },
    {
     "name": "stdout",
     "output_type": "stream",
     "text": [
      "Warning: Permanently added '192.168.88.9' (ED25519) to the list of known hosts.\n",
      "Warning: Permanently added '192.168.88.9' (ED25519) to the list of known hosts.\n",
      "Warning: Permanently added '192.168.88.10' (ED25519) to the list of known hosts.\n"
     ]
    },
    {
     "name": "stderr",
     "output_type": "stream",
     "text": [
      "Warning: Permanently added '192.168.88.9' (ED25519) to the list of known hosts.\n",
      "Warning: Permanently added '192.168.88.9' (ED25519) to the list of known hosts.\n",
      "Warning: Permanently added '192.168.88.9' (ED25519) to the list of known hosts.\n"
     ]
    },
    {
     "name": "stdout",
     "output_type": "stream",
     "text": [
      "Warning: Permanently added '192.168.88.10' (ED25519) to the list of known hosts.\n",
      "Warning: Permanently added '192.168.88.10' (ED25519) to the list of known hosts.\n"
     ]
    },
    {
     "name": "stderr",
     "output_type": "stream",
     "text": [
      "Warning: Permanently added '192.168.88.10' (ED25519) to the list of known hosts.\n",
      "Warning: Permanently added '192.168.88.10' (ED25519) to the list of known hosts.\n",
      "Warning: Permanently added '192.168.88.10' (ED25519) to the list of known hosts.\n"
     ]
    },
    {
     "name": "stdout",
     "output_type": "stream",
     "text": [
      "Perform measure\n",
      "Kill CPU and RAM usage scripts\n",
      "Warning: Permanently added '192.168.88.17' (ED25519) to the list of known hosts.\n",
      "Warning: Permanently added '192.168.88.17' (ED25519) to the list of known hosts.\n",
      "Warning: Permanently added '192.168.88.17' (ED25519) to the list of known hosts.\n",
      "Warning: Permanently added '192.168.88.17' (ED25519) to the list of known hosts.\n",
      "Warning: Permanently added '192.168.88.17' (ED25519) to the list of known hosts.\n",
      "Warning: Permanently added '192.168.88.17' (ED25519) to the list of known hosts.\n",
      "Warning: Permanently added '192.168.88.3' (ED25519) to the list of known hosts.\n",
      "Warning: Permanently added '192.168.88.3' (ED25519) to the list of known hosts.\n",
      "Warning: Permanently added '192.168.88.3' (ED25519) to the list of known hosts.\n",
      "Warning: Permanently added '192.168.88.3' (ED25519) to the list of known hosts.\n",
      "Warning: Permanently added '192.168.88.3' (ED25519) to the list of known hosts.\n",
      "Warning: Permanently added '192.168.88.3' (ED25519) to the list of known hosts.\n",
      "Warning: Permanently added '192.168.88.4' (ED25519) to the list of known hosts.\n",
      "Warning: Permanently added '192.168.88.4' (ED25519) to the list of known hosts.\n",
      "Warning: Permanently added '192.168.88.4' (ED25519) to the list of known hosts.\n",
      "Warning: Permanently added '192.168.88.4' (ED25519) to the list of known hosts.\n",
      "Warning: Permanently added '192.168.88.4' (ED25519) to the list of known hosts.\n",
      "Warning: Permanently added '192.168.88.4' (ED25519) to the list of known hosts.\n",
      "Warning: Permanently added '192.168.88.5' (ED25519) to the list of known hosts.\n",
      "Warning: Permanently added '192.168.88.5' (ED25519) to the list of known hosts.\n",
      "Warning: Permanently added '192.168.88.5' (ED25519) to the list of known hosts.\n",
      "Warning: Permanently added '192.168.88.5' (ED25519) to the list of known hosts.\n",
      "Warning: Permanently added '192.168.88.5' (ED25519) to the list of known hosts.\n",
      "Warning: Permanently added '192.168.88.5' (ED25519) to the list of known hosts.\n",
      "Warning: Permanently added '192.168.88.6' (ED25519) to the list of known hosts.\n",
      "Warning: Permanently added '192.168.88.6' (ED25519) to the list of known hosts.\n",
      "Warning: Permanently added '192.168.88.6' (ED25519) to the list of known hosts.\n",
      "Warning: Permanently added '192.168.88.6' (ED25519) to the list of known hosts.\n",
      "Warning: Permanently added '192.168.88.6' (ED25519) to the list of known hosts.\n",
      "Warning: Permanently added '192.168.88.6' (ED25519) to the list of known hosts.\n",
      "Warning: Permanently added '192.168.88.7' (ED25519) to the list of known hosts.\n",
      "Warning: Permanently added '192.168.88.7' (ED25519) to the list of known hosts.\n",
      "Warning: Permanently added '192.168.88.7' (ED25519) to the list of known hosts.\n",
      "Warning: Permanently added '192.168.88.7' (ED25519) to the list of known hosts.\n",
      "Warning: Permanently added '192.168.88.7' (ED25519) to the list of known hosts.\n",
      "Warning: Permanently added '192.168.88.7' (ED25519) to the list of known hosts.\n",
      "Warning: Permanently added '192.168.88.8' (ED25519) to the list of known hosts.\n",
      "Warning: Permanently added '192.168.88.8' (ED25519) to the list of known hosts.\n",
      "Warning: Permanently added '192.168.88.8' (ED25519) to the list of known hosts.\n",
      "Warning: Permanently added '192.168.88.8' (ED25519) to the list of known hosts.\n",
      "Warning: Permanently added '192.168.88.8' (ED25519) to the list of known hosts.\n",
      "Warning: Permanently added '192.168.88.8' (ED25519) to the list of known hosts.\n",
      "Warning: Permanently added '192.168.88.9' (ED25519) to the list of known hosts.\n",
      "Warning: Permanently added '192.168.88.9' (ED25519) to the list of known hosts.\n",
      "Warning: Permanently added '192.168.88.9' (ED25519) to the list of known hosts.\n",
      "Warning: Permanently added '192.168.88.9' (ED25519) to the list of known hosts.\n",
      "Warning: Permanently added '192.168.88.9' (ED25519) to the list of known hosts.\n",
      "Warning: Permanently added '192.168.88.9' (ED25519) to the list of known hosts.\n",
      "Warning: Permanently added '192.168.88.10' (ED25519) to the list of known hosts.\n",
      "Warning: Permanently added '192.168.88.10' (ED25519) to the list of known hosts.\n",
      "Warning: Permanently added '192.168.88.10' (ED25519) to the list of known hosts.\n",
      "Warning: Permanently added '192.168.88.10' (ED25519) to the list of known hosts.\n",
      "Warning: Permanently added '192.168.88.10' (ED25519) to the list of known hosts.\n",
      "Warning: Permanently added '192.168.88.10' (ED25519) to the list of known hosts.\n",
      "Warning: Permanently added '192.168.88.17' (ED25519) to the list of known hosts.\n",
      "deployment.apps/k3s-tflite-app-deployment restarted\n",
      "Iteration 3\n",
      "Warning: Permanently added '192.168.88.17' (ED25519) to the list of known hosts.\n",
      "Warning: Permanently added '192.168.88.17' (ED25519) to the list of known hosts.\n",
      "Warning: Permanently added '192.168.88.17' (ED25519) to the list of known hosts.\n",
      "Warning: Permanently added '192.168.88.3' (ED25519) to the list of known hosts.\n"
     ]
    },
    {
     "name": "stderr",
     "output_type": "stream",
     "text": [
      "Warning: Permanently added '192.168.88.17' (ED25519) to the list of known hosts.\n",
      "Warning: Permanently added '192.168.88.17' (ED25519) to the list of known hosts.\n",
      "Warning: Permanently added '192.168.88.17' (ED25519) to the list of known hosts.\n"
     ]
    },
    {
     "name": "stdout",
     "output_type": "stream",
     "text": [
      "Warning: Permanently added '192.168.88.3' (ED25519) to the list of known hosts.\n",
      "Warning: Permanently added '192.168.88.3' (ED25519) to the list of known hosts.\n",
      "Warning: Permanently added '192.168.88.4' (ED25519) to the list of known hosts.\n"
     ]
    },
    {
     "name": "stderr",
     "output_type": "stream",
     "text": [
      "Warning: Permanently added '192.168.88.3' (ED25519) to the list of known hosts.\n",
      "Warning: Permanently added '192.168.88.3' (ED25519) to the list of known hosts.\n",
      "Warning: Permanently added '192.168.88.3' (ED25519) to the list of known hosts.\n"
     ]
    },
    {
     "name": "stdout",
     "output_type": "stream",
     "text": [
      "Warning: Permanently added '192.168.88.4' (ED25519) to the list of known hosts.\n",
      "Warning: Permanently added '192.168.88.4' (ED25519) to the list of known hosts.\n",
      "Warning: Permanently added '192.168.88.5' (ED25519) to the list of known hosts.\n"
     ]
    },
    {
     "name": "stderr",
     "output_type": "stream",
     "text": [
      "Warning: Permanently added '192.168.88.4' (ED25519) to the list of known hosts.\n",
      "Warning: Permanently added '192.168.88.4' (ED25519) to the list of known hosts.\n",
      "Warning: Permanently added '192.168.88.4' (ED25519) to the list of known hosts.\n"
     ]
    },
    {
     "name": "stdout",
     "output_type": "stream",
     "text": [
      "Warning: Permanently added '192.168.88.5' (ED25519) to the list of known hosts.\n",
      "Warning: Permanently added '192.168.88.5' (ED25519) to the list of known hosts.\n",
      "Warning: Permanently added '192.168.88.6' (ED25519) to the list of known hosts.\n"
     ]
    },
    {
     "name": "stderr",
     "output_type": "stream",
     "text": [
      "Warning: Permanently added '192.168.88.5' (ED25519) to the list of known hosts.\n",
      "Warning: Permanently added '192.168.88.5' (ED25519) to the list of known hosts.\n",
      "Warning: Permanently added '192.168.88.5' (ED25519) to the list of known hosts.\n"
     ]
    },
    {
     "name": "stdout",
     "output_type": "stream",
     "text": [
      "Warning: Permanently added '192.168.88.6' (ED25519) to the list of known hosts.\n",
      "Warning: Permanently added '192.168.88.6' (ED25519) to the list of known hosts.\n",
      "Warning: Permanently added '192.168.88.7' (ED25519) to the list of known hosts.\n"
     ]
    },
    {
     "name": "stderr",
     "output_type": "stream",
     "text": [
      "Warning: Permanently added '192.168.88.6' (ED25519) to the list of known hosts.\n",
      "Warning: Permanently added '192.168.88.6' (ED25519) to the list of known hosts.\n",
      "Warning: Permanently added '192.168.88.6' (ED25519) to the list of known hosts.\n"
     ]
    },
    {
     "name": "stdout",
     "output_type": "stream",
     "text": [
      "Warning: Permanently added '192.168.88.7' (ED25519) to the list of known hosts.\n",
      "Warning: Permanently added '192.168.88.7' (ED25519) to the list of known hosts.\n",
      "Warning: Permanently added '192.168.88.8' (ED25519) to the list of known hosts.\n"
     ]
    },
    {
     "name": "stderr",
     "output_type": "stream",
     "text": [
      "Warning: Permanently added '192.168.88.7' (ED25519) to the list of known hosts.\n",
      "Warning: Permanently added '192.168.88.7' (ED25519) to the list of known hosts.\n",
      "Warning: Permanently added '192.168.88.7' (ED25519) to the list of known hosts.\n"
     ]
    },
    {
     "name": "stdout",
     "output_type": "stream",
     "text": [
      "Warning: Permanently added '192.168.88.8' (ED25519) to the list of known hosts.\n",
      "Warning: Permanently added '192.168.88.8' (ED25519) to the list of known hosts.\n",
      "Warning: Permanently added '192.168.88.9' (ED25519) to the list of known hosts.\n"
     ]
    },
    {
     "name": "stderr",
     "output_type": "stream",
     "text": [
      "Warning: Permanently added '192.168.88.8' (ED25519) to the list of known hosts.\n",
      "Warning: Permanently added '192.168.88.8' (ED25519) to the list of known hosts.\n",
      "Warning: Permanently added '192.168.88.8' (ED25519) to the list of known hosts.\n"
     ]
    },
    {
     "name": "stdout",
     "output_type": "stream",
     "text": [
      "Warning: Permanently added '192.168.88.9' (ED25519) to the list of known hosts.\n",
      "Warning: Permanently added '192.168.88.9' (ED25519) to the list of known hosts.\n",
      "Warning: Permanently added '192.168.88.10' (ED25519) to the list of known hosts.\n"
     ]
    },
    {
     "name": "stderr",
     "output_type": "stream",
     "text": [
      "Warning: Permanently added '192.168.88.9' (ED25519) to the list of known hosts.\n",
      "Warning: Permanently added '192.168.88.9' (ED25519) to the list of known hosts.\n",
      "Warning: Permanently added '192.168.88.9' (ED25519) to the list of known hosts.\n"
     ]
    },
    {
     "name": "stdout",
     "output_type": "stream",
     "text": [
      "Warning: Permanently added '192.168.88.10' (ED25519) to the list of known hosts.\n",
      "Warning: Permanently added '192.168.88.10' (ED25519) to the list of known hosts.\n"
     ]
    },
    {
     "name": "stderr",
     "output_type": "stream",
     "text": [
      "Warning: Permanently added '192.168.88.10' (ED25519) to the list of known hosts.\n",
      "Warning: Permanently added '192.168.88.10' (ED25519) to the list of known hosts.\n",
      "Warning: Permanently added '192.168.88.10' (ED25519) to the list of known hosts.\n"
     ]
    },
    {
     "name": "stdout",
     "output_type": "stream",
     "text": [
      "Perform measure\n",
      "Kill CPU and RAM usage scripts\n",
      "Warning: Permanently added '192.168.88.17' (ED25519) to the list of known hosts.\n",
      "Warning: Permanently added '192.168.88.17' (ED25519) to the list of known hosts.\n",
      "Warning: Permanently added '192.168.88.17' (ED25519) to the list of known hosts.\n",
      "Warning: Permanently added '192.168.88.17' (ED25519) to the list of known hosts.\n",
      "Warning: Permanently added '192.168.88.17' (ED25519) to the list of known hosts.\n",
      "Warning: Permanently added '192.168.88.17' (ED25519) to the list of known hosts.\n",
      "Warning: Permanently added '192.168.88.3' (ED25519) to the list of known hosts.\n",
      "Warning: Permanently added '192.168.88.3' (ED25519) to the list of known hosts.\n",
      "Warning: Permanently added '192.168.88.3' (ED25519) to the list of known hosts.\n",
      "Warning: Permanently added '192.168.88.3' (ED25519) to the list of known hosts.\n",
      "Warning: Permanently added '192.168.88.3' (ED25519) to the list of known hosts.\n",
      "Warning: Permanently added '192.168.88.3' (ED25519) to the list of known hosts.\n",
      "Warning: Permanently added '192.168.88.4' (ED25519) to the list of known hosts.\n",
      "Warning: Permanently added '192.168.88.4' (ED25519) to the list of known hosts.\n",
      "Warning: Permanently added '192.168.88.4' (ED25519) to the list of known hosts.\n",
      "Warning: Permanently added '192.168.88.4' (ED25519) to the list of known hosts.\n",
      "Warning: Permanently added '192.168.88.4' (ED25519) to the list of known hosts.\n",
      "Warning: Permanently added '192.168.88.4' (ED25519) to the list of known hosts.\n",
      "Warning: Permanently added '192.168.88.5' (ED25519) to the list of known hosts.\n",
      "Warning: Permanently added '192.168.88.5' (ED25519) to the list of known hosts.\n",
      "Warning: Permanently added '192.168.88.5' (ED25519) to the list of known hosts.\n",
      "Warning: Permanently added '192.168.88.5' (ED25519) to the list of known hosts.\n",
      "Warning: Permanently added '192.168.88.5' (ED25519) to the list of known hosts.\n",
      "Warning: Permanently added '192.168.88.5' (ED25519) to the list of known hosts.\n",
      "Warning: Permanently added '192.168.88.6' (ED25519) to the list of known hosts.\n",
      "Warning: Permanently added '192.168.88.6' (ED25519) to the list of known hosts.\n",
      "Warning: Permanently added '192.168.88.6' (ED25519) to the list of known hosts.\n",
      "Warning: Permanently added '192.168.88.6' (ED25519) to the list of known hosts.\n",
      "Warning: Permanently added '192.168.88.6' (ED25519) to the list of known hosts.\n",
      "Warning: Permanently added '192.168.88.6' (ED25519) to the list of known hosts.\n",
      "Warning: Permanently added '192.168.88.7' (ED25519) to the list of known hosts.\n",
      "Warning: Permanently added '192.168.88.7' (ED25519) to the list of known hosts.\n",
      "Warning: Permanently added '192.168.88.7' (ED25519) to the list of known hosts.\n",
      "Warning: Permanently added '192.168.88.7' (ED25519) to the list of known hosts.\n",
      "Warning: Permanently added '192.168.88.7' (ED25519) to the list of known hosts.\n",
      "Warning: Permanently added '192.168.88.7' (ED25519) to the list of known hosts.\n",
      "Warning: Permanently added '192.168.88.8' (ED25519) to the list of known hosts.\n",
      "Warning: Permanently added '192.168.88.8' (ED25519) to the list of known hosts.\n",
      "Warning: Permanently added '192.168.88.8' (ED25519) to the list of known hosts.\n",
      "Warning: Permanently added '192.168.88.8' (ED25519) to the list of known hosts.\n",
      "Warning: Permanently added '192.168.88.8' (ED25519) to the list of known hosts.\n",
      "Warning: Permanently added '192.168.88.8' (ED25519) to the list of known hosts.\n",
      "Warning: Permanently added '192.168.88.9' (ED25519) to the list of known hosts.\n",
      "Warning: Permanently added '192.168.88.9' (ED25519) to the list of known hosts.\n",
      "Warning: Permanently added '192.168.88.9' (ED25519) to the list of known hosts.\n",
      "Warning: Permanently added '192.168.88.9' (ED25519) to the list of known hosts.\n",
      "Warning: Permanently added '192.168.88.9' (ED25519) to the list of known hosts.\n",
      "Warning: Permanently added '192.168.88.9' (ED25519) to the list of known hosts.\n",
      "Warning: Permanently added '192.168.88.10' (ED25519) to the list of known hosts.\n",
      "Warning: Permanently added '192.168.88.10' (ED25519) to the list of known hosts.\n",
      "Warning: Permanently added '192.168.88.10' (ED25519) to the list of known hosts.\n",
      "Warning: Permanently added '192.168.88.10' (ED25519) to the list of known hosts.\n",
      "Warning: Permanently added '192.168.88.10' (ED25519) to the list of known hosts.\n",
      "Warning: Permanently added '192.168.88.10' (ED25519) to the list of known hosts.\n",
      "Warning: Permanently added '192.168.88.17' (ED25519) to the list of known hosts.\n",
      "deployment.apps/k3s-tflite-app-deployment restarted\n",
      "Iteration 4\n",
      "Warning: Permanently added '192.168.88.17' (ED25519) to the list of known hosts.\n",
      "Warning: Permanently added '192.168.88.17' (ED25519) to the list of known hosts.\n",
      "Warning: Permanently added '192.168.88.17' (ED25519) to the list of known hosts.\n",
      "Warning: Permanently added '192.168.88.3' (ED25519) to the list of known hosts.\n"
     ]
    },
    {
     "name": "stderr",
     "output_type": "stream",
     "text": [
      "Warning: Permanently added '192.168.88.17' (ED25519) to the list of known hosts.\n",
      "Warning: Permanently added '192.168.88.17' (ED25519) to the list of known hosts.\n",
      "Warning: Permanently added '192.168.88.17' (ED25519) to the list of known hosts.\n"
     ]
    },
    {
     "name": "stdout",
     "output_type": "stream",
     "text": [
      "Warning: Permanently added '192.168.88.3' (ED25519) to the list of known hosts.\n",
      "Warning: Permanently added '192.168.88.3' (ED25519) to the list of known hosts.\n",
      "Warning: Permanently added '192.168.88.4' (ED25519) to the list of known hosts.\n"
     ]
    },
    {
     "name": "stderr",
     "output_type": "stream",
     "text": [
      "Warning: Permanently added '192.168.88.3' (ED25519) to the list of known hosts.\n",
      "Warning: Permanently added '192.168.88.3' (ED25519) to the list of known hosts.\n",
      "Warning: Permanently added '192.168.88.3' (ED25519) to the list of known hosts.\n"
     ]
    },
    {
     "name": "stdout",
     "output_type": "stream",
     "text": [
      "Warning: Permanently added '192.168.88.4' (ED25519) to the list of known hosts.\n",
      "Warning: Permanently added '192.168.88.4' (ED25519) to the list of known hosts.\n",
      "Warning: Permanently added '192.168.88.5' (ED25519) to the list of known hosts.\n"
     ]
    },
    {
     "name": "stderr",
     "output_type": "stream",
     "text": [
      "Warning: Permanently added '192.168.88.4' (ED25519) to the list of known hosts.\n",
      "Warning: Permanently added '192.168.88.4' (ED25519) to the list of known hosts.\n",
      "Warning: Permanently added '192.168.88.4' (ED25519) to the list of known hosts.\n"
     ]
    },
    {
     "name": "stdout",
     "output_type": "stream",
     "text": [
      "Warning: Permanently added '192.168.88.5' (ED25519) to the list of known hosts.\n",
      "Warning: Permanently added '192.168.88.5' (ED25519) to the list of known hosts.\n",
      "Warning: Permanently added '192.168.88.6' (ED25519) to the list of known hosts.\n"
     ]
    },
    {
     "name": "stderr",
     "output_type": "stream",
     "text": [
      "Warning: Permanently added '192.168.88.5' (ED25519) to the list of known hosts.\n",
      "Warning: Permanently added '192.168.88.5' (ED25519) to the list of known hosts.\n",
      "Warning: Permanently added '192.168.88.5' (ED25519) to the list of known hosts.\n"
     ]
    },
    {
     "name": "stdout",
     "output_type": "stream",
     "text": [
      "Warning: Permanently added '192.168.88.6' (ED25519) to the list of known hosts.\n",
      "Warning: Permanently added '192.168.88.6' (ED25519) to the list of known hosts.\n",
      "Warning: Permanently added '192.168.88.7' (ED25519) to the list of known hosts.\n"
     ]
    },
    {
     "name": "stderr",
     "output_type": "stream",
     "text": [
      "Warning: Permanently added '192.168.88.6' (ED25519) to the list of known hosts.\n",
      "Warning: Permanently added '192.168.88.6' (ED25519) to the list of known hosts.\n",
      "Warning: Permanently added '192.168.88.6' (ED25519) to the list of known hosts.\n"
     ]
    },
    {
     "name": "stdout",
     "output_type": "stream",
     "text": [
      "Warning: Permanently added '192.168.88.7' (ED25519) to the list of known hosts.\n",
      "Warning: Permanently added '192.168.88.7' (ED25519) to the list of known hosts.\n",
      "Warning: Permanently added '192.168.88.8' (ED25519) to the list of known hosts.\n"
     ]
    },
    {
     "name": "stderr",
     "output_type": "stream",
     "text": [
      "Warning: Permanently added '192.168.88.7' (ED25519) to the list of known hosts.\n",
      "Warning: Permanently added '192.168.88.7' (ED25519) to the list of known hosts.\n",
      "Warning: Permanently added '192.168.88.7' (ED25519) to the list of known hosts.\n"
     ]
    },
    {
     "name": "stdout",
     "output_type": "stream",
     "text": [
      "Warning: Permanently added '192.168.88.8' (ED25519) to the list of known hosts.\n",
      "Warning: Permanently added '192.168.88.8' (ED25519) to the list of known hosts.\n",
      "Warning: Permanently added '192.168.88.9' (ED25519) to the list of known hosts.\n"
     ]
    },
    {
     "name": "stderr",
     "output_type": "stream",
     "text": [
      "Warning: Permanently added '192.168.88.8' (ED25519) to the list of known hosts.\n",
      "Warning: Permanently added '192.168.88.8' (ED25519) to the list of known hosts.\n",
      "Warning: Permanently added '192.168.88.8' (ED25519) to the list of known hosts.\n"
     ]
    },
    {
     "name": "stdout",
     "output_type": "stream",
     "text": [
      "Warning: Permanently added '192.168.88.9' (ED25519) to the list of known hosts.\n",
      "Warning: Permanently added '192.168.88.9' (ED25519) to the list of known hosts.\n",
      "Warning: Permanently added '192.168.88.10' (ED25519) to the list of known hosts.\n"
     ]
    },
    {
     "name": "stderr",
     "output_type": "stream",
     "text": [
      "Warning: Permanently added '192.168.88.9' (ED25519) to the list of known hosts.\n",
      "Warning: Permanently added '192.168.88.9' (ED25519) to the list of known hosts.\n",
      "Warning: Permanently added '192.168.88.9' (ED25519) to the list of known hosts.\n"
     ]
    },
    {
     "name": "stdout",
     "output_type": "stream",
     "text": [
      "Warning: Permanently added '192.168.88.10' (ED25519) to the list of known hosts.\n",
      "Warning: Permanently added '192.168.88.10' (ED25519) to the list of known hosts.\n"
     ]
    },
    {
     "name": "stderr",
     "output_type": "stream",
     "text": [
      "Warning: Permanently added '192.168.88.10' (ED25519) to the list of known hosts.\n",
      "Warning: Permanently added '192.168.88.10' (ED25519) to the list of known hosts.\n",
      "Warning: Permanently added '192.168.88.10' (ED25519) to the list of known hosts.\n"
     ]
    },
    {
     "name": "stdout",
     "output_type": "stream",
     "text": [
      "Perform measure\n",
      "Kill CPU and RAM usage scripts\n",
      "Warning: Permanently added '192.168.88.17' (ED25519) to the list of known hosts.\n",
      "Warning: Permanently added '192.168.88.17' (ED25519) to the list of known hosts.\n",
      "Warning: Permanently added '192.168.88.17' (ED25519) to the list of known hosts.\n",
      "Warning: Permanently added '192.168.88.17' (ED25519) to the list of known hosts.\n",
      "Warning: Permanently added '192.168.88.17' (ED25519) to the list of known hosts.\n",
      "Warning: Permanently added '192.168.88.17' (ED25519) to the list of known hosts.\n",
      "Warning: Permanently added '192.168.88.3' (ED25519) to the list of known hosts.\n",
      "Warning: Permanently added '192.168.88.3' (ED25519) to the list of known hosts.\n",
      "Warning: Permanently added '192.168.88.3' (ED25519) to the list of known hosts.\n",
      "Warning: Permanently added '192.168.88.3' (ED25519) to the list of known hosts.\n",
      "Warning: Permanently added '192.168.88.3' (ED25519) to the list of known hosts.\n",
      "Warning: Permanently added '192.168.88.3' (ED25519) to the list of known hosts.\n",
      "Warning: Permanently added '192.168.88.4' (ED25519) to the list of known hosts.\n",
      "Warning: Permanently added '192.168.88.4' (ED25519) to the list of known hosts.\n",
      "Warning: Permanently added '192.168.88.4' (ED25519) to the list of known hosts.\n",
      "Warning: Permanently added '192.168.88.4' (ED25519) to the list of known hosts.\n",
      "Warning: Permanently added '192.168.88.4' (ED25519) to the list of known hosts.\n",
      "Warning: Permanently added '192.168.88.4' (ED25519) to the list of known hosts.\n",
      "Warning: Permanently added '192.168.88.5' (ED25519) to the list of known hosts.\n",
      "Warning: Permanently added '192.168.88.5' (ED25519) to the list of known hosts.\n",
      "Warning: Permanently added '192.168.88.5' (ED25519) to the list of known hosts.\n",
      "Warning: Permanently added '192.168.88.5' (ED25519) to the list of known hosts.\n",
      "Warning: Permanently added '192.168.88.5' (ED25519) to the list of known hosts.\n",
      "Warning: Permanently added '192.168.88.5' (ED25519) to the list of known hosts.\n",
      "Warning: Permanently added '192.168.88.6' (ED25519) to the list of known hosts.\n",
      "Warning: Permanently added '192.168.88.6' (ED25519) to the list of known hosts.\n",
      "Warning: Permanently added '192.168.88.6' (ED25519) to the list of known hosts.\n",
      "Warning: Permanently added '192.168.88.6' (ED25519) to the list of known hosts.\n",
      "Warning: Permanently added '192.168.88.6' (ED25519) to the list of known hosts.\n",
      "Warning: Permanently added '192.168.88.6' (ED25519) to the list of known hosts.\n",
      "Warning: Permanently added '192.168.88.7' (ED25519) to the list of known hosts.\n",
      "Warning: Permanently added '192.168.88.7' (ED25519) to the list of known hosts.\n",
      "Warning: Permanently added '192.168.88.7' (ED25519) to the list of known hosts.\n",
      "Warning: Permanently added '192.168.88.7' (ED25519) to the list of known hosts.\n",
      "Warning: Permanently added '192.168.88.7' (ED25519) to the list of known hosts.\n",
      "Warning: Permanently added '192.168.88.7' (ED25519) to the list of known hosts.\n",
      "Warning: Permanently added '192.168.88.8' (ED25519) to the list of known hosts.\n",
      "Warning: Permanently added '192.168.88.8' (ED25519) to the list of known hosts.\n",
      "Warning: Permanently added '192.168.88.8' (ED25519) to the list of known hosts.\n",
      "Warning: Permanently added '192.168.88.8' (ED25519) to the list of known hosts.\n",
      "Warning: Permanently added '192.168.88.8' (ED25519) to the list of known hosts.\n",
      "Warning: Permanently added '192.168.88.8' (ED25519) to the list of known hosts.\n",
      "Warning: Permanently added '192.168.88.9' (ED25519) to the list of known hosts.\n",
      "Warning: Permanently added '192.168.88.9' (ED25519) to the list of known hosts.\n",
      "Warning: Permanently added '192.168.88.9' (ED25519) to the list of known hosts.\n",
      "Warning: Permanently added '192.168.88.9' (ED25519) to the list of known hosts.\n",
      "Warning: Permanently added '192.168.88.9' (ED25519) to the list of known hosts.\n",
      "Warning: Permanently added '192.168.88.9' (ED25519) to the list of known hosts.\n",
      "Warning: Permanently added '192.168.88.10' (ED25519) to the list of known hosts.\n",
      "Warning: Permanently added '192.168.88.10' (ED25519) to the list of known hosts.\n",
      "Warning: Permanently added '192.168.88.10' (ED25519) to the list of known hosts.\n",
      "Warning: Permanently added '192.168.88.10' (ED25519) to the list of known hosts.\n",
      "Warning: Permanently added '192.168.88.10' (ED25519) to the list of known hosts.\n",
      "Warning: Permanently added '192.168.88.10' (ED25519) to the list of known hosts.\n",
      "Warning: Permanently added '192.168.88.17' (ED25519) to the list of known hosts.\n",
      "deployment.apps/k3s-tflite-app-deployment restarted\n",
      "Iteration 5\n",
      "Warning: Permanently added '192.168.88.17' (ED25519) to the list of known hosts.\n",
      "Warning: Permanently added '192.168.88.17' (ED25519) to the list of known hosts.\n",
      "Warning: Permanently added '192.168.88.17' (ED25519) to the list of known hosts.\n",
      "Warning: Permanently added '192.168.88.3' (ED25519) to the list of known hosts.\n"
     ]
    },
    {
     "name": "stderr",
     "output_type": "stream",
     "text": [
      "Warning: Permanently added '192.168.88.17' (ED25519) to the list of known hosts.\n",
      "Warning: Permanently added '192.168.88.17' (ED25519) to the list of known hosts.\n",
      "Warning: Permanently added '192.168.88.17' (ED25519) to the list of known hosts.\n"
     ]
    },
    {
     "name": "stdout",
     "output_type": "stream",
     "text": [
      "Warning: Permanently added '192.168.88.3' (ED25519) to the list of known hosts.\n",
      "Warning: Permanently added '192.168.88.3' (ED25519) to the list of known hosts.\n",
      "Warning: Permanently added '192.168.88.4' (ED25519) to the list of known hosts.\n"
     ]
    },
    {
     "name": "stderr",
     "output_type": "stream",
     "text": [
      "Warning: Permanently added '192.168.88.3' (ED25519) to the list of known hosts.\n",
      "Warning: Permanently added '192.168.88.3' (ED25519) to the list of known hosts.\n",
      "Warning: Permanently added '192.168.88.3' (ED25519) to the list of known hosts.\n"
     ]
    },
    {
     "name": "stdout",
     "output_type": "stream",
     "text": [
      "Warning: Permanently added '192.168.88.4' (ED25519) to the list of known hosts.\n",
      "Warning: Permanently added '192.168.88.4' (ED25519) to the list of known hosts.\n",
      "Warning: Permanently added '192.168.88.5' (ED25519) to the list of known hosts.\n"
     ]
    },
    {
     "name": "stderr",
     "output_type": "stream",
     "text": [
      "Warning: Permanently added '192.168.88.4' (ED25519) to the list of known hosts.\n",
      "Warning: Permanently added '192.168.88.4' (ED25519) to the list of known hosts.\n",
      "Warning: Permanently added '192.168.88.4' (ED25519) to the list of known hosts.\n"
     ]
    },
    {
     "name": "stdout",
     "output_type": "stream",
     "text": [
      "Warning: Permanently added '192.168.88.5' (ED25519) to the list of known hosts.\n",
      "Warning: Permanently added '192.168.88.5' (ED25519) to the list of known hosts.\n",
      "Warning: Permanently added '192.168.88.6' (ED25519) to the list of known hosts.\n"
     ]
    },
    {
     "name": "stderr",
     "output_type": "stream",
     "text": [
      "Warning: Permanently added '192.168.88.5' (ED25519) to the list of known hosts.\n",
      "Warning: Permanently added '192.168.88.5' (ED25519) to the list of known hosts.\n",
      "Warning: Permanently added '192.168.88.5' (ED25519) to the list of known hosts.\n"
     ]
    },
    {
     "name": "stdout",
     "output_type": "stream",
     "text": [
      "Warning: Permanently added '192.168.88.6' (ED25519) to the list of known hosts.\n",
      "Warning: Permanently added '192.168.88.6' (ED25519) to the list of known hosts.\n",
      "Warning: Permanently added '192.168.88.7' (ED25519) to the list of known hosts.\n"
     ]
    },
    {
     "name": "stderr",
     "output_type": "stream",
     "text": [
      "Warning: Permanently added '192.168.88.6' (ED25519) to the list of known hosts.\n",
      "Warning: Permanently added '192.168.88.6' (ED25519) to the list of known hosts.\n",
      "Warning: Permanently added '192.168.88.6' (ED25519) to the list of known hosts.\n"
     ]
    },
    {
     "name": "stdout",
     "output_type": "stream",
     "text": [
      "Warning: Permanently added '192.168.88.7' (ED25519) to the list of known hosts.\n",
      "Warning: Permanently added '192.168.88.7' (ED25519) to the list of known hosts.\n",
      "Warning: Permanently added '192.168.88.8' (ED25519) to the list of known hosts.\n"
     ]
    },
    {
     "name": "stderr",
     "output_type": "stream",
     "text": [
      "Warning: Permanently added '192.168.88.7' (ED25519) to the list of known hosts.\n",
      "Warning: Permanently added '192.168.88.7' (ED25519) to the list of known hosts.\n",
      "Warning: Permanently added '192.168.88.7' (ED25519) to the list of known hosts.\n"
     ]
    },
    {
     "name": "stdout",
     "output_type": "stream",
     "text": [
      "Warning: Permanently added '192.168.88.8' (ED25519) to the list of known hosts.\n",
      "Warning: Permanently added '192.168.88.8' (ED25519) to the list of known hosts.\n",
      "Warning: Permanently added '192.168.88.9' (ED25519) to the list of known hosts.\n"
     ]
    },
    {
     "name": "stderr",
     "output_type": "stream",
     "text": [
      "Warning: Permanently added '192.168.88.8' (ED25519) to the list of known hosts.\n",
      "Warning: Permanently added '192.168.88.8' (ED25519) to the list of known hosts.\n",
      "Warning: Permanently added '192.168.88.8' (ED25519) to the list of known hosts.\n"
     ]
    },
    {
     "name": "stdout",
     "output_type": "stream",
     "text": [
      "Warning: Permanently added '192.168.88.9' (ED25519) to the list of known hosts.\n",
      "Warning: Permanently added '192.168.88.9' (ED25519) to the list of known hosts.\n",
      "Warning: Permanently added '192.168.88.10' (ED25519) to the list of known hosts.\n"
     ]
    },
    {
     "name": "stderr",
     "output_type": "stream",
     "text": [
      "Warning: Permanently added '192.168.88.9' (ED25519) to the list of known hosts.\n",
      "Warning: Permanently added '192.168.88.9' (ED25519) to the list of known hosts.\n",
      "Warning: Permanently added '192.168.88.9' (ED25519) to the list of known hosts.\n"
     ]
    },
    {
     "name": "stdout",
     "output_type": "stream",
     "text": [
      "Warning: Permanently added '192.168.88.10' (ED25519) to the list of known hosts.\n",
      "Warning: Permanently added '192.168.88.10' (ED25519) to the list of known hosts.\n"
     ]
    },
    {
     "name": "stderr",
     "output_type": "stream",
     "text": [
      "Warning: Permanently added '192.168.88.10' (ED25519) to the list of known hosts.\n",
      "Warning: Permanently added '192.168.88.10' (ED25519) to the list of known hosts.\n",
      "Warning: Permanently added '192.168.88.10' (ED25519) to the list of known hosts.\n"
     ]
    },
    {
     "name": "stdout",
     "output_type": "stream",
     "text": [
      "Perform measure\n",
      "Kill CPU and RAM usage scripts\n",
      "Warning: Permanently added '192.168.88.17' (ED25519) to the list of known hosts.\n",
      "Warning: Permanently added '192.168.88.17' (ED25519) to the list of known hosts.\n",
      "Warning: Permanently added '192.168.88.17' (ED25519) to the list of known hosts.\n",
      "Warning: Permanently added '192.168.88.17' (ED25519) to the list of known hosts.\n",
      "Warning: Permanently added '192.168.88.17' (ED25519) to the list of known hosts.\n",
      "Warning: Permanently added '192.168.88.17' (ED25519) to the list of known hosts.\n",
      "Warning: Permanently added '192.168.88.3' (ED25519) to the list of known hosts.\n",
      "Warning: Permanently added '192.168.88.3' (ED25519) to the list of known hosts.\n",
      "Warning: Permanently added '192.168.88.3' (ED25519) to the list of known hosts.\n",
      "Warning: Permanently added '192.168.88.3' (ED25519) to the list of known hosts.\n",
      "Warning: Permanently added '192.168.88.3' (ED25519) to the list of known hosts.\n",
      "Warning: Permanently added '192.168.88.3' (ED25519) to the list of known hosts.\n",
      "Warning: Permanently added '192.168.88.4' (ED25519) to the list of known hosts.\n",
      "Warning: Permanently added '192.168.88.4' (ED25519) to the list of known hosts.\n",
      "Warning: Permanently added '192.168.88.4' (ED25519) to the list of known hosts.\n",
      "Warning: Permanently added '192.168.88.4' (ED25519) to the list of known hosts.\n",
      "Warning: Permanently added '192.168.88.4' (ED25519) to the list of known hosts.\n",
      "Warning: Permanently added '192.168.88.4' (ED25519) to the list of known hosts.\n",
      "Warning: Permanently added '192.168.88.5' (ED25519) to the list of known hosts.\n",
      "Warning: Permanently added '192.168.88.5' (ED25519) to the list of known hosts.\n",
      "Warning: Permanently added '192.168.88.5' (ED25519) to the list of known hosts.\n",
      "Warning: Permanently added '192.168.88.5' (ED25519) to the list of known hosts.\n",
      "Warning: Permanently added '192.168.88.5' (ED25519) to the list of known hosts.\n",
      "Warning: Permanently added '192.168.88.5' (ED25519) to the list of known hosts.\n",
      "Warning: Permanently added '192.168.88.6' (ED25519) to the list of known hosts.\n",
      "Warning: Permanently added '192.168.88.6' (ED25519) to the list of known hosts.\n",
      "Warning: Permanently added '192.168.88.6' (ED25519) to the list of known hosts.\n",
      "Warning: Permanently added '192.168.88.6' (ED25519) to the list of known hosts.\n",
      "Warning: Permanently added '192.168.88.6' (ED25519) to the list of known hosts.\n",
      "Warning: Permanently added '192.168.88.6' (ED25519) to the list of known hosts.\n",
      "Warning: Permanently added '192.168.88.7' (ED25519) to the list of known hosts.\n",
      "Warning: Permanently added '192.168.88.7' (ED25519) to the list of known hosts.\n",
      "Warning: Permanently added '192.168.88.7' (ED25519) to the list of known hosts.\n",
      "Warning: Permanently added '192.168.88.7' (ED25519) to the list of known hosts.\n",
      "Warning: Permanently added '192.168.88.7' (ED25519) to the list of known hosts.\n",
      "Warning: Permanently added '192.168.88.7' (ED25519) to the list of known hosts.\n",
      "Warning: Permanently added '192.168.88.8' (ED25519) to the list of known hosts.\n",
      "Warning: Permanently added '192.168.88.8' (ED25519) to the list of known hosts.\n",
      "Warning: Permanently added '192.168.88.8' (ED25519) to the list of known hosts.\n",
      "Warning: Permanently added '192.168.88.8' (ED25519) to the list of known hosts.\n",
      "Warning: Permanently added '192.168.88.8' (ED25519) to the list of known hosts.\n",
      "Warning: Permanently added '192.168.88.8' (ED25519) to the list of known hosts.\n",
      "Warning: Permanently added '192.168.88.9' (ED25519) to the list of known hosts.\n",
      "Warning: Permanently added '192.168.88.9' (ED25519) to the list of known hosts.\n",
      "Warning: Permanently added '192.168.88.9' (ED25519) to the list of known hosts.\n",
      "Warning: Permanently added '192.168.88.9' (ED25519) to the list of known hosts.\n",
      "Warning: Permanently added '192.168.88.9' (ED25519) to the list of known hosts.\n",
      "Warning: Permanently added '192.168.88.9' (ED25519) to the list of known hosts.\n",
      "Warning: Permanently added '192.168.88.10' (ED25519) to the list of known hosts.\n",
      "Warning: Permanently added '192.168.88.10' (ED25519) to the list of known hosts.\n",
      "Warning: Permanently added '192.168.88.10' (ED25519) to the list of known hosts.\n",
      "Warning: Permanently added '192.168.88.10' (ED25519) to the list of known hosts.\n",
      "Warning: Permanently added '192.168.88.10' (ED25519) to the list of known hosts.\n",
      "Warning: Permanently added '192.168.88.10' (ED25519) to the list of known hosts.\n",
      "Warning: Permanently added '192.168.88.17' (ED25519) to the list of known hosts.\n",
      "deployment.apps/k3s-tflite-app-deployment restarted\n",
      "Iteration 6\n",
      "Warning: Permanently added '192.168.88.17' (ED25519) to the list of known hosts.\n",
      "Warning: Permanently added '192.168.88.17' (ED25519) to the list of known hosts.\n",
      "Warning: Permanently added '192.168.88.17' (ED25519) to the list of known hosts.\n",
      "Warning: Permanently added '192.168.88.3' (ED25519) to the list of known hosts.\n"
     ]
    },
    {
     "name": "stderr",
     "output_type": "stream",
     "text": [
      "Warning: Permanently added '192.168.88.17' (ED25519) to the list of known hosts.\n",
      "Warning: Permanently added '192.168.88.17' (ED25519) to the list of known hosts.\n",
      "Warning: Permanently added '192.168.88.17' (ED25519) to the list of known hosts.\n"
     ]
    },
    {
     "name": "stdout",
     "output_type": "stream",
     "text": [
      "Warning: Permanently added '192.168.88.3' (ED25519) to the list of known hosts.\n",
      "Warning: Permanently added '192.168.88.3' (ED25519) to the list of known hosts.\n",
      "Warning: Permanently added '192.168.88.4' (ED25519) to the list of known hosts.\n"
     ]
    },
    {
     "name": "stderr",
     "output_type": "stream",
     "text": [
      "Warning: Permanently added '192.168.88.3' (ED25519) to the list of known hosts.\n",
      "Warning: Permanently added '192.168.88.3' (ED25519) to the list of known hosts.\n",
      "Warning: Permanently added '192.168.88.3' (ED25519) to the list of known hosts.\n"
     ]
    },
    {
     "name": "stdout",
     "output_type": "stream",
     "text": [
      "Warning: Permanently added '192.168.88.4' (ED25519) to the list of known hosts.\n",
      "Warning: Permanently added '192.168.88.4' (ED25519) to the list of known hosts.\n",
      "Warning: Permanently added '192.168.88.5' (ED25519) to the list of known hosts.\n"
     ]
    },
    {
     "name": "stderr",
     "output_type": "stream",
     "text": [
      "Warning: Permanently added '192.168.88.4' (ED25519) to the list of known hosts.\n",
      "Warning: Permanently added '192.168.88.4' (ED25519) to the list of known hosts.\n",
      "Warning: Permanently added '192.168.88.4' (ED25519) to the list of known hosts.\n"
     ]
    },
    {
     "name": "stdout",
     "output_type": "stream",
     "text": [
      "Warning: Permanently added '192.168.88.5' (ED25519) to the list of known hosts.\n",
      "Warning: Permanently added '192.168.88.5' (ED25519) to the list of known hosts.\n",
      "Warning: Permanently added '192.168.88.6' (ED25519) to the list of known hosts.\n"
     ]
    },
    {
     "name": "stderr",
     "output_type": "stream",
     "text": [
      "Warning: Permanently added '192.168.88.5' (ED25519) to the list of known hosts.\n",
      "Warning: Permanently added '192.168.88.5' (ED25519) to the list of known hosts.\n",
      "Warning: Permanently added '192.168.88.5' (ED25519) to the list of known hosts.\n"
     ]
    },
    {
     "name": "stdout",
     "output_type": "stream",
     "text": [
      "Warning: Permanently added '192.168.88.6' (ED25519) to the list of known hosts.\n",
      "Warning: Permanently added '192.168.88.6' (ED25519) to the list of known hosts.\n",
      "Warning: Permanently added '192.168.88.7' (ED25519) to the list of known hosts.\n"
     ]
    },
    {
     "name": "stderr",
     "output_type": "stream",
     "text": [
      "Warning: Permanently added '192.168.88.6' (ED25519) to the list of known hosts.\n",
      "Warning: Permanently added '192.168.88.6' (ED25519) to the list of known hosts.\n",
      "Warning: Permanently added '192.168.88.6' (ED25519) to the list of known hosts.\n"
     ]
    },
    {
     "name": "stdout",
     "output_type": "stream",
     "text": [
      "Warning: Permanently added '192.168.88.7' (ED25519) to the list of known hosts.\n",
      "Warning: Permanently added '192.168.88.7' (ED25519) to the list of known hosts.\n",
      "Warning: Permanently added '192.168.88.8' (ED25519) to the list of known hosts.\n"
     ]
    },
    {
     "name": "stderr",
     "output_type": "stream",
     "text": [
      "Warning: Permanently added '192.168.88.7' (ED25519) to the list of known hosts.\n",
      "Warning: Permanently added '192.168.88.7' (ED25519) to the list of known hosts.\n",
      "Warning: Permanently added '192.168.88.7' (ED25519) to the list of known hosts.\n"
     ]
    },
    {
     "name": "stdout",
     "output_type": "stream",
     "text": [
      "Warning: Permanently added '192.168.88.8' (ED25519) to the list of known hosts.\n",
      "Warning: Permanently added '192.168.88.8' (ED25519) to the list of known hosts.\n",
      "Warning: Permanently added '192.168.88.9' (ED25519) to the list of known hosts.\n"
     ]
    },
    {
     "name": "stderr",
     "output_type": "stream",
     "text": [
      "Warning: Permanently added '192.168.88.8' (ED25519) to the list of known hosts.\n",
      "Warning: Permanently added '192.168.88.8' (ED25519) to the list of known hosts.\n",
      "Warning: Permanently added '192.168.88.8' (ED25519) to the list of known hosts.\n"
     ]
    },
    {
     "name": "stdout",
     "output_type": "stream",
     "text": [
      "Warning: Permanently added '192.168.88.9' (ED25519) to the list of known hosts.\n",
      "Warning: Permanently added '192.168.88.9' (ED25519) to the list of known hosts.\n",
      "Warning: Permanently added '192.168.88.10' (ED25519) to the list of known hosts.\n"
     ]
    },
    {
     "name": "stderr",
     "output_type": "stream",
     "text": [
      "Warning: Permanently added '192.168.88.9' (ED25519) to the list of known hosts.\n",
      "Warning: Permanently added '192.168.88.9' (ED25519) to the list of known hosts.\n",
      "Warning: Permanently added '192.168.88.9' (ED25519) to the list of known hosts.\n"
     ]
    },
    {
     "name": "stdout",
     "output_type": "stream",
     "text": [
      "Warning: Permanently added '192.168.88.10' (ED25519) to the list of known hosts.\n",
      "Warning: Permanently added '192.168.88.10' (ED25519) to the list of known hosts.\n"
     ]
    },
    {
     "name": "stderr",
     "output_type": "stream",
     "text": [
      "Warning: Permanently added '192.168.88.10' (ED25519) to the list of known hosts.\n",
      "Warning: Permanently added '192.168.88.10' (ED25519) to the list of known hosts.\n",
      "Warning: Permanently added '192.168.88.10' (ED25519) to the list of known hosts.\n"
     ]
    },
    {
     "name": "stdout",
     "output_type": "stream",
     "text": [
      "Perform measure\n",
      "Kill CPU and RAM usage scripts\n",
      "Warning: Permanently added '192.168.88.17' (ED25519) to the list of known hosts.\n",
      "Warning: Permanently added '192.168.88.17' (ED25519) to the list of known hosts.\n",
      "Warning: Permanently added '192.168.88.17' (ED25519) to the list of known hosts.\n",
      "Warning: Permanently added '192.168.88.17' (ED25519) to the list of known hosts.\n",
      "Warning: Permanently added '192.168.88.17' (ED25519) to the list of known hosts.\n",
      "Warning: Permanently added '192.168.88.17' (ED25519) to the list of known hosts.\n",
      "Warning: Permanently added '192.168.88.3' (ED25519) to the list of known hosts.\n",
      "Warning: Permanently added '192.168.88.3' (ED25519) to the list of known hosts.\n",
      "Warning: Permanently added '192.168.88.3' (ED25519) to the list of known hosts.\n",
      "Warning: Permanently added '192.168.88.3' (ED25519) to the list of known hosts.\n",
      "Warning: Permanently added '192.168.88.3' (ED25519) to the list of known hosts.\n",
      "Warning: Permanently added '192.168.88.3' (ED25519) to the list of known hosts.\n",
      "Warning: Permanently added '192.168.88.4' (ED25519) to the list of known hosts.\n",
      "Warning: Permanently added '192.168.88.4' (ED25519) to the list of known hosts.\n",
      "Warning: Permanently added '192.168.88.4' (ED25519) to the list of known hosts.\n",
      "Warning: Permanently added '192.168.88.4' (ED25519) to the list of known hosts.\n",
      "Warning: Permanently added '192.168.88.4' (ED25519) to the list of known hosts.\n",
      "Warning: Permanently added '192.168.88.4' (ED25519) to the list of known hosts.\n",
      "Warning: Permanently added '192.168.88.5' (ED25519) to the list of known hosts.\n",
      "Warning: Permanently added '192.168.88.5' (ED25519) to the list of known hosts.\n",
      "Warning: Permanently added '192.168.88.5' (ED25519) to the list of known hosts.\n",
      "Warning: Permanently added '192.168.88.5' (ED25519) to the list of known hosts.\n",
      "Warning: Permanently added '192.168.88.5' (ED25519) to the list of known hosts.\n",
      "Warning: Permanently added '192.168.88.5' (ED25519) to the list of known hosts.\n",
      "Warning: Permanently added '192.168.88.6' (ED25519) to the list of known hosts.\n",
      "Warning: Permanently added '192.168.88.6' (ED25519) to the list of known hosts.\n",
      "Warning: Permanently added '192.168.88.6' (ED25519) to the list of known hosts.\n",
      "Warning: Permanently added '192.168.88.6' (ED25519) to the list of known hosts.\n",
      "Warning: Permanently added '192.168.88.6' (ED25519) to the list of known hosts.\n",
      "Warning: Permanently added '192.168.88.6' (ED25519) to the list of known hosts.\n",
      "Warning: Permanently added '192.168.88.7' (ED25519) to the list of known hosts.\n",
      "Warning: Permanently added '192.168.88.7' (ED25519) to the list of known hosts.\n",
      "Warning: Permanently added '192.168.88.7' (ED25519) to the list of known hosts.\n",
      "Warning: Permanently added '192.168.88.7' (ED25519) to the list of known hosts.\n",
      "Warning: Permanently added '192.168.88.7' (ED25519) to the list of known hosts.\n",
      "Warning: Permanently added '192.168.88.7' (ED25519) to the list of known hosts.\n",
      "Warning: Permanently added '192.168.88.8' (ED25519) to the list of known hosts.\n",
      "Warning: Permanently added '192.168.88.8' (ED25519) to the list of known hosts.\n",
      "Warning: Permanently added '192.168.88.8' (ED25519) to the list of known hosts.\n",
      "Warning: Permanently added '192.168.88.8' (ED25519) to the list of known hosts.\n",
      "Warning: Permanently added '192.168.88.8' (ED25519) to the list of known hosts.\n",
      "Warning: Permanently added '192.168.88.8' (ED25519) to the list of known hosts.\n",
      "Warning: Permanently added '192.168.88.9' (ED25519) to the list of known hosts.\n",
      "Warning: Permanently added '192.168.88.9' (ED25519) to the list of known hosts.\n",
      "Warning: Permanently added '192.168.88.9' (ED25519) to the list of known hosts.\n",
      "Warning: Permanently added '192.168.88.9' (ED25519) to the list of known hosts.\n",
      "Warning: Permanently added '192.168.88.9' (ED25519) to the list of known hosts.\n",
      "Warning: Permanently added '192.168.88.9' (ED25519) to the list of known hosts.\n",
      "Warning: Permanently added '192.168.88.10' (ED25519) to the list of known hosts.\n",
      "Warning: Permanently added '192.168.88.10' (ED25519) to the list of known hosts.\n",
      "Warning: Permanently added '192.168.88.10' (ED25519) to the list of known hosts.\n",
      "Warning: Permanently added '192.168.88.10' (ED25519) to the list of known hosts.\n",
      "Warning: Permanently added '192.168.88.10' (ED25519) to the list of known hosts.\n",
      "Warning: Permanently added '192.168.88.10' (ED25519) to the list of known hosts.\n",
      "Warning: Permanently added '192.168.88.17' (ED25519) to the list of known hosts.\n",
      "deployment.apps/k3s-tflite-app-deployment restarted\n",
      "Iteration 7\n",
      "Warning: Permanently added '192.168.88.17' (ED25519) to the list of known hosts.\n",
      "Warning: Permanently added '192.168.88.17' (ED25519) to the list of known hosts.\n",
      "Warning: Permanently added '192.168.88.17' (ED25519) to the list of known hosts.\n",
      "Warning: Permanently added '192.168.88.3' (ED25519) to the list of known hosts.\n"
     ]
    },
    {
     "name": "stderr",
     "output_type": "stream",
     "text": [
      "Warning: Permanently added '192.168.88.17' (ED25519) to the list of known hosts.\n",
      "Warning: Permanently added '192.168.88.17' (ED25519) to the list of known hosts.\n",
      "Warning: Permanently added '192.168.88.17' (ED25519) to the list of known hosts.\n"
     ]
    },
    {
     "name": "stdout",
     "output_type": "stream",
     "text": [
      "Warning: Permanently added '192.168.88.3' (ED25519) to the list of known hosts.\n",
      "Warning: Permanently added '192.168.88.3' (ED25519) to the list of known hosts.\n",
      "Warning: Permanently added '192.168.88.4' (ED25519) to the list of known hosts.\n"
     ]
    },
    {
     "name": "stderr",
     "output_type": "stream",
     "text": [
      "Warning: Permanently added '192.168.88.3' (ED25519) to the list of known hosts.\n",
      "Warning: Permanently added '192.168.88.3' (ED25519) to the list of known hosts.\n",
      "Warning: Permanently added '192.168.88.3' (ED25519) to the list of known hosts.\n"
     ]
    },
    {
     "name": "stdout",
     "output_type": "stream",
     "text": [
      "Warning: Permanently added '192.168.88.4' (ED25519) to the list of known hosts.\n",
      "Warning: Permanently added '192.168.88.4' (ED25519) to the list of known hosts.\n",
      "Warning: Permanently added '192.168.88.5' (ED25519) to the list of known hosts.\n"
     ]
    },
    {
     "name": "stderr",
     "output_type": "stream",
     "text": [
      "Warning: Permanently added '192.168.88.4' (ED25519) to the list of known hosts.\n",
      "Warning: Permanently added '192.168.88.4' (ED25519) to the list of known hosts.\n",
      "Warning: Permanently added '192.168.88.4' (ED25519) to the list of known hosts.\n"
     ]
    },
    {
     "name": "stdout",
     "output_type": "stream",
     "text": [
      "Warning: Permanently added '192.168.88.5' (ED25519) to the list of known hosts.\n",
      "Warning: Permanently added '192.168.88.5' (ED25519) to the list of known hosts.\n",
      "Warning: Permanently added '192.168.88.6' (ED25519) to the list of known hosts.\n"
     ]
    },
    {
     "name": "stderr",
     "output_type": "stream",
     "text": [
      "Warning: Permanently added '192.168.88.5' (ED25519) to the list of known hosts.\n",
      "Warning: Permanently added '192.168.88.5' (ED25519) to the list of known hosts.\n",
      "Warning: Permanently added '192.168.88.5' (ED25519) to the list of known hosts.\n"
     ]
    },
    {
     "name": "stdout",
     "output_type": "stream",
     "text": [
      "Warning: Permanently added '192.168.88.6' (ED25519) to the list of known hosts.\n",
      "Warning: Permanently added '192.168.88.6' (ED25519) to the list of known hosts.\n",
      "Warning: Permanently added '192.168.88.7' (ED25519) to the list of known hosts.\n"
     ]
    },
    {
     "name": "stderr",
     "output_type": "stream",
     "text": [
      "Warning: Permanently added '192.168.88.6' (ED25519) to the list of known hosts.\n",
      "Warning: Permanently added '192.168.88.6' (ED25519) to the list of known hosts.\n",
      "Warning: Permanently added '192.168.88.6' (ED25519) to the list of known hosts.\n"
     ]
    },
    {
     "name": "stdout",
     "output_type": "stream",
     "text": [
      "Warning: Permanently added '192.168.88.7' (ED25519) to the list of known hosts.\n",
      "Warning: Permanently added '192.168.88.7' (ED25519) to the list of known hosts.\n",
      "Warning: Permanently added '192.168.88.8' (ED25519) to the list of known hosts.\n"
     ]
    },
    {
     "name": "stderr",
     "output_type": "stream",
     "text": [
      "Warning: Permanently added '192.168.88.7' (ED25519) to the list of known hosts.\n",
      "Warning: Permanently added '192.168.88.7' (ED25519) to the list of known hosts.\n",
      "Warning: Permanently added '192.168.88.7' (ED25519) to the list of known hosts.\n"
     ]
    },
    {
     "name": "stdout",
     "output_type": "stream",
     "text": [
      "Warning: Permanently added '192.168.88.8' (ED25519) to the list of known hosts.\n",
      "Warning: Permanently added '192.168.88.8' (ED25519) to the list of known hosts.\n",
      "Warning: Permanently added '192.168.88.9' (ED25519) to the list of known hosts.\n"
     ]
    },
    {
     "name": "stderr",
     "output_type": "stream",
     "text": [
      "Warning: Permanently added '192.168.88.8' (ED25519) to the list of known hosts.\n",
      "Warning: Permanently added '192.168.88.8' (ED25519) to the list of known hosts.\n",
      "Warning: Permanently added '192.168.88.8' (ED25519) to the list of known hosts.\n"
     ]
    },
    {
     "name": "stdout",
     "output_type": "stream",
     "text": [
      "Warning: Permanently added '192.168.88.9' (ED25519) to the list of known hosts.\n",
      "Warning: Permanently added '192.168.88.9' (ED25519) to the list of known hosts.\n",
      "Warning: Permanently added '192.168.88.10' (ED25519) to the list of known hosts.\n"
     ]
    },
    {
     "name": "stderr",
     "output_type": "stream",
     "text": [
      "Warning: Permanently added '192.168.88.9' (ED25519) to the list of known hosts.\n",
      "Warning: Permanently added '192.168.88.9' (ED25519) to the list of known hosts.\n",
      "Warning: Permanently added '192.168.88.9' (ED25519) to the list of known hosts.\n"
     ]
    },
    {
     "name": "stdout",
     "output_type": "stream",
     "text": [
      "Warning: Permanently added '192.168.88.10' (ED25519) to the list of known hosts.\n",
      "Warning: Permanently added '192.168.88.10' (ED25519) to the list of known hosts.\n"
     ]
    },
    {
     "name": "stderr",
     "output_type": "stream",
     "text": [
      "Warning: Permanently added '192.168.88.10' (ED25519) to the list of known hosts.\n",
      "Warning: Permanently added '192.168.88.10' (ED25519) to the list of known hosts.\n",
      "Warning: Permanently added '192.168.88.10' (ED25519) to the list of known hosts.\n"
     ]
    },
    {
     "name": "stdout",
     "output_type": "stream",
     "text": [
      "Perform measure\n",
      "Kill CPU and RAM usage scripts\n",
      "Warning: Permanently added '192.168.88.17' (ED25519) to the list of known hosts.\n",
      "Warning: Permanently added '192.168.88.17' (ED25519) to the list of known hosts.\n",
      "Warning: Permanently added '192.168.88.17' (ED25519) to the list of known hosts.\n",
      "Warning: Permanently added '192.168.88.17' (ED25519) to the list of known hosts.\n",
      "Warning: Permanently added '192.168.88.17' (ED25519) to the list of known hosts.\n",
      "Warning: Permanently added '192.168.88.17' (ED25519) to the list of known hosts.\n",
      "Warning: Permanently added '192.168.88.3' (ED25519) to the list of known hosts.\n",
      "Warning: Permanently added '192.168.88.3' (ED25519) to the list of known hosts.\n",
      "Warning: Permanently added '192.168.88.3' (ED25519) to the list of known hosts.\n",
      "Warning: Permanently added '192.168.88.3' (ED25519) to the list of known hosts.\n",
      "Warning: Permanently added '192.168.88.3' (ED25519) to the list of known hosts.\n",
      "Warning: Permanently added '192.168.88.3' (ED25519) to the list of known hosts.\n",
      "Warning: Permanently added '192.168.88.4' (ED25519) to the list of known hosts.\n",
      "Warning: Permanently added '192.168.88.4' (ED25519) to the list of known hosts.\n",
      "Warning: Permanently added '192.168.88.4' (ED25519) to the list of known hosts.\n",
      "Warning: Permanently added '192.168.88.4' (ED25519) to the list of known hosts.\n",
      "Warning: Permanently added '192.168.88.4' (ED25519) to the list of known hosts.\n",
      "Warning: Permanently added '192.168.88.4' (ED25519) to the list of known hosts.\n",
      "Warning: Permanently added '192.168.88.5' (ED25519) to the list of known hosts.\n",
      "Warning: Permanently added '192.168.88.5' (ED25519) to the list of known hosts.\n",
      "Warning: Permanently added '192.168.88.5' (ED25519) to the list of known hosts.\n",
      "Warning: Permanently added '192.168.88.5' (ED25519) to the list of known hosts.\n",
      "Warning: Permanently added '192.168.88.5' (ED25519) to the list of known hosts.\n",
      "Warning: Permanently added '192.168.88.5' (ED25519) to the list of known hosts.\n",
      "Warning: Permanently added '192.168.88.6' (ED25519) to the list of known hosts.\n",
      "Warning: Permanently added '192.168.88.6' (ED25519) to the list of known hosts.\n",
      "Warning: Permanently added '192.168.88.6' (ED25519) to the list of known hosts.\n",
      "Warning: Permanently added '192.168.88.6' (ED25519) to the list of known hosts.\n",
      "Warning: Permanently added '192.168.88.6' (ED25519) to the list of known hosts.\n",
      "Warning: Permanently added '192.168.88.6' (ED25519) to the list of known hosts.\n",
      "Warning: Permanently added '192.168.88.7' (ED25519) to the list of known hosts.\n",
      "Warning: Permanently added '192.168.88.7' (ED25519) to the list of known hosts.\n",
      "Warning: Permanently added '192.168.88.7' (ED25519) to the list of known hosts.\n",
      "Warning: Permanently added '192.168.88.7' (ED25519) to the list of known hosts.\n",
      "Warning: Permanently added '192.168.88.7' (ED25519) to the list of known hosts.\n",
      "Warning: Permanently added '192.168.88.7' (ED25519) to the list of known hosts.\n",
      "Warning: Permanently added '192.168.88.8' (ED25519) to the list of known hosts.\n",
      "Warning: Permanently added '192.168.88.8' (ED25519) to the list of known hosts.\n",
      "Warning: Permanently added '192.168.88.8' (ED25519) to the list of known hosts.\n",
      "Warning: Permanently added '192.168.88.8' (ED25519) to the list of known hosts.\n",
      "Warning: Permanently added '192.168.88.8' (ED25519) to the list of known hosts.\n",
      "Warning: Permanently added '192.168.88.8' (ED25519) to the list of known hosts.\n",
      "Warning: Permanently added '192.168.88.9' (ED25519) to the list of known hosts.\n",
      "Warning: Permanently added '192.168.88.9' (ED25519) to the list of known hosts.\n",
      "Warning: Permanently added '192.168.88.9' (ED25519) to the list of known hosts.\n",
      "Warning: Permanently added '192.168.88.9' (ED25519) to the list of known hosts.\n",
      "Warning: Permanently added '192.168.88.9' (ED25519) to the list of known hosts.\n",
      "Warning: Permanently added '192.168.88.9' (ED25519) to the list of known hosts.\n",
      "Warning: Permanently added '192.168.88.10' (ED25519) to the list of known hosts.\n",
      "Warning: Permanently added '192.168.88.10' (ED25519) to the list of known hosts.\n",
      "Warning: Permanently added '192.168.88.10' (ED25519) to the list of known hosts.\n",
      "Warning: Permanently added '192.168.88.10' (ED25519) to the list of known hosts.\n",
      "Warning: Permanently added '192.168.88.10' (ED25519) to the list of known hosts.\n",
      "Warning: Permanently added '192.168.88.10' (ED25519) to the list of known hosts.\n",
      "Warning: Permanently added '192.168.88.17' (ED25519) to the list of known hosts.\n",
      "deployment.apps/k3s-tflite-app-deployment restarted\n",
      "Iteration 8\n",
      "Warning: Permanently added '192.168.88.17' (ED25519) to the list of known hosts.\n",
      "Warning: Permanently added '192.168.88.17' (ED25519) to the list of known hosts.\n",
      "Warning: Permanently added '192.168.88.17' (ED25519) to the list of known hosts.\n",
      "Warning: Permanently added '192.168.88.3' (ED25519) to the list of known hosts.\n"
     ]
    },
    {
     "name": "stderr",
     "output_type": "stream",
     "text": [
      "Warning: Permanently added '192.168.88.17' (ED25519) to the list of known hosts.\n",
      "Warning: Permanently added '192.168.88.17' (ED25519) to the list of known hosts.\n",
      "Warning: Permanently added '192.168.88.17' (ED25519) to the list of known hosts.\n"
     ]
    },
    {
     "name": "stdout",
     "output_type": "stream",
     "text": [
      "Warning: Permanently added '192.168.88.3' (ED25519) to the list of known hosts.\n",
      "Warning: Permanently added '192.168.88.3' (ED25519) to the list of known hosts.\n",
      "Warning: Permanently added '192.168.88.4' (ED25519) to the list of known hosts.\n"
     ]
    },
    {
     "name": "stderr",
     "output_type": "stream",
     "text": [
      "Warning: Permanently added '192.168.88.3' (ED25519) to the list of known hosts.\n",
      "Warning: Permanently added '192.168.88.3' (ED25519) to the list of known hosts.\n",
      "Warning: Permanently added '192.168.88.3' (ED25519) to the list of known hosts.\n"
     ]
    },
    {
     "name": "stdout",
     "output_type": "stream",
     "text": [
      "Warning: Permanently added '192.168.88.4' (ED25519) to the list of known hosts.\n",
      "Warning: Permanently added '192.168.88.4' (ED25519) to the list of known hosts.\n",
      "Warning: Permanently added '192.168.88.5' (ED25519) to the list of known hosts.\n"
     ]
    },
    {
     "name": "stderr",
     "output_type": "stream",
     "text": [
      "Warning: Permanently added '192.168.88.4' (ED25519) to the list of known hosts.\n",
      "Warning: Permanently added '192.168.88.4' (ED25519) to the list of known hosts.\n",
      "Warning: Permanently added '192.168.88.4' (ED25519) to the list of known hosts.\n"
     ]
    },
    {
     "name": "stdout",
     "output_type": "stream",
     "text": [
      "Warning: Permanently added '192.168.88.5' (ED25519) to the list of known hosts.\n",
      "Warning: Permanently added '192.168.88.5' (ED25519) to the list of known hosts.\n",
      "Warning: Permanently added '192.168.88.6' (ED25519) to the list of known hosts.\n"
     ]
    },
    {
     "name": "stderr",
     "output_type": "stream",
     "text": [
      "Warning: Permanently added '192.168.88.5' (ED25519) to the list of known hosts.\n",
      "Warning: Permanently added '192.168.88.5' (ED25519) to the list of known hosts.\n",
      "Warning: Permanently added '192.168.88.5' (ED25519) to the list of known hosts.\n"
     ]
    },
    {
     "name": "stdout",
     "output_type": "stream",
     "text": [
      "Warning: Permanently added '192.168.88.6' (ED25519) to the list of known hosts.\n",
      "Warning: Permanently added '192.168.88.6' (ED25519) to the list of known hosts.\n",
      "Warning: Permanently added '192.168.88.7' (ED25519) to the list of known hosts.\n"
     ]
    },
    {
     "name": "stderr",
     "output_type": "stream",
     "text": [
      "Warning: Permanently added '192.168.88.6' (ED25519) to the list of known hosts.\n",
      "Warning: Permanently added '192.168.88.6' (ED25519) to the list of known hosts.\n",
      "Warning: Permanently added '192.168.88.6' (ED25519) to the list of known hosts.\n"
     ]
    },
    {
     "name": "stdout",
     "output_type": "stream",
     "text": [
      "Warning: Permanently added '192.168.88.7' (ED25519) to the list of known hosts.\n",
      "Warning: Permanently added '192.168.88.7' (ED25519) to the list of known hosts.\n",
      "Warning: Permanently added '192.168.88.8' (ED25519) to the list of known hosts.\n"
     ]
    },
    {
     "name": "stderr",
     "output_type": "stream",
     "text": [
      "Warning: Permanently added '192.168.88.7' (ED25519) to the list of known hosts.\n",
      "Warning: Permanently added '192.168.88.7' (ED25519) to the list of known hosts.\n",
      "Warning: Permanently added '192.168.88.7' (ED25519) to the list of known hosts.\n"
     ]
    },
    {
     "name": "stdout",
     "output_type": "stream",
     "text": [
      "Warning: Permanently added '192.168.88.8' (ED25519) to the list of known hosts.\n",
      "Warning: Permanently added '192.168.88.8' (ED25519) to the list of known hosts.\n",
      "Warning: Permanently added '192.168.88.9' (ED25519) to the list of known hosts.\n"
     ]
    },
    {
     "name": "stderr",
     "output_type": "stream",
     "text": [
      "Warning: Permanently added '192.168.88.8' (ED25519) to the list of known hosts.\n",
      "Warning: Permanently added '192.168.88.8' (ED25519) to the list of known hosts.\n",
      "Warning: Permanently added '192.168.88.8' (ED25519) to the list of known hosts.\n"
     ]
    },
    {
     "name": "stdout",
     "output_type": "stream",
     "text": [
      "Warning: Permanently added '192.168.88.9' (ED25519) to the list of known hosts.\n",
      "Warning: Permanently added '192.168.88.9' (ED25519) to the list of known hosts.\n",
      "Warning: Permanently added '192.168.88.10' (ED25519) to the list of known hosts.\n"
     ]
    },
    {
     "name": "stderr",
     "output_type": "stream",
     "text": [
      "Warning: Permanently added '192.168.88.9' (ED25519) to the list of known hosts.\n",
      "Warning: Permanently added '192.168.88.9' (ED25519) to the list of known hosts.\n",
      "Warning: Permanently added '192.168.88.9' (ED25519) to the list of known hosts.\n"
     ]
    },
    {
     "name": "stdout",
     "output_type": "stream",
     "text": [
      "Warning: Permanently added '192.168.88.10' (ED25519) to the list of known hosts.\n",
      "Warning: Permanently added '192.168.88.10' (ED25519) to the list of known hosts.\n"
     ]
    },
    {
     "name": "stderr",
     "output_type": "stream",
     "text": [
      "Warning: Permanently added '192.168.88.10' (ED25519) to the list of known hosts.\n",
      "Warning: Permanently added '192.168.88.10' (ED25519) to the list of known hosts.\n",
      "Warning: Permanently added '192.168.88.10' (ED25519) to the list of known hosts.\n"
     ]
    },
    {
     "name": "stdout",
     "output_type": "stream",
     "text": [
      "Perform measure\n",
      "Kill CPU and RAM usage scripts\n",
      "Warning: Permanently added '192.168.88.17' (ED25519) to the list of known hosts.\n",
      "Warning: Permanently added '192.168.88.17' (ED25519) to the list of known hosts.\n",
      "Warning: Permanently added '192.168.88.17' (ED25519) to the list of known hosts.\n",
      "Warning: Permanently added '192.168.88.17' (ED25519) to the list of known hosts.\n",
      "Warning: Permanently added '192.168.88.17' (ED25519) to the list of known hosts.\n",
      "Warning: Permanently added '192.168.88.17' (ED25519) to the list of known hosts.\n",
      "Warning: Permanently added '192.168.88.3' (ED25519) to the list of known hosts.\n",
      "Warning: Permanently added '192.168.88.3' (ED25519) to the list of known hosts.\n",
      "Warning: Permanently added '192.168.88.3' (ED25519) to the list of known hosts.\n",
      "Warning: Permanently added '192.168.88.3' (ED25519) to the list of known hosts.\n",
      "Warning: Permanently added '192.168.88.3' (ED25519) to the list of known hosts.\n",
      "Warning: Permanently added '192.168.88.3' (ED25519) to the list of known hosts.\n",
      "Warning: Permanently added '192.168.88.4' (ED25519) to the list of known hosts.\n",
      "Warning: Permanently added '192.168.88.4' (ED25519) to the list of known hosts.\n",
      "Warning: Permanently added '192.168.88.4' (ED25519) to the list of known hosts.\n",
      "Warning: Permanently added '192.168.88.4' (ED25519) to the list of known hosts.\n",
      "Warning: Permanently added '192.168.88.4' (ED25519) to the list of known hosts.\n",
      "Warning: Permanently added '192.168.88.4' (ED25519) to the list of known hosts.\n",
      "Warning: Permanently added '192.168.88.5' (ED25519) to the list of known hosts.\n",
      "Warning: Permanently added '192.168.88.5' (ED25519) to the list of known hosts.\n",
      "Warning: Permanently added '192.168.88.5' (ED25519) to the list of known hosts.\n",
      "Warning: Permanently added '192.168.88.5' (ED25519) to the list of known hosts.\n",
      "Warning: Permanently added '192.168.88.5' (ED25519) to the list of known hosts.\n",
      "Warning: Permanently added '192.168.88.5' (ED25519) to the list of known hosts.\n",
      "Warning: Permanently added '192.168.88.6' (ED25519) to the list of known hosts.\n",
      "Warning: Permanently added '192.168.88.6' (ED25519) to the list of known hosts.\n",
      "Warning: Permanently added '192.168.88.6' (ED25519) to the list of known hosts.\n",
      "Warning: Permanently added '192.168.88.6' (ED25519) to the list of known hosts.\n",
      "Warning: Permanently added '192.168.88.6' (ED25519) to the list of known hosts.\n",
      "Warning: Permanently added '192.168.88.6' (ED25519) to the list of known hosts.\n",
      "Warning: Permanently added '192.168.88.7' (ED25519) to the list of known hosts.\n",
      "Warning: Permanently added '192.168.88.7' (ED25519) to the list of known hosts.\n",
      "Warning: Permanently added '192.168.88.7' (ED25519) to the list of known hosts.\n",
      "Warning: Permanently added '192.168.88.7' (ED25519) to the list of known hosts.\n",
      "Warning: Permanently added '192.168.88.7' (ED25519) to the list of known hosts.\n",
      "Warning: Permanently added '192.168.88.7' (ED25519) to the list of known hosts.\n",
      "Warning: Permanently added '192.168.88.8' (ED25519) to the list of known hosts.\n",
      "Warning: Permanently added '192.168.88.8' (ED25519) to the list of known hosts.\n",
      "Warning: Permanently added '192.168.88.8' (ED25519) to the list of known hosts.\n",
      "Warning: Permanently added '192.168.88.8' (ED25519) to the list of known hosts.\n",
      "Warning: Permanently added '192.168.88.8' (ED25519) to the list of known hosts.\n",
      "Warning: Permanently added '192.168.88.8' (ED25519) to the list of known hosts.\n",
      "Warning: Permanently added '192.168.88.9' (ED25519) to the list of known hosts.\n",
      "Warning: Permanently added '192.168.88.9' (ED25519) to the list of known hosts.\n",
      "Warning: Permanently added '192.168.88.9' (ED25519) to the list of known hosts.\n",
      "Warning: Permanently added '192.168.88.9' (ED25519) to the list of known hosts.\n",
      "Warning: Permanently added '192.168.88.9' (ED25519) to the list of known hosts.\n",
      "Warning: Permanently added '192.168.88.9' (ED25519) to the list of known hosts.\n",
      "Warning: Permanently added '192.168.88.10' (ED25519) to the list of known hosts.\n",
      "Warning: Permanently added '192.168.88.10' (ED25519) to the list of known hosts.\n",
      "Warning: Permanently added '192.168.88.10' (ED25519) to the list of known hosts.\n",
      "Warning: Permanently added '192.168.88.10' (ED25519) to the list of known hosts.\n",
      "Warning: Permanently added '192.168.88.10' (ED25519) to the list of known hosts.\n",
      "Warning: Permanently added '192.168.88.10' (ED25519) to the list of known hosts.\n",
      "Warning: Permanently added '192.168.88.17' (ED25519) to the list of known hosts.\n",
      "deployment.apps/k3s-tflite-app-deployment restarted\n",
      "Iteration 9\n",
      "Warning: Permanently added '192.168.88.17' (ED25519) to the list of known hosts.\n",
      "Warning: Permanently added '192.168.88.17' (ED25519) to the list of known hosts.\n",
      "Warning: Permanently added '192.168.88.17' (ED25519) to the list of known hosts.\n",
      "Warning: Permanently added '192.168.88.3' (ED25519) to the list of known hosts.\n"
     ]
    },
    {
     "name": "stderr",
     "output_type": "stream",
     "text": [
      "Warning: Permanently added '192.168.88.17' (ED25519) to the list of known hosts.\n",
      "Warning: Permanently added '192.168.88.17' (ED25519) to the list of known hosts.\n",
      "Warning: Permanently added '192.168.88.17' (ED25519) to the list of known hosts.\n"
     ]
    },
    {
     "name": "stdout",
     "output_type": "stream",
     "text": [
      "Warning: Permanently added '192.168.88.3' (ED25519) to the list of known hosts.\n",
      "Warning: Permanently added '192.168.88.3' (ED25519) to the list of known hosts.\n",
      "Warning: Permanently added '192.168.88.4' (ED25519) to the list of known hosts.\n"
     ]
    },
    {
     "name": "stderr",
     "output_type": "stream",
     "text": [
      "Warning: Permanently added '192.168.88.3' (ED25519) to the list of known hosts.\n",
      "Warning: Permanently added '192.168.88.3' (ED25519) to the list of known hosts.\n",
      "Warning: Permanently added '192.168.88.3' (ED25519) to the list of known hosts.\n"
     ]
    },
    {
     "name": "stdout",
     "output_type": "stream",
     "text": [
      "Warning: Permanently added '192.168.88.4' (ED25519) to the list of known hosts.\n",
      "Warning: Permanently added '192.168.88.4' (ED25519) to the list of known hosts.\n",
      "Warning: Permanently added '192.168.88.5' (ED25519) to the list of known hosts.\n"
     ]
    },
    {
     "name": "stderr",
     "output_type": "stream",
     "text": [
      "Warning: Permanently added '192.168.88.4' (ED25519) to the list of known hosts.\n",
      "Warning: Permanently added '192.168.88.4' (ED25519) to the list of known hosts.\n",
      "Warning: Permanently added '192.168.88.4' (ED25519) to the list of known hosts.\n"
     ]
    },
    {
     "name": "stdout",
     "output_type": "stream",
     "text": [
      "Warning: Permanently added '192.168.88.5' (ED25519) to the list of known hosts.\n",
      "Warning: Permanently added '192.168.88.5' (ED25519) to the list of known hosts.\n",
      "Warning: Permanently added '192.168.88.6' (ED25519) to the list of known hosts.\n"
     ]
    },
    {
     "name": "stderr",
     "output_type": "stream",
     "text": [
      "Warning: Permanently added '192.168.88.5' (ED25519) to the list of known hosts.\n",
      "Warning: Permanently added '192.168.88.5' (ED25519) to the list of known hosts.\n",
      "Warning: Permanently added '192.168.88.5' (ED25519) to the list of known hosts.\n"
     ]
    },
    {
     "name": "stdout",
     "output_type": "stream",
     "text": [
      "Warning: Permanently added '192.168.88.6' (ED25519) to the list of known hosts.\n",
      "Warning: Permanently added '192.168.88.6' (ED25519) to the list of known hosts.\n",
      "Warning: Permanently added '192.168.88.7' (ED25519) to the list of known hosts.\n"
     ]
    },
    {
     "name": "stderr",
     "output_type": "stream",
     "text": [
      "Warning: Permanently added '192.168.88.6' (ED25519) to the list of known hosts.\n",
      "Warning: Permanently added '192.168.88.6' (ED25519) to the list of known hosts.\n",
      "Warning: Permanently added '192.168.88.6' (ED25519) to the list of known hosts.\n"
     ]
    },
    {
     "name": "stdout",
     "output_type": "stream",
     "text": [
      "Warning: Permanently added '192.168.88.7' (ED25519) to the list of known hosts.\n",
      "Warning: Permanently added '192.168.88.7' (ED25519) to the list of known hosts.\n",
      "Warning: Permanently added '192.168.88.8' (ED25519) to the list of known hosts.\n"
     ]
    },
    {
     "name": "stderr",
     "output_type": "stream",
     "text": [
      "Warning: Permanently added '192.168.88.7' (ED25519) to the list of known hosts.\n",
      "Warning: Permanently added '192.168.88.7' (ED25519) to the list of known hosts.\n",
      "Warning: Permanently added '192.168.88.7' (ED25519) to the list of known hosts.\n"
     ]
    },
    {
     "name": "stdout",
     "output_type": "stream",
     "text": [
      "Warning: Permanently added '192.168.88.8' (ED25519) to the list of known hosts.\n",
      "Warning: Permanently added '192.168.88.8' (ED25519) to the list of known hosts.\n",
      "Warning: Permanently added '192.168.88.9' (ED25519) to the list of known hosts.\n"
     ]
    },
    {
     "name": "stderr",
     "output_type": "stream",
     "text": [
      "Warning: Permanently added '192.168.88.8' (ED25519) to the list of known hosts.\n",
      "Warning: Permanently added '192.168.88.8' (ED25519) to the list of known hosts.\n",
      "Warning: Permanently added '192.168.88.8' (ED25519) to the list of known hosts.\n"
     ]
    },
    {
     "name": "stdout",
     "output_type": "stream",
     "text": [
      "Warning: Permanently added '192.168.88.9' (ED25519) to the list of known hosts.\n",
      "Warning: Permanently added '192.168.88.9' (ED25519) to the list of known hosts.\n",
      "Warning: Permanently added '192.168.88.10' (ED25519) to the list of known hosts.\n"
     ]
    },
    {
     "name": "stderr",
     "output_type": "stream",
     "text": [
      "Warning: Permanently added '192.168.88.9' (ED25519) to the list of known hosts.\n",
      "Warning: Permanently added '192.168.88.9' (ED25519) to the list of known hosts.\n",
      "Warning: Permanently added '192.168.88.9' (ED25519) to the list of known hosts.\n"
     ]
    },
    {
     "name": "stdout",
     "output_type": "stream",
     "text": [
      "Warning: Permanently added '192.168.88.10' (ED25519) to the list of known hosts.\n",
      "Warning: Permanently added '192.168.88.10' (ED25519) to the list of known hosts.\n"
     ]
    },
    {
     "name": "stderr",
     "output_type": "stream",
     "text": [
      "Warning: Permanently added '192.168.88.10' (ED25519) to the list of known hosts.\n",
      "Warning: Permanently added '192.168.88.10' (ED25519) to the list of known hosts.\n",
      "Warning: Permanently added '192.168.88.10' (ED25519) to the list of known hosts.\n"
     ]
    },
    {
     "name": "stdout",
     "output_type": "stream",
     "text": [
      "Perform measure\n",
      "Kill CPU and RAM usage scripts\n",
      "Warning: Permanently added '192.168.88.17' (ED25519) to the list of known hosts.\n",
      "Warning: Permanently added '192.168.88.17' (ED25519) to the list of known hosts.\n",
      "Warning: Permanently added '192.168.88.17' (ED25519) to the list of known hosts.\n",
      "Warning: Permanently added '192.168.88.17' (ED25519) to the list of known hosts.\n",
      "Warning: Permanently added '192.168.88.17' (ED25519) to the list of known hosts.\n",
      "Warning: Permanently added '192.168.88.17' (ED25519) to the list of known hosts.\n",
      "Warning: Permanently added '192.168.88.3' (ED25519) to the list of known hosts.\n",
      "Warning: Permanently added '192.168.88.3' (ED25519) to the list of known hosts.\n",
      "Warning: Permanently added '192.168.88.3' (ED25519) to the list of known hosts.\n",
      "Warning: Permanently added '192.168.88.3' (ED25519) to the list of known hosts.\n",
      "Warning: Permanently added '192.168.88.3' (ED25519) to the list of known hosts.\n",
      "Warning: Permanently added '192.168.88.3' (ED25519) to the list of known hosts.\n",
      "Warning: Permanently added '192.168.88.4' (ED25519) to the list of known hosts.\n",
      "Warning: Permanently added '192.168.88.4' (ED25519) to the list of known hosts.\n",
      "Warning: Permanently added '192.168.88.4' (ED25519) to the list of known hosts.\n",
      "Warning: Permanently added '192.168.88.4' (ED25519) to the list of known hosts.\n",
      "Warning: Permanently added '192.168.88.4' (ED25519) to the list of known hosts.\n",
      "Warning: Permanently added '192.168.88.4' (ED25519) to the list of known hosts.\n",
      "Warning: Permanently added '192.168.88.5' (ED25519) to the list of known hosts.\n",
      "Warning: Permanently added '192.168.88.5' (ED25519) to the list of known hosts.\n",
      "Warning: Permanently added '192.168.88.5' (ED25519) to the list of known hosts.\n",
      "Warning: Permanently added '192.168.88.5' (ED25519) to the list of known hosts.\n",
      "Warning: Permanently added '192.168.88.5' (ED25519) to the list of known hosts.\n",
      "Warning: Permanently added '192.168.88.5' (ED25519) to the list of known hosts.\n",
      "Warning: Permanently added '192.168.88.6' (ED25519) to the list of known hosts.\n",
      "Warning: Permanently added '192.168.88.6' (ED25519) to the list of known hosts.\n",
      "Warning: Permanently added '192.168.88.6' (ED25519) to the list of known hosts.\n",
      "Warning: Permanently added '192.168.88.6' (ED25519) to the list of known hosts.\n",
      "Warning: Permanently added '192.168.88.6' (ED25519) to the list of known hosts.\n",
      "Warning: Permanently added '192.168.88.6' (ED25519) to the list of known hosts.\n",
      "Warning: Permanently added '192.168.88.7' (ED25519) to the list of known hosts.\n",
      "Warning: Permanently added '192.168.88.7' (ED25519) to the list of known hosts.\n",
      "Warning: Permanently added '192.168.88.7' (ED25519) to the list of known hosts.\n",
      "Warning: Permanently added '192.168.88.7' (ED25519) to the list of known hosts.\n",
      "Warning: Permanently added '192.168.88.7' (ED25519) to the list of known hosts.\n",
      "Warning: Permanently added '192.168.88.7' (ED25519) to the list of known hosts.\n",
      "Warning: Permanently added '192.168.88.8' (ED25519) to the list of known hosts.\n",
      "Warning: Permanently added '192.168.88.8' (ED25519) to the list of known hosts.\n",
      "Warning: Permanently added '192.168.88.8' (ED25519) to the list of known hosts.\n",
      "Warning: Permanently added '192.168.88.8' (ED25519) to the list of known hosts.\n",
      "Warning: Permanently added '192.168.88.8' (ED25519) to the list of known hosts.\n",
      "Warning: Permanently added '192.168.88.8' (ED25519) to the list of known hosts.\n",
      "Warning: Permanently added '192.168.88.9' (ED25519) to the list of known hosts.\n",
      "Warning: Permanently added '192.168.88.9' (ED25519) to the list of known hosts.\n",
      "Warning: Permanently added '192.168.88.9' (ED25519) to the list of known hosts.\n",
      "Warning: Permanently added '192.168.88.9' (ED25519) to the list of known hosts.\n",
      "Warning: Permanently added '192.168.88.9' (ED25519) to the list of known hosts.\n",
      "Warning: Permanently added '192.168.88.9' (ED25519) to the list of known hosts.\n",
      "Warning: Permanently added '192.168.88.10' (ED25519) to the list of known hosts.\n",
      "Warning: Permanently added '192.168.88.10' (ED25519) to the list of known hosts.\n",
      "Warning: Permanently added '192.168.88.10' (ED25519) to the list of known hosts.\n",
      "Warning: Permanently added '192.168.88.10' (ED25519) to the list of known hosts.\n",
      "Warning: Permanently added '192.168.88.10' (ED25519) to the list of known hosts.\n",
      "Warning: Permanently added '192.168.88.10' (ED25519) to the list of known hosts.\n",
      "Warning: Permanently added '192.168.88.17' (ED25519) to the list of known hosts.\n",
      "deployment.apps/k3s-tflite-app-deployment restarted\n",
      "Retrieve usage results and remove remote workspace\n",
      "Warning: Permanently added '192.168.88.17' (ED25519) to the list of known hosts.\n",
      "results_cpu_usage_WiFi_2.4GHz_20-40MHz_9_pptc 100%   21KB   2.6MB/s   00:00    \n",
      "Warning: Permanently added '192.168.88.17' (ED25519) to the list of known hosts.\n",
      "results_ram_usage_WiFi_2.4GHz_20-40MHz_9_pptc 100%   21KB   3.5MB/s   00:00    \n",
      "Warning: Permanently added '192.168.88.17' (ED25519) to the list of known hosts.\n",
      "results_network_usage_WiFi_2.4GHz_20-40MHz_9_ 100%   14KB   2.2MB/s   00:00    \n",
      "Warning: Permanently added '192.168.88.17' (ED25519) to the list of known hosts.\n",
      "Retrieve usage results and remove remote workspace\n",
      "Warning: Permanently added '192.168.88.3' (ED25519) to the list of known hosts.\n",
      "results_cpu_usage_WiFi_2.4GHz_20-40MHz_9_pptc 100%   21KB   2.6MB/s   00:00    \n",
      "Warning: Permanently added '192.168.88.3' (ED25519) to the list of known hosts.\n",
      "results_ram_usage_WiFi_2.4GHz_20-40MHz_9_pptc 100%   22KB   3.1MB/s   00:00    \n",
      "Warning: Permanently added '192.168.88.3' (ED25519) to the list of known hosts.\n",
      "results_network_usage_WiFi_2.4GHz_20-40MHz_9_ 100%   14KB   3.0MB/s   00:00    \n",
      "Warning: Permanently added '192.168.88.3' (ED25519) to the list of known hosts.\n",
      "Retrieve usage results and remove remote workspace\n",
      "Warning: Permanently added '192.168.88.4' (ED25519) to the list of known hosts.\n",
      "results_cpu_usage_WiFi_2.4GHz_20-40MHz_9_pptc 100%   21KB   3.6MB/s   00:00    \n",
      "Warning: Permanently added '192.168.88.4' (ED25519) to the list of known hosts.\n",
      "results_ram_usage_WiFi_2.4GHz_20-40MHz_9_pptc 100%   23KB   3.9MB/s   00:00    \n",
      "Warning: Permanently added '192.168.88.4' (ED25519) to the list of known hosts.\n",
      "results_network_usage_WiFi_2.4GHz_20-40MHz_9_ 100%   14KB   3.2MB/s   00:00    \n",
      "Warning: Permanently added '192.168.88.4' (ED25519) to the list of known hosts.\n",
      "Retrieve usage results and remove remote workspace\n",
      "Warning: Permanently added '192.168.88.5' (ED25519) to the list of known hosts.\n",
      "results_cpu_usage_WiFi_2.4GHz_20-40MHz_9_pptc 100%   21KB   3.1MB/s   00:00    \n",
      "Warning: Permanently added '192.168.88.5' (ED25519) to the list of known hosts.\n",
      "results_ram_usage_WiFi_2.4GHz_20-40MHz_9_pptc 100%   24KB   3.5MB/s   00:00    \n",
      "Warning: Permanently added '192.168.88.5' (ED25519) to the list of known hosts.\n",
      "results_network_usage_WiFi_2.4GHz_20-40MHz_9_ 100%   15KB   2.6MB/s   00:00    \n",
      "Warning: Permanently added '192.168.88.5' (ED25519) to the list of known hosts.\n",
      "Retrieve usage results and remove remote workspace\n",
      "Warning: Permanently added '192.168.88.6' (ED25519) to the list of known hosts.\n",
      "results_cpu_usage_WiFi_2.4GHz_20-40MHz_9_pptc 100%   22KB   2.8MB/s   00:00    \n",
      "Warning: Permanently added '192.168.88.6' (ED25519) to the list of known hosts.\n",
      "results_ram_usage_WiFi_2.4GHz_20-40MHz_9_pptc 100%   25KB   2.7MB/s   00:00    \n",
      "Warning: Permanently added '192.168.88.6' (ED25519) to the list of known hosts.\n",
      "results_network_usage_WiFi_2.4GHz_20-40MHz_9_ 100%   15KB   2.4MB/s   00:00    \n",
      "Warning: Permanently added '192.168.88.6' (ED25519) to the list of known hosts.\n",
      "Retrieve usage results and remove remote workspace\n",
      "Warning: Permanently added '192.168.88.7' (ED25519) to the list of known hosts.\n",
      "results_cpu_usage_WiFi_2.4GHz_20-40MHz_9_pptc 100%   23KB   3.6MB/s   00:00    \n",
      "Warning: Permanently added '192.168.88.7' (ED25519) to the list of known hosts.\n",
      "results_ram_usage_WiFi_2.4GHz_20-40MHz_9_pptc 100%   25KB   3.6MB/s   00:00    \n",
      "Warning: Permanently added '192.168.88.7' (ED25519) to the list of known hosts.\n",
      "results_network_usage_WiFi_2.4GHz_20-40MHz_9_ 100%   15KB   2.6MB/s   00:00    \n",
      "Warning: Permanently added '192.168.88.7' (ED25519) to the list of known hosts.\n",
      "Retrieve usage results and remove remote workspace\n",
      "Warning: Permanently added '192.168.88.8' (ED25519) to the list of known hosts.\n",
      "results_cpu_usage_WiFi_2.4GHz_20-40MHz_9_pptc 100%   23KB   3.1MB/s   00:00    \n",
      "Warning: Permanently added '192.168.88.8' (ED25519) to the list of known hosts.\n",
      "results_ram_usage_WiFi_2.4GHz_20-40MHz_9_pptc 100%   26KB   3.4MB/s   00:00    \n",
      "Warning: Permanently added '192.168.88.8' (ED25519) to the list of known hosts.\n",
      "results_network_usage_WiFi_2.4GHz_20-40MHz_9_ 100%   15KB   2.3MB/s   00:00    \n",
      "Warning: Permanently added '192.168.88.8' (ED25519) to the list of known hosts.\n",
      "Retrieve usage results and remove remote workspace\n",
      "Warning: Permanently added '192.168.88.9' (ED25519) to the list of known hosts.\n",
      "results_cpu_usage_WiFi_2.4GHz_20-40MHz_9_pptc 100%   24KB   3.1MB/s   00:00    \n",
      "Warning: Permanently added '192.168.88.9' (ED25519) to the list of known hosts.\n",
      "results_ram_usage_WiFi_2.4GHz_20-40MHz_9_pptc 100%   27KB   3.6MB/s   00:00    \n",
      "Warning: Permanently added '192.168.88.9' (ED25519) to the list of known hosts.\n",
      "results_network_usage_WiFi_2.4GHz_20-40MHz_9_ 100%   15KB   2.2MB/s   00:00    \n",
      "Warning: Permanently added '192.168.88.9' (ED25519) to the list of known hosts.\n",
      "Retrieve usage results and remove remote workspace\n",
      "Warning: Permanently added '192.168.88.10' (ED25519) to the list of known hosts.\n",
      "results_cpu_usage_WiFi_2.4GHz_20-40MHz_9_pptc 100%   25KB 547.0KB/s   00:00    \n",
      "Warning: Permanently added '192.168.88.10' (ED25519) to the list of known hosts.\n",
      "results_ram_usage_WiFi_2.4GHz_20-40MHz_9_pptc 100%   27KB 513.1KB/s   00:00    \n",
      "Warning: Permanently added '192.168.88.10' (ED25519) to the list of known hosts.\n",
      "results_network_usage_WiFi_2.4GHz_20-40MHz_9_ 100%   16KB   2.3MB/s   00:00    \n",
      "Warning: Permanently added '192.168.88.10' (ED25519) to the list of known hosts.\n",
      "Prepare next config:\n",
      "\tMedium: WiFi 2.4GHz 20-40MHz\n",
      "\tNumber of nodes: 10\n",
      "\tSSH infos: ['pptc@192.168.88.17', 'pptc@192.168.88.3', 'pptc@192.168.88.4', 'pptc@192.168.88.5', 'pptc@192.168.88.6', 'pptc@192.168.88.7', 'pptc@192.168.88.8', 'pptc@192.168.88.9', 'pptc@192.168.88.10', 'pptc@192.168.88.11']\n",
      "\tDevice types: ['Server', 'Agent', 'Agent', 'Agent', 'Agent', 'Agent', 'Agent', 'Agent', 'Agent', 'Agent']\n",
      "\t\n",
      "\n",
      "Value : s\n"
     ]
    }
   ],
   "source": [
    "# Experiment path\n",
    "exp_folder_name = experiment_name.replace(' ', '_') + \"_\" + timestamp.strftime(\"%Y%m%dT%H%M%S\")\n",
    "curr_exp_dir = global_res_dir + \"/\" + exp_folder_name\n",
    "\n",
    "# Remote path\n",
    "remote_exp_results_dir = \"~/\" + exp_folder_name + \"/results\"\n",
    "remote_exp_cpu_usage_dir = remote_exp_results_dir + \"/cpu_usage\"\n",
    "remote_exp_ram_usage_dir = remote_exp_results_dir + \"/ram_usage\"\n",
    "remote_exp_network_usage_dir = remote_exp_results_dir + \"/network_usage\"\n",
    "remote_exp_scripts_dir = \"~/\" + exp_folder_name + \"/scripts\"\n",
    "\n",
    "for med in mediums:\n",
    "    # Results paths by mediums\n",
    "    curr_exp_med_dir = curr_exp_dir + \"/\" + med.replace(' ', '_')\n",
    "    curr_exp_med_raw_dir = curr_exp_med_dir + \"/raw_results\"\n",
    "    curr_exp_med_res_dir = curr_exp_med_dir + \"/results\"\n",
    "\n",
    "    # Get interface\n",
    "    dev_interface = \"eth0\" if med == \"Ethernet\" else \"wlan0\"\n",
    "\n",
    "    # Create results dir\n",
    "    path = Path(curr_exp_dir)\n",
    "    path.mkdir(parents=True, exist_ok=True)\n",
    "    path = Path(curr_exp_med_dir)\n",
    "    path.mkdir(parents=True, exist_ok=True)\n",
    "    path = Path(curr_exp_med_raw_dir)\n",
    "    path.mkdir(parents=True, exist_ok=True)\n",
    "    path = Path(curr_exp_med_res_dir)\n",
    "    path.mkdir(parents=True, exist_ok=True)\n",
    "\n",
    "    for i in range(df.shape[0]):\n",
    "        ssh_infos = df.loc[i, \"SSH infos\"]\n",
    "        node_types = df.loc[i, \"Node types\"]\n",
    "        cluster_ip = df.loc[i, \"Cluster IP\"]\n",
    "        n_nodes = df.loc[i, \"Number of nodes\"]\n",
    "\n",
    "        print(f\"Prepare next config:\\n\\tMedium: {med}\\n\\tNumber of nodes: {n_nodes}\\n\\tSSH infos: {ssh_infos}\\n\\tDevice types: {node_types}\\n\\t\\n\")\n",
    "        time.sleep(2)\n",
    "        v = input(\"Press ENTER to run the benchmark\")\n",
    "        print(f\"Value : {v}\")\n",
    "        if v == \"s\": # stop\n",
    "            break\n",
    "        print(\"Run benchmark...\")\n",
    "\n",
    "        curr_exp_med_raw_file = curr_exp_med_raw_dir + f\"/results_request_per_second_{n_nodes}.txt\"\n",
    "\n",
    "        # Remote paths\n",
    "        cpu_usage_remote_file = remote_exp_cpu_usage_dir + \"/results_cpu_usage_\" + med.replace(' ', '_') + \"_\" + str(n_nodes) + \"_\"\n",
    "        ram_usage_remote_file = remote_exp_ram_usage_dir + \"/results_ram_usage_\" + med.replace(' ', '_') + \"_\" + str(n_nodes) + \"_\"\n",
    "        network_usage_remote_file = remote_exp_network_usage_dir + \"/results_network_usage_\" + med.replace(' ', '_') + \"_\" + str(n_nodes) + \"_\"\n",
    "\n",
    "        for j in range(len(ssh_infos)):\n",
    "            ssh_info = ssh_infos[j]\n",
    "            # Copy scripts on remote device\n",
    "            !{ssh_with_args} {ssh_info} \"mkdir -p ~/{exp_folder_name}\"\n",
    "            !{scp_with_args} -r scripts/ {ssh_info}:~/{exp_folder_name}\n",
    "            \n",
    "            # Create remote workspace\n",
    "            !{ssh_with_args} {ssh_info} \"mkdir -p {remote_exp_cpu_usage_dir}; mkdir -p {remote_exp_ram_usage_dir}; mkdir -p {remote_exp_network_usage_dir}\"\n",
    "\n",
    "            # Write config on remote for cpu and ram usage\n",
    "            !{ssh_with_args} {ssh_info} \"echo -e \\\"# SSH_INFO={ssh_info}\\n# ITERATIONS={iterations}\\n# NUMBER_NODES={n_nodes}\\n# NODE_TYPE={node_types[j]}\\n# MEDIUM={med}\\n# COUNT={count_for_usage_script}\\n\\\" > {cpu_usage_remote_file + ssh_info}.txt\"\n",
    "            !{ssh_with_args} {ssh_info} \"echo -e \\\"# SSH_INFO={ssh_info}\\n# ITERATIONS={iterations}\\n# NUMBER_NODES={n_nodes}\\n# NODE_TYPE={node_types[j]}\\n# MEDIUM={med}\\n# COUNT={count_for_usage_script}\\n\\\" > {ram_usage_remote_file + ssh_info}.txt\"\n",
    "            !{ssh_with_args} {ssh_info} \"echo -e \\\"# SSH_INFO={ssh_info}\\n# ITERATIONS={iterations}\\n# NUMBER_NODES={n_nodes}\\n# NODE_TYPE={node_types[j]}\\n# MEDIUM={med}\\n# COUNT={count_for_usage_script}\\n# INTERFACE={dev_interface}\\n\\\" > {network_usage_remote_file + ssh_info}.txt\"\n",
    "\n",
    "        \n",
    "        # Local for execution time\n",
    "        with open(curr_exp_med_raw_file, \"w\") as raw:\n",
    "            raw.write(f\"# SSH_INFO={ssh_info}\\n\")\n",
    "            raw.write(f\"# ITERATIONS={iterations}\\n\")\n",
    "            raw.write(f\"# NUMBER_NODES={n_nodes}\\n\")\n",
    "            raw.write(f\"# NODE_TYPE={node_types}\\n\")\n",
    "            raw.write(f\"# MEDIUM={med}\\n\")\n",
    "            raw.write(f\"# WRK_THREADS={wrk_threads}\\n\")\n",
    "            raw.write(f\"# WRK_CONNECTION={wrk_connections_by_device * (n_nodes - 1)}\\n\")\n",
    "            raw.write(f\"# WRK_DURATION={wrk_duration}\\n\")\n",
    "\n",
    "        for iter in range(iterations):\n",
    "            print(f\"Iteration {iter}\")\n",
    "            with open(curr_exp_med_raw_file, \"a\") as raw:\n",
    "                raw.write(f\"\\n# ITERATION {iter}\\n\")\n",
    "\n",
    "            cpu_usage_processes = []\n",
    "            ram_usage_processes = []\n",
    "            network_usage_processes = []\n",
    "\n",
    "            for ssh_info in ssh_infos:\n",
    "                !{ssh_with_args} {ssh_info} \"echo -e \\\"\\n# ITERATION {iter}\\n\\\" >> {cpu_usage_remote_file + ssh_info}.txt\"\n",
    "                !{ssh_with_args} {ssh_info} \"echo -e \\\"\\n# ITERATION {iter}\\n\\\" >> {ram_usage_remote_file + ssh_info}.txt\"\n",
    "                !{ssh_with_args} {ssh_info} \"echo -e \\\"\\n# ITERATION {iter}\\n\\\" >> {network_usage_remote_file + ssh_info}.txt\"\n",
    "            \n",
    "                cpu_usage_processes.append(subprocess.Popen(f'{ssh_with_args} {ssh_info} \"{remote_exp_scripts_dir}/cpu_usage_script.sh {count_for_usage_script} {cpu_usage_remote_file + ssh_info}.txt 0\"', shell=True))\n",
    "                ram_usage_processes.append(subprocess.Popen(f'{ssh_with_args} {ssh_info} \"{remote_exp_scripts_dir}/ram_usage_script.sh {count_for_usage_script} {ram_usage_remote_file + ssh_info}.txt 0\"', shell=True))\n",
    "                network_usage_processes.append(subprocess.Popen(f'{ssh_with_args} {ssh_info} \"{remote_exp_scripts_dir}/network_usage_script.sh {count_for_usage_script} {network_usage_remote_file + ssh_info}.txt {dev_interface} 0\"', shell=True))\n",
    "\n",
    "            time.sleep(5) # To have more usage measures\n",
    "\n",
    "            print(\"Perform measure\")\n",
    "            start_timestamp = int(datetime.datetime.now().timestamp()) # Timestamp at which the inference request started\n",
    "            command = f\"wrk -t {wrk_threads} -c {wrk_connections_by_device * (n_nodes - 1)} -d {wrk_duration} -s {wrk_lua_script} http://{cluster_ip}:{cluster_port}/label_image\"\n",
    "            result = subprocess.run(command, shell=True, capture_output=True, text=True)\n",
    "            with open(curr_exp_med_raw_file, \"a\") as raw:\n",
    "                raw.write(result.stdout)\n",
    "            stop_timestamp = int(datetime.datetime.now().timestamp()) # Timestamp at which the inference request started\n",
    "\n",
    "            time.sleep(5)  # To have more usage measures\n",
    "\n",
    "            print(\"Kill CPU and RAM usage scripts\") \n",
    "            for j in range(len(ssh_infos)):\n",
    "                cpu_usage_processes[j].kill()\n",
    "                ram_usage_processes[j].kill()\n",
    "                network_usage_processes[j].kill()\n",
    "\n",
    "                ssh_info = ssh_infos[j]\n",
    "                !{ssh_with_args} {ssh_info} 'kill $(pidof cpu_usage_script.sh)'\n",
    "                !{ssh_with_args} {ssh_info} 'kill $(pidof ram_usage_script.sh)'\n",
    "                !{ssh_with_args} {ssh_info} 'kill $(pidof network_usage_script.sh)'\n",
    "\n",
    "                !{ssh_with_args} {ssh_info} \"echo \\\"# TIMESTAMP_START={start_timestamp}\\\" >> {cpu_usage_remote_file + ssh_info}.txt; echo \\\"# TIMESTAMP_STOP={stop_timestamp}\\\" >> {cpu_usage_remote_file + ssh_info}.txt\"\n",
    "                !{ssh_with_args} {ssh_info} \"echo \\\"# TIMESTAMP_START={start_timestamp}\\\" >> {ram_usage_remote_file + ssh_info}.txt; echo \\\"# TIMESTAMP_STOP={stop_timestamp}\\\" >> {ram_usage_remote_file + ssh_info}.txt\"\n",
    "                !{ssh_with_args} {ssh_info} \"echo \\\"# TIMESTAMP_START={start_timestamp}\\\" >> {network_usage_remote_file + ssh_info}.txt; echo \\\"# TIMESTAMP_STOP={stop_timestamp}\\\" >> {network_usage_remote_file + ssh_info}.txt\"\n",
    "\n",
    "            # Restart all pods to remove old requests\n",
    "            !{ssh_with_args} {ssh_server[0]} \"kubectl rollout restart deployment k3s-tflite-app-deployment\"\n",
    "            while not are_pods_ready():\n",
    "                time.sleep(1)\n",
    "\n",
    "        # Retrieve usage results and remove remote experiment directory\n",
    "        for ssh_info in ssh_infos:\n",
    "            print(\"Retrieve usage results and remove remote workspace\")\n",
    "            !{scp_with_args} -r {ssh_info}:{remote_exp_cpu_usage_dir} {curr_exp_med_raw_dir}\n",
    "            !{scp_with_args} -r {ssh_info}:{remote_exp_ram_usage_dir} {curr_exp_med_raw_dir}\n",
    "            !{scp_with_args} -r {ssh_info}:{remote_exp_network_usage_dir} {curr_exp_med_raw_dir}\n",
    "\n",
    "            !{ssh_with_args} {ssh_info} \"rm -rf ~/{exp_folder_name}\"\n"
   ]
  },
  {
   "cell_type": "markdown",
   "metadata": {},
   "source": [
    "### Process results"
   ]
  },
  {
   "cell_type": "code",
   "execution_count": 35,
   "metadata": {},
   "outputs": [],
   "source": [
    "def process_request_per_second_raw_results_to_dataframe(raw_results_path):\n",
    "    df = pd.DataFrame()\n",
    "    n_nodes=0\n",
    "    medium=\"\"\n",
    "    wrk_threads=0\n",
    "    wrk_duration=0\n",
    "    wrk_connections=0\n",
    "\n",
    "\n",
    "    request_s = []\n",
    "    iterations = []\n",
    "\n",
    "    with open(raw_results_path, \"r\") as raw:\n",
    "        for line in raw:\n",
    "            if line.startswith(\"# MEDIUM=\"):\n",
    "                medium = line.split('=')[1].strip()\n",
    "            elif line.startswith(\"# NUMBER_NODES=\"):\n",
    "                n_nodes = int(line.split('=')[1].strip())\n",
    "            elif line.startswith(\"# WRK_THREADS=\"):\n",
    "                wrk_threads = line.split('=')[1].strip()\n",
    "            elif line.startswith(\"# WRK_DURATION=\"):\n",
    "                wrk_duration = line.split('=')[1].strip()\n",
    "            elif line.startswith(\"# WRK_CONNECTION=\"):\n",
    "                wrk_connections = line.split('=')[1].strip()\n",
    "            elif line.startswith(\"# ITERATION \"):\n",
    "                iterations.append(int(line.split(' ')[2].strip()))\n",
    "            elif line.startswith(\"Requests/sec:\"):\n",
    "                request_s.append(float(line.split(':')[1].strip()))\n",
    "\n",
    "\n",
    "    df[\"Iteration\"] = iterations\n",
    "    df[\"Request/s\"] = request_s\n",
    "    df[\"Medium\"] = [medium] * df.shape[0]\n",
    "    df[\"Number of Nodes\"] = [n_nodes] * df.shape[0]\n",
    "    df[\"WRK Threads\"] = [wrk_threads] * df.shape[0]\n",
    "    df[\"WRK Duration\"] = [wrk_duration] * df.shape[0]\n",
    "    df[\"WRK Connections\"] = [wrk_connections] * df.shape[0]\n",
    "\n",
    "    return df\n",
    "\n",
    "def process_cpu_usage_to_dataframe(raw_results_path):\n",
    "    df = pd.DataFrame()\n",
    "    medium=\"\"\n",
    "    ssh_info=\"\"\n",
    "    node_type=\"\"\n",
    "    n_nodes=0\n",
    "\n",
    "    timestamp_values = []\n",
    "    user_values = []\n",
    "    nice_values = []\n",
    "    system_values = []\n",
    "    idle_values = []\n",
    "    iowait_values = []\n",
    "    irq_values = []\n",
    "    softirq_values = []\n",
    "    iteration_values = []\n",
    "    timestamp_start_values = []\n",
    "    timestamp_stop_values = []\n",
    "    \n",
    "    iteration_v = -1\n",
    "    n_values_per_iter = 0\n",
    "\n",
    "    with open(raw_results_path, \"r\") as raw:\n",
    "        for line in raw:\n",
    "            if line.startswith(\"# MEDIUM=\"):\n",
    "                medium = line.split('=')[1].strip()\n",
    "            elif line.startswith(\"# SSH_INFO=\"):\n",
    "                ssh_info = line.split('=')[1].strip()\n",
    "            elif line.startswith(\"# NODE_TYPE=\"):\n",
    "                node_type = line.split('=')[1].strip()\n",
    "            elif line.startswith(\"# NUMBER_NODES=\"):\n",
    "                n_nodes = int(line.split('=')[1].strip())\n",
    "            elif line.startswith(\"# ITERATION \"):\n",
    "                if iteration_v != -1:\n",
    "                    iteration_values += [iteration_v] * n_values_per_iter\n",
    "                iteration_v = int(line.split(' ')[2].strip())\n",
    "                n_values_per_iter = 0\n",
    "            elif not line.startswith(\"#\") and line.strip(): # Also check not empty\n",
    "                timestamp_v, user_v, nice_v, system_v, idle_v, iowait_v, irq_v, softirq_v = line.split(',')\n",
    "                timestamp_values.append(int(timestamp_v.strip()))\n",
    "                user_values.append(float(user_v.strip()))\n",
    "                nice_values.append(float(nice_v.strip()))\n",
    "                system_values.append(float(system_v.strip()))\n",
    "                idle_values.append(float(idle_v.strip()))\n",
    "                iowait_values.append(float(iowait_v.strip()))\n",
    "                irq_values.append(float(irq_v.strip()))\n",
    "                softirq_values.append(float(softirq_v.strip()))\n",
    "                n_values_per_iter += 1\n",
    "            elif line.startswith(\"# TIMESTAMP_START=\"):\n",
    "                timestamp_start_values += [int(line.split('=')[1].strip())] * n_values_per_iter\n",
    "            elif line.startswith(\"# TIMESTAMP_STOP=\"):\n",
    "                timestamp_stop_values += [int(line.split('=')[1].strip())] * n_values_per_iter \n",
    "        iteration_values += [iteration_v] * n_values_per_iter # Last at end of file\n",
    "\n",
    "    df[\"Iteration\"] = iteration_values\n",
    "    df[\"SSH Info\"] = [ssh_info] * df.shape[0]\n",
    "    df[\"Node Type\"] = [node_type] * df.shape[0]\n",
    "    df[\"Number of Nodes\"] = [n_nodes] * df.shape[0]\n",
    "    df[\"Timestamp\"] = timestamp_values\n",
    "    df[\"User\"] = user_values\n",
    "    df[\"Nice\"] = nice_values\n",
    "    df[\"System\"] = system_values\n",
    "    df[\"Idle\"] = idle_values\n",
    "    df[\"IOwait\"] = iowait_values\n",
    "    df[\"IRQ\"] = irq_values\n",
    "    df[\"SoftIRQ\"] = softirq_values\n",
    "    df[\"Timestamp Start\"] = timestamp_start_values\n",
    "    df[\"Timestamp Stop\"] = timestamp_stop_values\n",
    "    df[\"Medium\"] = [medium] * df.shape[0]\n",
    "\n",
    "\n",
    "    # Compute CPU usage and Timestamp from 0\n",
    "    df['Total'] = df[[\"User\", \"Nice\", \"System\", \"Idle\", \"IOwait\", \"IRQ\", \"SoftIRQ\"]].sum(axis=1)\n",
    "    \n",
    "    groups = []\n",
    "\n",
    "    for _, group in df.groupby([\"Iteration\"]):\n",
    "        group[\"Indexes\"] = group.index\n",
    "        group = group.reset_index()\n",
    "        init_timestamp = group.loc[0, \"Timestamp\"]\n",
    "        group[\"Timestamp Sliced\"] = group[\"Timestamp\"] - init_timestamp\n",
    "        group[\"Timestamp Start Sliced\"] = group[\"Timestamp Start\"] - init_timestamp\n",
    "        group[\"Timestamp Stop Sliced\"] = group[\"Timestamp Stop\"] - init_timestamp\n",
    "        group[\"Has Workload\"] = (group[\"Timestamp Start\"] <= group[\"Timestamp\"]) & (group[\"Timestamp\"] <= group[\"Timestamp Stop\"])\n",
    "\n",
    "        group['Last Idle'] = group['Idle'].shift(1).fillna(0)\n",
    "        group['Last Total'] = group['Total'].shift(1).fillna(0)\n",
    "        group['Idle Delta'] = group['Idle'] - group['Last Idle']\n",
    "        group['Total Delta'] = group['Total'] - group['Last Total']\n",
    "        group['Usage'] = 100.0 * (1.0 - (group['Idle Delta'] / group['Total Delta']))\n",
    "\n",
    "        group = group.set_index(\"Indexes\")\n",
    "\n",
    "        groups.append(group)\n",
    "\n",
    "    df_usage = pd.concat(groups)\n",
    "    df[\"Usage\"] = df_usage[\"Usage\"]\n",
    "    df[\"Timestamp Sliced\"] = df_usage[\"Timestamp Sliced\"]\n",
    "    df[\"Timestamp Start Sliced\"] = df_usage[\"Timestamp Start Sliced\"]\n",
    "    df[\"Timestamp Stop Sliced\"] = df_usage[\"Timestamp Stop Sliced\"]\n",
    "    df[\"Has Workload\"] = df_usage[\"Has Workload\"]\n",
    "\n",
    "    return df.drop([\"Total\"], axis=\"columns\")\n",
    "\n",
    "\n",
    "def process_ram_usage_to_dataframe(raw_results_path):\n",
    "    df = pd.DataFrame()\n",
    "    medium=\"\"\n",
    "    ssh_info=\"\"\n",
    "    node_type=\"\"\n",
    "    n_nodes=0\n",
    "\n",
    "    timestamp_values = []\n",
    "    memtotal_values = []\n",
    "    memfree_values = []\n",
    "    memavailable_values = []\n",
    "    cache_values = []\n",
    "    buffer_values = []\n",
    "    swaptotal_values = []\n",
    "    swapfree_values = []\n",
    "    swapcached_values = []\n",
    "    iteration_values = []\n",
    "    timestamp_start_values = []\n",
    "    timestamp_stop_values = []\n",
    "    \n",
    "    iteration_v = -1\n",
    "    n_values_per_iter = 0\n",
    "\n",
    "    with open(raw_results_path, \"r\") as raw:\n",
    "        for line in raw:\n",
    "            if line.startswith(\"# MEDIUM=\"):\n",
    "                medium = line.split('=')[1].strip()\n",
    "            elif line.startswith(\"# SSH_INFO=\"):\n",
    "                ssh_info = line.split('=')[1].strip()\n",
    "            elif line.startswith(\"# NODE_TYPE=\"):\n",
    "                node_type = line.split('=')[1].strip()\n",
    "            elif line.startswith(\"# NUMBER_NODES=\"):\n",
    "                n_nodes = int(line.split('=')[1].strip())\n",
    "            elif line.startswith(\"# ITERATION \"):\n",
    "                if iteration_v != -1:\n",
    "                    iteration_values += [iteration_v] * n_values_per_iter\n",
    "                iteration_v = int(line.split(' ')[2].strip())\n",
    "                n_values_per_iter = 0\n",
    "            elif not line.startswith(\"#\") and line.strip(): # Also check not empty\n",
    "                timestamp_v, memtotal_v, memfree_v, memavailable_v, cache_v, buffer_v, swaptotal_v, swapfree_v, swapcached_v = line.split(',')\n",
    "                timestamp_values.append(int(timestamp_v.strip()))\n",
    "                memtotal_values.append(float(memtotal_v.strip()))\n",
    "                memfree_values.append(float(memfree_v.strip()))\n",
    "                memavailable_values.append(float(memavailable_v.strip()))\n",
    "                cache_values.append(float(cache_v.strip()))\n",
    "                buffer_values.append(float(buffer_v.strip()))\n",
    "                swaptotal_values.append(float(swaptotal_v.strip()))\n",
    "                swapfree_values.append(float(swapfree_v.strip()))\n",
    "                swapcached_values.append(float(swapcached_v.strip()))\n",
    "                n_values_per_iter += 1\n",
    "            elif line.startswith(\"# TIMESTAMP_START=\"):\n",
    "                timestamp_start_values += [int(line.split('=')[1].strip())] * n_values_per_iter\n",
    "            elif line.startswith(\"# TIMESTAMP_STOP=\"):\n",
    "                timestamp_stop_values += [int(line.split('=')[1].strip())] * n_values_per_iter \n",
    "        iteration_values += [iteration_v] * n_values_per_iter # Last at end of file\n",
    "\n",
    "    df[\"Iteration\"] = iteration_values\n",
    "    df[\"SSH Info\"] = [ssh_info] * df.shape[0]\n",
    "    df[\"Node Type\"] = [node_type] * df.shape[0]\n",
    "    df[\"Number of Nodes\"] = [n_nodes] * df.shape[0]\n",
    "    df[\"Timestamp\"] = timestamp_values\n",
    "    df[\"Total Memory\"] = memtotal_values\n",
    "    df[\"Free Memory\"] = memfree_values\n",
    "    df[\"Available Memory\"] = memavailable_values\n",
    "    df[\"Cache\"] = cache_values\n",
    "    df[\"Buffer\"] = buffer_values\n",
    "    df[\"Total Swap\"] = swaptotal_values\n",
    "    df[\"Free Swap\"] = swapfree_values\n",
    "    df[\"Cached Swap\"] = swapcached_values\n",
    "    df[\"Timestamp Start\"] = timestamp_start_values\n",
    "    df[\"Timestamp Stop\"] = timestamp_stop_values\n",
    "    df[\"Medium\"] = [medium] * df.shape[0]\n",
    "\n",
    "\n",
    "    # Compute RAM usage and Timestamp from 0\n",
    "    groups = []\n",
    "\n",
    "    for _, group in df.groupby([\"Iteration\"]):\n",
    "        group[\"Indexes\"] = group.index\n",
    "        group = group.reset_index()\n",
    "        init_timestamp = group.loc[0, \"Timestamp\"]\n",
    "        group[\"Timestamp Sliced\"] = group[\"Timestamp\"] - init_timestamp\n",
    "        group[\"Timestamp Start Sliced\"] = group[\"Timestamp Start\"] - init_timestamp\n",
    "        group[\"Timestamp Stop Sliced\"] = group[\"Timestamp Stop\"] - init_timestamp\n",
    "        group[\"Has Workload\"] = (group[\"Timestamp Start\"] <= group[\"Timestamp\"]) & (group[\"Timestamp\"] <= group[\"Timestamp Stop\"])\n",
    "        group[\"Usage\"] = (1 - (group[\"Free Memory\"]/group[\"Total Memory\"])) * 100.0\n",
    "\n",
    "        group = group.set_index(\"Indexes\")\n",
    "\n",
    "        groups.append(group)\n",
    "\n",
    "    df_usage = pd.concat(groups)\n",
    "    df[\"Usage\"] = df_usage[\"Usage\"]\n",
    "    df[\"Timestamp Sliced\"] = df_usage[\"Timestamp Sliced\"]\n",
    "    df[\"Timestamp Start Sliced\"] = df_usage[\"Timestamp Start Sliced\"]\n",
    "    df[\"Timestamp Stop Sliced\"] = df_usage[\"Timestamp Stop Sliced\"]\n",
    "    df[\"Has Workload\"] = df_usage[\"Has Workload\"]\n",
    "\n",
    "    return df\n",
    "\n",
    "\n",
    "def process_network_usage_to_dataframe(raw_results_path):\n",
    "    df = pd.DataFrame()\n",
    "    medium=\"\"\n",
    "    ssh_info=\"\"\n",
    "    node_type=\"\"\n",
    "    interface=\"\"\n",
    "    n_nodes=0\n",
    "\n",
    "    timestamp_values = []\n",
    "    reiceived_bytes = []\n",
    "    sent_bytes = []\n",
    "    iteration_values = []\n",
    "    timestamp_start_values = []\n",
    "    timestamp_stop_values = []\n",
    "    \n",
    "    iteration_v = -1\n",
    "    n_values_per_iter = 0\n",
    "\n",
    "    with open(raw_results_path, \"r\") as raw:\n",
    "        for line in raw:\n",
    "            if line.startswith(\"# MEDIUM=\"):\n",
    "                medium = line.split('=')[1].strip()\n",
    "            elif line.startswith(\"# SSH_INFO=\"):\n",
    "                ssh_info = line.split('=')[1].strip()\n",
    "            elif line.startswith(\"# NODE_TYPE=\"):\n",
    "                node_type = line.split('=')[1].strip()\n",
    "            elif line.startswith(\"# NUMBER_NODES=\"):\n",
    "                n_nodes = int(line.split('=')[1].strip())\n",
    "            elif line.startswith(\"# INTERFACE=\"):\n",
    "                interface = line.split('=')[1].strip()\n",
    "            elif line.startswith(\"# ITERATION \"):\n",
    "                if iteration_v != -1:\n",
    "                    iteration_values += [iteration_v] * n_values_per_iter\n",
    "                iteration_v = int(line.split(' ')[2].strip())\n",
    "                n_values_per_iter = 0\n",
    "            elif not line.startswith(\"#\") and line.strip(): # Also check not empty\n",
    "                timestamp_v, received_byte, sent_byte = line.split(',')\n",
    "                timestamp_values.append(int(timestamp_v.strip()))\n",
    "                reiceived_bytes.append(float(received_byte.strip()))\n",
    "                sent_bytes.append(float(sent_byte.strip()))\n",
    "                n_values_per_iter += 1\n",
    "            elif line.startswith(\"# TIMESTAMP_START=\"):\n",
    "                timestamp_start_values += [int(line.split('=')[1].strip())] * n_values_per_iter\n",
    "            elif line.startswith(\"# TIMESTAMP_STOP=\"):\n",
    "                timestamp_stop_values += [int(line.split('=')[1].strip())] * n_values_per_iter \n",
    "        iteration_values += [iteration_v] * n_values_per_iter # Last at end of file\n",
    "\n",
    "    df[\"Iteration\"] = iteration_values\n",
    "    df[\"SSH Info\"] = [ssh_info] * df.shape[0]\n",
    "    df[\"Node Type\"] = [node_type] * df.shape[0]\n",
    "    df[\"Number of Nodes\"] = [n_nodes] * df.shape[0]\n",
    "    df[\"Interface\"] = [interface] * df.shape[0]\n",
    "    df[\"Timestamp\"] = timestamp_values\n",
    "    df[\"Total Received Bytes\"] = reiceived_bytes\n",
    "    df[\"Total Sent Bytes\"] = sent_bytes\n",
    "    df[\"Timestamp Start\"] = timestamp_start_values\n",
    "    df[\"Timestamp Stop\"] = timestamp_stop_values\n",
    "    df[\"Medium\"] = [medium] * df.shape[0]\n",
    "\n",
    "\n",
    "    # Compute Network usage and Timestamp from 0\n",
    "    groups = []\n",
    "\n",
    "    for _, group in df.groupby([\"Iteration\"]):\n",
    "        group[\"Indexes\"] = group.index\n",
    "        group = group.reset_index()\n",
    "        init_timestamp = group.loc[0, \"Timestamp\"]\n",
    "        group[\"Timestamp Sliced\"] = group[\"Timestamp\"] - init_timestamp\n",
    "        group[\"Timestamp Start Sliced\"] = group[\"Timestamp Start\"] - init_timestamp\n",
    "        group[\"Timestamp Stop Sliced\"] = group[\"Timestamp Stop\"] - init_timestamp\n",
    "        group[\"Has Workload\"] = (group[\"Timestamp Start\"] <= group[\"Timestamp\"]) & (group[\"Timestamp\"] <= group[\"Timestamp Stop\"])\n",
    "\n",
    "        group['Last Total Received Bytes'] = group['Total Received Bytes'].shift(1).fillna(group.loc[0, \"Total Received Bytes\"])\n",
    "        group['Last Total Sent Bytes'] = group['Total Sent Bytes'].shift(1).fillna(group.loc[0, \"Total Sent Bytes\"])\n",
    "        group[\"Received Mbits/s\"] = (group['Total Received Bytes'] - group['Last Total Received Bytes']) * 8 / 1000000\n",
    "        group[\"Sent Mbits/s\"] = (group['Total Sent Bytes'] - group['Last Total Sent Bytes']) * 8 / 1000000\n",
    "\n",
    "        group = group.set_index(\"Indexes\")\n",
    "\n",
    "        groups.append(group)\n",
    "\n",
    "    df_usage = pd.concat(groups)\n",
    "    df[\"Received Mbits/s\"] = df_usage[\"Received Mbits/s\"]\n",
    "    df[\"Sent Mbits/s\"] = df_usage[\"Sent Mbits/s\"]\n",
    "    df[\"Timestamp Sliced\"] = df_usage[\"Timestamp Sliced\"]\n",
    "    df[\"Timestamp Start Sliced\"] = df_usage[\"Timestamp Start Sliced\"]\n",
    "    df[\"Timestamp Stop Sliced\"] = df_usage[\"Timestamp Stop Sliced\"]\n",
    "    df[\"Has Workload\"] = df_usage[\"Has Workload\"]\n",
    "\n",
    "    return df\n",
    "\n"
   ]
  },
  {
   "cell_type": "code",
   "execution_count": 36,
   "metadata": {},
   "outputs": [],
   "source": [
    "exp_dir = global_res_dir + \"/\" + experiment_name.replace(' ', '_') + \"_\" + timestamp.strftime(\"%Y%m%dT%H%M%S\")\n",
    "exp_dir = global_res_dir + \"/\" + experiment_name.replace(' ', '_') + \"_Fairphone\"\n",
    "\n",
    "df_req_per_sec = []\n",
    "df_cpu_usages = []\n",
    "df_ram_usages= []\n",
    "df_network_usages= []\n",
    "\n",
    "for med in mediums:\n",
    "    exp_med_dir = exp_dir + \"/\" + med.replace(' ', '_')\n",
    "    exp_med_raw_dir = exp_med_dir + \"/raw_results\"\n",
    "    exp_cpu_med_raw_dir = exp_med_raw_dir + \"/cpu_usage\"\n",
    "    exp_ram_med_raw_dir = exp_med_raw_dir + \"/ram_usage\"\n",
    "    exp_network_med_raw_dir = exp_med_raw_dir + \"/network_usage\"\n",
    "    exp_med_res_dir = exp_med_dir + \"/results\"\n",
    "\n",
    "    path = Path(exp_med_res_dir)\n",
    "    path.mkdir(parents=True, exist_ok=True)\n",
    "\n",
    "    # Execution time by part\n",
    "    df_req_per_sec_med = []\n",
    "    for file in os.listdir(exp_med_raw_dir):\n",
    "        file = exp_med_raw_dir + \"/\" + file\n",
    "        if os.path.isfile(file):\n",
    "            df_req_per_sec_med.append(process_request_per_second_raw_results_to_dataframe(file))\n",
    "    df_req_per_sec_med = pd.concat(df_req_per_sec_med, ignore_index=True)\n",
    "    df_req_per_sec.append(df_req_per_sec_med)\n",
    "    df_req_per_sec_med.to_csv(exp_med_res_dir + \"/request_per_sec_\" + med.replace(' ', '_') + \".csv\", index=False)\n",
    "\n",
    "    # CPU usage\n",
    "    df_cpu_usages_med = []\n",
    "    for file in os.listdir(exp_cpu_med_raw_dir):\n",
    "        df_cpu_usages_med.append(process_cpu_usage_to_dataframe(exp_cpu_med_raw_dir + \"/\" + file))\n",
    "    df_cpu_usages_med = pd.concat(df_cpu_usages_med, ignore_index=True)\n",
    "    df_cpu_usages.append(df_cpu_usages_med)\n",
    "    df_cpu_usages_med.to_csv(exp_med_res_dir + \"/cpu_usage_\" + med.replace(' ', '_') + \".csv\", index=False)\n",
    "\n",
    "\n",
    "    # RAM usage\n",
    "    df_ram_usages_med = []\n",
    "    for file in os.listdir(exp_ram_med_raw_dir):\n",
    "        df_ram_usages_med.append(process_ram_usage_to_dataframe(exp_ram_med_raw_dir + \"/\" + file))\n",
    "    df_ram_usages_med = pd.concat(df_ram_usages_med, ignore_index=True)\n",
    "    df_ram_usages.append(df_ram_usages_med)\n",
    "    df_cpu_usages_med.to_csv(exp_med_res_dir + \"/ram_usage_\" + med.replace(' ', '_') + \".csv\", index=False)\n",
    "\n",
    "    # NETWORK usage\n",
    "    df_network_usages_med = []\n",
    "    for file in os.listdir(exp_network_med_raw_dir):\n",
    "        df_network_usages_med.append(process_network_usage_to_dataframe(exp_network_med_raw_dir + \"/\" + file))\n",
    "    df_network_usages_med = pd.concat(df_network_usages_med, ignore_index=True)\n",
    "    df_network_usages.append(df_network_usages_med)\n",
    "    df_network_usages_med.to_csv(exp_med_res_dir + \"/network_usage_\" + med.replace(' ', '_') + \".csv\", index=False)\n",
    "\n",
    "# Execution time by part\n",
    "df_req_per_sec = pd.concat(df_req_per_sec, ignore_index=True)\n",
    "df_req_per_sec.to_csv(exp_dir + \"/request_per_sec.csv\", index=False)\n",
    "\n",
    "# CPU usage\n",
    "df_cpu_usages = pd.concat(df_cpu_usages, ignore_index=True)\n",
    "df_cpu_usages.to_csv(exp_dir + \"/cpu_usage.csv\", index=False)\n",
    "\n",
    "# RAM usage\n",
    "df_ram_usages = pd.concat(df_ram_usages, ignore_index=True)\n",
    "df_ram_usages.to_csv(exp_dir + \"/ram_usage.csv\", index=False)\n",
    "\n",
    "# Network usage\n",
    "df_network_usages = pd.concat(df_network_usages, ignore_index=True)\n",
    "df_network_usages.to_csv(exp_dir + \"/network_usage.csv\", index=False)\n",
    "\n",
    "# display(df_execution_time_by_part)\n",
    "# display(df_cpu_usages)\n",
    "# display(df_ram_usages)"
   ]
  },
  {
   "cell_type": "markdown",
   "metadata": {},
   "source": [
    "### Make Graphs"
   ]
  },
  {
   "cell_type": "code",
   "execution_count": 7,
   "metadata": {},
   "outputs": [],
   "source": [
    "# Global variables\n",
    "exp_dir = global_res_dir + \"/\" + experiment_name.replace(' ', '_') + \"_\" + timestamp.strftime(\"%Y%m%dT%H%M%S\")\n",
    "exp_dir = global_res_dir + \"/\" + experiment_name.replace(' ', '_') + \"_Fairphone\"\n",
    "\n",
    "graphs_dir = exp_dir + \"/graphs\"\n",
    "graphs_req_per_sec_dir = graphs_dir + \"/request_per_sec\"\n",
    "graphs_cpu_usage_dir = graphs_dir + \"/cpu_usage\"\n",
    "graphs_ram_usage_dir = graphs_dir + \"/ram_usage\"\n",
    "graphs_network_usage_dir = graphs_dir + \"/network_usage\"\n",
    "\n",
    "path = Path(graphs_dir)\n",
    "path.mkdir(parents=True, exist_ok=True)\n",
    "path = Path(graphs_req_per_sec_dir)\n",
    "path.mkdir(parents=True, exist_ok=True)\n",
    "path = Path(graphs_cpu_usage_dir)\n",
    "path.mkdir(parents=True, exist_ok=True)\n",
    "path = Path(graphs_ram_usage_dir)\n",
    "path.mkdir(parents=True, exist_ok=True)\n",
    "path = Path(graphs_network_usage_dir)\n",
    "path.mkdir(parents=True, exist_ok=True)"
   ]
  },
  {
   "cell_type": "code",
   "execution_count": 8,
   "metadata": {},
   "outputs": [
    {
     "data": {
      "image/png": "[encoded data removed]",
      "text/plain": [
       "<Figure size 1000x600 with 1 Axes>"
      ]
     },
     "metadata": {},
     "output_type": "display_data"
    }
   ],
   "source": [
    "df_req_per_sec = pd.read_csv(exp_dir + \"/request_per_sec.csv\")\n",
    "df_req_per_sec[\"Number of Agents\"] = df_req_per_sec[\"Number of Nodes\"] - 1\n",
    "\n",
    "\n",
    "mediums = [\"Ethernet\", \"WiFi 2.4GHz 20-40MHz\", \"WiFi 5.0GHz 20-40-80MHz\"]\n",
    "\n",
    "# for med in mediums:\n",
    "#         df_exec_time_imp = df_req_per_sec[df_req_per_sec[\"Medium\"] == med]\n",
    "#         # Barplot comparison\n",
    "#         plt.figure(figsize=(10, 6))\n",
    "#         sns.set_style(\"whitegrid\")\n",
    "#         sns.barplot(data=df_exec_time_imp, x='Number of Agents', y='Request/s')\n",
    "\n",
    "#         plt.ylim(bottom=0)\n",
    "#         plt.tight_layout()\n",
    "    \n",
    "#         plt.savefig(graphs_req_per_sec_dir + \"/barplot_Fairphone_\" + experiment_name.replace(' ', '_') + \"_\" + med.replace(' ', '_') + \".pdf\")\n",
    "#         plt.show()\n",
    "\n",
    "\n",
    "# Barplot comparison\n",
    "SMALL_SIZE = 12\n",
    "MEDIUM_SIZE = 14\n",
    "BIGGER_SIZE = 16\n",
    "\n",
    "plt.rc('font', size=SMALL_SIZE)          # controls default text sizes\n",
    "plt.rc('axes', titlesize=SMALL_SIZE)     # fontsize of the axes title\n",
    "plt.rc('axes', labelsize=MEDIUM_SIZE)    # fontsize of the x and y labels\n",
    "plt.rc('xtick', labelsize=SMALL_SIZE)    # fontsize of the tick labels\n",
    "plt.rc('ytick', labelsize=SMALL_SIZE)    # fontsize of the tick labels\n",
    "plt.rc('legend', fontsize=SMALL_SIZE)    # legend fontsize\n",
    "plt.rc('figure', titlesize=BIGGER_SIZE)  # fontsize of the figure title\n",
    "plt.figure(figsize=(10, 6))\n",
    "sns.set_style(\"whitegrid\")\n",
    "sns.barplot(data=df_req_per_sec, x='Number of Agents', y='Request/s',  hue=\"Medium\", hue_order=mediums, palette=sns.color_palette('mako')[1::2])\n",
    "\n",
    "plt.xlabel(\"Number of agent nodes\")\n",
    "plt.ylabel(\"Requests per second\")\n",
    "plt.ylim(bottom=0)\n",
    "plt.tight_layout()\n",
    "\n",
    "plt.savefig(graphs_req_per_sec_dir + \"/barplot_Fairphone_req_per_sec\" + experiment_name.replace(' ', '_') + \".svg\")\n",
    "plt.show()"
   ]
  },
  {
   "cell_type": "code",
   "execution_count": 20,
   "metadata": {},
   "outputs": [
    {
     "data": {
      "image/png": "[encoded data removed]",
      "text/plain": [
       "<Figure size 1000x600 with 1 Axes>"
      ]
     },
     "metadata": {},
     "output_type": "display_data"
    },
    {
     "data": {
      "image/png": "[encoded data removed]",
      "text/plain": [
       "<Figure size 1000x600 with 1 Axes>"
      ]
     },
     "metadata": {},
     "output_type": "display_data"
    },
    {
     "name": "stdout",
     "output_type": "stream",
     "text": [
      "(4765, 18)\n"
     ]
    }
   ],
   "source": [
    "df_network_usage = pd.read_csv(exp_dir + \"/network_usage.csv\")\n",
    "df_network_usage[\"Number of Agents\"] = df_network_usage[\"Number of Nodes\"] - 1\n",
    "\n",
    "df_network_usage = df_network_usage[df_network_usage[\"Has Workload\"] == True]\n",
    "df_network_usage_agent = df_network_usage[df_network_usage[\"Node Type\"] == \"Agent\"]\n",
    "df_network_usage_server = df_network_usage[df_network_usage[\"Node Type\"] == \"Server\"]\n",
    "\n",
    "mediums = [\"WiFi 2.4GHz 20-40MHz\", \"WiFi 5.0GHz 20-40-80MHz\", \"Ethernet\"]\n",
    "\n",
    "\n",
    "plt.figure(figsize=(10, 6))\n",
    "sns.set_style(\"whitegrid\")\n",
    "sns.barplot(data=df_network_usage_agent, x='Number of Agents', y='Received Mbits/s',  hue=\"Medium\", hue_order=mediums)\n",
    "\n",
    "plt.ylim(bottom=0)\n",
    "plt.tight_layout()\n",
    "\n",
    "plt.savefig(graphs_network_usage_dir + \"/barplot_Fairphone_received_mbits_s_per_device\" + experiment_name.replace(' ', '_') + \".pdf\")\n",
    "plt.show()\n",
    "\n",
    "\n",
    "# Mbits total = sum of received mbit per timestmap\n",
    "\n",
    "iter_group = df_network_usage_agent.groupby(['Iteration', 'Timestamp', 'Number of Agents', \"Medium\"])['Received Mbits/s'].sum().reset_index()\n",
    "\n",
    "plt.figure(figsize=(10, 6))\n",
    "sns.set_style(\"whitegrid\")\n",
    "sns.barplot(data=iter_group, x='Number of Agents', y='Received Mbits/s',  hue=\"Medium\", hue_order=mediums)\n",
    "\n",
    "plt.ylim(bottom=0)\n",
    "plt.tight_layout()\n",
    "\n",
    "# plt.savefig(graphs_network_usage_dir + \"/barplot_Fairphone_received_mbits_s_per_device\" + experiment_name.replace(' ', '_') + \".pdf\")\n",
    "plt.show()\n",
    "\n"
   ]
  },
  {
   "cell_type": "code",
   "execution_count": null,
   "metadata": {},
   "outputs": [],
   "source": [
    "df_network_usage = pd.read_csv(exp_dir + \"/network_usage.csv\")\n",
    "df_network_usage[\"Number of Agents\"] = df_network_usage[\"Number of Nodes\"] - 1\n",
    "\n",
    "df_network_usage = df_network_usage[df_network_usage[\"Has Workload\"] == True]\n",
    "df_network_usage_agent = df_network_usage[df_network_usage[\"Node Type\"] == \"Agent\"]\n",
    "df_network_usage_server = df_network_usage[df_network_usage[\"Node Type\"] == \"Server\"]\n",
    "\n",
    "mediums = [\"WiFi 2.4GHz 20-40MHz\", \"WiFi 5.0GHz 20-40-80MHz\", \"Ethernet\"]\n"
   ]
  },
  {
   "cell_type": "code",
   "execution_count": null,
   "metadata": {},
   "outputs": [],
   "source": [
    "# Mbits total = sum of received mbit per timestmap\n",
    "\n",
    "iter_group = df_network_usage_agent.groupby(['Iteration', 'Timestamp', 'Number of Agents', \"Medium\"])['Received Mbits/s'].sum().reset_index()\n",
    "iter_group = iter_group.set_index(\"Timestamp\")\n",
    "iter_group_serv = df_network_usage_server.groupby(['Iteration', 'Timestamp', 'Number of Agents', \"Medium\"])['Sent Mbits/s'].sum().reset_index()\n",
    "iter_group_serv = iter_group_serv.set_index(\"Timestamp\")\n",
    "iter_group_serv = iter_group_serv['Sent Mbits/s']\n",
    "\n",
    "iter_group = iter_group.join(iter_group_serv, how='inner')\n",
    "\n",
    "plt.figure(figsize=(10, 6))\n",
    "sns.set_style(\"whitegrid\")\n",
    "sns.barplot(data=iter_group, x='Number of Agents', y='Received Mbits/s',  hue=\"Medium\", hue_order=mediums)\n",
    "\n",
    "plt.ylim(bottom=0)\n",
    "plt.tight_layout()\n",
    "\n",
    "# plt.savefig(graphs_network_usage_dir + \"/barplot_Fairphone_received_mbits_s_per_device\" + experiment_name.replace(' ', '_') + \".pdf\")\n",
    "plt.show()\n",
    "\n",
    "print(df_network_usage_server.shape)\n"
   ]
  },
  {
   "cell_type": "markdown",
   "metadata": {},
   "source": [
    "## Experiment 2bis: Raspberry: Number of requets per second with CPU and RAM usage"
   ]
  },
  {
   "cell_type": "code",
   "execution_count": 4,
   "metadata": {},
   "outputs": [
    {
     "data": {
      "text/html": [
       "<div>\n",
       "<style scoped>\n",
       "    .dataframe tbody tr th:only-of-type {\n",
       "        vertical-align: middle;\n",
       "    }\n",
       "\n",
       "    .dataframe tbody tr th {\n",
       "        vertical-align: top;\n",
       "    }\n",
       "\n",
       "    .dataframe thead th {\n",
       "        text-align: right;\n",
       "    }\n",
       "</style>\n",
       "<table border=\"1\" class=\"dataframe\">\n",
       "  <thead>\n",
       "    <tr style=\"text-align: right;\">\n",
       "      <th></th>\n",
       "      <th>SSH infos</th>\n",
       "      <th>Node types</th>\n",
       "      <th>Cluster IP</th>\n",
       "      <th>Distributions</th>\n",
       "      <th>Number of nodes</th>\n",
       "    </tr>\n",
       "  </thead>\n",
       "  <tbody>\n",
       "    <tr>\n",
       "      <th>0</th>\n",
       "      <td>[pi@192.168.88.101, pptc@192.168.88.3]</td>\n",
       "      <td>[Server, Agent]</td>\n",
       "      <td>192.168.88.101</td>\n",
       "      <td>[Ubuntu, Alpine]</td>\n",
       "      <td>2</td>\n",
       "    </tr>\n",
       "    <tr>\n",
       "      <th>1</th>\n",
       "      <td>[pi@192.168.88.101, pptc@192.168.88.3, pptc@19...</td>\n",
       "      <td>[Server, Agent, Agent]</td>\n",
       "      <td>192.168.88.101</td>\n",
       "      <td>[Ubuntu, Alpine, Alpine]</td>\n",
       "      <td>3</td>\n",
       "    </tr>\n",
       "    <tr>\n",
       "      <th>2</th>\n",
       "      <td>[pi@192.168.88.101, pptc@192.168.88.3, pptc@19...</td>\n",
       "      <td>[Server, Agent, Agent, Agent]</td>\n",
       "      <td>192.168.88.101</td>\n",
       "      <td>[Ubuntu, Alpine, Alpine, Alpine]</td>\n",
       "      <td>4</td>\n",
       "    </tr>\n",
       "    <tr>\n",
       "      <th>3</th>\n",
       "      <td>[pi@192.168.88.101, pptc@192.168.88.3, pptc@19...</td>\n",
       "      <td>[Server, Agent, Agent, Agent, Agent]</td>\n",
       "      <td>192.168.88.101</td>\n",
       "      <td>[Ubuntu, Alpine, Alpine, Alpine, Alpine]</td>\n",
       "      <td>5</td>\n",
       "    </tr>\n",
       "    <tr>\n",
       "      <th>4</th>\n",
       "      <td>[pi@192.168.88.101, pptc@192.168.88.3, pptc@19...</td>\n",
       "      <td>[Server, Agent, Agent, Agent, Agent, Agent]</td>\n",
       "      <td>192.168.88.101</td>\n",
       "      <td>[Ubuntu, Alpine, Alpine, Alpine, Alpine, Alpine]</td>\n",
       "      <td>6</td>\n",
       "    </tr>\n",
       "    <tr>\n",
       "      <th>5</th>\n",
       "      <td>[pi@192.168.88.101, pptc@192.168.88.3, pptc@19...</td>\n",
       "      <td>[Server, Agent, Agent, Agent, Agent, Agent, Ag...</td>\n",
       "      <td>192.168.88.101</td>\n",
       "      <td>[Ubuntu, Alpine, Alpine, Alpine, Alpine, Alpin...</td>\n",
       "      <td>7</td>\n",
       "    </tr>\n",
       "    <tr>\n",
       "      <th>6</th>\n",
       "      <td>[pi@192.168.88.101, pptc@192.168.88.3, pptc@19...</td>\n",
       "      <td>[Server, Agent, Agent, Agent, Agent, Agent, Ag...</td>\n",
       "      <td>192.168.88.101</td>\n",
       "      <td>[Ubuntu, Alpine, Alpine, Alpine, Alpine, Alpin...</td>\n",
       "      <td>8</td>\n",
       "    </tr>\n",
       "    <tr>\n",
       "      <th>7</th>\n",
       "      <td>[pi@192.168.88.101, pptc@192.168.88.3, pptc@19...</td>\n",
       "      <td>[Server, Agent, Agent, Agent, Agent, Agent, Ag...</td>\n",
       "      <td>192.168.88.101</td>\n",
       "      <td>[Ubuntu, Alpine, Alpine, Alpine, Alpine, Alpin...</td>\n",
       "      <td>9</td>\n",
       "    </tr>\n",
       "    <tr>\n",
       "      <th>8</th>\n",
       "      <td>[pi@192.168.88.101, pptc@192.168.88.3, pptc@19...</td>\n",
       "      <td>[Server, Agent, Agent, Agent, Agent, Agent, Ag...</td>\n",
       "      <td>192.168.88.101</td>\n",
       "      <td>[Ubuntu, Alpine, Alpine, Alpine, Alpine, Alpin...</td>\n",
       "      <td>10</td>\n",
       "    </tr>\n",
       "    <tr>\n",
       "      <th>9</th>\n",
       "      <td>[pi@192.168.88.101, pptc@192.168.88.3, pptc@19...</td>\n",
       "      <td>[Server, Agent, Agent, Agent, Agent, Agent, Ag...</td>\n",
       "      <td>192.168.88.101</td>\n",
       "      <td>[Ubuntu, Alpine, Alpine, Alpine, Alpine, Alpin...</td>\n",
       "      <td>11</td>\n",
       "    </tr>\n",
       "    <tr>\n",
       "      <th>10</th>\n",
       "      <td>[pi@192.168.88.101, pptc@192.168.88.3, pptc@19...</td>\n",
       "      <td>[Server, Agent, Agent, Agent, Agent, Agent, Ag...</td>\n",
       "      <td>192.168.88.101</td>\n",
       "      <td>[Ubuntu, Alpine, Alpine, Alpine, Alpine, Alpin...</td>\n",
       "      <td>12</td>\n",
       "    </tr>\n",
       "    <tr>\n",
       "      <th>11</th>\n",
       "      <td>[pi@192.168.88.101, pptc@192.168.88.3, pptc@19...</td>\n",
       "      <td>[Server, Agent, Agent, Agent, Agent, Agent, Ag...</td>\n",
       "      <td>192.168.88.101</td>\n",
       "      <td>[Ubuntu, Alpine, Alpine, Alpine, Alpine, Alpin...</td>\n",
       "      <td>13</td>\n",
       "    </tr>\n",
       "    <tr>\n",
       "      <th>12</th>\n",
       "      <td>[pi@192.168.88.101, pptc@192.168.88.3, pptc@19...</td>\n",
       "      <td>[Server, Agent, Agent, Agent, Agent, Agent, Ag...</td>\n",
       "      <td>192.168.88.101</td>\n",
       "      <td>[Ubuntu, Alpine, Alpine, Alpine, Alpine, Alpin...</td>\n",
       "      <td>14</td>\n",
       "    </tr>\n",
       "  </tbody>\n",
       "</table>\n",
       "</div>"
      ],
      "text/plain": [
       "                                            SSH infos  \\\n",
       "0              [pi@192.168.88.101, pptc@192.168.88.3]   \n",
       "1   [pi@192.168.88.101, pptc@192.168.88.3, pptc@19...   \n",
       "2   [pi@192.168.88.101, pptc@192.168.88.3, pptc@19...   \n",
       "3   [pi@192.168.88.101, pptc@192.168.88.3, pptc@19...   \n",
       "4   [pi@192.168.88.101, pptc@192.168.88.3, pptc@19...   \n",
       "5   [pi@192.168.88.101, pptc@192.168.88.3, pptc@19...   \n",
       "6   [pi@192.168.88.101, pptc@192.168.88.3, pptc@19...   \n",
       "7   [pi@192.168.88.101, pptc@192.168.88.3, pptc@19...   \n",
       "8   [pi@192.168.88.101, pptc@192.168.88.3, pptc@19...   \n",
       "9   [pi@192.168.88.101, pptc@192.168.88.3, pptc@19...   \n",
       "10  [pi@192.168.88.101, pptc@192.168.88.3, pptc@19...   \n",
       "11  [pi@192.168.88.101, pptc@192.168.88.3, pptc@19...   \n",
       "12  [pi@192.168.88.101, pptc@192.168.88.3, pptc@19...   \n",
       "\n",
       "                                           Node types      Cluster IP  \\\n",
       "0                                     [Server, Agent]  192.168.88.101   \n",
       "1                              [Server, Agent, Agent]  192.168.88.101   \n",
       "2                       [Server, Agent, Agent, Agent]  192.168.88.101   \n",
       "3                [Server, Agent, Agent, Agent, Agent]  192.168.88.101   \n",
       "4         [Server, Agent, Agent, Agent, Agent, Agent]  192.168.88.101   \n",
       "5   [Server, Agent, Agent, Agent, Agent, Agent, Ag...  192.168.88.101   \n",
       "6   [Server, Agent, Agent, Agent, Agent, Agent, Ag...  192.168.88.101   \n",
       "7   [Server, Agent, Agent, Agent, Agent, Agent, Ag...  192.168.88.101   \n",
       "8   [Server, Agent, Agent, Agent, Agent, Agent, Ag...  192.168.88.101   \n",
       "9   [Server, Agent, Agent, Agent, Agent, Agent, Ag...  192.168.88.101   \n",
       "10  [Server, Agent, Agent, Agent, Agent, Agent, Ag...  192.168.88.101   \n",
       "11  [Server, Agent, Agent, Agent, Agent, Agent, Ag...  192.168.88.101   \n",
       "12  [Server, Agent, Agent, Agent, Agent, Agent, Ag...  192.168.88.101   \n",
       "\n",
       "                                        Distributions  Number of nodes  \n",
       "0                                    [Ubuntu, Alpine]                2  \n",
       "1                            [Ubuntu, Alpine, Alpine]                3  \n",
       "2                    [Ubuntu, Alpine, Alpine, Alpine]                4  \n",
       "3            [Ubuntu, Alpine, Alpine, Alpine, Alpine]                5  \n",
       "4    [Ubuntu, Alpine, Alpine, Alpine, Alpine, Alpine]                6  \n",
       "5   [Ubuntu, Alpine, Alpine, Alpine, Alpine, Alpin...                7  \n",
       "6   [Ubuntu, Alpine, Alpine, Alpine, Alpine, Alpin...                8  \n",
       "7   [Ubuntu, Alpine, Alpine, Alpine, Alpine, Alpin...                9  \n",
       "8   [Ubuntu, Alpine, Alpine, Alpine, Alpine, Alpin...               10  \n",
       "9   [Ubuntu, Alpine, Alpine, Alpine, Alpine, Alpin...               11  \n",
       "10  [Ubuntu, Alpine, Alpine, Alpine, Alpine, Alpin...               12  \n",
       "11  [Ubuntu, Alpine, Alpine, Alpine, Alpine, Alpin...               13  \n",
       "12  [Ubuntu, Alpine, Alpine, Alpine, Alpine, Alpin...               14  "
      ]
     },
     "metadata": {},
     "output_type": "display_data"
    }
   ],
   "source": [
    "# Experiment setup\n",
    "experiment_name = \"K3S cluster request per second\"\n",
    "timestamp = timestamp=datetime.datetime.now() # Current timestamp\n",
    "\n",
    "n_agents = 13\n",
    "\n",
    "ssh_server = [\"pi@192.168.88.101\"]\n",
    "server_type = [\"Server\"]\n",
    "server_distrib = [\"Ubuntu\"]\n",
    "\n",
    "ssh_agents = [\"pptc@192.168.88.\" + str(i) for i in range(3, 3+n_agents)]\n",
    "agents_type = [\"Agent\"] * n_agents\n",
    "agents_distrib = [\"Alpine\"] * n_agents\n",
    "\n",
    "number_of_nodes = range(2, 2 + n_agents)\n",
    "mediums = [\"Ethernet\", \"WiFi 5.0GHz 20-40-80MHz\", \"WiFi 2.4GHz 20-40MHz\"]\n",
    "iterations = 10\n",
    "count_for_usage_script = 120\n",
    "\n",
    "wrk_threads = 8\n",
    "wrk_connections_by_device = 10\n",
    "wrk_duration = \"20s\"\n",
    "wrk_lua_script = \"./assets/generate_request_script.lua\"\n",
    "cluster_port = 31000\n",
    "\n",
    "df = pd.DataFrame()\n",
    "df[\"SSH infos\"] = [ssh_server + ssh_agents[:i-1] for i in number_of_nodes]\n",
    "df[\"Node types\"] = [server_type + agents_type[:i-1] for i in number_of_nodes]\n",
    "df[\"Cluster IP\"] = [ssh_server[0].split('@')[1].strip()] * len(number_of_nodes)\n",
    "df[\"Distributions\"] = [server_distrib + agents_distrib[:i-1] for i in number_of_nodes]\n",
    "df[\"Number of nodes\"] = number_of_nodes\n",
    "display(df)\n",
    "\n"
   ]
  },
  {
   "cell_type": "code",
   "execution_count": 18,
   "metadata": {},
   "outputs": [],
   "source": [
    "def are_pods_ready():\n",
    "    command = ssh_with_args + \" \" + ssh_server[0] + \" \\\"kubectl get pods\\\" | awk '{print $3}' \"\n",
    "    result = subprocess.run(command, shell=True, capture_output=True, text=True)\n",
    "    result = [x.strip() for x in result.stdout.split('\\n') if x.strip()]\n",
    "    \n",
    "    for x in result:\n",
    "        if x != \"STATUS\" and x != \"Running\": return False\n",
    "    return True\n"
   ]
  },
  {
   "cell_type": "code",
   "execution_count": 19,
   "metadata": {},
   "outputs": [
    {
     "name": "stdout",
     "output_type": "stream",
     "text": [
      "Prepare next config:\n",
      "\tMedium: Ethernet\n",
      "\tNumber of nodes: 2\n",
      "\tSSH infos: ['pi@192.168.88.101', 'pptc@192.168.88.3']\n",
      "\tDevice types: ['Server', 'Agent']\n",
      "\t\n",
      "\n",
      "Value : s\n",
      "Prepare next config:\n",
      "\tMedium: WiFi 5.0GHz 20-40-80MHz\n",
      "\tNumber of nodes: 2\n",
      "\tSSH infos: ['pi@192.168.88.101', 'pptc@192.168.88.3']\n",
      "\tDevice types: ['Server', 'Agent']\n",
      "\t\n",
      "\n",
      "Value : s\n",
      "Prepare next config:\n",
      "\tMedium: WiFi 2.4GHz 20-40MHz\n",
      "\tNumber of nodes: 2\n",
      "\tSSH infos: ['pi@192.168.88.101', 'pptc@192.168.88.3']\n",
      "\tDevice types: ['Server', 'Agent']\n",
      "\t\n",
      "\n",
      "Value : s\n"
     ]
    }
   ],
   "source": [
    "# Experiment path\n",
    "exp_folder_name = experiment_name.replace(' ', '_') + \"_\" + timestamp.strftime(\"%Y%m%dT%H%M%S\")\n",
    "curr_exp_dir = global_res_dir + \"/\" + exp_folder_name\n",
    "\n",
    "# Remote path\n",
    "remote_exp_results_dir = \"~/\" + exp_folder_name + \"/results\"\n",
    "remote_exp_cpu_usage_dir = remote_exp_results_dir + \"/cpu_usage\"\n",
    "remote_exp_ram_usage_dir = remote_exp_results_dir + \"/ram_usage\"\n",
    "remote_exp_network_usage_dir = remote_exp_results_dir + \"/network_usage\"\n",
    "remote_exp_scripts_dir = \"~/\" + exp_folder_name + \"/scripts\"\n",
    "\n",
    "for med in mediums:\n",
    "    # Results paths by mediums\n",
    "    curr_exp_med_dir = curr_exp_dir + \"/\" + med.replace(' ', '_')\n",
    "    curr_exp_med_raw_dir = curr_exp_med_dir + \"/raw_results\"\n",
    "    curr_exp_med_res_dir = curr_exp_med_dir + \"/results\"\n",
    "\n",
    "    # Get interface\n",
    "    dev_interface = \"eth0\" if med == \"Ethernet\" else \"wlan0\"\n",
    "\n",
    "    # Create results dir\n",
    "    path = Path(curr_exp_dir)\n",
    "    path.mkdir(parents=True, exist_ok=True)\n",
    "    path = Path(curr_exp_med_dir)\n",
    "    path.mkdir(parents=True, exist_ok=True)\n",
    "    path = Path(curr_exp_med_raw_dir)\n",
    "    path.mkdir(parents=True, exist_ok=True)\n",
    "    path = Path(curr_exp_med_res_dir)\n",
    "    path.mkdir(parents=True, exist_ok=True)\n",
    "\n",
    "    for i in range(df.shape[0]):\n",
    "        ssh_infos = df.loc[i, \"SSH infos\"]\n",
    "        node_types = df.loc[i, \"Node types\"]\n",
    "        cluster_ip = df.loc[i, \"Cluster IP\"]\n",
    "        n_nodes = df.loc[i, \"Number of nodes\"]\n",
    "        distribs = df.loc[i, \"Distributions\"]\n",
    "\n",
    "        print(f\"Prepare next config:\\n\\tMedium: {med}\\n\\tNumber of nodes: {n_nodes}\\n\\tSSH infos: {ssh_infos}\\n\\tDevice types: {node_types}\\n\\t\\n\")\n",
    "        time.sleep(2)\n",
    "        v = input(\"Press ENTER to run the benchmark\")\n",
    "        print(f\"Value : {v}\")\n",
    "        if v == \"s\": # stop\n",
    "            break\n",
    "        print(\"Run benchmark...\")\n",
    "\n",
    "        curr_exp_med_raw_file = curr_exp_med_raw_dir + f\"/results_request_per_second_{n_nodes}.txt\"\n",
    "\n",
    "        # Remote paths\n",
    "        cpu_usage_remote_file = remote_exp_cpu_usage_dir + \"/results_cpu_usage_\" + med.replace(' ', '_') + \"_\" + str(n_nodes) + \"_\"\n",
    "        ram_usage_remote_file = remote_exp_ram_usage_dir + \"/results_ram_usage_\" + med.replace(' ', '_') + \"_\" + str(n_nodes) + \"_\"\n",
    "        network_usage_remote_file = remote_exp_network_usage_dir + \"/results_network_usage_\" + med.replace(' ', '_') + \"_\" + str(n_nodes) + \"_\"\n",
    "\n",
    "        for j in range(len(ssh_infos)):\n",
    "            ssh_info = ssh_infos[j]\n",
    "            distrib = distribs[j]\n",
    "            # Copy scripts on remote device\n",
    "            !{ssh_with_args} {ssh_info} \"mkdir -p ~/{exp_folder_name}\"\n",
    "            !{scp_with_args} -r scripts/ {ssh_info}:~/{exp_folder_name}\n",
    "            \n",
    "            # Create remote workspace\n",
    "            !{ssh_with_args} {ssh_info} \"mkdir -p {remote_exp_cpu_usage_dir}; mkdir -p {remote_exp_ram_usage_dir}; mkdir -p {remote_exp_network_usage_dir}\"\n",
    "\n",
    "            # Write config on remote for cpu and ram usage\n",
    "            !{ssh_with_args} {ssh_info} \"echo -e \\\"# SSH_INFO={ssh_info}\\n# ITERATIONS={iterations}\\n# NUMBER_NODES={n_nodes}\\n# NODE_TYPE={node_types[j]}\\n# MEDIUM={med}\\n# COUNT={count_for_usage_script}\\n# DISTRIBUTION={distrib}\\n\\\" > {cpu_usage_remote_file + ssh_info}.txt\"\n",
    "            !{ssh_with_args} {ssh_info} \"echo -e \\\"# SSH_INFO={ssh_info}\\n# ITERATIONS={iterations}\\n# NUMBER_NODES={n_nodes}\\n# NODE_TYPE={node_types[j]}\\n# MEDIUM={med}\\n# COUNT={count_for_usage_script}\\n# DISTRIBUTION={distrib}\\n\\\" > {ram_usage_remote_file + ssh_info}.txt\"\n",
    "            !{ssh_with_args} {ssh_info} \"echo -e \\\"# SSH_INFO={ssh_info}\\n# ITERATIONS={iterations}\\n# NUMBER_NODES={n_nodes}\\n# NODE_TYPE={node_types[j]}\\n# MEDIUM={med}\\n# COUNT={count_for_usage_script}\\n# INTERFACE={dev_interface}\\n# DISTRIBUTION={distrib}\\n\\\" > {network_usage_remote_file + ssh_info}.txt\"\n",
    "\n",
    "        \n",
    "        # Local for execution time\n",
    "        with open(curr_exp_med_raw_file, \"w\") as raw:\n",
    "            raw.write(f\"# SSH_INFO={ssh_server}\\n\")\n",
    "            raw.write(f\"# ITERATIONS={iterations}\\n\")\n",
    "            raw.write(f\"# NUMBER_NODES={n_nodes}\\n\")\n",
    "            raw.write(f\"# NODE_TYPE={node_types}\\n\")\n",
    "            raw.write(f\"# MEDIUM={med}\\n\")\n",
    "            raw.write(f\"# WRK_THREADS={wrk_threads}\\n\")\n",
    "            raw.write(f\"# WRK_CONNECTION={wrk_connections_by_device * (n_nodes - 1)}\\n\")\n",
    "            raw.write(f\"# WRK_DURATION={wrk_duration}\\n\")\n",
    "\n",
    "        for iter in range(iterations):\n",
    "            print(f\"Iteration {iter}\")\n",
    "            with open(curr_exp_med_raw_file, \"a\") as raw:\n",
    "                raw.write(f\"\\n# ITERATION {iter}\\n\")\n",
    "\n",
    "            cpu_usage_processes = []\n",
    "            ram_usage_processes = []\n",
    "            network_usage_processes = []\n",
    "\n",
    "            for k in range(len(ssh_infos)):\n",
    "                ssh_info = ssh_infos[k]\n",
    "                distrib = distribs[k]\n",
    "\n",
    "                !{ssh_with_args} {ssh_info} \"echo -e \\\"\\n# ITERATION {iter}\\n\\\" >> {cpu_usage_remote_file + ssh_info}.txt\"\n",
    "                !{ssh_with_args} {ssh_info} \"echo -e \\\"\\n# ITERATION {iter}\\n\\\" >> {ram_usage_remote_file + ssh_info}.txt\"\n",
    "                !{ssh_with_args} {ssh_info} \"echo -e \\\"\\n# ITERATION {iter}\\n\\\" >> {network_usage_remote_file + ssh_info}.txt\"\n",
    "            \n",
    "                cpu_usage_processes.append(subprocess.Popen(f'{ssh_with_args} {ssh_info} \"{remote_exp_scripts_dir}/cpu_usage_script.sh {count_for_usage_script} {cpu_usage_remote_file + ssh_info}.txt 0\"', shell=True))\n",
    "                ram_usage_processes.append(subprocess.Popen(f'{ssh_with_args} {ssh_info} \"{remote_exp_scripts_dir}/ram_usage_script.sh {count_for_usage_script} {ram_usage_remote_file + ssh_info}.txt 0\"', shell=True))\n",
    "                network_usage_processes.append(subprocess.Popen(f'{ssh_with_args} {ssh_info} \"{remote_exp_scripts_dir}/network_usage_script.sh {count_for_usage_script} {network_usage_remote_file + ssh_info}.txt {dev_interface} {distrib} 0\"', shell=True))\n",
    "\n",
    "            time.sleep(5) # To have more usage measures\n",
    "\n",
    "            print(\"Perform measure\")\n",
    "            start_timestamp = int(datetime.datetime.now().timestamp()) # Timestamp at which the inference request started\n",
    "            command = f\"wrk -t {wrk_threads} -c {wrk_connections_by_device * (n_nodes - 1)} -d {wrk_duration} -s {wrk_lua_script} http://{cluster_ip}:{cluster_port}/label_image\"\n",
    "            result = subprocess.run(command, shell=True, capture_output=True, text=True)\n",
    "            with open(curr_exp_med_raw_file, \"a\") as raw:\n",
    "                raw.write(result.stdout)\n",
    "            stop_timestamp = int(datetime.datetime.now().timestamp()) # Timestamp at which the inference request started\n",
    "\n",
    "            time.sleep(5)  # To have more usage measures\n",
    "\n",
    "            print(\"Kill CPU and RAM usage scripts\") \n",
    "            for j in range(len(ssh_infos)):\n",
    "                cpu_usage_processes[j].kill()\n",
    "                ram_usage_processes[j].kill()\n",
    "                network_usage_processes[j].kill()\n",
    "\n",
    "                ssh_info = ssh_infos[j]\n",
    "                !{ssh_with_args} {ssh_info} 'kill $(pgrep -f cpu_usage_script.sh)'\n",
    "                !{ssh_with_args} {ssh_info} 'kill $(pgrep -f ram_usage_script.sh)'\n",
    "                !{ssh_with_args} {ssh_info} 'kill $(pgrep -f network_usage_script.sh)'\n",
    "\n",
    "                !{ssh_with_args} {ssh_info} \"echo \\\"# TIMESTAMP_START={start_timestamp}\\\" >> {cpu_usage_remote_file + ssh_info}.txt; echo \\\"# TIMESTAMP_STOP={stop_timestamp}\\\" >> {cpu_usage_remote_file + ssh_info}.txt\"\n",
    "                !{ssh_with_args} {ssh_info} \"echo \\\"# TIMESTAMP_START={start_timestamp}\\\" >> {ram_usage_remote_file + ssh_info}.txt; echo \\\"# TIMESTAMP_STOP={stop_timestamp}\\\" >> {ram_usage_remote_file + ssh_info}.txt\"\n",
    "                !{ssh_with_args} {ssh_info} \"echo \\\"# TIMESTAMP_START={start_timestamp}\\\" >> {network_usage_remote_file + ssh_info}.txt; echo \\\"# TIMESTAMP_STOP={stop_timestamp}\\\" >> {network_usage_remote_file + ssh_info}.txt\"\n",
    "\n",
    "            # Restart all pods to remove old requests\n",
    "            !{ssh_with_args} {ssh_server[0]} \"kubectl rollout restart deployment k3s-tflite-app-deployment\"\n",
    "            while not are_pods_ready():\n",
    "                time.sleep(1)\n",
    "\n",
    "        # Retrieve usage results and remove remote experiment directory\n",
    "        for ssh_info in ssh_infos:\n",
    "            print(\"Retrieve usage results and remove remote workspace\")\n",
    "            !{scp_with_args} -r {ssh_info}:{remote_exp_cpu_usage_dir} {curr_exp_med_raw_dir}\n",
    "            !{scp_with_args} -r {ssh_info}:{remote_exp_ram_usage_dir} {curr_exp_med_raw_dir}\n",
    "            !{scp_with_args} -r {ssh_info}:{remote_exp_network_usage_dir} {curr_exp_med_raw_dir}\n",
    "\n",
    "            !{ssh_with_args} {ssh_info} \"rm -rf ~/{exp_folder_name}\"\n"
   ]
  },
  {
   "cell_type": "markdown",
   "metadata": {},
   "source": [
    "### Process results"
   ]
  },
  {
   "cell_type": "code",
   "execution_count": 16,
   "metadata": {},
   "outputs": [],
   "source": [
    "def process_request_per_second_raw_results_to_dataframe(raw_results_path):\n",
    "    df = pd.DataFrame()\n",
    "    n_nodes=0\n",
    "    medium=\"\"\n",
    "    wrk_threads=0\n",
    "    wrk_duration=0\n",
    "    wrk_connections=0\n",
    "\n",
    "\n",
    "    request_s = []\n",
    "    iterations = []\n",
    "\n",
    "    with open(raw_results_path, \"r\") as raw:\n",
    "        for line in raw:\n",
    "            if line.startswith(\"# MEDIUM=\"):\n",
    "                medium = line.split('=')[1].strip()\n",
    "            elif line.startswith(\"# NUMBER_NODES=\"):\n",
    "                n_nodes = int(line.split('=')[1].strip())\n",
    "            elif line.startswith(\"# WRK_THREADS=\"):\n",
    "                wrk_threads = line.split('=')[1].strip()\n",
    "            elif line.startswith(\"# WRK_DURATION=\"):\n",
    "                wrk_duration = line.split('=')[1].strip()\n",
    "            elif line.startswith(\"# WRK_CONNECTION=\"):\n",
    "                wrk_connections = line.split('=')[1].strip()\n",
    "            elif line.startswith(\"# ITERATION \"):\n",
    "                iterations.append(int(line.split(' ')[2].strip()))\n",
    "            elif line.startswith(\"Requests/sec:\"):\n",
    "                request_s.append(float(line.split(':')[1].strip()))\n",
    "\n",
    "\n",
    "    df[\"Iteration\"] = iterations\n",
    "    df[\"Request/s\"] = request_s\n",
    "    df[\"Medium\"] = [medium] * df.shape[0]\n",
    "    df[\"Number of Nodes\"] = [n_nodes] * df.shape[0]\n",
    "    df[\"WRK Threads\"] = [wrk_threads] * df.shape[0]\n",
    "    df[\"WRK Duration\"] = [wrk_duration] * df.shape[0]\n",
    "    df[\"WRK Connections\"] = [wrk_connections] * df.shape[0]\n",
    "\n",
    "    return df\n",
    "\n",
    "def process_cpu_usage_to_dataframe(raw_results_path):\n",
    "    df = pd.DataFrame()\n",
    "    medium=\"\"\n",
    "    ssh_info=\"\"\n",
    "    node_type=\"\"\n",
    "    n_nodes=0\n",
    "\n",
    "    timestamp_values = []\n",
    "    user_values = []\n",
    "    nice_values = []\n",
    "    system_values = []\n",
    "    idle_values = []\n",
    "    iowait_values = []\n",
    "    irq_values = []\n",
    "    softirq_values = []\n",
    "    iteration_values = []\n",
    "    timestamp_start_values = []\n",
    "    timestamp_stop_values = []\n",
    "    \n",
    "    iteration_v = -1\n",
    "    n_values_per_iter = 0\n",
    "    valide_data = False # Need to filter error during measurement: Measurement not stopped after iteration\n",
    "\n",
    "    with open(raw_results_path, \"r\") as raw:\n",
    "        for line in raw:\n",
    "            if line.startswith(\"# MEDIUM=\"):\n",
    "                medium = line.split('=')[1].strip()\n",
    "            elif line.startswith(\"# SSH_INFO=\"):\n",
    "                ssh_info = line.split('=')[1].strip()\n",
    "            elif line.startswith(\"# NODE_TYPE=\"):\n",
    "                node_type = line.split('=')[1].strip()\n",
    "            elif line.startswith(\"# NUMBER_NODES=\"):\n",
    "                n_nodes = int(line.split('=')[1].strip())\n",
    "            elif line.startswith(\"# ITERATION \"):\n",
    "                valide_data = True\n",
    "                if iteration_v != -1:\n",
    "                    iteration_values += [iteration_v] * n_values_per_iter\n",
    "                iteration_v = int(line.split(' ')[2].strip())\n",
    "                n_values_per_iter = 0\n",
    "            elif not line.startswith(\"#\") and line.strip() and valide_data: # Also check not empty\n",
    "                timestamp_v, user_v, nice_v, system_v, idle_v, iowait_v, irq_v, softirq_v = line.split(',')\n",
    "                timestamp_values.append(int(timestamp_v.strip()))\n",
    "                user_values.append(float(user_v.strip()))\n",
    "                nice_values.append(float(nice_v.strip()))\n",
    "                system_values.append(float(system_v.strip()))\n",
    "                idle_values.append(float(idle_v.strip()))\n",
    "                iowait_values.append(float(iowait_v.strip()))\n",
    "                irq_values.append(float(irq_v.strip()))\n",
    "                softirq_values.append(float(softirq_v.strip()))\n",
    "                n_values_per_iter += 1\n",
    "            elif line.startswith(\"# TIMESTAMP_START=\"):\n",
    "                valide_data = False\n",
    "                timestamp_start_values += [int(line.split('=')[1].strip())] * n_values_per_iter\n",
    "            elif line.startswith(\"# TIMESTAMP_STOP=\"):\n",
    "                valide_data = False\n",
    "                timestamp_stop_values += [int(line.split('=')[1].strip())] * n_values_per_iter \n",
    "        iteration_values += [iteration_v] * n_values_per_iter # Last at end of file\n",
    "\n",
    "    df[\"Iteration\"] = iteration_values\n",
    "    df[\"SSH Info\"] = [ssh_info] * df.shape[0]\n",
    "    df[\"Node Type\"] = [node_type] * df.shape[0]\n",
    "    df[\"Number of Nodes\"] = [n_nodes] * df.shape[0]\n",
    "    df[\"Timestamp\"] = timestamp_values\n",
    "    df[\"User\"] = user_values\n",
    "    df[\"Nice\"] = nice_values\n",
    "    df[\"System\"] = system_values\n",
    "    df[\"Idle\"] = idle_values\n",
    "    df[\"IOwait\"] = iowait_values\n",
    "    df[\"IRQ\"] = irq_values\n",
    "    df[\"SoftIRQ\"] = softirq_values\n",
    "    df[\"Timestamp Start\"] = timestamp_start_values\n",
    "    df[\"Timestamp Stop\"] = timestamp_stop_values\n",
    "    df[\"Medium\"] = [medium] * df.shape[0]\n",
    "\n",
    "\n",
    "    # Compute CPU usage and Timestamp from 0\n",
    "    df['Total'] = df[[\"User\", \"Nice\", \"System\", \"Idle\", \"IOwait\", \"IRQ\", \"SoftIRQ\"]].sum(axis=1)\n",
    "    \n",
    "    groups = []\n",
    "\n",
    "    for _, group in df.groupby([\"Iteration\"]):\n",
    "        group[\"Indexes\"] = group.index\n",
    "        group = group.reset_index()\n",
    "        init_timestamp = group.loc[0, \"Timestamp\"]\n",
    "        group[\"Timestamp Sliced\"] = group[\"Timestamp\"] - init_timestamp\n",
    "        group[\"Timestamp Start Sliced\"] = group[\"Timestamp Start\"] - init_timestamp\n",
    "        group[\"Timestamp Stop Sliced\"] = group[\"Timestamp Stop\"] - init_timestamp\n",
    "        group[\"Has Workload\"] = (group[\"Timestamp Start\"] <= group[\"Timestamp\"]) & (group[\"Timestamp\"] <= group[\"Timestamp Stop\"])\n",
    "\n",
    "        group['Last Idle'] = group['Idle'].shift(1).fillna(0)\n",
    "        group['Last Total'] = group['Total'].shift(1).fillna(0)\n",
    "        group['Idle Delta'] = group['Idle'] - group['Last Idle']\n",
    "        group['Total Delta'] = group['Total'] - group['Last Total']\n",
    "        group['Usage'] = 100.0 * (1.0 - (group['Idle Delta'] / group['Total Delta']))\n",
    "\n",
    "        group = group.set_index(\"Indexes\")\n",
    "\n",
    "        groups.append(group)\n",
    "\n",
    "    df_usage = pd.concat(groups)\n",
    "    df[\"Usage\"] = df_usage[\"Usage\"]\n",
    "    df[\"Timestamp Sliced\"] = df_usage[\"Timestamp Sliced\"]\n",
    "    df[\"Timestamp Start Sliced\"] = df_usage[\"Timestamp Start Sliced\"]\n",
    "    df[\"Timestamp Stop Sliced\"] = df_usage[\"Timestamp Stop Sliced\"]\n",
    "    df[\"Has Workload\"] = df_usage[\"Has Workload\"]\n",
    "\n",
    "    return df.drop([\"Total\"], axis=\"columns\")\n",
    "\n",
    "\n",
    "def process_ram_usage_to_dataframe(raw_results_path):\n",
    "    df = pd.DataFrame()\n",
    "    medium=\"\"\n",
    "    ssh_info=\"\"\n",
    "    node_type=\"\"\n",
    "    n_nodes=0\n",
    "\n",
    "    timestamp_values = []\n",
    "    memtotal_values = []\n",
    "    memfree_values = []\n",
    "    memavailable_values = []\n",
    "    cache_values = []\n",
    "    buffer_values = []\n",
    "    swaptotal_values = []\n",
    "    swapfree_values = []\n",
    "    swapcached_values = []\n",
    "    iteration_values = []\n",
    "    timestamp_start_values = []\n",
    "    timestamp_stop_values = []\n",
    "    \n",
    "    iteration_v = -1\n",
    "    n_values_per_iter = 0\n",
    "    valide_data = False # Need to filter error during measurement: Measurement not stopped after iteration\n",
    "\n",
    "    with open(raw_results_path, \"r\") as raw:\n",
    "        for line in raw:\n",
    "            if line.startswith(\"# MEDIUM=\"):\n",
    "                medium = line.split('=')[1].strip()\n",
    "            elif line.startswith(\"# SSH_INFO=\"):\n",
    "                ssh_info = line.split('=')[1].strip()\n",
    "            elif line.startswith(\"# NODE_TYPE=\"):\n",
    "                node_type = line.split('=')[1].strip()\n",
    "            elif line.startswith(\"# NUMBER_NODES=\"):\n",
    "                n_nodes = int(line.split('=')[1].strip())\n",
    "            elif line.startswith(\"# ITERATION \"):\n",
    "                valide_data = True\n",
    "                if iteration_v != -1:\n",
    "                    iteration_values += [iteration_v] * n_values_per_iter\n",
    "                iteration_v = int(line.split(' ')[2].strip())\n",
    "                n_values_per_iter = 0\n",
    "            elif not line.startswith(\"#\") and line.strip() and valide_data: # Also check not empty\n",
    "                timestamp_v, memtotal_v, memfree_v, memavailable_v, cache_v, buffer_v, swaptotal_v, swapfree_v, swapcached_v = line.split(',')\n",
    "                timestamp_values.append(int(timestamp_v.strip()))\n",
    "                memtotal_values.append(float(memtotal_v.strip()))\n",
    "                memfree_values.append(float(memfree_v.strip()))\n",
    "                memavailable_values.append(float(memavailable_v.strip()))\n",
    "                cache_values.append(float(cache_v.strip()))\n",
    "                buffer_values.append(float(buffer_v.strip()))\n",
    "                swaptotal_values.append(float(swaptotal_v.strip()))\n",
    "                swapfree_values.append(float(swapfree_v.strip()))\n",
    "                swapcached_values.append(float(swapcached_v.strip()))\n",
    "                n_values_per_iter += 1\n",
    "            elif line.startswith(\"# TIMESTAMP_START=\"):\n",
    "                valide_data = False\n",
    "                timestamp_start_values += [int(line.split('=')[1].strip())] * n_values_per_iter\n",
    "            elif line.startswith(\"# TIMESTAMP_STOP=\"):\n",
    "                valide_data = False\n",
    "                timestamp_stop_values += [int(line.split('=')[1].strip())] * n_values_per_iter \n",
    "        iteration_values += [iteration_v] * n_values_per_iter # Last at end of file\n",
    "\n",
    "    df[\"Iteration\"] = iteration_values\n",
    "    df[\"SSH Info\"] = [ssh_info] * df.shape[0]\n",
    "    df[\"Node Type\"] = [node_type] * df.shape[0]\n",
    "    df[\"Number of Nodes\"] = [n_nodes] * df.shape[0]\n",
    "    df[\"Timestamp\"] = timestamp_values\n",
    "    df[\"Total Memory\"] = memtotal_values\n",
    "    df[\"Free Memory\"] = memfree_values\n",
    "    df[\"Available Memory\"] = memavailable_values\n",
    "    df[\"Cache\"] = cache_values\n",
    "    df[\"Buffer\"] = buffer_values\n",
    "    df[\"Total Swap\"] = swaptotal_values\n",
    "    df[\"Free Swap\"] = swapfree_values\n",
    "    df[\"Cached Swap\"] = swapcached_values\n",
    "    df[\"Timestamp Start\"] = timestamp_start_values\n",
    "    df[\"Timestamp Stop\"] = timestamp_stop_values\n",
    "    df[\"Medium\"] = [medium] * df.shape[0]\n",
    "\n",
    "\n",
    "    # Compute RAM usage and Timestamp from 0\n",
    "    groups = []\n",
    "\n",
    "    for _, group in df.groupby([\"Iteration\"]):\n",
    "        group[\"Indexes\"] = group.index\n",
    "        group = group.reset_index()\n",
    "        init_timestamp = group.loc[0, \"Timestamp\"]\n",
    "        group[\"Timestamp Sliced\"] = group[\"Timestamp\"] - init_timestamp\n",
    "        group[\"Timestamp Start Sliced\"] = group[\"Timestamp Start\"] - init_timestamp\n",
    "        group[\"Timestamp Stop Sliced\"] = group[\"Timestamp Stop\"] - init_timestamp\n",
    "        group[\"Has Workload\"] = (group[\"Timestamp Start\"] <= group[\"Timestamp\"]) & (group[\"Timestamp\"] <= group[\"Timestamp Stop\"])\n",
    "        group[\"Usage\"] = (1 - (group[\"Free Memory\"]/group[\"Total Memory\"])) * 100.0\n",
    "\n",
    "        group = group.set_index(\"Indexes\")\n",
    "\n",
    "        groups.append(group)\n",
    "\n",
    "    df_usage = pd.concat(groups)\n",
    "    df[\"Usage\"] = df_usage[\"Usage\"]\n",
    "    df[\"Timestamp Sliced\"] = df_usage[\"Timestamp Sliced\"]\n",
    "    df[\"Timestamp Start Sliced\"] = df_usage[\"Timestamp Start Sliced\"]\n",
    "    df[\"Timestamp Stop Sliced\"] = df_usage[\"Timestamp Stop Sliced\"]\n",
    "    df[\"Has Workload\"] = df_usage[\"Has Workload\"]\n",
    "\n",
    "    return df\n",
    "\n",
    "\n",
    "def process_network_usage_to_dataframe(raw_results_path):\n",
    "    df = pd.DataFrame()\n",
    "    medium=\"\"\n",
    "    ssh_info=\"\"\n",
    "    node_type=\"\"\n",
    "    interface=\"\"\n",
    "    n_nodes=0\n",
    "\n",
    "    timestamp_values = []\n",
    "    reiceived_bytes = []\n",
    "    sent_bytes = []\n",
    "    iteration_values = []\n",
    "    timestamp_start_values = []\n",
    "    timestamp_stop_values = []\n",
    "    \n",
    "    iteration_v = -1\n",
    "    n_values_per_iter = 0\n",
    "    valide_data = False # Need to filter error during measurement: Measurement not stopped after iteration\n",
    "\n",
    "    with open(raw_results_path, \"r\") as raw:\n",
    "        for line in raw:\n",
    "            if line.startswith(\"# MEDIUM=\"):\n",
    "                medium = line.split('=')[1].strip()\n",
    "            elif line.startswith(\"# SSH_INFO=\"):\n",
    "                ssh_info = line.split('=')[1].strip()\n",
    "            elif line.startswith(\"# NODE_TYPE=\"):\n",
    "                node_type = line.split('=')[1].strip()\n",
    "            elif line.startswith(\"# NUMBER_NODES=\"):\n",
    "                n_nodes = int(line.split('=')[1].strip())\n",
    "            elif line.startswith(\"# INTERFACE=\"):\n",
    "                interface = line.split('=')[1].strip()\n",
    "            elif line.startswith(\"# ITERATION \"):\n",
    "                valide_data = True\n",
    "                if iteration_v != -1:\n",
    "                    iteration_values += [iteration_v] * n_values_per_iter\n",
    "                iteration_v = int(line.split(' ')[2].strip())\n",
    "                n_values_per_iter = 0\n",
    "            elif not line.startswith(\"#\") and line.strip() and valide_data: # Also check not empty\n",
    "                timestamp_v, received_byte, sent_byte = line.split(',')\n",
    "                timestamp_values.append(int(timestamp_v.strip()))\n",
    "                reiceived_bytes.append(float(received_byte.strip()))\n",
    "                sent_bytes.append(float(sent_byte.strip()))\n",
    "                n_values_per_iter += 1\n",
    "            elif line.startswith(\"# TIMESTAMP_START=\"):\n",
    "                valide_data = False\n",
    "                timestamp_start_values += [int(line.split('=')[1].strip())] * n_values_per_iter\n",
    "            elif line.startswith(\"# TIMESTAMP_STOP=\"):\n",
    "                valide_data = False\n",
    "                timestamp_stop_values += [int(line.split('=')[1].strip())] * n_values_per_iter \n",
    "        iteration_values += [iteration_v] * n_values_per_iter # Last at end of file\n",
    "\n",
    "    df[\"Iteration\"] = iteration_values\n",
    "    df[\"SSH Info\"] = [ssh_info] * df.shape[0]\n",
    "    df[\"Node Type\"] = [node_type] * df.shape[0]\n",
    "    df[\"Number of Nodes\"] = [n_nodes] * df.shape[0]\n",
    "    df[\"Interface\"] = [interface] * df.shape[0]\n",
    "    df[\"Timestamp\"] = timestamp_values\n",
    "    df[\"Total Received Bytes\"] = reiceived_bytes\n",
    "    df[\"Total Sent Bytes\"] = sent_bytes\n",
    "    df[\"Timestamp Start\"] = timestamp_start_values\n",
    "    df[\"Timestamp Stop\"] = timestamp_stop_values\n",
    "    df[\"Medium\"] = [medium] * df.shape[0]\n",
    "\n",
    "\n",
    "    # Compute Network usage and Timestamp from 0\n",
    "    groups = []\n",
    "\n",
    "    for _, group in df.groupby([\"Iteration\"]):\n",
    "        group[\"Indexes\"] = group.index\n",
    "        group = group.reset_index()\n",
    "        init_timestamp = group.loc[0, \"Timestamp\"]\n",
    "        group[\"Timestamp Sliced\"] = group[\"Timestamp\"] - init_timestamp\n",
    "        group[\"Timestamp Start Sliced\"] = group[\"Timestamp Start\"] - init_timestamp\n",
    "        group[\"Timestamp Stop Sliced\"] = group[\"Timestamp Stop\"] - init_timestamp\n",
    "        group[\"Has Workload\"] = (group[\"Timestamp Start\"] <= group[\"Timestamp\"]) & (group[\"Timestamp\"] <= group[\"Timestamp Stop\"])\n",
    "\n",
    "        group['Last Total Received Bytes'] = group['Total Received Bytes'].shift(1).fillna(group.loc[0, \"Total Received Bytes\"])\n",
    "        group['Last Total Sent Bytes'] = group['Total Sent Bytes'].shift(1).fillna(group.loc[0, \"Total Sent Bytes\"])\n",
    "        group[\"Received Mbits/s\"] = (group['Total Received Bytes'] - group['Last Total Received Bytes']) * 8 / 1000000\n",
    "        group[\"Sent Mbits/s\"] = (group['Total Sent Bytes'] - group['Last Total Sent Bytes']) * 8 / 1000000\n",
    "\n",
    "        group = group.set_index(\"Indexes\")\n",
    "\n",
    "        groups.append(group)\n",
    "\n",
    "    df_usage = pd.concat(groups)\n",
    "    df[\"Received Mbits/s\"] = df_usage[\"Received Mbits/s\"]\n",
    "    df[\"Sent Mbits/s\"] = df_usage[\"Sent Mbits/s\"]\n",
    "    df[\"Timestamp Sliced\"] = df_usage[\"Timestamp Sliced\"]\n",
    "    df[\"Timestamp Start Sliced\"] = df_usage[\"Timestamp Start Sliced\"]\n",
    "    df[\"Timestamp Stop Sliced\"] = df_usage[\"Timestamp Stop Sliced\"]\n",
    "    df[\"Has Workload\"] = df_usage[\"Has Workload\"]\n",
    "\n",
    "    return df\n",
    "\n"
   ]
  },
  {
   "cell_type": "code",
   "execution_count": 18,
   "metadata": {},
   "outputs": [],
   "source": [
    "exp_dir = global_res_dir + \"/\" + experiment_name.replace(' ', '_') + \"_\" + timestamp.strftime(\"%Y%m%dT%H%M%S\")\n",
    "exp_dir = global_res_dir + \"/\" + experiment_name.replace(' ', '_') + \"_Raspberry\"\n",
    "\n",
    "df_req_per_sec = []\n",
    "df_cpu_usages = []\n",
    "df_ram_usages= []\n",
    "df_network_usages= []\n",
    "\n",
    "for med in mediums:\n",
    "    exp_med_dir = exp_dir + \"/\" + med.replace(' ', '_')\n",
    "    exp_med_raw_dir = exp_med_dir + \"/raw_results\"\n",
    "    exp_cpu_med_raw_dir = exp_med_raw_dir + \"/cpu_usage\"\n",
    "    exp_ram_med_raw_dir = exp_med_raw_dir + \"/ram_usage\"\n",
    "    exp_network_med_raw_dir = exp_med_raw_dir + \"/network_usage\"\n",
    "    exp_med_res_dir = exp_med_dir + \"/results\"\n",
    "\n",
    "    path = Path(exp_med_res_dir)\n",
    "    path.mkdir(parents=True, exist_ok=True)\n",
    "\n",
    "    # Execution time by part\n",
    "    df_req_per_sec_med = []\n",
    "    for file in os.listdir(exp_med_raw_dir):\n",
    "        file = exp_med_raw_dir + \"/\" + file\n",
    "        if os.path.isfile(file):\n",
    "            df_req_per_sec_med.append(process_request_per_second_raw_results_to_dataframe(file))\n",
    "    df_req_per_sec_med = pd.concat(df_req_per_sec_med, ignore_index=True)\n",
    "    df_req_per_sec.append(df_req_per_sec_med)\n",
    "    df_req_per_sec_med.to_csv(exp_med_res_dir + \"/request_per_sec_\" + med.replace(' ', '_') + \".csv\", index=False)\n",
    "\n",
    "    # CPU usage\n",
    "    df_cpu_usages_med = []\n",
    "    for file in os.listdir(exp_cpu_med_raw_dir):\n",
    "        df_cpu_usages_med.append(process_cpu_usage_to_dataframe(exp_cpu_med_raw_dir + \"/\" + file))\n",
    "    df_cpu_usages_med = pd.concat(df_cpu_usages_med, ignore_index=True)\n",
    "    df_cpu_usages.append(df_cpu_usages_med)\n",
    "    df_cpu_usages_med.to_csv(exp_med_res_dir + \"/cpu_usage_\" + med.replace(' ', '_') + \".csv\", index=False)\n",
    "\n",
    "\n",
    "    # RAM usage\n",
    "    df_ram_usages_med = []\n",
    "    for file in os.listdir(exp_ram_med_raw_dir):\n",
    "        df_ram_usages_med.append(process_ram_usage_to_dataframe(exp_ram_med_raw_dir + \"/\" + file))\n",
    "    df_ram_usages_med = pd.concat(df_ram_usages_med, ignore_index=True)\n",
    "    df_ram_usages.append(df_ram_usages_med)\n",
    "    df_cpu_usages_med.to_csv(exp_med_res_dir + \"/ram_usage_\" + med.replace(' ', '_') + \".csv\", index=False)\n",
    "\n",
    "    # NETWORK usage\n",
    "    df_network_usages_med = []\n",
    "    for file in os.listdir(exp_network_med_raw_dir):\n",
    "        df_network_usages_med.append(process_network_usage_to_dataframe(exp_network_med_raw_dir + \"/\" + file))\n",
    "    df_network_usages_med = pd.concat(df_network_usages_med, ignore_index=True)\n",
    "    df_network_usages.append(df_network_usages_med)\n",
    "    df_network_usages_med.to_csv(exp_med_res_dir + \"/network_usage_\" + med.replace(' ', '_') + \".csv\", index=False)\n",
    "\n",
    "# Execution time by part\n",
    "df_req_per_sec = pd.concat(df_req_per_sec, ignore_index=True)\n",
    "df_req_per_sec.to_csv(exp_dir + \"/request_per_sec.csv\", index=False)\n",
    "\n",
    "# CPU usage\n",
    "df_cpu_usages = pd.concat(df_cpu_usages, ignore_index=True)\n",
    "df_cpu_usages.to_csv(exp_dir + \"/cpu_usage.csv\", index=False)\n",
    "\n",
    "# RAM usage\n",
    "df_ram_usages = pd.concat(df_ram_usages, ignore_index=True)\n",
    "df_ram_usages.to_csv(exp_dir + \"/ram_usage.csv\", index=False)\n",
    "\n",
    "# Network usage\n",
    "df_network_usages = pd.concat(df_network_usages, ignore_index=True)\n",
    "df_network_usages.to_csv(exp_dir + \"/network_usage.csv\", index=False)\n",
    "\n",
    "# display(df_execution_time_by_part)\n",
    "# display(df_cpu_usages)\n",
    "# display(df_ram_usages)"
   ]
  },
  {
   "cell_type": "markdown",
   "metadata": {},
   "source": [
    "### Make Graphs"
   ]
  },
  {
   "cell_type": "code",
   "execution_count": 5,
   "metadata": {},
   "outputs": [],
   "source": [
    "# Global variables\n",
    "exp_dir = global_res_dir + \"/\" + experiment_name.replace(' ', '_') + \"_\" + timestamp.strftime(\"%Y%m%dT%H%M%S\")\n",
    "exp_dir = global_res_dir + \"/\" + experiment_name.replace(' ', '_') + \"_Raspberry\"\n",
    "\n",
    "graphs_dir = exp_dir + \"/graphs\"\n",
    "graphs_req_per_sec_dir = graphs_dir + \"/request_per_sec\"\n",
    "graphs_cpu_usage_dir = graphs_dir + \"/cpu_usage\"\n",
    "graphs_ram_usage_dir = graphs_dir + \"/ram_usage\"\n",
    "graphs_network_usage_dir = graphs_dir + \"/network_usage\"\n",
    "\n",
    "path = Path(graphs_dir)\n",
    "path.mkdir(parents=True, exist_ok=True)\n",
    "path = Path(graphs_req_per_sec_dir)\n",
    "path.mkdir(parents=True, exist_ok=True)\n",
    "path = Path(graphs_cpu_usage_dir)\n",
    "path.mkdir(parents=True, exist_ok=True)\n",
    "path = Path(graphs_ram_usage_dir)\n",
    "path.mkdir(parents=True, exist_ok=True)\n",
    "path = Path(graphs_network_usage_dir)\n",
    "path.mkdir(parents=True, exist_ok=True)"
   ]
  },
  {
   "cell_type": "code",
   "execution_count": 6,
   "metadata": {},
   "outputs": [
    {
     "data": {
      "image/png": "[encoded data removed]",
      "text/plain": [
       "<Figure size 1000x600 with 1 Axes>"
      ]
     },
     "metadata": {},
     "output_type": "display_data"
    }
   ],
   "source": [
    "df_req_per_sec = pd.read_csv(exp_dir + \"/request_per_sec.csv\")\n",
    "df_req_per_sec[\"Number of Agents\"] = df_req_per_sec[\"Number of Nodes\"] - 1\n",
    "\n",
    "\n",
    "mediums = [\"Ethernet\", \"WiFi 2.4GHz 20-40MHz\", \"WiFi 5.0GHz 20-40-80MHz\"]\n",
    "\n",
    "# for med in mediums:\n",
    "#         df_exec_time_imp = df_req_per_sec[df_req_per_sec[\"Medium\"] == med]\n",
    "#         # Barplot comparison\n",
    "#         plt.figure(figsize=(10, 6))\n",
    "#         sns.set_style(\"whitegrid\")\n",
    "#         sns.barplot(data=df_exec_time_imp, x='Number of Agents', y='Request/s')\n",
    "\n",
    "#         plt.ylim(bottom=0)\n",
    "#         plt.tight_layout()\n",
    "    \n",
    "#         plt.savefig(graphs_req_per_sec_dir + \"/barplot_Fairphone_\" + experiment_name.replace(' ', '_') + \"_\" + med.replace(' ', '_') + \".pdf\")\n",
    "#         plt.show()\n",
    "\n",
    "\n",
    "# Barplot comparison\n",
    "SMALL_SIZE = 12\n",
    "MEDIUM_SIZE = 14\n",
    "BIGGER_SIZE = 16\n",
    "\n",
    "plt.rc('font', size=SMALL_SIZE)          # controls default text sizes\n",
    "plt.rc('axes', titlesize=SMALL_SIZE)     # fontsize of the axes title\n",
    "plt.rc('axes', labelsize=MEDIUM_SIZE)    # fontsize of the x and y labels\n",
    "plt.rc('xtick', labelsize=SMALL_SIZE)    # fontsize of the tick labels\n",
    "plt.rc('ytick', labelsize=SMALL_SIZE)    # fontsize of the tick labels\n",
    "plt.rc('legend', fontsize=SMALL_SIZE)    # legend fontsize\n",
    "plt.rc('figure', titlesize=BIGGER_SIZE)  # fontsize of the figure title\n",
    "plt.figure(figsize=(10, 6))\n",
    "sns.set_style(\"whitegrid\")\n",
    "sns.barplot(data=df_req_per_sec, x='Number of Agents', y='Request/s',  hue=\"Medium\", hue_order=mediums, palette=sns.color_palette('mako')[1::2])\n",
    "\n",
    "plt.xlabel(\"Number of agent nodes\")\n",
    "plt.ylabel(\"Requests per second\")\n",
    "plt.ylim(bottom=0)\n",
    "plt.tight_layout()\n",
    "\n",
    "plt.savefig(graphs_req_per_sec_dir + \"/barplot_Raspberry_req_per_sec\" + experiment_name.replace(' ', '_') + \".svg\")\n",
    "plt.show()"
   ]
  },
  {
   "cell_type": "code",
   "execution_count": null,
   "metadata": {},
   "outputs": [],
   "source": []
  }
 ],
 "metadata": {
  "kernelspec": {
   "display_name": "Python 3",
   "language": "python",
   "name": "python3"
  },
  "language_info": {
   "codemirror_mode": {
    "name": "ipython",
    "version": 3
   },
   "file_extension": ".py",
   "mimetype": "text/x-python",
   "name": "python",
   "nbconvert_exporter": "python",
   "pygments_lexer": "ipython3",
   "version": "3.10.12"
  }
 },
 "nbformat": 4,
 "nbformat_minor": 2
}
